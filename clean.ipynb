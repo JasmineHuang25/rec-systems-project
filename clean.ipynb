{
 "cells": [
  {
   "cell_type": "markdown",
   "metadata": {
    "toc": true
   },
   "source": [
    "<h1>Table of Contents<span class=\"tocSkip\"></span></h1>\n",
    "<div class=\"toc\"><ul class=\"toc-item\"><li><span><a href=\"#Title\" data-toc-modified-id=\"Title-1\"><span class=\"toc-item-num\">1&nbsp;&nbsp;</span>Title</a></span><ul class=\"toc-item\"><li><span><a href=\"#Business-Understanding-and-Business-Problem\" data-toc-modified-id=\"Business-Understanding-and-Business-Problem-1.1\"><span class=\"toc-item-num\">1.1&nbsp;&nbsp;</span>Business Understanding and Business Problem</a></span><ul class=\"toc-item\"><li><span><a href=\"#Cost-of-Errors\" data-toc-modified-id=\"Cost-of-Errors-1.1.1\"><span class=\"toc-item-num\">1.1.1&nbsp;&nbsp;</span>Cost of Errors</a></span></li></ul></li><li><span><a href=\"#Data-Understanding\" data-toc-modified-id=\"Data-Understanding-1.2\"><span class=\"toc-item-num\">1.2&nbsp;&nbsp;</span>Data Understanding</a></span><ul class=\"toc-item\"><li><span><a href=\"#Initial-Data\" data-toc-modified-id=\"Initial-Data-1.2.1\"><span class=\"toc-item-num\">1.2.1&nbsp;&nbsp;</span>Initial Data</a></span></li></ul></li><li><span><a href=\"#Exploratory-Data-Analysis\" data-toc-modified-id=\"Exploratory-Data-Analysis-1.3\"><span class=\"toc-item-num\">1.3&nbsp;&nbsp;</span>Exploratory Data Analysis</a></span><ul class=\"toc-item\"><li><span><a href=\"#Exploring-links_df\" data-toc-modified-id=\"Exploring-links_df-1.3.1\"><span class=\"toc-item-num\">1.3.1&nbsp;&nbsp;</span>Exploring <code>links_df</code></a></span></li><li><span><a href=\"#Exploring-movies_df\" data-toc-modified-id=\"Exploring-movies_df-1.3.2\"><span class=\"toc-item-num\">1.3.2&nbsp;&nbsp;</span>Exploring <code>movies_df</code></a></span></li><li><span><a href=\"#Exploring-ratings_df\" data-toc-modified-id=\"Exploring-ratings_df-1.3.3\"><span class=\"toc-item-num\">1.3.3&nbsp;&nbsp;</span>Exploring <code>ratings_df</code></a></span></li><li><span><a href=\"#Exploring-tags_df\" data-toc-modified-id=\"Exploring-tags_df-1.3.4\"><span class=\"toc-item-num\">1.3.4&nbsp;&nbsp;</span>Exploring <code>tags_df</code></a></span></li><li><span><a href=\"#Creating-a-New-DataFrame-with-Relevant-Data\" data-toc-modified-id=\"Creating-a-New-DataFrame-with-Relevant-Data-1.3.5\"><span class=\"toc-item-num\">1.3.5&nbsp;&nbsp;</span>Creating a New DataFrame with Relevant Data</a></span><ul class=\"toc-item\"><li><span><a href=\"#Additional-EDA-that-likely-can-be-dropped-for-final-notebook\" data-toc-modified-id=\"Additional-EDA-that-likely-can-be-dropped-for-final-notebook-1.3.5.1\"><span class=\"toc-item-num\">1.3.5.1&nbsp;&nbsp;</span><strong>Additional EDA that likely can be dropped for final notebook</strong></a></span></li></ul></li></ul></li><li><span><a href=\"#Modeling\" data-toc-modified-id=\"Modeling-1.4\"><span class=\"toc-item-num\">1.4&nbsp;&nbsp;</span>Modeling</a></span></li><li><span><a href=\"#First-Baseline-Model\" data-toc-modified-id=\"First-Baseline-Model-1.5\"><span class=\"toc-item-num\">1.5&nbsp;&nbsp;</span>First Baseline Model</a></span></li><li><span><a href=\"#Model-KNN-with-Z-Score\" data-toc-modified-id=\"Model-KNN-with-Z-Score-1.6\"><span class=\"toc-item-num\">1.6&nbsp;&nbsp;</span>Model KNN with Z-Score</a></span></li><li><span><a href=\"#Model-with-SVD\" data-toc-modified-id=\"Model-with-SVD-1.7\"><span class=\"toc-item-num\">1.7&nbsp;&nbsp;</span>Model with SVD</a></span></li></ul></li><li><span><a href=\"#Creating-a-New-User\" data-toc-modified-id=\"Creating-a-New-User-2\"><span class=\"toc-item-num\">2&nbsp;&nbsp;</span>Creating a New User</a></span><ul class=\"toc-item\"><li><span><a href=\"#Go-back-tomorrow-and-check-output-for-all-functions-to-see-why-it-isnt-saving-to-the-dataframe\" data-toc-modified-id=\"Go-back-tomorrow-and-check-output-for-all-functions-to-see-why-it-isnt-saving-to-the-dataframe-2.1\"><span class=\"toc-item-num\">2.1&nbsp;&nbsp;</span>Go back tomorrow and check output for all functions to see why it isnt saving to the dataframe</a></span></li><li><span><a href=\"#making-predictions-with-surprise\" data-toc-modified-id=\"making-predictions-with-surprise-2.2\"><span class=\"toc-item-num\">2.2&nbsp;&nbsp;</span>making predictions with surprise</a></span></li><li><span><a href=\"#Final-Model\" data-toc-modified-id=\"Final-Model-2.3\"><span class=\"toc-item-num\">2.3&nbsp;&nbsp;</span>Final Model</a></span></li><li><span><a href=\"#Results/Conclusions\" data-toc-modified-id=\"Results/Conclusions-2.4\"><span class=\"toc-item-num\">2.4&nbsp;&nbsp;</span>Results/Conclusions</a></span><ul class=\"toc-item\"><li><span><a href=\"#Further-Exploration/Questions\" data-toc-modified-id=\"Further-Exploration/Questions-2.4.1\"><span class=\"toc-item-num\">2.4.1&nbsp;&nbsp;</span>Further Exploration/Questions</a></span></li></ul></li></ul></li></ul></div>"
   ]
  },
  {
   "cell_type": "markdown",
   "metadata": {},
   "source": [
    "insert header"
   ]
  },
  {
   "cell_type": "markdown",
   "metadata": {},
   "source": [
    "# Title"
   ]
  },
  {
   "cell_type": "markdown",
   "metadata": {},
   "source": [
    "## Business Understanding and Business Problem"
   ]
  },
  {
   "cell_type": "markdown",
   "metadata": {},
   "source": [
    "### Cost of Errors"
   ]
  },
  {
   "cell_type": "markdown",
   "metadata": {},
   "source": [
    "## Data Understanding"
   ]
  },
  {
   "cell_type": "code",
   "execution_count": 1,
   "metadata": {
    "ExecuteTime": {
     "end_time": "2023-01-25T15:02:21.080329Z",
     "start_time": "2023-01-25T15:02:20.365624Z"
    }
   },
   "outputs": [],
   "source": [
    "#imports grabbed from lecture\n",
    "from random import gauss as gs, uniform as uni, seed\n",
    "import numpy as np\n",
    "import pandas as pd\n",
    "\n",
    "from sklearn.linear_model import LinearRegression\n",
    "\n",
    "from surprise import Reader, Dataset\n",
    "from surprise.model_selection import train_test_split\n",
    "from surprise.prediction_algorithms import knns, SVD, BaselineOnly\n",
    "from surprise.similarities import cosine, msd, pearson\n",
    "from surprise import accuracy\n",
    "\n",
    "\n",
    "import warnings\n",
    "warnings.filterwarnings('ignore')\n",
    "\n",
    "import functions"
   ]
  },
  {
   "cell_type": "markdown",
   "metadata": {},
   "source": [
    "### Initial Data"
   ]
  },
  {
   "cell_type": "code",
   "execution_count": 2,
   "metadata": {
    "ExecuteTime": {
     "end_time": "2023-01-25T15:02:21.652481Z",
     "start_time": "2023-01-25T15:02:21.597383Z"
    }
   },
   "outputs": [],
   "source": [
    "#the four csv files provided\n",
    "links_df = pd.read_csv('data/links.csv')\n",
    "movies_df = pd.read_csv('data/movies.csv')\n",
    "ratings_df = pd.read_csv('data/ratings.csv')\n",
    "tags_df = pd.read_csv('data/tags.csv')"
   ]
  },
  {
   "cell_type": "code",
   "execution_count": 3,
   "metadata": {
    "ExecuteTime": {
     "end_time": "2023-01-25T15:02:22.043636Z",
     "start_time": "2023-01-25T15:02:22.029395Z"
    }
   },
   "outputs": [
    {
     "data": {
      "text/html": [
       "<div>\n",
       "<style scoped>\n",
       "    .dataframe tbody tr th:only-of-type {\n",
       "        vertical-align: middle;\n",
       "    }\n",
       "\n",
       "    .dataframe tbody tr th {\n",
       "        vertical-align: top;\n",
       "    }\n",
       "\n",
       "    .dataframe thead th {\n",
       "        text-align: right;\n",
       "    }\n",
       "</style>\n",
       "<table border=\"1\" class=\"dataframe\">\n",
       "  <thead>\n",
       "    <tr style=\"text-align: right;\">\n",
       "      <th></th>\n",
       "      <th>movieId</th>\n",
       "      <th>imdbId</th>\n",
       "      <th>tmdbId</th>\n",
       "    </tr>\n",
       "  </thead>\n",
       "  <tbody>\n",
       "    <tr>\n",
       "      <th>0</th>\n",
       "      <td>1</td>\n",
       "      <td>114709</td>\n",
       "      <td>862.0</td>\n",
       "    </tr>\n",
       "    <tr>\n",
       "      <th>1</th>\n",
       "      <td>2</td>\n",
       "      <td>113497</td>\n",
       "      <td>8844.0</td>\n",
       "    </tr>\n",
       "    <tr>\n",
       "      <th>2</th>\n",
       "      <td>3</td>\n",
       "      <td>113228</td>\n",
       "      <td>15602.0</td>\n",
       "    </tr>\n",
       "    <tr>\n",
       "      <th>3</th>\n",
       "      <td>4</td>\n",
       "      <td>114885</td>\n",
       "      <td>31357.0</td>\n",
       "    </tr>\n",
       "    <tr>\n",
       "      <th>4</th>\n",
       "      <td>5</td>\n",
       "      <td>113041</td>\n",
       "      <td>11862.0</td>\n",
       "    </tr>\n",
       "  </tbody>\n",
       "</table>\n",
       "</div>"
      ],
      "text/plain": [
       "   movieId  imdbId   tmdbId\n",
       "0        1  114709    862.0\n",
       "1        2  113497   8844.0\n",
       "2        3  113228  15602.0\n",
       "3        4  114885  31357.0\n",
       "4        5  113041  11862.0"
      ]
     },
     "execution_count": 3,
     "metadata": {},
     "output_type": "execute_result"
    }
   ],
   "source": [
    "links_df.head()"
   ]
  },
  {
   "cell_type": "code",
   "execution_count": 4,
   "metadata": {
    "ExecuteTime": {
     "end_time": "2023-01-25T15:02:22.370406Z",
     "start_time": "2023-01-25T15:02:22.364896Z"
    }
   },
   "outputs": [
    {
     "data": {
      "text/html": [
       "<div>\n",
       "<style scoped>\n",
       "    .dataframe tbody tr th:only-of-type {\n",
       "        vertical-align: middle;\n",
       "    }\n",
       "\n",
       "    .dataframe tbody tr th {\n",
       "        vertical-align: top;\n",
       "    }\n",
       "\n",
       "    .dataframe thead th {\n",
       "        text-align: right;\n",
       "    }\n",
       "</style>\n",
       "<table border=\"1\" class=\"dataframe\">\n",
       "  <thead>\n",
       "    <tr style=\"text-align: right;\">\n",
       "      <th></th>\n",
       "      <th>movieId</th>\n",
       "      <th>title</th>\n",
       "      <th>genres</th>\n",
       "    </tr>\n",
       "  </thead>\n",
       "  <tbody>\n",
       "    <tr>\n",
       "      <th>0</th>\n",
       "      <td>1</td>\n",
       "      <td>Toy Story (1995)</td>\n",
       "      <td>Adventure|Animation|Children|Comedy|Fantasy</td>\n",
       "    </tr>\n",
       "    <tr>\n",
       "      <th>1</th>\n",
       "      <td>2</td>\n",
       "      <td>Jumanji (1995)</td>\n",
       "      <td>Adventure|Children|Fantasy</td>\n",
       "    </tr>\n",
       "    <tr>\n",
       "      <th>2</th>\n",
       "      <td>3</td>\n",
       "      <td>Grumpier Old Men (1995)</td>\n",
       "      <td>Comedy|Romance</td>\n",
       "    </tr>\n",
       "    <tr>\n",
       "      <th>3</th>\n",
       "      <td>4</td>\n",
       "      <td>Waiting to Exhale (1995)</td>\n",
       "      <td>Comedy|Drama|Romance</td>\n",
       "    </tr>\n",
       "    <tr>\n",
       "      <th>4</th>\n",
       "      <td>5</td>\n",
       "      <td>Father of the Bride Part II (1995)</td>\n",
       "      <td>Comedy</td>\n",
       "    </tr>\n",
       "  </tbody>\n",
       "</table>\n",
       "</div>"
      ],
      "text/plain": [
       "   movieId                               title  \\\n",
       "0        1                    Toy Story (1995)   \n",
       "1        2                      Jumanji (1995)   \n",
       "2        3             Grumpier Old Men (1995)   \n",
       "3        4            Waiting to Exhale (1995)   \n",
       "4        5  Father of the Bride Part II (1995)   \n",
       "\n",
       "                                        genres  \n",
       "0  Adventure|Animation|Children|Comedy|Fantasy  \n",
       "1                   Adventure|Children|Fantasy  \n",
       "2                               Comedy|Romance  \n",
       "3                         Comedy|Drama|Romance  \n",
       "4                                       Comedy  "
      ]
     },
     "execution_count": 4,
     "metadata": {},
     "output_type": "execute_result"
    }
   ],
   "source": [
    "movies_df.head()"
   ]
  },
  {
   "cell_type": "code",
   "execution_count": 5,
   "metadata": {
    "ExecuteTime": {
     "end_time": "2023-01-25T15:02:22.680668Z",
     "start_time": "2023-01-25T15:02:22.669095Z"
    }
   },
   "outputs": [
    {
     "data": {
      "text/html": [
       "<div>\n",
       "<style scoped>\n",
       "    .dataframe tbody tr th:only-of-type {\n",
       "        vertical-align: middle;\n",
       "    }\n",
       "\n",
       "    .dataframe tbody tr th {\n",
       "        vertical-align: top;\n",
       "    }\n",
       "\n",
       "    .dataframe thead th {\n",
       "        text-align: right;\n",
       "    }\n",
       "</style>\n",
       "<table border=\"1\" class=\"dataframe\">\n",
       "  <thead>\n",
       "    <tr style=\"text-align: right;\">\n",
       "      <th></th>\n",
       "      <th>userId</th>\n",
       "      <th>movieId</th>\n",
       "      <th>rating</th>\n",
       "      <th>timestamp</th>\n",
       "    </tr>\n",
       "  </thead>\n",
       "  <tbody>\n",
       "    <tr>\n",
       "      <th>0</th>\n",
       "      <td>1</td>\n",
       "      <td>1</td>\n",
       "      <td>4.0</td>\n",
       "      <td>964982703</td>\n",
       "    </tr>\n",
       "    <tr>\n",
       "      <th>1</th>\n",
       "      <td>1</td>\n",
       "      <td>3</td>\n",
       "      <td>4.0</td>\n",
       "      <td>964981247</td>\n",
       "    </tr>\n",
       "    <tr>\n",
       "      <th>2</th>\n",
       "      <td>1</td>\n",
       "      <td>6</td>\n",
       "      <td>4.0</td>\n",
       "      <td>964982224</td>\n",
       "    </tr>\n",
       "    <tr>\n",
       "      <th>3</th>\n",
       "      <td>1</td>\n",
       "      <td>47</td>\n",
       "      <td>5.0</td>\n",
       "      <td>964983815</td>\n",
       "    </tr>\n",
       "    <tr>\n",
       "      <th>4</th>\n",
       "      <td>1</td>\n",
       "      <td>50</td>\n",
       "      <td>5.0</td>\n",
       "      <td>964982931</td>\n",
       "    </tr>\n",
       "  </tbody>\n",
       "</table>\n",
       "</div>"
      ],
      "text/plain": [
       "   userId  movieId  rating  timestamp\n",
       "0       1        1     4.0  964982703\n",
       "1       1        3     4.0  964981247\n",
       "2       1        6     4.0  964982224\n",
       "3       1       47     5.0  964983815\n",
       "4       1       50     5.0  964982931"
      ]
     },
     "execution_count": 5,
     "metadata": {},
     "output_type": "execute_result"
    }
   ],
   "source": [
    "ratings_df.head()"
   ]
  },
  {
   "cell_type": "code",
   "execution_count": 6,
   "metadata": {
    "ExecuteTime": {
     "end_time": "2023-01-25T15:02:23.007111Z",
     "start_time": "2023-01-25T15:02:22.997281Z"
    }
   },
   "outputs": [
    {
     "data": {
      "text/html": [
       "<div>\n",
       "<style scoped>\n",
       "    .dataframe tbody tr th:only-of-type {\n",
       "        vertical-align: middle;\n",
       "    }\n",
       "\n",
       "    .dataframe tbody tr th {\n",
       "        vertical-align: top;\n",
       "    }\n",
       "\n",
       "    .dataframe thead th {\n",
       "        text-align: right;\n",
       "    }\n",
       "</style>\n",
       "<table border=\"1\" class=\"dataframe\">\n",
       "  <thead>\n",
       "    <tr style=\"text-align: right;\">\n",
       "      <th></th>\n",
       "      <th>userId</th>\n",
       "      <th>movieId</th>\n",
       "      <th>tag</th>\n",
       "      <th>timestamp</th>\n",
       "    </tr>\n",
       "  </thead>\n",
       "  <tbody>\n",
       "    <tr>\n",
       "      <th>0</th>\n",
       "      <td>2</td>\n",
       "      <td>60756</td>\n",
       "      <td>funny</td>\n",
       "      <td>1445714994</td>\n",
       "    </tr>\n",
       "    <tr>\n",
       "      <th>1</th>\n",
       "      <td>2</td>\n",
       "      <td>60756</td>\n",
       "      <td>Highly quotable</td>\n",
       "      <td>1445714996</td>\n",
       "    </tr>\n",
       "    <tr>\n",
       "      <th>2</th>\n",
       "      <td>2</td>\n",
       "      <td>60756</td>\n",
       "      <td>will ferrell</td>\n",
       "      <td>1445714992</td>\n",
       "    </tr>\n",
       "    <tr>\n",
       "      <th>3</th>\n",
       "      <td>2</td>\n",
       "      <td>89774</td>\n",
       "      <td>Boxing story</td>\n",
       "      <td>1445715207</td>\n",
       "    </tr>\n",
       "    <tr>\n",
       "      <th>4</th>\n",
       "      <td>2</td>\n",
       "      <td>89774</td>\n",
       "      <td>MMA</td>\n",
       "      <td>1445715200</td>\n",
       "    </tr>\n",
       "  </tbody>\n",
       "</table>\n",
       "</div>"
      ],
      "text/plain": [
       "   userId  movieId              tag   timestamp\n",
       "0       2    60756            funny  1445714994\n",
       "1       2    60756  Highly quotable  1445714996\n",
       "2       2    60756     will ferrell  1445714992\n",
       "3       2    89774     Boxing story  1445715207\n",
       "4       2    89774              MMA  1445715200"
      ]
     },
     "execution_count": 6,
     "metadata": {},
     "output_type": "execute_result"
    }
   ],
   "source": [
    "tags_df.head()"
   ]
  },
  {
   "cell_type": "code",
   "execution_count": 7,
   "metadata": {
    "ExecuteTime": {
     "end_time": "2023-01-25T15:02:23.271487Z",
     "start_time": "2023-01-25T15:02:23.259975Z"
    }
   },
   "outputs": [],
   "source": [
    "sim_cos = {'name':'msd', 'user_based':False}"
   ]
  },
  {
   "cell_type": "markdown",
   "metadata": {},
   "source": [
    "## Exploratory Data Analysis"
   ]
  },
  {
   "cell_type": "markdown",
   "metadata": {},
   "source": [
    "### Exploring `links_df`"
   ]
  },
  {
   "cell_type": "code",
   "execution_count": 8,
   "metadata": {
    "ExecuteTime": {
     "end_time": "2023-01-25T15:02:24.110119Z",
     "start_time": "2023-01-25T15:02:24.093106Z"
    }
   },
   "outputs": [
    {
     "data": {
      "text/html": [
       "<div>\n",
       "<style scoped>\n",
       "    .dataframe tbody tr th:only-of-type {\n",
       "        vertical-align: middle;\n",
       "    }\n",
       "\n",
       "    .dataframe tbody tr th {\n",
       "        vertical-align: top;\n",
       "    }\n",
       "\n",
       "    .dataframe thead th {\n",
       "        text-align: right;\n",
       "    }\n",
       "</style>\n",
       "<table border=\"1\" class=\"dataframe\">\n",
       "  <thead>\n",
       "    <tr style=\"text-align: right;\">\n",
       "      <th></th>\n",
       "      <th>movieId</th>\n",
       "      <th>imdbId</th>\n",
       "      <th>tmdbId</th>\n",
       "    </tr>\n",
       "  </thead>\n",
       "  <tbody>\n",
       "    <tr>\n",
       "      <th>0</th>\n",
       "      <td>1</td>\n",
       "      <td>114709</td>\n",
       "      <td>862.0</td>\n",
       "    </tr>\n",
       "    <tr>\n",
       "      <th>1</th>\n",
       "      <td>2</td>\n",
       "      <td>113497</td>\n",
       "      <td>8844.0</td>\n",
       "    </tr>\n",
       "    <tr>\n",
       "      <th>2</th>\n",
       "      <td>3</td>\n",
       "      <td>113228</td>\n",
       "      <td>15602.0</td>\n",
       "    </tr>\n",
       "    <tr>\n",
       "      <th>3</th>\n",
       "      <td>4</td>\n",
       "      <td>114885</td>\n",
       "      <td>31357.0</td>\n",
       "    </tr>\n",
       "    <tr>\n",
       "      <th>4</th>\n",
       "      <td>5</td>\n",
       "      <td>113041</td>\n",
       "      <td>11862.0</td>\n",
       "    </tr>\n",
       "  </tbody>\n",
       "</table>\n",
       "</div>"
      ],
      "text/plain": [
       "   movieId  imdbId   tmdbId\n",
       "0        1  114709    862.0\n",
       "1        2  113497   8844.0\n",
       "2        3  113228  15602.0\n",
       "3        4  114885  31357.0\n",
       "4        5  113041  11862.0"
      ]
     },
     "execution_count": 8,
     "metadata": {},
     "output_type": "execute_result"
    }
   ],
   "source": [
    "links_df.head()"
   ]
  },
  {
   "cell_type": "markdown",
   "metadata": {},
   "source": [
    "This file is a key to merge movie identifiers with IMDB Database and The Movie DataBase. We will be focusing on the MovieLens database for this analysis and will not need this file."
   ]
  },
  {
   "cell_type": "markdown",
   "metadata": {},
   "source": [
    "### Exploring `movies_df`"
   ]
  },
  {
   "cell_type": "code",
   "execution_count": 9,
   "metadata": {
    "ExecuteTime": {
     "end_time": "2023-01-25T15:02:24.933536Z",
     "start_time": "2023-01-25T15:02:24.925029Z"
    }
   },
   "outputs": [
    {
     "data": {
      "text/html": [
       "<div>\n",
       "<style scoped>\n",
       "    .dataframe tbody tr th:only-of-type {\n",
       "        vertical-align: middle;\n",
       "    }\n",
       "\n",
       "    .dataframe tbody tr th {\n",
       "        vertical-align: top;\n",
       "    }\n",
       "\n",
       "    .dataframe thead th {\n",
       "        text-align: right;\n",
       "    }\n",
       "</style>\n",
       "<table border=\"1\" class=\"dataframe\">\n",
       "  <thead>\n",
       "    <tr style=\"text-align: right;\">\n",
       "      <th></th>\n",
       "      <th>movieId</th>\n",
       "      <th>title</th>\n",
       "      <th>genres</th>\n",
       "    </tr>\n",
       "  </thead>\n",
       "  <tbody>\n",
       "    <tr>\n",
       "      <th>0</th>\n",
       "      <td>1</td>\n",
       "      <td>Toy Story (1995)</td>\n",
       "      <td>Adventure|Animation|Children|Comedy|Fantasy</td>\n",
       "    </tr>\n",
       "    <tr>\n",
       "      <th>1</th>\n",
       "      <td>2</td>\n",
       "      <td>Jumanji (1995)</td>\n",
       "      <td>Adventure|Children|Fantasy</td>\n",
       "    </tr>\n",
       "    <tr>\n",
       "      <th>2</th>\n",
       "      <td>3</td>\n",
       "      <td>Grumpier Old Men (1995)</td>\n",
       "      <td>Comedy|Romance</td>\n",
       "    </tr>\n",
       "    <tr>\n",
       "      <th>3</th>\n",
       "      <td>4</td>\n",
       "      <td>Waiting to Exhale (1995)</td>\n",
       "      <td>Comedy|Drama|Romance</td>\n",
       "    </tr>\n",
       "    <tr>\n",
       "      <th>4</th>\n",
       "      <td>5</td>\n",
       "      <td>Father of the Bride Part II (1995)</td>\n",
       "      <td>Comedy</td>\n",
       "    </tr>\n",
       "  </tbody>\n",
       "</table>\n",
       "</div>"
      ],
      "text/plain": [
       "   movieId                               title  \\\n",
       "0        1                    Toy Story (1995)   \n",
       "1        2                      Jumanji (1995)   \n",
       "2        3             Grumpier Old Men (1995)   \n",
       "3        4            Waiting to Exhale (1995)   \n",
       "4        5  Father of the Bride Part II (1995)   \n",
       "\n",
       "                                        genres  \n",
       "0  Adventure|Animation|Children|Comedy|Fantasy  \n",
       "1                   Adventure|Children|Fantasy  \n",
       "2                               Comedy|Romance  \n",
       "3                         Comedy|Drama|Romance  \n",
       "4                                       Comedy  "
      ]
     },
     "execution_count": 9,
     "metadata": {},
     "output_type": "execute_result"
    }
   ],
   "source": [
    "movies_df.head()"
   ]
  },
  {
   "cell_type": "code",
   "execution_count": 10,
   "metadata": {
    "ExecuteTime": {
     "end_time": "2023-01-25T15:02:25.244640Z",
     "start_time": "2023-01-25T15:02:25.228628Z"
    }
   },
   "outputs": [
    {
     "data": {
      "text/plain": [
       "(9742, 3)"
      ]
     },
     "execution_count": 10,
     "metadata": {},
     "output_type": "execute_result"
    }
   ],
   "source": [
    "movies_df.shape"
   ]
  },
  {
   "cell_type": "code",
   "execution_count": 11,
   "metadata": {
    "ExecuteTime": {
     "end_time": "2023-01-25T15:02:25.523205Z",
     "start_time": "2023-01-25T15:02:25.508180Z"
    }
   },
   "outputs": [
    {
     "data": {
      "text/plain": [
       "movieId    0\n",
       "title      0\n",
       "genres     0\n",
       "dtype: int64"
      ]
     },
     "execution_count": 11,
     "metadata": {},
     "output_type": "execute_result"
    }
   ],
   "source": [
    "movies_df.isna().sum()"
   ]
  },
  {
   "cell_type": "code",
   "execution_count": 12,
   "metadata": {
    "ExecuteTime": {
     "end_time": "2023-01-25T15:02:25.785232Z",
     "start_time": "2023-01-25T15:02:25.779955Z"
    }
   },
   "outputs": [
    {
     "data": {
      "text/plain": [
       "9737"
      ]
     },
     "execution_count": 12,
     "metadata": {},
     "output_type": "execute_result"
    }
   ],
   "source": [
    "movies_df['title'].nunique()"
   ]
  },
  {
   "cell_type": "code",
   "execution_count": 13,
   "metadata": {
    "ExecuteTime": {
     "end_time": "2023-01-25T15:02:26.064102Z",
     "start_time": "2023-01-25T15:02:26.043905Z"
    }
   },
   "outputs": [
    {
     "data": {
      "text/plain": [
       "War of the Worlds (2005)                  2\n",
       "Emma (1996)                               2\n",
       "Confessions of a Dangerous Mind (2002)    2\n",
       "Eros (2004)                               2\n",
       "Saturn 3 (1980)                           2\n",
       "Cinemania (2002)                          1\n",
       "Ace Ventura: When Nature Calls (1995)     1\n",
       "Open Water 2: Adrift (2006)               1\n",
       "Elsa & Fred (2014)                        1\n",
       "Elektra Luxx (2010)                       1\n",
       "Name: title, dtype: int64"
      ]
     },
     "execution_count": 13,
     "metadata": {},
     "output_type": "execute_result"
    }
   ],
   "source": [
    "movies_df['title'].value_counts().head(10)"
   ]
  },
  {
   "cell_type": "markdown",
   "metadata": {},
   "source": [
    "There are 9737 unique movie titles. Repeats for 5 movies:\n",
    "- Emma (1996)                                   2\n",
    "- Saturn 3 (1980)                               2\n",
    "- Eros (2004)                                   2\n",
    "- Confessions of a Dangerous Mind (2002)        2\n",
    "- War of the Worlds (2005)                      2"
   ]
  },
  {
   "cell_type": "markdown",
   "metadata": {},
   "source": [
    "Cleaning the text in the DataFrame."
   ]
  },
  {
   "cell_type": "code",
   "execution_count": 14,
   "metadata": {
    "ExecuteTime": {
     "end_time": "2023-01-25T15:02:26.917803Z",
     "start_time": "2023-01-25T15:02:26.908297Z"
    }
   },
   "outputs": [],
   "source": [
    "movies_df['split_genres'] = movies_df['genres'].iloc[0:].apply(lambda x: x.lower().split('|'))\n",
    "movies_df['genres'] = movies_df['genres'].iloc[0:].apply(lambda x: x.lower())"
   ]
  },
  {
   "cell_type": "markdown",
   "metadata": {},
   "source": [
    "This file will be very helpful for our analysis. It provides us with the title of movie in relation to its unique identifier and lets us know the genre categories that the movie would fall under."
   ]
  },
  {
   "cell_type": "markdown",
   "metadata": {},
   "source": [
    "### Exploring `ratings_df`"
   ]
  },
  {
   "cell_type": "code",
   "execution_count": 15,
   "metadata": {
    "ExecuteTime": {
     "end_time": "2023-01-25T15:02:27.722686Z",
     "start_time": "2023-01-25T15:02:27.708172Z"
    }
   },
   "outputs": [
    {
     "data": {
      "text/html": [
       "<div>\n",
       "<style scoped>\n",
       "    .dataframe tbody tr th:only-of-type {\n",
       "        vertical-align: middle;\n",
       "    }\n",
       "\n",
       "    .dataframe tbody tr th {\n",
       "        vertical-align: top;\n",
       "    }\n",
       "\n",
       "    .dataframe thead th {\n",
       "        text-align: right;\n",
       "    }\n",
       "</style>\n",
       "<table border=\"1\" class=\"dataframe\">\n",
       "  <thead>\n",
       "    <tr style=\"text-align: right;\">\n",
       "      <th></th>\n",
       "      <th>userId</th>\n",
       "      <th>movieId</th>\n",
       "      <th>rating</th>\n",
       "      <th>timestamp</th>\n",
       "    </tr>\n",
       "  </thead>\n",
       "  <tbody>\n",
       "    <tr>\n",
       "      <th>0</th>\n",
       "      <td>1</td>\n",
       "      <td>1</td>\n",
       "      <td>4.0</td>\n",
       "      <td>964982703</td>\n",
       "    </tr>\n",
       "    <tr>\n",
       "      <th>1</th>\n",
       "      <td>1</td>\n",
       "      <td>3</td>\n",
       "      <td>4.0</td>\n",
       "      <td>964981247</td>\n",
       "    </tr>\n",
       "    <tr>\n",
       "      <th>2</th>\n",
       "      <td>1</td>\n",
       "      <td>6</td>\n",
       "      <td>4.0</td>\n",
       "      <td>964982224</td>\n",
       "    </tr>\n",
       "    <tr>\n",
       "      <th>3</th>\n",
       "      <td>1</td>\n",
       "      <td>47</td>\n",
       "      <td>5.0</td>\n",
       "      <td>964983815</td>\n",
       "    </tr>\n",
       "    <tr>\n",
       "      <th>4</th>\n",
       "      <td>1</td>\n",
       "      <td>50</td>\n",
       "      <td>5.0</td>\n",
       "      <td>964982931</td>\n",
       "    </tr>\n",
       "  </tbody>\n",
       "</table>\n",
       "</div>"
      ],
      "text/plain": [
       "   userId  movieId  rating  timestamp\n",
       "0       1        1     4.0  964982703\n",
       "1       1        3     4.0  964981247\n",
       "2       1        6     4.0  964982224\n",
       "3       1       47     5.0  964983815\n",
       "4       1       50     5.0  964982931"
      ]
     },
     "execution_count": 15,
     "metadata": {},
     "output_type": "execute_result"
    }
   ],
   "source": [
    "ratings_df.head()"
   ]
  },
  {
   "cell_type": "code",
   "execution_count": 16,
   "metadata": {
    "ExecuteTime": {
     "end_time": "2023-01-25T15:02:28.017706Z",
     "start_time": "2023-01-25T15:02:28.011546Z"
    }
   },
   "outputs": [
    {
     "data": {
      "text/plain": [
       "userId       0\n",
       "movieId      0\n",
       "rating       0\n",
       "timestamp    0\n",
       "dtype: int64"
      ]
     },
     "execution_count": 16,
     "metadata": {},
     "output_type": "execute_result"
    }
   ],
   "source": [
    "ratings_df.isna().sum()"
   ]
  },
  {
   "cell_type": "code",
   "execution_count": 17,
   "metadata": {
    "ExecuteTime": {
     "end_time": "2023-01-25T15:02:28.295080Z",
     "start_time": "2023-01-25T15:02:28.284057Z"
    }
   },
   "outputs": [
    {
     "data": {
      "text/html": [
       "<div>\n",
       "<style scoped>\n",
       "    .dataframe tbody tr th:only-of-type {\n",
       "        vertical-align: middle;\n",
       "    }\n",
       "\n",
       "    .dataframe tbody tr th {\n",
       "        vertical-align: top;\n",
       "    }\n",
       "\n",
       "    .dataframe thead th {\n",
       "        text-align: right;\n",
       "    }\n",
       "</style>\n",
       "<table border=\"1\" class=\"dataframe\">\n",
       "  <thead>\n",
       "    <tr style=\"text-align: right;\">\n",
       "      <th></th>\n",
       "      <th>userId</th>\n",
       "      <th>rating</th>\n",
       "      <th>timestamp</th>\n",
       "    </tr>\n",
       "    <tr>\n",
       "      <th>movieId</th>\n",
       "      <th></th>\n",
       "      <th></th>\n",
       "      <th></th>\n",
       "    </tr>\n",
       "  </thead>\n",
       "  <tbody>\n",
       "    <tr>\n",
       "      <th>356</th>\n",
       "      <td>329</td>\n",
       "      <td>329</td>\n",
       "      <td>329</td>\n",
       "    </tr>\n",
       "    <tr>\n",
       "      <th>318</th>\n",
       "      <td>317</td>\n",
       "      <td>317</td>\n",
       "      <td>317</td>\n",
       "    </tr>\n",
       "    <tr>\n",
       "      <th>296</th>\n",
       "      <td>307</td>\n",
       "      <td>307</td>\n",
       "      <td>307</td>\n",
       "    </tr>\n",
       "    <tr>\n",
       "      <th>593</th>\n",
       "      <td>279</td>\n",
       "      <td>279</td>\n",
       "      <td>279</td>\n",
       "    </tr>\n",
       "    <tr>\n",
       "      <th>2571</th>\n",
       "      <td>278</td>\n",
       "      <td>278</td>\n",
       "      <td>278</td>\n",
       "    </tr>\n",
       "    <tr>\n",
       "      <th>260</th>\n",
       "      <td>251</td>\n",
       "      <td>251</td>\n",
       "      <td>251</td>\n",
       "    </tr>\n",
       "    <tr>\n",
       "      <th>480</th>\n",
       "      <td>238</td>\n",
       "      <td>238</td>\n",
       "      <td>238</td>\n",
       "    </tr>\n",
       "    <tr>\n",
       "      <th>110</th>\n",
       "      <td>237</td>\n",
       "      <td>237</td>\n",
       "      <td>237</td>\n",
       "    </tr>\n",
       "    <tr>\n",
       "      <th>589</th>\n",
       "      <td>224</td>\n",
       "      <td>224</td>\n",
       "      <td>224</td>\n",
       "    </tr>\n",
       "    <tr>\n",
       "      <th>527</th>\n",
       "      <td>220</td>\n",
       "      <td>220</td>\n",
       "      <td>220</td>\n",
       "    </tr>\n",
       "  </tbody>\n",
       "</table>\n",
       "</div>"
      ],
      "text/plain": [
       "         userId  rating  timestamp\n",
       "movieId                           \n",
       "356         329     329        329\n",
       "318         317     317        317\n",
       "296         307     307        307\n",
       "593         279     279        279\n",
       "2571        278     278        278\n",
       "260         251     251        251\n",
       "480         238     238        238\n",
       "110         237     237        237\n",
       "589         224     224        224\n",
       "527         220     220        220"
      ]
     },
     "execution_count": 17,
     "metadata": {},
     "output_type": "execute_result"
    }
   ],
   "source": [
    "# The 10 movies with the most reviews\n",
    "ratings_df.groupby('movieId').count().sort_values('userId', ascending=False).head(10)"
   ]
  },
  {
   "cell_type": "code",
   "execution_count": 18,
   "metadata": {
    "ExecuteTime": {
     "end_time": "2023-01-25T15:02:28.590483Z",
     "start_time": "2023-01-25T15:02:28.572471Z"
    }
   },
   "outputs": [
    {
     "data": {
      "text/html": [
       "<div>\n",
       "<style scoped>\n",
       "    .dataframe tbody tr th:only-of-type {\n",
       "        vertical-align: middle;\n",
       "    }\n",
       "\n",
       "    .dataframe tbody tr th {\n",
       "        vertical-align: top;\n",
       "    }\n",
       "\n",
       "    .dataframe thead th {\n",
       "        text-align: right;\n",
       "    }\n",
       "</style>\n",
       "<table border=\"1\" class=\"dataframe\">\n",
       "  <thead>\n",
       "    <tr style=\"text-align: right;\">\n",
       "      <th></th>\n",
       "      <th>userId</th>\n",
       "      <th>rating</th>\n",
       "      <th>timestamp</th>\n",
       "    </tr>\n",
       "    <tr>\n",
       "      <th>movieId</th>\n",
       "      <th></th>\n",
       "      <th></th>\n",
       "      <th></th>\n",
       "    </tr>\n",
       "  </thead>\n",
       "  <tbody>\n",
       "    <tr>\n",
       "      <th>88448</th>\n",
       "      <td>483.0</td>\n",
       "      <td>5.0</td>\n",
       "      <td>1.315438e+09</td>\n",
       "    </tr>\n",
       "    <tr>\n",
       "      <th>100556</th>\n",
       "      <td>462.0</td>\n",
       "      <td>5.0</td>\n",
       "      <td>1.456151e+09</td>\n",
       "    </tr>\n",
       "    <tr>\n",
       "      <th>143031</th>\n",
       "      <td>89.0</td>\n",
       "      <td>5.0</td>\n",
       "      <td>1.520409e+09</td>\n",
       "    </tr>\n",
       "    <tr>\n",
       "      <th>143511</th>\n",
       "      <td>105.0</td>\n",
       "      <td>5.0</td>\n",
       "      <td>1.526207e+09</td>\n",
       "    </tr>\n",
       "    <tr>\n",
       "      <th>143559</th>\n",
       "      <td>89.0</td>\n",
       "      <td>5.0</td>\n",
       "      <td>1.520410e+09</td>\n",
       "    </tr>\n",
       "    <tr>\n",
       "      <th>6201</th>\n",
       "      <td>474.0</td>\n",
       "      <td>5.0</td>\n",
       "      <td>1.100120e+09</td>\n",
       "    </tr>\n",
       "    <tr>\n",
       "      <th>102217</th>\n",
       "      <td>63.0</td>\n",
       "      <td>5.0</td>\n",
       "      <td>1.443200e+09</td>\n",
       "    </tr>\n",
       "    <tr>\n",
       "      <th>102084</th>\n",
       "      <td>380.0</td>\n",
       "      <td>5.0</td>\n",
       "      <td>1.493422e+09</td>\n",
       "    </tr>\n",
       "    <tr>\n",
       "      <th>6192</th>\n",
       "      <td>182.0</td>\n",
       "      <td>5.0</td>\n",
       "      <td>1.063275e+09</td>\n",
       "    </tr>\n",
       "    <tr>\n",
       "      <th>145994</th>\n",
       "      <td>105.0</td>\n",
       "      <td>5.0</td>\n",
       "      <td>1.526207e+09</td>\n",
       "    </tr>\n",
       "  </tbody>\n",
       "</table>\n",
       "</div>"
      ],
      "text/plain": [
       "         userId  rating     timestamp\n",
       "movieId                              \n",
       "88448     483.0     5.0  1.315438e+09\n",
       "100556    462.0     5.0  1.456151e+09\n",
       "143031     89.0     5.0  1.520409e+09\n",
       "143511    105.0     5.0  1.526207e+09\n",
       "143559     89.0     5.0  1.520410e+09\n",
       "6201      474.0     5.0  1.100120e+09\n",
       "102217     63.0     5.0  1.443200e+09\n",
       "102084    380.0     5.0  1.493422e+09\n",
       "6192      182.0     5.0  1.063275e+09\n",
       "145994    105.0     5.0  1.526207e+09"
      ]
     },
     "execution_count": 18,
     "metadata": {},
     "output_type": "execute_result"
    }
   ],
   "source": [
    "# the 10 movies with the highest ratings\n",
    "ratings_df.groupby('movieId').mean().sort_values('rating', ascending=False).head(10)"
   ]
  },
  {
   "cell_type": "code",
   "execution_count": 19,
   "metadata": {
    "ExecuteTime": {
     "end_time": "2023-01-25T15:02:28.901982Z",
     "start_time": "2023-01-25T15:02:28.892472Z"
    }
   },
   "outputs": [
    {
     "data": {
      "text/html": [
       "<div>\n",
       "<style scoped>\n",
       "    .dataframe tbody tr th:only-of-type {\n",
       "        vertical-align: middle;\n",
       "    }\n",
       "\n",
       "    .dataframe tbody tr th {\n",
       "        vertical-align: top;\n",
       "    }\n",
       "\n",
       "    .dataframe thead th {\n",
       "        text-align: right;\n",
       "    }\n",
       "</style>\n",
       "<table border=\"1\" class=\"dataframe\">\n",
       "  <thead>\n",
       "    <tr style=\"text-align: right;\">\n",
       "      <th></th>\n",
       "      <th>movieId</th>\n",
       "      <th>rating</th>\n",
       "      <th>timestamp</th>\n",
       "    </tr>\n",
       "    <tr>\n",
       "      <th>userId</th>\n",
       "      <th></th>\n",
       "      <th></th>\n",
       "      <th></th>\n",
       "    </tr>\n",
       "  </thead>\n",
       "  <tbody>\n",
       "    <tr>\n",
       "      <th>414</th>\n",
       "      <td>2698</td>\n",
       "      <td>2698</td>\n",
       "      <td>2698</td>\n",
       "    </tr>\n",
       "    <tr>\n",
       "      <th>599</th>\n",
       "      <td>2478</td>\n",
       "      <td>2478</td>\n",
       "      <td>2478</td>\n",
       "    </tr>\n",
       "    <tr>\n",
       "      <th>474</th>\n",
       "      <td>2108</td>\n",
       "      <td>2108</td>\n",
       "      <td>2108</td>\n",
       "    </tr>\n",
       "    <tr>\n",
       "      <th>448</th>\n",
       "      <td>1864</td>\n",
       "      <td>1864</td>\n",
       "      <td>1864</td>\n",
       "    </tr>\n",
       "    <tr>\n",
       "      <th>274</th>\n",
       "      <td>1346</td>\n",
       "      <td>1346</td>\n",
       "      <td>1346</td>\n",
       "    </tr>\n",
       "    <tr>\n",
       "      <th>610</th>\n",
       "      <td>1302</td>\n",
       "      <td>1302</td>\n",
       "      <td>1302</td>\n",
       "    </tr>\n",
       "    <tr>\n",
       "      <th>68</th>\n",
       "      <td>1260</td>\n",
       "      <td>1260</td>\n",
       "      <td>1260</td>\n",
       "    </tr>\n",
       "    <tr>\n",
       "      <th>380</th>\n",
       "      <td>1218</td>\n",
       "      <td>1218</td>\n",
       "      <td>1218</td>\n",
       "    </tr>\n",
       "    <tr>\n",
       "      <th>606</th>\n",
       "      <td>1115</td>\n",
       "      <td>1115</td>\n",
       "      <td>1115</td>\n",
       "    </tr>\n",
       "    <tr>\n",
       "      <th>288</th>\n",
       "      <td>1055</td>\n",
       "      <td>1055</td>\n",
       "      <td>1055</td>\n",
       "    </tr>\n",
       "  </tbody>\n",
       "</table>\n",
       "</div>"
      ],
      "text/plain": [
       "        movieId  rating  timestamp\n",
       "userId                            \n",
       "414        2698    2698       2698\n",
       "599        2478    2478       2478\n",
       "474        2108    2108       2108\n",
       "448        1864    1864       1864\n",
       "274        1346    1346       1346\n",
       "610        1302    1302       1302\n",
       "68         1260    1260       1260\n",
       "380        1218    1218       1218\n",
       "606        1115    1115       1115\n",
       "288        1055    1055       1055"
      ]
     },
     "execution_count": 19,
     "metadata": {},
     "output_type": "execute_result"
    }
   ],
   "source": [
    "# the 10 users with the most reviews\n",
    "ratings_df.groupby('userId').count().sort_values('rating', ascending=False).head(10)"
   ]
  },
  {
   "cell_type": "markdown",
   "metadata": {},
   "source": [
    "This will be the primary datafile for this analysis. It includes relevant information including `userId`, `rating`, and `movieId`. `timestamp` is not relevant for this analysis and will be dropped."
   ]
  },
  {
   "cell_type": "code",
   "execution_count": 20,
   "metadata": {
    "ExecuteTime": {
     "end_time": "2023-01-25T15:02:29.922213Z",
     "start_time": "2023-01-25T15:02:29.907391Z"
    }
   },
   "outputs": [],
   "source": [
    "ratings_df.drop('timestamp', axis=1, inplace=True)"
   ]
  },
  {
   "cell_type": "markdown",
   "metadata": {},
   "source": [
    "### Exploring `tags_df`"
   ]
  },
  {
   "cell_type": "code",
   "execution_count": 21,
   "metadata": {
    "ExecuteTime": {
     "end_time": "2023-01-25T15:02:30.392452Z",
     "start_time": "2023-01-25T15:02:30.388455Z"
    }
   },
   "outputs": [
    {
     "data": {
      "text/html": [
       "<div>\n",
       "<style scoped>\n",
       "    .dataframe tbody tr th:only-of-type {\n",
       "        vertical-align: middle;\n",
       "    }\n",
       "\n",
       "    .dataframe tbody tr th {\n",
       "        vertical-align: top;\n",
       "    }\n",
       "\n",
       "    .dataframe thead th {\n",
       "        text-align: right;\n",
       "    }\n",
       "</style>\n",
       "<table border=\"1\" class=\"dataframe\">\n",
       "  <thead>\n",
       "    <tr style=\"text-align: right;\">\n",
       "      <th></th>\n",
       "      <th>userId</th>\n",
       "      <th>movieId</th>\n",
       "      <th>tag</th>\n",
       "      <th>timestamp</th>\n",
       "    </tr>\n",
       "  </thead>\n",
       "  <tbody>\n",
       "    <tr>\n",
       "      <th>0</th>\n",
       "      <td>2</td>\n",
       "      <td>60756</td>\n",
       "      <td>funny</td>\n",
       "      <td>1445714994</td>\n",
       "    </tr>\n",
       "    <tr>\n",
       "      <th>1</th>\n",
       "      <td>2</td>\n",
       "      <td>60756</td>\n",
       "      <td>Highly quotable</td>\n",
       "      <td>1445714996</td>\n",
       "    </tr>\n",
       "    <tr>\n",
       "      <th>2</th>\n",
       "      <td>2</td>\n",
       "      <td>60756</td>\n",
       "      <td>will ferrell</td>\n",
       "      <td>1445714992</td>\n",
       "    </tr>\n",
       "    <tr>\n",
       "      <th>3</th>\n",
       "      <td>2</td>\n",
       "      <td>89774</td>\n",
       "      <td>Boxing story</td>\n",
       "      <td>1445715207</td>\n",
       "    </tr>\n",
       "    <tr>\n",
       "      <th>4</th>\n",
       "      <td>2</td>\n",
       "      <td>89774</td>\n",
       "      <td>MMA</td>\n",
       "      <td>1445715200</td>\n",
       "    </tr>\n",
       "  </tbody>\n",
       "</table>\n",
       "</div>"
      ],
      "text/plain": [
       "   userId  movieId              tag   timestamp\n",
       "0       2    60756            funny  1445714994\n",
       "1       2    60756  Highly quotable  1445714996\n",
       "2       2    60756     will ferrell  1445714992\n",
       "3       2    89774     Boxing story  1445715207\n",
       "4       2    89774              MMA  1445715200"
      ]
     },
     "execution_count": 21,
     "metadata": {},
     "output_type": "execute_result"
    }
   ],
   "source": [
    "tags_df.head()"
   ]
  },
  {
   "cell_type": "code",
   "execution_count": 22,
   "metadata": {
    "ExecuteTime": {
     "end_time": "2023-01-25T15:02:30.751940Z",
     "start_time": "2023-01-25T15:02:30.747942Z"
    }
   },
   "outputs": [
    {
     "data": {
      "text/plain": [
       "userId       0\n",
       "movieId      0\n",
       "tag          0\n",
       "timestamp    0\n",
       "dtype: int64"
      ]
     },
     "execution_count": 22,
     "metadata": {},
     "output_type": "execute_result"
    }
   ],
   "source": [
    "tags_df.isna().sum()"
   ]
  },
  {
   "cell_type": "code",
   "execution_count": 23,
   "metadata": {
    "ExecuteTime": {
     "end_time": "2023-01-25T15:02:31.031831Z",
     "start_time": "2023-01-25T15:02:31.020305Z"
    }
   },
   "outputs": [
    {
     "data": {
      "text/html": [
       "<div>\n",
       "<style scoped>\n",
       "    .dataframe tbody tr th:only-of-type {\n",
       "        vertical-align: middle;\n",
       "    }\n",
       "\n",
       "    .dataframe tbody tr th {\n",
       "        vertical-align: top;\n",
       "    }\n",
       "\n",
       "    .dataframe thead th {\n",
       "        text-align: right;\n",
       "    }\n",
       "</style>\n",
       "<table border=\"1\" class=\"dataframe\">\n",
       "  <thead>\n",
       "    <tr style=\"text-align: right;\">\n",
       "      <th></th>\n",
       "      <th>movieId</th>\n",
       "      <th>tag</th>\n",
       "      <th>timestamp</th>\n",
       "    </tr>\n",
       "    <tr>\n",
       "      <th>userId</th>\n",
       "      <th></th>\n",
       "      <th></th>\n",
       "      <th></th>\n",
       "    </tr>\n",
       "  </thead>\n",
       "  <tbody>\n",
       "    <tr>\n",
       "      <th>474</th>\n",
       "      <td>1507</td>\n",
       "      <td>1507</td>\n",
       "      <td>1507</td>\n",
       "    </tr>\n",
       "    <tr>\n",
       "      <th>567</th>\n",
       "      <td>432</td>\n",
       "      <td>432</td>\n",
       "      <td>432</td>\n",
       "    </tr>\n",
       "    <tr>\n",
       "      <th>62</th>\n",
       "      <td>370</td>\n",
       "      <td>370</td>\n",
       "      <td>370</td>\n",
       "    </tr>\n",
       "    <tr>\n",
       "      <th>599</th>\n",
       "      <td>323</td>\n",
       "      <td>323</td>\n",
       "      <td>323</td>\n",
       "    </tr>\n",
       "    <tr>\n",
       "      <th>477</th>\n",
       "      <td>280</td>\n",
       "      <td>280</td>\n",
       "      <td>280</td>\n",
       "    </tr>\n",
       "    <tr>\n",
       "      <th>424</th>\n",
       "      <td>273</td>\n",
       "      <td>273</td>\n",
       "      <td>273</td>\n",
       "    </tr>\n",
       "    <tr>\n",
       "      <th>537</th>\n",
       "      <td>100</td>\n",
       "      <td>100</td>\n",
       "      <td>100</td>\n",
       "    </tr>\n",
       "    <tr>\n",
       "      <th>125</th>\n",
       "      <td>48</td>\n",
       "      <td>48</td>\n",
       "      <td>48</td>\n",
       "    </tr>\n",
       "    <tr>\n",
       "      <th>357</th>\n",
       "      <td>45</td>\n",
       "      <td>45</td>\n",
       "      <td>45</td>\n",
       "    </tr>\n",
       "    <tr>\n",
       "      <th>318</th>\n",
       "      <td>41</td>\n",
       "      <td>41</td>\n",
       "      <td>41</td>\n",
       "    </tr>\n",
       "  </tbody>\n",
       "</table>\n",
       "</div>"
      ],
      "text/plain": [
       "        movieId   tag  timestamp\n",
       "userId                          \n",
       "474        1507  1507       1507\n",
       "567         432   432        432\n",
       "62          370   370        370\n",
       "599         323   323        323\n",
       "477         280   280        280\n",
       "424         273   273        273\n",
       "537         100   100        100\n",
       "125          48    48         48\n",
       "357          45    45         45\n",
       "318          41    41         41"
      ]
     },
     "execution_count": 23,
     "metadata": {},
     "output_type": "execute_result"
    }
   ],
   "source": [
    "# users with the most comments on movies\n",
    "tags_df.groupby('userId').count().sort_values('tag', ascending=False).head(10)"
   ]
  },
  {
   "cell_type": "markdown",
   "metadata": {},
   "source": [
    "This will be helpful for analysis as it provides keyword insights to each of the films. `timestamp` will not be helpful for this analysis and will be dropped later."
   ]
  },
  {
   "cell_type": "markdown",
   "metadata": {},
   "source": [
    "### Creating a New DataFrame with Relevant Data"
   ]
  },
  {
   "cell_type": "code",
   "execution_count": 24,
   "metadata": {
    "ExecuteTime": {
     "end_time": "2023-01-25T15:02:32.301696Z",
     "start_time": "2023-01-25T15:02:32.275136Z"
    }
   },
   "outputs": [],
   "source": [
    "# Merging the ratings data with movie titles and genres\n",
    "merged_df = ratings_df.merge(movies_df, how='outer', on='movieId')"
   ]
  },
  {
   "cell_type": "code",
   "execution_count": 25,
   "metadata": {
    "ExecuteTime": {
     "end_time": "2023-01-25T15:02:32.856268Z",
     "start_time": "2023-01-25T15:02:32.843254Z"
    }
   },
   "outputs": [
    {
     "data": {
      "text/html": [
       "<div>\n",
       "<style scoped>\n",
       "    .dataframe tbody tr th:only-of-type {\n",
       "        vertical-align: middle;\n",
       "    }\n",
       "\n",
       "    .dataframe tbody tr th {\n",
       "        vertical-align: top;\n",
       "    }\n",
       "\n",
       "    .dataframe thead th {\n",
       "        text-align: right;\n",
       "    }\n",
       "</style>\n",
       "<table border=\"1\" class=\"dataframe\">\n",
       "  <thead>\n",
       "    <tr style=\"text-align: right;\">\n",
       "      <th></th>\n",
       "      <th>userId</th>\n",
       "      <th>movieId</th>\n",
       "      <th>rating</th>\n",
       "      <th>title</th>\n",
       "      <th>genres</th>\n",
       "      <th>split_genres</th>\n",
       "    </tr>\n",
       "  </thead>\n",
       "  <tbody>\n",
       "    <tr>\n",
       "      <th>0</th>\n",
       "      <td>1.0</td>\n",
       "      <td>1</td>\n",
       "      <td>4.0</td>\n",
       "      <td>Toy Story (1995)</td>\n",
       "      <td>adventure|animation|children|comedy|fantasy</td>\n",
       "      <td>[adventure, animation, children, comedy, fantasy]</td>\n",
       "    </tr>\n",
       "    <tr>\n",
       "      <th>1</th>\n",
       "      <td>5.0</td>\n",
       "      <td>1</td>\n",
       "      <td>4.0</td>\n",
       "      <td>Toy Story (1995)</td>\n",
       "      <td>adventure|animation|children|comedy|fantasy</td>\n",
       "      <td>[adventure, animation, children, comedy, fantasy]</td>\n",
       "    </tr>\n",
       "    <tr>\n",
       "      <th>2</th>\n",
       "      <td>7.0</td>\n",
       "      <td>1</td>\n",
       "      <td>4.5</td>\n",
       "      <td>Toy Story (1995)</td>\n",
       "      <td>adventure|animation|children|comedy|fantasy</td>\n",
       "      <td>[adventure, animation, children, comedy, fantasy]</td>\n",
       "    </tr>\n",
       "    <tr>\n",
       "      <th>3</th>\n",
       "      <td>15.0</td>\n",
       "      <td>1</td>\n",
       "      <td>2.5</td>\n",
       "      <td>Toy Story (1995)</td>\n",
       "      <td>adventure|animation|children|comedy|fantasy</td>\n",
       "      <td>[adventure, animation, children, comedy, fantasy]</td>\n",
       "    </tr>\n",
       "    <tr>\n",
       "      <th>4</th>\n",
       "      <td>17.0</td>\n",
       "      <td>1</td>\n",
       "      <td>4.5</td>\n",
       "      <td>Toy Story (1995)</td>\n",
       "      <td>adventure|animation|children|comedy|fantasy</td>\n",
       "      <td>[adventure, animation, children, comedy, fantasy]</td>\n",
       "    </tr>\n",
       "  </tbody>\n",
       "</table>\n",
       "</div>"
      ],
      "text/plain": [
       "   userId  movieId  rating             title  \\\n",
       "0     1.0        1     4.0  Toy Story (1995)   \n",
       "1     5.0        1     4.0  Toy Story (1995)   \n",
       "2     7.0        1     4.5  Toy Story (1995)   \n",
       "3    15.0        1     2.5  Toy Story (1995)   \n",
       "4    17.0        1     4.5  Toy Story (1995)   \n",
       "\n",
       "                                        genres  \\\n",
       "0  adventure|animation|children|comedy|fantasy   \n",
       "1  adventure|animation|children|comedy|fantasy   \n",
       "2  adventure|animation|children|comedy|fantasy   \n",
       "3  adventure|animation|children|comedy|fantasy   \n",
       "4  adventure|animation|children|comedy|fantasy   \n",
       "\n",
       "                                        split_genres  \n",
       "0  [adventure, animation, children, comedy, fantasy]  \n",
       "1  [adventure, animation, children, comedy, fantasy]  \n",
       "2  [adventure, animation, children, comedy, fantasy]  \n",
       "3  [adventure, animation, children, comedy, fantasy]  \n",
       "4  [adventure, animation, children, comedy, fantasy]  "
      ]
     },
     "execution_count": 25,
     "metadata": {},
     "output_type": "execute_result"
    }
   ],
   "source": [
    "merged_df.head()"
   ]
  },
  {
   "cell_type": "code",
   "execution_count": 26,
   "metadata": {
    "ExecuteTime": {
     "end_time": "2023-01-25T15:02:33.525940Z",
     "start_time": "2023-01-25T15:02:33.507348Z"
    }
   },
   "outputs": [
    {
     "data": {
      "text/plain": [
       "userId          18\n",
       "movieId          0\n",
       "rating          18\n",
       "title            0\n",
       "genres           0\n",
       "split_genres     0\n",
       "dtype: int64"
      ]
     },
     "execution_count": 26,
     "metadata": {},
     "output_type": "execute_result"
    }
   ],
   "source": [
    "# Checking for nulls after merging\n",
    "merged_df.isna().sum()"
   ]
  },
  {
   "cell_type": "code",
   "execution_count": 27,
   "metadata": {
    "ExecuteTime": {
     "end_time": "2023-01-25T15:02:35.010897Z",
     "start_time": "2023-01-25T15:02:34.987685Z"
    }
   },
   "outputs": [
    {
     "data": {
      "text/html": [
       "<div>\n",
       "<style scoped>\n",
       "    .dataframe tbody tr th:only-of-type {\n",
       "        vertical-align: middle;\n",
       "    }\n",
       "\n",
       "    .dataframe tbody tr th {\n",
       "        vertical-align: top;\n",
       "    }\n",
       "\n",
       "    .dataframe thead th {\n",
       "        text-align: right;\n",
       "    }\n",
       "</style>\n",
       "<table border=\"1\" class=\"dataframe\">\n",
       "  <thead>\n",
       "    <tr style=\"text-align: right;\">\n",
       "      <th></th>\n",
       "      <th>userId</th>\n",
       "      <th>movieId</th>\n",
       "      <th>rating</th>\n",
       "      <th>title</th>\n",
       "      <th>genres</th>\n",
       "      <th>split_genres</th>\n",
       "    </tr>\n",
       "  </thead>\n",
       "  <tbody>\n",
       "    <tr>\n",
       "      <th>100834</th>\n",
       "      <td>610.0</td>\n",
       "      <td>163937</td>\n",
       "      <td>3.5</td>\n",
       "      <td>Blair Witch (2016)</td>\n",
       "      <td>horror|thriller</td>\n",
       "      <td>[horror, thriller]</td>\n",
       "    </tr>\n",
       "    <tr>\n",
       "      <th>100835</th>\n",
       "      <td>610.0</td>\n",
       "      <td>163981</td>\n",
       "      <td>3.5</td>\n",
       "      <td>31 (2016)</td>\n",
       "      <td>horror</td>\n",
       "      <td>[horror]</td>\n",
       "    </tr>\n",
       "    <tr>\n",
       "      <th>100836</th>\n",
       "      <td>NaN</td>\n",
       "      <td>1076</td>\n",
       "      <td>NaN</td>\n",
       "      <td>Innocents, The (1961)</td>\n",
       "      <td>drama|horror|thriller</td>\n",
       "      <td>[drama, horror, thriller]</td>\n",
       "    </tr>\n",
       "    <tr>\n",
       "      <th>100837</th>\n",
       "      <td>NaN</td>\n",
       "      <td>2939</td>\n",
       "      <td>NaN</td>\n",
       "      <td>Niagara (1953)</td>\n",
       "      <td>drama|thriller</td>\n",
       "      <td>[drama, thriller]</td>\n",
       "    </tr>\n",
       "    <tr>\n",
       "      <th>100838</th>\n",
       "      <td>NaN</td>\n",
       "      <td>3338</td>\n",
       "      <td>NaN</td>\n",
       "      <td>For All Mankind (1989)</td>\n",
       "      <td>documentary</td>\n",
       "      <td>[documentary]</td>\n",
       "    </tr>\n",
       "    <tr>\n",
       "      <th>100839</th>\n",
       "      <td>NaN</td>\n",
       "      <td>3456</td>\n",
       "      <td>NaN</td>\n",
       "      <td>Color of Paradise, The (Rang-e khoda) (1999)</td>\n",
       "      <td>drama</td>\n",
       "      <td>[drama]</td>\n",
       "    </tr>\n",
       "    <tr>\n",
       "      <th>100840</th>\n",
       "      <td>NaN</td>\n",
       "      <td>4194</td>\n",
       "      <td>NaN</td>\n",
       "      <td>I Know Where I'm Going! (1945)</td>\n",
       "      <td>drama|romance|war</td>\n",
       "      <td>[drama, romance, war]</td>\n",
       "    </tr>\n",
       "    <tr>\n",
       "      <th>100841</th>\n",
       "      <td>NaN</td>\n",
       "      <td>5721</td>\n",
       "      <td>NaN</td>\n",
       "      <td>Chosen, The (1981)</td>\n",
       "      <td>drama</td>\n",
       "      <td>[drama]</td>\n",
       "    </tr>\n",
       "    <tr>\n",
       "      <th>100842</th>\n",
       "      <td>NaN</td>\n",
       "      <td>6668</td>\n",
       "      <td>NaN</td>\n",
       "      <td>Road Home, The (Wo de fu qin mu qin) (1999)</td>\n",
       "      <td>drama|romance</td>\n",
       "      <td>[drama, romance]</td>\n",
       "    </tr>\n",
       "    <tr>\n",
       "      <th>100843</th>\n",
       "      <td>NaN</td>\n",
       "      <td>6849</td>\n",
       "      <td>NaN</td>\n",
       "      <td>Scrooge (1970)</td>\n",
       "      <td>drama|fantasy|musical</td>\n",
       "      <td>[drama, fantasy, musical]</td>\n",
       "    </tr>\n",
       "    <tr>\n",
       "      <th>100844</th>\n",
       "      <td>NaN</td>\n",
       "      <td>7020</td>\n",
       "      <td>NaN</td>\n",
       "      <td>Proof (1991)</td>\n",
       "      <td>comedy|drama|romance</td>\n",
       "      <td>[comedy, drama, romance]</td>\n",
       "    </tr>\n",
       "    <tr>\n",
       "      <th>100845</th>\n",
       "      <td>NaN</td>\n",
       "      <td>7792</td>\n",
       "      <td>NaN</td>\n",
       "      <td>Parallax View, The (1974)</td>\n",
       "      <td>thriller</td>\n",
       "      <td>[thriller]</td>\n",
       "    </tr>\n",
       "    <tr>\n",
       "      <th>100846</th>\n",
       "      <td>NaN</td>\n",
       "      <td>8765</td>\n",
       "      <td>NaN</td>\n",
       "      <td>This Gun for Hire (1942)</td>\n",
       "      <td>crime|film-noir|thriller</td>\n",
       "      <td>[crime, film-noir, thriller]</td>\n",
       "    </tr>\n",
       "    <tr>\n",
       "      <th>100847</th>\n",
       "      <td>NaN</td>\n",
       "      <td>25855</td>\n",
       "      <td>NaN</td>\n",
       "      <td>Roaring Twenties, The (1939)</td>\n",
       "      <td>crime|drama|thriller</td>\n",
       "      <td>[crime, drama, thriller]</td>\n",
       "    </tr>\n",
       "    <tr>\n",
       "      <th>100848</th>\n",
       "      <td>NaN</td>\n",
       "      <td>26085</td>\n",
       "      <td>NaN</td>\n",
       "      <td>Mutiny on the Bounty (1962)</td>\n",
       "      <td>adventure|drama|romance</td>\n",
       "      <td>[adventure, drama, romance]</td>\n",
       "    </tr>\n",
       "    <tr>\n",
       "      <th>100849</th>\n",
       "      <td>NaN</td>\n",
       "      <td>30892</td>\n",
       "      <td>NaN</td>\n",
       "      <td>In the Realms of the Unreal (2004)</td>\n",
       "      <td>animation|documentary</td>\n",
       "      <td>[animation, documentary]</td>\n",
       "    </tr>\n",
       "    <tr>\n",
       "      <th>100850</th>\n",
       "      <td>NaN</td>\n",
       "      <td>32160</td>\n",
       "      <td>NaN</td>\n",
       "      <td>Twentieth Century (1934)</td>\n",
       "      <td>comedy</td>\n",
       "      <td>[comedy]</td>\n",
       "    </tr>\n",
       "    <tr>\n",
       "      <th>100851</th>\n",
       "      <td>NaN</td>\n",
       "      <td>32371</td>\n",
       "      <td>NaN</td>\n",
       "      <td>Call Northside 777 (1948)</td>\n",
       "      <td>crime|drama|film-noir</td>\n",
       "      <td>[crime, drama, film-noir]</td>\n",
       "    </tr>\n",
       "    <tr>\n",
       "      <th>100852</th>\n",
       "      <td>NaN</td>\n",
       "      <td>34482</td>\n",
       "      <td>NaN</td>\n",
       "      <td>Browning Version, The (1951)</td>\n",
       "      <td>drama</td>\n",
       "      <td>[drama]</td>\n",
       "    </tr>\n",
       "    <tr>\n",
       "      <th>100853</th>\n",
       "      <td>NaN</td>\n",
       "      <td>85565</td>\n",
       "      <td>NaN</td>\n",
       "      <td>Chalet Girl (2011)</td>\n",
       "      <td>comedy|romance</td>\n",
       "      <td>[comedy, romance]</td>\n",
       "    </tr>\n",
       "  </tbody>\n",
       "</table>\n",
       "</div>"
      ],
      "text/plain": [
       "        userId  movieId  rating                                         title  \\\n",
       "100834   610.0   163937     3.5                            Blair Witch (2016)   \n",
       "100835   610.0   163981     3.5                                     31 (2016)   \n",
       "100836     NaN     1076     NaN                         Innocents, The (1961)   \n",
       "100837     NaN     2939     NaN                                Niagara (1953)   \n",
       "100838     NaN     3338     NaN                        For All Mankind (1989)   \n",
       "100839     NaN     3456     NaN  Color of Paradise, The (Rang-e khoda) (1999)   \n",
       "100840     NaN     4194     NaN                I Know Where I'm Going! (1945)   \n",
       "100841     NaN     5721     NaN                            Chosen, The (1981)   \n",
       "100842     NaN     6668     NaN   Road Home, The (Wo de fu qin mu qin) (1999)   \n",
       "100843     NaN     6849     NaN                                Scrooge (1970)   \n",
       "100844     NaN     7020     NaN                                  Proof (1991)   \n",
       "100845     NaN     7792     NaN                     Parallax View, The (1974)   \n",
       "100846     NaN     8765     NaN                      This Gun for Hire (1942)   \n",
       "100847     NaN    25855     NaN                  Roaring Twenties, The (1939)   \n",
       "100848     NaN    26085     NaN                   Mutiny on the Bounty (1962)   \n",
       "100849     NaN    30892     NaN            In the Realms of the Unreal (2004)   \n",
       "100850     NaN    32160     NaN                      Twentieth Century (1934)   \n",
       "100851     NaN    32371     NaN                     Call Northside 777 (1948)   \n",
       "100852     NaN    34482     NaN                  Browning Version, The (1951)   \n",
       "100853     NaN    85565     NaN                            Chalet Girl (2011)   \n",
       "\n",
       "                          genres                  split_genres  \n",
       "100834           horror|thriller            [horror, thriller]  \n",
       "100835                    horror                      [horror]  \n",
       "100836     drama|horror|thriller     [drama, horror, thriller]  \n",
       "100837            drama|thriller             [drama, thriller]  \n",
       "100838               documentary                 [documentary]  \n",
       "100839                     drama                       [drama]  \n",
       "100840         drama|romance|war         [drama, romance, war]  \n",
       "100841                     drama                       [drama]  \n",
       "100842             drama|romance              [drama, romance]  \n",
       "100843     drama|fantasy|musical     [drama, fantasy, musical]  \n",
       "100844      comedy|drama|romance      [comedy, drama, romance]  \n",
       "100845                  thriller                    [thriller]  \n",
       "100846  crime|film-noir|thriller  [crime, film-noir, thriller]  \n",
       "100847      crime|drama|thriller      [crime, drama, thriller]  \n",
       "100848   adventure|drama|romance   [adventure, drama, romance]  \n",
       "100849     animation|documentary      [animation, documentary]  \n",
       "100850                    comedy                      [comedy]  \n",
       "100851     crime|drama|film-noir     [crime, drama, film-noir]  \n",
       "100852                     drama                       [drama]  \n",
       "100853            comedy|romance             [comedy, romance]  "
      ]
     },
     "execution_count": 27,
     "metadata": {},
     "output_type": "execute_result"
    }
   ],
   "source": [
    "# 18 movies do not have any reviews \n",
    "merged_df.tail(20)"
   ]
  },
  {
   "cell_type": "code",
   "execution_count": 28,
   "metadata": {
    "ExecuteTime": {
     "end_time": "2023-01-25T15:02:37.835137Z",
     "start_time": "2023-01-25T15:02:37.810362Z"
    }
   },
   "outputs": [],
   "source": [
    "# Dropping nulls in data\n",
    "merged_df.dropna(inplace=True)"
   ]
  },
  {
   "cell_type": "code",
   "execution_count": 29,
   "metadata": {
    "ExecuteTime": {
     "end_time": "2023-01-25T15:02:38.440300Z",
     "start_time": "2023-01-25T15:02:38.419269Z"
    }
   },
   "outputs": [
    {
     "data": {
      "text/plain": [
       "userId          0\n",
       "movieId         0\n",
       "rating          0\n",
       "title           0\n",
       "genres          0\n",
       "split_genres    0\n",
       "dtype: int64"
      ]
     },
     "execution_count": 29,
     "metadata": {},
     "output_type": "execute_result"
    }
   ],
   "source": [
    "merged_df.isna().sum()"
   ]
  },
  {
   "cell_type": "code",
   "execution_count": 30,
   "metadata": {
    "ExecuteTime": {
     "end_time": "2023-01-25T15:02:38.781553Z",
     "start_time": "2023-01-25T15:02:38.778555Z"
    }
   },
   "outputs": [
    {
     "data": {
      "text/plain": [
       "(100836, 6)"
      ]
     },
     "execution_count": 30,
     "metadata": {},
     "output_type": "execute_result"
    }
   ],
   "source": [
    "merged_df.shape"
   ]
  },
  {
   "cell_type": "code",
   "execution_count": 31,
   "metadata": {
    "ExecuteTime": {
     "end_time": "2023-01-25T15:02:39.030106Z",
     "start_time": "2023-01-25T15:02:39.026602Z"
    }
   },
   "outputs": [
    {
     "data": {
      "text/plain": [
       "9724"
      ]
     },
     "execution_count": 31,
     "metadata": {},
     "output_type": "execute_result"
    }
   ],
   "source": [
    "merged_df['movieId'].nunique()"
   ]
  },
  {
   "cell_type": "markdown",
   "metadata": {},
   "source": [
    "We have a cleaned dataframe with 100836 reviews for 9724 movies."
   ]
  },
  {
   "cell_type": "markdown",
   "metadata": {},
   "source": [
    "#### **Additional EDA that likely can be dropped for final notebook**"
   ]
  },
  {
   "cell_type": "code",
   "execution_count": 32,
   "metadata": {
    "ExecuteTime": {
     "end_time": "2023-01-25T15:02:40.157937Z",
     "start_time": "2023-01-25T15:02:40.049988Z"
    }
   },
   "outputs": [],
   "source": [
    "# creating a sparse matrix pivot table that has all users as the index and all movies as the columns\n",
    "pivot_test = merged_df.pivot_table(index='userId', columns='title', values='rating')"
   ]
  },
  {
   "cell_type": "code",
   "execution_count": 33,
   "metadata": {
    "ExecuteTime": {
     "end_time": "2023-01-25T15:02:40.579898Z",
     "start_time": "2023-01-25T15:02:40.562908Z"
    },
    "scrolled": true
   },
   "outputs": [
    {
     "data": {
      "text/html": [
       "<div>\n",
       "<style scoped>\n",
       "    .dataframe tbody tr th:only-of-type {\n",
       "        vertical-align: middle;\n",
       "    }\n",
       "\n",
       "    .dataframe tbody tr th {\n",
       "        vertical-align: top;\n",
       "    }\n",
       "\n",
       "    .dataframe thead th {\n",
       "        text-align: right;\n",
       "    }\n",
       "</style>\n",
       "<table border=\"1\" class=\"dataframe\">\n",
       "  <thead>\n",
       "    <tr style=\"text-align: right;\">\n",
       "      <th>title</th>\n",
       "      <th>'71 (2014)</th>\n",
       "      <th>'Hellboy': The Seeds of Creation (2004)</th>\n",
       "      <th>'Round Midnight (1986)</th>\n",
       "      <th>'Salem's Lot (2004)</th>\n",
       "      <th>'Til There Was You (1997)</th>\n",
       "      <th>'Tis the Season for Love (2015)</th>\n",
       "      <th>'burbs, The (1989)</th>\n",
       "      <th>'night Mother (1986)</th>\n",
       "      <th>(500) Days of Summer (2009)</th>\n",
       "      <th>*batteries not included (1987)</th>\n",
       "      <th>...</th>\n",
       "      <th>Zulu (2013)</th>\n",
       "      <th>[REC] (2007)</th>\n",
       "      <th>[REC]² (2009)</th>\n",
       "      <th>[REC]³ 3 Génesis (2012)</th>\n",
       "      <th>anohana: The Flower We Saw That Day - The Movie (2013)</th>\n",
       "      <th>eXistenZ (1999)</th>\n",
       "      <th>xXx (2002)</th>\n",
       "      <th>xXx: State of the Union (2005)</th>\n",
       "      <th>¡Three Amigos! (1986)</th>\n",
       "      <th>À nous la liberté (Freedom for Us) (1931)</th>\n",
       "    </tr>\n",
       "    <tr>\n",
       "      <th>userId</th>\n",
       "      <th></th>\n",
       "      <th></th>\n",
       "      <th></th>\n",
       "      <th></th>\n",
       "      <th></th>\n",
       "      <th></th>\n",
       "      <th></th>\n",
       "      <th></th>\n",
       "      <th></th>\n",
       "      <th></th>\n",
       "      <th></th>\n",
       "      <th></th>\n",
       "      <th></th>\n",
       "      <th></th>\n",
       "      <th></th>\n",
       "      <th></th>\n",
       "      <th></th>\n",
       "      <th></th>\n",
       "      <th></th>\n",
       "      <th></th>\n",
       "      <th></th>\n",
       "    </tr>\n",
       "  </thead>\n",
       "  <tbody>\n",
       "    <tr>\n",
       "      <th>1.0</th>\n",
       "      <td>NaN</td>\n",
       "      <td>NaN</td>\n",
       "      <td>NaN</td>\n",
       "      <td>NaN</td>\n",
       "      <td>NaN</td>\n",
       "      <td>NaN</td>\n",
       "      <td>NaN</td>\n",
       "      <td>NaN</td>\n",
       "      <td>NaN</td>\n",
       "      <td>NaN</td>\n",
       "      <td>...</td>\n",
       "      <td>NaN</td>\n",
       "      <td>NaN</td>\n",
       "      <td>NaN</td>\n",
       "      <td>NaN</td>\n",
       "      <td>NaN</td>\n",
       "      <td>NaN</td>\n",
       "      <td>NaN</td>\n",
       "      <td>NaN</td>\n",
       "      <td>4.0</td>\n",
       "      <td>NaN</td>\n",
       "    </tr>\n",
       "    <tr>\n",
       "      <th>2.0</th>\n",
       "      <td>NaN</td>\n",
       "      <td>NaN</td>\n",
       "      <td>NaN</td>\n",
       "      <td>NaN</td>\n",
       "      <td>NaN</td>\n",
       "      <td>NaN</td>\n",
       "      <td>NaN</td>\n",
       "      <td>NaN</td>\n",
       "      <td>NaN</td>\n",
       "      <td>NaN</td>\n",
       "      <td>...</td>\n",
       "      <td>NaN</td>\n",
       "      <td>NaN</td>\n",
       "      <td>NaN</td>\n",
       "      <td>NaN</td>\n",
       "      <td>NaN</td>\n",
       "      <td>NaN</td>\n",
       "      <td>NaN</td>\n",
       "      <td>NaN</td>\n",
       "      <td>NaN</td>\n",
       "      <td>NaN</td>\n",
       "    </tr>\n",
       "    <tr>\n",
       "      <th>3.0</th>\n",
       "      <td>NaN</td>\n",
       "      <td>NaN</td>\n",
       "      <td>NaN</td>\n",
       "      <td>NaN</td>\n",
       "      <td>NaN</td>\n",
       "      <td>NaN</td>\n",
       "      <td>NaN</td>\n",
       "      <td>NaN</td>\n",
       "      <td>NaN</td>\n",
       "      <td>NaN</td>\n",
       "      <td>...</td>\n",
       "      <td>NaN</td>\n",
       "      <td>NaN</td>\n",
       "      <td>NaN</td>\n",
       "      <td>NaN</td>\n",
       "      <td>NaN</td>\n",
       "      <td>NaN</td>\n",
       "      <td>NaN</td>\n",
       "      <td>NaN</td>\n",
       "      <td>NaN</td>\n",
       "      <td>NaN</td>\n",
       "    </tr>\n",
       "    <tr>\n",
       "      <th>4.0</th>\n",
       "      <td>NaN</td>\n",
       "      <td>NaN</td>\n",
       "      <td>NaN</td>\n",
       "      <td>NaN</td>\n",
       "      <td>NaN</td>\n",
       "      <td>NaN</td>\n",
       "      <td>NaN</td>\n",
       "      <td>NaN</td>\n",
       "      <td>NaN</td>\n",
       "      <td>NaN</td>\n",
       "      <td>...</td>\n",
       "      <td>NaN</td>\n",
       "      <td>NaN</td>\n",
       "      <td>NaN</td>\n",
       "      <td>NaN</td>\n",
       "      <td>NaN</td>\n",
       "      <td>NaN</td>\n",
       "      <td>NaN</td>\n",
       "      <td>NaN</td>\n",
       "      <td>NaN</td>\n",
       "      <td>NaN</td>\n",
       "    </tr>\n",
       "    <tr>\n",
       "      <th>5.0</th>\n",
       "      <td>NaN</td>\n",
       "      <td>NaN</td>\n",
       "      <td>NaN</td>\n",
       "      <td>NaN</td>\n",
       "      <td>NaN</td>\n",
       "      <td>NaN</td>\n",
       "      <td>NaN</td>\n",
       "      <td>NaN</td>\n",
       "      <td>NaN</td>\n",
       "      <td>NaN</td>\n",
       "      <td>...</td>\n",
       "      <td>NaN</td>\n",
       "      <td>NaN</td>\n",
       "      <td>NaN</td>\n",
       "      <td>NaN</td>\n",
       "      <td>NaN</td>\n",
       "      <td>NaN</td>\n",
       "      <td>NaN</td>\n",
       "      <td>NaN</td>\n",
       "      <td>NaN</td>\n",
       "      <td>NaN</td>\n",
       "    </tr>\n",
       "  </tbody>\n",
       "</table>\n",
       "<p>5 rows × 9719 columns</p>\n",
       "</div>"
      ],
      "text/plain": [
       "title   '71 (2014)  'Hellboy': The Seeds of Creation (2004)  \\\n",
       "userId                                                        \n",
       "1.0            NaN                                      NaN   \n",
       "2.0            NaN                                      NaN   \n",
       "3.0            NaN                                      NaN   \n",
       "4.0            NaN                                      NaN   \n",
       "5.0            NaN                                      NaN   \n",
       "\n",
       "title   'Round Midnight (1986)  'Salem's Lot (2004)  \\\n",
       "userId                                                \n",
       "1.0                        NaN                  NaN   \n",
       "2.0                        NaN                  NaN   \n",
       "3.0                        NaN                  NaN   \n",
       "4.0                        NaN                  NaN   \n",
       "5.0                        NaN                  NaN   \n",
       "\n",
       "title   'Til There Was You (1997)  'Tis the Season for Love (2015)  \\\n",
       "userId                                                               \n",
       "1.0                           NaN                              NaN   \n",
       "2.0                           NaN                              NaN   \n",
       "3.0                           NaN                              NaN   \n",
       "4.0                           NaN                              NaN   \n",
       "5.0                           NaN                              NaN   \n",
       "\n",
       "title   'burbs, The (1989)  'night Mother (1986)  (500) Days of Summer (2009)  \\\n",
       "userId                                                                          \n",
       "1.0                    NaN                   NaN                          NaN   \n",
       "2.0                    NaN                   NaN                          NaN   \n",
       "3.0                    NaN                   NaN                          NaN   \n",
       "4.0                    NaN                   NaN                          NaN   \n",
       "5.0                    NaN                   NaN                          NaN   \n",
       "\n",
       "title   *batteries not included (1987)  ...  Zulu (2013)  [REC] (2007)  \\\n",
       "userId                                  ...                              \n",
       "1.0                                NaN  ...          NaN           NaN   \n",
       "2.0                                NaN  ...          NaN           NaN   \n",
       "3.0                                NaN  ...          NaN           NaN   \n",
       "4.0                                NaN  ...          NaN           NaN   \n",
       "5.0                                NaN  ...          NaN           NaN   \n",
       "\n",
       "title   [REC]² (2009)  [REC]³ 3 Génesis (2012)  \\\n",
       "userId                                           \n",
       "1.0               NaN                      NaN   \n",
       "2.0               NaN                      NaN   \n",
       "3.0               NaN                      NaN   \n",
       "4.0               NaN                      NaN   \n",
       "5.0               NaN                      NaN   \n",
       "\n",
       "title   anohana: The Flower We Saw That Day - The Movie (2013)  \\\n",
       "userId                                                           \n",
       "1.0                                                   NaN        \n",
       "2.0                                                   NaN        \n",
       "3.0                                                   NaN        \n",
       "4.0                                                   NaN        \n",
       "5.0                                                   NaN        \n",
       "\n",
       "title   eXistenZ (1999)  xXx (2002)  xXx: State of the Union (2005)  \\\n",
       "userId                                                                \n",
       "1.0                 NaN         NaN                             NaN   \n",
       "2.0                 NaN         NaN                             NaN   \n",
       "3.0                 NaN         NaN                             NaN   \n",
       "4.0                 NaN         NaN                             NaN   \n",
       "5.0                 NaN         NaN                             NaN   \n",
       "\n",
       "title   ¡Three Amigos! (1986)  À nous la liberté (Freedom for Us) (1931)  \n",
       "userId                                                                    \n",
       "1.0                       4.0                                        NaN  \n",
       "2.0                       NaN                                        NaN  \n",
       "3.0                       NaN                                        NaN  \n",
       "4.0                       NaN                                        NaN  \n",
       "5.0                       NaN                                        NaN  \n",
       "\n",
       "[5 rows x 9719 columns]"
      ]
     },
     "execution_count": 33,
     "metadata": {},
     "output_type": "execute_result"
    }
   ],
   "source": [
    "pivot_test.head()"
   ]
  },
  {
   "cell_type": "markdown",
   "metadata": {},
   "source": [
    "## Modeling"
   ]
  },
  {
   "cell_type": "code",
   "execution_count": 34,
   "metadata": {
    "ExecuteTime": {
     "end_time": "2023-01-25T15:02:41.181728Z",
     "start_time": "2023-01-25T15:02:41.177728Z"
    }
   },
   "outputs": [],
   "source": [
    "# Adjusting the dataframe for modeling purposes\n",
    "model_df = merged_df.drop(['title', 'genres', 'split_genres'], axis=1)"
   ]
  },
  {
   "cell_type": "code",
   "execution_count": 35,
   "metadata": {
    "ExecuteTime": {
     "end_time": "2023-01-25T15:02:41.661315Z",
     "start_time": "2023-01-25T15:02:41.650300Z"
    }
   },
   "outputs": [
    {
     "data": {
      "text/html": [
       "<div>\n",
       "<style scoped>\n",
       "    .dataframe tbody tr th:only-of-type {\n",
       "        vertical-align: middle;\n",
       "    }\n",
       "\n",
       "    .dataframe tbody tr th {\n",
       "        vertical-align: top;\n",
       "    }\n",
       "\n",
       "    .dataframe thead th {\n",
       "        text-align: right;\n",
       "    }\n",
       "</style>\n",
       "<table border=\"1\" class=\"dataframe\">\n",
       "  <thead>\n",
       "    <tr style=\"text-align: right;\">\n",
       "      <th></th>\n",
       "      <th>userId</th>\n",
       "      <th>movieId</th>\n",
       "      <th>rating</th>\n",
       "    </tr>\n",
       "  </thead>\n",
       "  <tbody>\n",
       "    <tr>\n",
       "      <th>0</th>\n",
       "      <td>1.0</td>\n",
       "      <td>1</td>\n",
       "      <td>4.0</td>\n",
       "    </tr>\n",
       "    <tr>\n",
       "      <th>1</th>\n",
       "      <td>5.0</td>\n",
       "      <td>1</td>\n",
       "      <td>4.0</td>\n",
       "    </tr>\n",
       "    <tr>\n",
       "      <th>2</th>\n",
       "      <td>7.0</td>\n",
       "      <td>1</td>\n",
       "      <td>4.5</td>\n",
       "    </tr>\n",
       "    <tr>\n",
       "      <th>3</th>\n",
       "      <td>15.0</td>\n",
       "      <td>1</td>\n",
       "      <td>2.5</td>\n",
       "    </tr>\n",
       "    <tr>\n",
       "      <th>4</th>\n",
       "      <td>17.0</td>\n",
       "      <td>1</td>\n",
       "      <td>4.5</td>\n",
       "    </tr>\n",
       "  </tbody>\n",
       "</table>\n",
       "</div>"
      ],
      "text/plain": [
       "   userId  movieId  rating\n",
       "0     1.0        1     4.0\n",
       "1     5.0        1     4.0\n",
       "2     7.0        1     4.5\n",
       "3    15.0        1     2.5\n",
       "4    17.0        1     4.5"
      ]
     },
     "execution_count": 35,
     "metadata": {},
     "output_type": "execute_result"
    }
   ],
   "source": [
    "# Contains all movie ratings and the unique identifiers for user and movie\n",
    "model_df.head()"
   ]
  },
  {
   "cell_type": "code",
   "execution_count": 36,
   "metadata": {
    "ExecuteTime": {
     "end_time": "2023-01-25T15:02:42.004458Z",
     "start_time": "2023-01-25T15:02:41.898399Z"
    }
   },
   "outputs": [],
   "source": [
    "# Converting model_df to surprise accessible data\n",
    "reader = Reader()\n",
    "data = Dataset.load_from_df(model_df,reader)"
   ]
  },
  {
   "cell_type": "code",
   "execution_count": 37,
   "metadata": {
    "ExecuteTime": {
     "end_time": "2023-01-25T15:02:42.473627Z",
     "start_time": "2023-01-25T15:02:42.385797Z"
    }
   },
   "outputs": [],
   "source": [
    "trainset, testset = train_test_split(data, test_size=.2, random_state=42)"
   ]
  },
  {
   "cell_type": "code",
   "execution_count": 38,
   "metadata": {
    "ExecuteTime": {
     "end_time": "2023-01-25T15:02:42.861533Z",
     "start_time": "2023-01-25T15:02:42.850669Z"
    }
   },
   "outputs": [
    {
     "name": "stdout",
     "output_type": "stream",
     "text": [
      "Number of users:  610 \n",
      "\n",
      "Number of items:  8982\n"
     ]
    }
   ],
   "source": [
    "print('Number of users: ', trainset.n_users, '\\n')\n",
    "print('Number of items: ', trainset.n_items)"
   ]
  },
  {
   "cell_type": "markdown",
   "metadata": {},
   "source": [
    "## First Baseline Model"
   ]
  },
  {
   "cell_type": "markdown",
   "metadata": {},
   "source": [
    "Setting up a baseline model"
   ]
  },
  {
   "cell_type": "code",
   "execution_count": 39,
   "metadata": {
    "ExecuteTime": {
     "end_time": "2023-01-25T15:02:43.962403Z",
     "start_time": "2023-01-25T15:02:43.857856Z"
    }
   },
   "outputs": [
    {
     "name": "stdout",
     "output_type": "stream",
     "text": [
      "Estimating biases using als...\n"
     ]
    },
    {
     "data": {
      "text/plain": [
       "<surprise.prediction_algorithms.baseline_only.BaselineOnly at 0x7fb1c91e63d0>"
      ]
     },
     "execution_count": 39,
     "metadata": {},
     "output_type": "execute_result"
    }
   ],
   "source": [
    "baseline = BaselineOnly()\n",
    "baseline.fit(trainset)"
   ]
  },
  {
   "cell_type": "code",
   "execution_count": 40,
   "metadata": {
    "ExecuteTime": {
     "end_time": "2023-01-25T15:02:44.520803Z",
     "start_time": "2023-01-25T15:02:44.472802Z"
    }
   },
   "outputs": [],
   "source": [
    "base_predictions = baseline.test(testset)"
   ]
  },
  {
   "cell_type": "code",
   "execution_count": 41,
   "metadata": {
    "ExecuteTime": {
     "end_time": "2023-01-25T15:02:45.080648Z",
     "start_time": "2023-01-25T15:02:45.058638Z"
    }
   },
   "outputs": [
    {
     "name": "stdout",
     "output_type": "stream",
     "text": [
      "RMSE: 0.8734\n"
     ]
    },
    {
     "data": {
      "text/plain": [
       "0.8734341181528673"
      ]
     },
     "execution_count": 41,
     "metadata": {},
     "output_type": "execute_result"
    }
   ],
   "source": [
    "accuracy.rmse(base_predictions)"
   ]
  },
  {
   "cell_type": "markdown",
   "metadata": {},
   "source": [
    "## Model KNN with Z-Score"
   ]
  },
  {
   "cell_type": "code",
   "execution_count": 42,
   "metadata": {
    "ExecuteTime": {
     "end_time": "2023-01-25T15:02:45.858754Z",
     "start_time": "2023-01-25T15:02:45.722607Z"
    }
   },
   "outputs": [
    {
     "name": "stdout",
     "output_type": "stream",
     "text": [
      "Computing the msd similarity matrix...\n",
      "Done computing similarity matrix.\n"
     ]
    },
    {
     "data": {
      "text/plain": [
       "<surprise.prediction_algorithms.knns.KNNWithZScore at 0x7fb1b8dc80a0>"
      ]
     },
     "execution_count": 42,
     "metadata": {},
     "output_type": "execute_result"
    }
   ],
   "source": [
    "knn_z = knns.KNNWithZScore(random_state=42)\n",
    "knn_z.fit(trainset=trainset)"
   ]
  },
  {
   "cell_type": "code",
   "execution_count": 43,
   "metadata": {
    "ExecuteTime": {
     "end_time": "2023-01-25T15:02:47.271892Z",
     "start_time": "2023-01-25T15:02:46.449015Z"
    }
   },
   "outputs": [],
   "source": [
    "knn_z_predictions = knn_z.test(testset)"
   ]
  },
  {
   "cell_type": "code",
   "execution_count": 44,
   "metadata": {
    "ExecuteTime": {
     "end_time": "2023-01-25T15:02:47.724073Z",
     "start_time": "2023-01-25T15:02:47.697305Z"
    }
   },
   "outputs": [
    {
     "name": "stdout",
     "output_type": "stream",
     "text": [
      "RMSE: 0.8963\n"
     ]
    },
    {
     "data": {
      "text/plain": [
       "0.8962709994505563"
      ]
     },
     "execution_count": 44,
     "metadata": {},
     "output_type": "execute_result"
    }
   ],
   "source": [
    "accuracy.rmse(knn_z_predictions)"
   ]
  },
  {
   "cell_type": "markdown",
   "metadata": {},
   "source": [
    "## Model with SVD"
   ]
  },
  {
   "cell_type": "code",
   "execution_count": 45,
   "metadata": {
    "ExecuteTime": {
     "end_time": "2023-01-25T15:02:51.049699Z",
     "start_time": "2023-01-25T15:02:48.649813Z"
    }
   },
   "outputs": [
    {
     "data": {
      "text/plain": [
       "<surprise.prediction_algorithms.matrix_factorization.SVD at 0x7fb1b8dc84f0>"
      ]
     },
     "execution_count": 45,
     "metadata": {},
     "output_type": "execute_result"
    }
   ],
   "source": [
    "svd = SVD(random_state=42)\n",
    "svd.fit(trainset)"
   ]
  },
  {
   "cell_type": "code",
   "execution_count": 46,
   "metadata": {
    "ExecuteTime": {
     "end_time": "2023-01-25T15:02:51.781247Z",
     "start_time": "2023-01-25T15:02:51.640198Z"
    }
   },
   "outputs": [],
   "source": [
    "svd_predictions = svd.test(testset)"
   ]
  },
  {
   "cell_type": "code",
   "execution_count": 47,
   "metadata": {
    "ExecuteTime": {
     "end_time": "2023-01-25T15:02:52.183373Z",
     "start_time": "2023-01-25T15:02:52.160353Z"
    }
   },
   "outputs": [
    {
     "name": "stdout",
     "output_type": "stream",
     "text": [
      "RMSE: 0.8757\n"
     ]
    },
    {
     "data": {
      "text/plain": [
       "0.8757353176838333"
      ]
     },
     "execution_count": 47,
     "metadata": {},
     "output_type": "execute_result"
    }
   ],
   "source": [
    "accuracy.rmse(svd_predictions)"
   ]
  },
  {
   "cell_type": "markdown",
   "metadata": {},
   "source": [
    "# Creating a New User"
   ]
  },
  {
   "cell_type": "code",
   "execution_count": 48,
   "metadata": {
    "ExecuteTime": {
     "end_time": "2023-01-25T15:02:52.804968Z",
     "start_time": "2023-01-25T15:02:52.784423Z"
    }
   },
   "outputs": [
    {
     "data": {
      "text/html": [
       "<div>\n",
       "<style scoped>\n",
       "    .dataframe tbody tr th:only-of-type {\n",
       "        vertical-align: middle;\n",
       "    }\n",
       "\n",
       "    .dataframe tbody tr th {\n",
       "        vertical-align: top;\n",
       "    }\n",
       "\n",
       "    .dataframe thead th {\n",
       "        text-align: right;\n",
       "    }\n",
       "</style>\n",
       "<table border=\"1\" class=\"dataframe\">\n",
       "  <thead>\n",
       "    <tr style=\"text-align: right;\">\n",
       "      <th></th>\n",
       "      <th>userId</th>\n",
       "      <th>movieId</th>\n",
       "      <th>rating</th>\n",
       "      <th>title</th>\n",
       "      <th>genres</th>\n",
       "      <th>split_genres</th>\n",
       "    </tr>\n",
       "  </thead>\n",
       "  <tbody>\n",
       "    <tr>\n",
       "      <th>0</th>\n",
       "      <td>1.0</td>\n",
       "      <td>1</td>\n",
       "      <td>4.0</td>\n",
       "      <td>Toy Story (1995)</td>\n",
       "      <td>adventure|animation|children|comedy|fantasy</td>\n",
       "      <td>[adventure, animation, children, comedy, fantasy]</td>\n",
       "    </tr>\n",
       "    <tr>\n",
       "      <th>1</th>\n",
       "      <td>5.0</td>\n",
       "      <td>1</td>\n",
       "      <td>4.0</td>\n",
       "      <td>Toy Story (1995)</td>\n",
       "      <td>adventure|animation|children|comedy|fantasy</td>\n",
       "      <td>[adventure, animation, children, comedy, fantasy]</td>\n",
       "    </tr>\n",
       "    <tr>\n",
       "      <th>2</th>\n",
       "      <td>7.0</td>\n",
       "      <td>1</td>\n",
       "      <td>4.5</td>\n",
       "      <td>Toy Story (1995)</td>\n",
       "      <td>adventure|animation|children|comedy|fantasy</td>\n",
       "      <td>[adventure, animation, children, comedy, fantasy]</td>\n",
       "    </tr>\n",
       "    <tr>\n",
       "      <th>3</th>\n",
       "      <td>15.0</td>\n",
       "      <td>1</td>\n",
       "      <td>2.5</td>\n",
       "      <td>Toy Story (1995)</td>\n",
       "      <td>adventure|animation|children|comedy|fantasy</td>\n",
       "      <td>[adventure, animation, children, comedy, fantasy]</td>\n",
       "    </tr>\n",
       "    <tr>\n",
       "      <th>4</th>\n",
       "      <td>17.0</td>\n",
       "      <td>1</td>\n",
       "      <td>4.5</td>\n",
       "      <td>Toy Story (1995)</td>\n",
       "      <td>adventure|animation|children|comedy|fantasy</td>\n",
       "      <td>[adventure, animation, children, comedy, fantasy]</td>\n",
       "    </tr>\n",
       "  </tbody>\n",
       "</table>\n",
       "</div>"
      ],
      "text/plain": [
       "   userId  movieId  rating             title  \\\n",
       "0     1.0        1     4.0  Toy Story (1995)   \n",
       "1     5.0        1     4.0  Toy Story (1995)   \n",
       "2     7.0        1     4.5  Toy Story (1995)   \n",
       "3    15.0        1     2.5  Toy Story (1995)   \n",
       "4    17.0        1     4.5  Toy Story (1995)   \n",
       "\n",
       "                                        genres  \\\n",
       "0  adventure|animation|children|comedy|fantasy   \n",
       "1  adventure|animation|children|comedy|fantasy   \n",
       "2  adventure|animation|children|comedy|fantasy   \n",
       "3  adventure|animation|children|comedy|fantasy   \n",
       "4  adventure|animation|children|comedy|fantasy   \n",
       "\n",
       "                                        split_genres  \n",
       "0  [adventure, animation, children, comedy, fantasy]  \n",
       "1  [adventure, animation, children, comedy, fantasy]  \n",
       "2  [adventure, animation, children, comedy, fantasy]  \n",
       "3  [adventure, animation, children, comedy, fantasy]  \n",
       "4  [adventure, animation, children, comedy, fantasy]  "
      ]
     },
     "execution_count": 48,
     "metadata": {},
     "output_type": "execute_result"
    }
   ],
   "source": [
    "merged_df.head()"
   ]
  },
  {
   "cell_type": "code",
   "execution_count": 49,
   "metadata": {
    "ExecuteTime": {
     "end_time": "2023-01-25T15:02:53.208725Z",
     "start_time": "2023-01-25T15:02:53.191696Z"
    }
   },
   "outputs": [],
   "source": [
    "new_user_df = merged_df.copy()\n",
    "new_user_df['username'] = np.nan\n",
    "new_user_df['password'] = np.nan"
   ]
  },
  {
   "cell_type": "code",
   "execution_count": 50,
   "metadata": {
    "ExecuteTime": {
     "end_time": "2023-01-25T15:02:53.581975Z",
     "start_time": "2023-01-25T15:02:53.570026Z"
    }
   },
   "outputs": [
    {
     "data": {
      "text/html": [
       "<div>\n",
       "<style scoped>\n",
       "    .dataframe tbody tr th:only-of-type {\n",
       "        vertical-align: middle;\n",
       "    }\n",
       "\n",
       "    .dataframe tbody tr th {\n",
       "        vertical-align: top;\n",
       "    }\n",
       "\n",
       "    .dataframe thead th {\n",
       "        text-align: right;\n",
       "    }\n",
       "</style>\n",
       "<table border=\"1\" class=\"dataframe\">\n",
       "  <thead>\n",
       "    <tr style=\"text-align: right;\">\n",
       "      <th></th>\n",
       "      <th>userId</th>\n",
       "      <th>movieId</th>\n",
       "      <th>rating</th>\n",
       "      <th>title</th>\n",
       "      <th>genres</th>\n",
       "      <th>split_genres</th>\n",
       "      <th>username</th>\n",
       "      <th>password</th>\n",
       "    </tr>\n",
       "  </thead>\n",
       "  <tbody>\n",
       "    <tr>\n",
       "      <th>100831</th>\n",
       "      <td>610.0</td>\n",
       "      <td>160341</td>\n",
       "      <td>2.5</td>\n",
       "      <td>Bloodmoon (1997)</td>\n",
       "      <td>action|thriller</td>\n",
       "      <td>[action, thriller]</td>\n",
       "      <td>NaN</td>\n",
       "      <td>NaN</td>\n",
       "    </tr>\n",
       "    <tr>\n",
       "      <th>100832</th>\n",
       "      <td>610.0</td>\n",
       "      <td>160527</td>\n",
       "      <td>4.5</td>\n",
       "      <td>Sympathy for the Underdog (1971)</td>\n",
       "      <td>action|crime|drama</td>\n",
       "      <td>[action, crime, drama]</td>\n",
       "      <td>NaN</td>\n",
       "      <td>NaN</td>\n",
       "    </tr>\n",
       "    <tr>\n",
       "      <th>100833</th>\n",
       "      <td>610.0</td>\n",
       "      <td>160836</td>\n",
       "      <td>3.0</td>\n",
       "      <td>Hazard (2005)</td>\n",
       "      <td>action|drama|thriller</td>\n",
       "      <td>[action, drama, thriller]</td>\n",
       "      <td>NaN</td>\n",
       "      <td>NaN</td>\n",
       "    </tr>\n",
       "    <tr>\n",
       "      <th>100834</th>\n",
       "      <td>610.0</td>\n",
       "      <td>163937</td>\n",
       "      <td>3.5</td>\n",
       "      <td>Blair Witch (2016)</td>\n",
       "      <td>horror|thriller</td>\n",
       "      <td>[horror, thriller]</td>\n",
       "      <td>NaN</td>\n",
       "      <td>NaN</td>\n",
       "    </tr>\n",
       "    <tr>\n",
       "      <th>100835</th>\n",
       "      <td>610.0</td>\n",
       "      <td>163981</td>\n",
       "      <td>3.5</td>\n",
       "      <td>31 (2016)</td>\n",
       "      <td>horror</td>\n",
       "      <td>[horror]</td>\n",
       "      <td>NaN</td>\n",
       "      <td>NaN</td>\n",
       "    </tr>\n",
       "  </tbody>\n",
       "</table>\n",
       "</div>"
      ],
      "text/plain": [
       "        userId  movieId  rating                             title  \\\n",
       "100831   610.0   160341     2.5                  Bloodmoon (1997)   \n",
       "100832   610.0   160527     4.5  Sympathy for the Underdog (1971)   \n",
       "100833   610.0   160836     3.0                     Hazard (2005)   \n",
       "100834   610.0   163937     3.5                Blair Witch (2016)   \n",
       "100835   610.0   163981     3.5                         31 (2016)   \n",
       "\n",
       "                       genres               split_genres  username  password  \n",
       "100831        action|thriller         [action, thriller]       NaN       NaN  \n",
       "100832     action|crime|drama     [action, crime, drama]       NaN       NaN  \n",
       "100833  action|drama|thriller  [action, drama, thriller]       NaN       NaN  \n",
       "100834        horror|thriller         [horror, thriller]       NaN       NaN  \n",
       "100835                 horror                   [horror]       NaN       NaN  "
      ]
     },
     "execution_count": 50,
     "metadata": {},
     "output_type": "execute_result"
    }
   ],
   "source": [
    "new_user_df.tail()"
   ]
  },
  {
   "cell_type": "code",
   "execution_count": 51,
   "metadata": {
    "ExecuteTime": {
     "end_time": "2023-01-25T15:02:53.999037Z",
     "start_time": "2023-01-25T15:02:53.991307Z"
    }
   },
   "outputs": [],
   "source": [
    "test_user = {'userId':611, \n",
    "             'movieId':1, \n",
    "             'rating':5, \n",
    "             'title': 'Toy Story (1995)', \n",
    "             'genres': 'Adventure|Animation|Children|Comedy|Fantasy', \n",
    "             'username': 'test_user', \n",
    "             'password': 'test_user'}"
   ]
  },
  {
   "cell_type": "code",
   "execution_count": 52,
   "metadata": {
    "ExecuteTime": {
     "end_time": "2023-01-25T15:02:54.231977Z",
     "start_time": "2023-01-25T15:02:54.218204Z"
    }
   },
   "outputs": [
    {
     "data": {
      "text/html": [
       "<div>\n",
       "<style scoped>\n",
       "    .dataframe tbody tr th:only-of-type {\n",
       "        vertical-align: middle;\n",
       "    }\n",
       "\n",
       "    .dataframe tbody tr th {\n",
       "        vertical-align: top;\n",
       "    }\n",
       "\n",
       "    .dataframe thead th {\n",
       "        text-align: right;\n",
       "    }\n",
       "</style>\n",
       "<table border=\"1\" class=\"dataframe\">\n",
       "  <thead>\n",
       "    <tr style=\"text-align: right;\">\n",
       "      <th></th>\n",
       "      <th>userId</th>\n",
       "      <th>movieId</th>\n",
       "      <th>rating</th>\n",
       "      <th>title</th>\n",
       "      <th>genres</th>\n",
       "      <th>split_genres</th>\n",
       "      <th>username</th>\n",
       "      <th>password</th>\n",
       "    </tr>\n",
       "  </thead>\n",
       "  <tbody>\n",
       "    <tr>\n",
       "      <th>100832</th>\n",
       "      <td>610.0</td>\n",
       "      <td>160527</td>\n",
       "      <td>4.5</td>\n",
       "      <td>Sympathy for the Underdog (1971)</td>\n",
       "      <td>action|crime|drama</td>\n",
       "      <td>[action, crime, drama]</td>\n",
       "      <td>NaN</td>\n",
       "      <td>NaN</td>\n",
       "    </tr>\n",
       "    <tr>\n",
       "      <th>100833</th>\n",
       "      <td>610.0</td>\n",
       "      <td>160836</td>\n",
       "      <td>3.0</td>\n",
       "      <td>Hazard (2005)</td>\n",
       "      <td>action|drama|thriller</td>\n",
       "      <td>[action, drama, thriller]</td>\n",
       "      <td>NaN</td>\n",
       "      <td>NaN</td>\n",
       "    </tr>\n",
       "    <tr>\n",
       "      <th>100834</th>\n",
       "      <td>610.0</td>\n",
       "      <td>163937</td>\n",
       "      <td>3.5</td>\n",
       "      <td>Blair Witch (2016)</td>\n",
       "      <td>horror|thriller</td>\n",
       "      <td>[horror, thriller]</td>\n",
       "      <td>NaN</td>\n",
       "      <td>NaN</td>\n",
       "    </tr>\n",
       "    <tr>\n",
       "      <th>100835</th>\n",
       "      <td>610.0</td>\n",
       "      <td>163981</td>\n",
       "      <td>3.5</td>\n",
       "      <td>31 (2016)</td>\n",
       "      <td>horror</td>\n",
       "      <td>[horror]</td>\n",
       "      <td>NaN</td>\n",
       "      <td>NaN</td>\n",
       "    </tr>\n",
       "    <tr>\n",
       "      <th>100836</th>\n",
       "      <td>611.0</td>\n",
       "      <td>1</td>\n",
       "      <td>5.0</td>\n",
       "      <td>Toy Story (1995)</td>\n",
       "      <td>Adventure|Animation|Children|Comedy|Fantasy</td>\n",
       "      <td>NaN</td>\n",
       "      <td>test_user</td>\n",
       "      <td>test_user</td>\n",
       "    </tr>\n",
       "  </tbody>\n",
       "</table>\n",
       "</div>"
      ],
      "text/plain": [
       "        userId  movieId  rating                             title  \\\n",
       "100832   610.0   160527     4.5  Sympathy for the Underdog (1971)   \n",
       "100833   610.0   160836     3.0                     Hazard (2005)   \n",
       "100834   610.0   163937     3.5                Blair Witch (2016)   \n",
       "100835   610.0   163981     3.5                         31 (2016)   \n",
       "100836   611.0        1     5.0                  Toy Story (1995)   \n",
       "\n",
       "                                             genres  \\\n",
       "100832                           action|crime|drama   \n",
       "100833                        action|drama|thriller   \n",
       "100834                              horror|thriller   \n",
       "100835                                       horror   \n",
       "100836  Adventure|Animation|Children|Comedy|Fantasy   \n",
       "\n",
       "                     split_genres   username   password  \n",
       "100832     [action, crime, drama]        NaN        NaN  \n",
       "100833  [action, drama, thriller]        NaN        NaN  \n",
       "100834         [horror, thriller]        NaN        NaN  \n",
       "100835                   [horror]        NaN        NaN  \n",
       "100836                        NaN  test_user  test_user  "
      ]
     },
     "execution_count": 52,
     "metadata": {},
     "output_type": "execute_result"
    }
   ],
   "source": [
    "new_user_df = new_user_df.append(test_user, ignore_index=True)\n",
    "new_user_df.tail()"
   ]
  },
  {
   "cell_type": "code",
   "execution_count": 53,
   "metadata": {
    "ExecuteTime": {
     "end_time": "2023-01-25T15:02:54.699366Z",
     "start_time": "2023-01-25T15:02:54.688431Z"
    }
   },
   "outputs": [],
   "source": [
    "# def new_user():\n",
    "#     # creating a while loop so that the program runs until everything is satisfied\n",
    "#     new_user_cleared = False\n",
    "#     while new_user_cleared is False:\n",
    "#         # checking if new user or not\n",
    "#         answer = input(\"(Type 'quit' at any time to exit.) \\n\\nAre you a new user? (yes/no): \")\n",
    "#         new_user_cleared = False\n",
    "#         # this section is for new users\n",
    "#         if answer == 'yes':\n",
    "#             ok_to_move_on = False\n",
    "#             while ok_to_move_on is False:\n",
    "#                 # creating a new userId based on the last one available\n",
    "#                 new_user_id = (new_user_df['userId'].max() + 1)\n",
    "#                 # asking for them to create a username\n",
    "#                 username = input('Please enter a unique username: ')\n",
    "#                 # letting them quit the program if they want to stop\n",
    "#                 if username == 'quit':\n",
    "#                     print('Thank you. Closing the program.')\n",
    "#                     user_id = np.NaN\n",
    "#                     username = np.NaN\n",
    "#                     password = np.NaN\n",
    "#                     new_user_cleared = True\n",
    "#                     ok_to_move_on = True\n",
    "#                     break\n",
    "#                 else:\n",
    "#                     # Checking the list of usernames to see if its available\n",
    "#                     user_check = len(new_user_df[new_user_df['username'] == username]) <1\n",
    "#                     if user_check:\n",
    "#                         # having them make a new password\n",
    "#                         password = input('Please enter a password: ')\n",
    "#                         # letting them quit the program if they want to stop\n",
    "#                         if password == 'quit':\n",
    "#                             print('Thank you. Closing the program.')\n",
    "#                             user_id = np.NaN\n",
    "#                             username = np.NaN\n",
    "#                             password = np.NaN\n",
    "#                             new_user_cleared = True\n",
    "#                             ok_to_move_on = True\n",
    "#                             break\n",
    "#                         else:\n",
    "#                             # creating a new account with user input username and password\n",
    "#                             ok_to_move_on = True\n",
    "#                             new_user_cleared = True\n",
    "#                             print('\\nWelcome! Your new account is created...\\n')\n",
    "#                             user_id = new_user_id\n",
    "#                     else:\n",
    "#                         # returns them to make a new username if the name isnt available\n",
    "#                         print('Sorry, that name is taken.')\n",
    "#         # this section is for existing users    \n",
    "#         elif answer == 'no':\n",
    "#             ok_to_move_on = False\n",
    "#             while ok_to_move_on is False:\n",
    "#                 username = input('Please enter your username: ')\n",
    "#                 # letting them quit the program if they want to stop\n",
    "#                 if username == 'quit':\n",
    "#                     print('Thank you. Closing the program.')\n",
    "#                     user_id = np.NaN\n",
    "#                     username = np.NaN\n",
    "#                     password = np.NaN\n",
    "#                     new_user_cleared = True\n",
    "#                     ok_to_move_on = True\n",
    "#                     break\n",
    "#                 else:\n",
    "#                     # checking to make sure username is in the list of active users\n",
    "#                     user_check = new_user_df[new_user_df['username'] == username]['username'] == username\n",
    "#                     if len(user_check.values !=0):\n",
    "#                         password = input('Please enter your password: ')\n",
    "#                         # letting them quit the program if they want to stop\n",
    "#                         if password == 'quit':\n",
    "#                             print('Thank you. Closing the program.')\n",
    "#                             user_id = np.NaN\n",
    "#                             username = np.NaN\n",
    "#                             password = np.NaN\n",
    "#                             new_user_cleared = True\n",
    "#                             ok_to_move_on = True\n",
    "#                             break\n",
    "#                         else:\n",
    "#                             # checking password match with username\n",
    "#                             password_check = new_user_df[(new_user_df['username'] == username) & (new_user_df['password'] == password)]['password'] == password\n",
    "#                             if len(password_check.values) !=0:\n",
    "#                                 user_id = new_user_df[(new_user_df['username'] == username) & (new_user_df['password'] == password)]['userId']\n",
    "#                                 user_id = user_id.values[0]\n",
    "#                                 print('...\\n...\\nLog-in Successful.')\n",
    "#                                 ok_to_move_on = True\n",
    "#                                 new_user_cleared = True\n",
    "#                             else:\n",
    "#                                 # letting them know that there is no username password match\n",
    "#                                 print('Sorry, that username and password is not in the system.')\n",
    "#                     else:\n",
    "#                         # letting them know that there is no username with that name in the system\n",
    "#                         print('Sorry, that username is not in the system.')\n",
    "#         # letting the user quit if they want to stop the program\n",
    "#         elif answer == 'quit':\n",
    "#             print('Thank you. Closing the program.')\n",
    "#             user_id = np.NaN\n",
    "#             username = np.NaN\n",
    "#             password = np.NaN\n",
    "#             break\n",
    "            \n",
    "#         elif new_user_cleared == True:\n",
    "#             break\n",
    "#         else:\n",
    "#             # message if a user tries to enter anything but yes or no\n",
    "#             print('Invalid entry. Please enter (yes/no).\\n')\n",
    "          \n",
    "#     if user_id:\n",
    "        \n",
    "#         return user_id, username, password"
   ]
  },
  {
   "cell_type": "code",
   "execution_count": 54,
   "metadata": {
    "ExecuteTime": {
     "end_time": "2023-01-25T15:02:56.295286Z",
     "start_time": "2023-01-25T15:02:56.280764Z"
    },
    "scrolled": false
   },
   "outputs": [],
   "source": [
    "# u_id, u_name, p_word = new_user()"
   ]
  },
  {
   "cell_type": "code",
   "execution_count": 55,
   "metadata": {
    "ExecuteTime": {
     "end_time": "2023-01-25T15:02:56.542582Z",
     "start_time": "2023-01-25T15:02:56.504239Z"
    }
   },
   "outputs": [],
   "source": [
    "# # creating a dataframe of the top 100 movies by review count\n",
    "# top_500 = new_user_df.groupby('movieId').count().sort_values('userId', ascending=False).head(500)\n",
    "# top_500 = top_500.reset_index()[['movieId']]"
   ]
  },
  {
   "cell_type": "code",
   "execution_count": 56,
   "metadata": {
    "ExecuteTime": {
     "end_time": "2023-01-25T15:02:56.731736Z",
     "start_time": "2023-01-25T15:02:56.712713Z"
    }
   },
   "outputs": [],
   "source": [
    "# # adding in the movie title and genre\n",
    "# top_500 = top_500.merge(movies_df, on='movieId', how='left')\n",
    "# top_500.head()"
   ]
  },
  {
   "cell_type": "code",
   "execution_count": 57,
   "metadata": {
    "ExecuteTime": {
     "end_time": "2023-01-25T15:02:57.196690Z",
     "start_time": "2023-01-25T15:02:57.176623Z"
    }
   },
   "outputs": [],
   "source": [
    "# #  Newest one to coordinate better with other function\n",
    "\n",
    "\n",
    "# def movie_recs(user_id, username, password, main_df = new_user_df):\n",
    "#     # Setting the base rating at zero\n",
    "#     rating = 0\n",
    "#     # creating a new DF to hold the temp ratings\n",
    "#     current_session_df = pd.DataFrame()\n",
    "#     # whether or not its ok to quit the recommend prompt loop\n",
    "#     ok_to_quit = False\n",
    "\n",
    "#     # the loop to make recommendations\n",
    "#     while ok_to_quit is False:\n",
    "#         # prints message if they have less than 5 ratings\n",
    "#         if len(main_df[main_df['userId'] == user_id]) < 5:\n",
    "#             print(\"You need at least 5 reviews before we can make recommendations.\")\n",
    "#         else:\n",
    "#             print('You are now ready to make additional recommendations.')\n",
    "#         # setting a loop to keep sampling if the sample is already in the main df or in the temp df\n",
    "#         ok_to_move_on = False\n",
    "#         while ok_to_move_on is False:\n",
    "#             # pulling sample from most rated moves\n",
    "#             movie_review = top_500.sample()\n",
    "#             movie_check = movie_review['movieId'].values\n",
    "#             # checking length of df to see if its been filled yet\n",
    "#             # ensuring movie has not already been rated\n",
    "#             if len(current_session_df) != 0:\n",
    "#                 if movie_check not in main_df[main_df['userId'] == \n",
    "#                                                   user_id]['movieId'].values and\\\n",
    "#                 movie_check not in current_session_df['movieId'].values:\n",
    "#                     ok_to_move_on = True\n",
    "#                 # resample if already rated\n",
    "#                 else:\n",
    "#                     continue\n",
    "#             else:\n",
    "#                 # ensuring movie has not already been rated\n",
    "#                 if movie_check not in main_df[main_df['userId'] == \n",
    "#                                                   user_id]['movieId'].values:\n",
    "#                     ok_to_move_on = True\n",
    "#                 else:\n",
    "#                     # resample if already rated\n",
    "#                     continue\n",
    "#         # creating a loop to ensure that user provides a valid rating\n",
    "#         while rating not in range(1,6):\n",
    "#             # creating a dictionary to store rating info that will be appended to df\n",
    "#             rating_dict = {'userId':user_id, \n",
    "#                        'movieId': np.nan, \n",
    "#                        'rating': np.nan, \n",
    "#                        'title': np.nan, \n",
    "#                        'genres': np.nan, \n",
    "#                        'username': username, \n",
    "#                        'password': password}\n",
    "#             print(f\"\\n(Type 'quit' to stop rating movies.) \\n\")\n",
    "#             # telling user how to rate\n",
    "#             print(f'Please rate the movie 1-5. If you have not seen the movie, type \"n\" to skip: \\n')\n",
    "#             # giving user movie info\n",
    "#             print(f\"{movie_review['title'].values}\")\n",
    "#             rating = input('Rating: \\n')\n",
    "#             # letting the user quit if they dont want to rate\n",
    "#             if rating == 'quit':\n",
    "#                 print('\\n\\nThank you for ranking movies.')\n",
    "#                 # checking to see if the user made any ratings during this session\n",
    "#                 if len(current_session_df) != 0:\n",
    "#                     print('Here are the results of your ranking session:')\n",
    "#                     # showing the user the ratings they made\n",
    "#                     print(current_session_df[['title', 'rating']])\n",
    "#                     # checking if user wants to save ratings\n",
    "#                     submit_ratings = input('\\nWould you like to save these ratings to your profile? (yes/quit): ')\n",
    "#                     if submit_ratings == 'yes':\n",
    "#                         # saving ratings to main database and closing program\n",
    "#                         temp_df = main_df.append(current_session_df, ignore_index=True)\n",
    "#                         ok_to_quit = True\n",
    "#                         ok_to_move_on = True\n",
    "#                         to_return = True\n",
    "#                         print('\\nThank you. Your results have been saved to the main system!')\n",
    "#                         break\n",
    "#                     elif submit_ratings == 'quit':\n",
    "#                         # not saving ratings to main database and closing program\n",
    "#                         rating = 10\n",
    "#                         ok_to_move_on = True\n",
    "#                         to_return = False\n",
    "#                         ok_to_quit = True\n",
    "#                         print('Thank you for trying the movie recommendor system.')\n",
    "#                         print('Your results have not been saved.')\n",
    "#                         break\n",
    "#                     else:\n",
    "#                         # user did not enter a valid input to save or quit\n",
    "#                         print('That is not a valid input. Please Try again.')\n",
    "#                 else:\n",
    "#                     # quitting the program without saving anything if dataframe is empty\n",
    "#                     print('Program is now closing.')\n",
    "#                     ok_to_move_on = True\n",
    "#                     rating = 10\n",
    "#                     to_return = False\n",
    "#                     ok_to_quit = True\n",
    "#                     break\n",
    "#             # letting user skip a movie review if they havent seen it\n",
    "#             elif rating == 'n':\n",
    "#                 print('\\n')\n",
    "#                 break\n",
    "\n",
    "#             else:\n",
    "#                 try:\n",
    "#                     # trying to convert rating input to float\n",
    "#                     rating = float(rating)\n",
    "#                     if rating not in range(1,6):\n",
    "#                         # letting user know that they need to use 1-5\n",
    "#                         print('That is not a valid rating, please enter a value 1-5:')\n",
    "#                         continue\n",
    "#                     else:\n",
    "#                         # saving user rating to temp df \n",
    "#                         rating_dict['movieId'] = movie_review['movieId'].values[0]\n",
    "#                         rating_dict['rating'] = rating\n",
    "#                         rating_dict['title'] = movie_review['title'].values[0]\n",
    "#                         rating_dict['genres'] = movie_review['genres'].values[0]\n",
    "#                         current_session_df = current_session_df.append(rating_dict, ignore_index=True)\n",
    "#                         rating = 0\n",
    "#                         ok_to_move_on = False\n",
    "#                         print('Saving rating to temporary memory...\\n\\n')\n",
    "#                         break\n",
    "#                 except:\n",
    "#                     # user tried to enter something other than 1-5, 'n', or 'quit'\n",
    "#                     print('That is not a valid rating, please enter a value 1-5:')\n",
    "    \n",
    "#     # returns dataframe if they made changes to it, otherwise closes with no changes\n",
    "#     if to_return:\n",
    "# #         new_user_df = main_df\n",
    "#         return temp_df"
   ]
  },
  {
   "cell_type": "code",
   "execution_count": 58,
   "metadata": {
    "ExecuteTime": {
     "end_time": "2023-01-25T15:30:12.725688Z",
     "start_time": "2023-01-25T15:30:12.720178Z"
    }
   },
   "outputs": [],
   "source": [
    "# def check_for_recs(user_id, username, password, main_df= new_user_df):\n",
    "#     if len(main_df[main_df['userId'] == user_id]) < 5:\n",
    "#         temp_df = movie_recs(user_id, username, password, main_df)\n",
    "#     else:\n",
    "#         make_more_recs = input('Would you like to make more recommendations? (yes/no): ')\n",
    "#         if make_more_recs == 'yes':\n",
    "#             temp_df = movie_recs(user_id, username, password, main_df)\n",
    "#         elif make_more_recs == 'no':\n",
    "#             pass\n",
    "#         else:\n",
    "#             print('You did not make a valid selection.')\n",
    "           \n",
    "       \n",
    "#     return temp_df"
   ]
  },
  {
   "cell_type": "code",
   "execution_count": 59,
   "metadata": {
    "ExecuteTime": {
     "end_time": "2023-01-25T15:30:15.188329Z",
     "start_time": "2023-01-25T15:30:15.176305Z"
    }
   },
   "outputs": [],
   "source": [
    "# # old start program, replaced later on in notebook.\n",
    "# # will delate this once confirmed no bugs in new one\n",
    "\n",
    "# def start_program():\n",
    "#     user_id, username, password = new_user()\n",
    "    \n",
    "#     if user_id is not np.NaN:    \n",
    "#         temp_df = check_for_recs(user_id, username, password)\n",
    "    \n",
    "#         return temp_df\n",
    "#     else:\n",
    "#         print('Program was terminated.')"
   ]
  },
  {
   "cell_type": "code",
   "execution_count": 60,
   "metadata": {
    "ExecuteTime": {
     "end_time": "2023-01-25T15:30:34.965959Z",
     "start_time": "2023-01-25T15:30:19.671002Z"
    },
    "scrolled": false
   },
   "outputs": [
    {
     "name": "stdout",
     "output_type": "stream",
     "text": [
      "(Type 'quit' at any time to exit.) \n",
      "\n",
      "Are you a new user? (yes/no): yes\n",
      "Please enter a unique username: test\n",
      "Please enter a password: test\n",
      "\n",
      "Welcome! Your new account is created...\n",
      "\n",
      "You need at least 5 reviews before we can make recommendations.\n",
      "\n",
      "(Type 'quit' to stop rating movies.) \n",
      "\n",
      "Please rate the movie 1-5. If you have not seen the movie, type \"n\" to skip: \n",
      "\n",
      "['Romancing the Stone (1984)']\n",
      "Rating: \n",
      "5\n",
      "Saving rating to temporary memory...\n",
      "\n",
      "\n",
      "You need at least 5 reviews before we can make recommendations.\n",
      "\n",
      "(Type 'quit' to stop rating movies.) \n",
      "\n",
      "Please rate the movie 1-5. If you have not seen the movie, type \"n\" to skip: \n",
      "\n",
      "['Back to the Future Part III (1990)']\n",
      "Rating: \n",
      "4\n",
      "Saving rating to temporary memory...\n",
      "\n",
      "\n",
      "You need at least 5 reviews before we can make recommendations.\n",
      "\n",
      "(Type 'quit' to stop rating movies.) \n",
      "\n",
      "Please rate the movie 1-5. If you have not seen the movie, type \"n\" to skip: \n",
      "\n",
      "['Die Hard: With a Vengeance (1995)']\n",
      "Rating: \n",
      "3\n",
      "Saving rating to temporary memory...\n",
      "\n",
      "\n",
      "You need at least 5 reviews before we can make recommendations.\n",
      "\n",
      "(Type 'quit' to stop rating movies.) \n",
      "\n",
      "Please rate the movie 1-5. If you have not seen the movie, type \"n\" to skip: \n",
      "\n",
      "['Scream (1996)']\n",
      "Rating: \n",
      "2\n",
      "Saving rating to temporary memory...\n",
      "\n",
      "\n",
      "You need at least 5 reviews before we can make recommendations.\n",
      "\n",
      "(Type 'quit' to stop rating movies.) \n",
      "\n",
      "Please rate the movie 1-5. If you have not seen the movie, type \"n\" to skip: \n",
      "\n",
      "['Harry Potter and the Goblet of Fire (2005)']\n",
      "Rating: \n",
      "1\n",
      "Saving rating to temporary memory...\n",
      "\n",
      "\n",
      "You need at least 5 reviews before we can make recommendations.\n",
      "\n",
      "(Type 'quit' to stop rating movies.) \n",
      "\n",
      "Please rate the movie 1-5. If you have not seen the movie, type \"n\" to skip: \n",
      "\n",
      "['Army of Darkness (1993)']\n",
      "Rating: \n",
      "5\n",
      "Saving rating to temporary memory...\n",
      "\n",
      "\n",
      "You need at least 5 reviews before we can make recommendations.\n",
      "\n",
      "(Type 'quit' to stop rating movies.) \n",
      "\n",
      "Please rate the movie 1-5. If you have not seen the movie, type \"n\" to skip: \n",
      "\n",
      "[\"Charlie's Angels (2000)\"]\n",
      "Rating: \n",
      "quit\n",
      "\n",
      "\n",
      "Thank you for ranking movies.\n",
      "Here are the results of your ranking session:\n",
      "                                        title  rating\n",
      "0                  Romancing the Stone (1984)     5.0\n",
      "1          Back to the Future Part III (1990)     4.0\n",
      "2           Die Hard: With a Vengeance (1995)     3.0\n",
      "3                               Scream (1996)     2.0\n",
      "4  Harry Potter and the Goblet of Fire (2005)     1.0\n",
      "5                     Army of Darkness (1993)     5.0\n",
      "\n",
      "Would you like to save these ratings to your profile? (yes/quit): yes\n",
      "\n",
      "Thank you. Your results have been saved to the main system!\n",
      "(Enter 'quit' at any time to end the program.)\n",
      "Would you like to retrieve your recommendations? (yes/no): yes\n",
      "Would you like recommendations from a specific genre? (yes/no): yes\n",
      "Compiling your recommendations...\n",
      "Please select from the following list:\n",
      "\t- romance \n",
      "\t- fantasy \n",
      "\t- mystery \n",
      "\t- children \n",
      "\t- war \n",
      "\t- comedy \n",
      "\t- documentary \n",
      "\t- film-noir \n",
      "\t- thriller \n",
      "\t- action \n",
      "\t- sci-fi \n",
      "\t- drama \n",
      "\t- horror \n",
      "\t- crime \n",
      "\t- imax \n",
      "\t- animation \n",
      "\t- adventure \n",
      "\t- musical \n",
      "\t- western\n",
      "Selection: comedy\n",
      "Searching through specified genre...\n",
      "How many recommendations would you like? (1-50): 101\n",
      "You did not select a valid response.\n",
      "Would you like to retrieve your recommendations? (yes/no): yes\n",
      "Would you like recommendations from a specific genre? (yes/no): yes\n",
      "Compiling your recommendations...\n",
      "Please select from the following list:\n",
      "\t- romance \n",
      "\t- fantasy \n",
      "\t- mystery \n",
      "\t- children \n",
      "\t- war \n",
      "\t- comedy \n",
      "\t- documentary \n",
      "\t- film-noir \n",
      "\t- thriller \n",
      "\t- action \n",
      "\t- sci-fi \n",
      "\t- drama \n",
      "\t- horror \n",
      "\t- crime \n",
      "\t- imax \n",
      "\t- animation \n",
      "\t- adventure \n",
      "\t- musical \n",
      "\t- western\n",
      "Selection: comedy\n",
      "Searching through specified genre...\n",
      "How many recommendations would you like? (1-50): 10\n",
      "Processing request...\n",
      "                                                title  predicted rating\n",
      "3   Dr. Strangelove or: How I Learned to Stop Worr...          4.288998\n",
      "7                          Princess Bride, The (1987)          4.229961\n",
      "15             Monty Python and the Holy Grail (1975)          4.194925\n",
      "24                                      Snatch (2000)          4.168407\n",
      "29                                Forrest Gump (1994)          4.160467\n",
      "31                                       Fargo (1996)          4.149142\n",
      "34                                Pulp Fiction (1994)          4.147963\n",
      "36  Amelie (Fabuleux destin d'Amélie Poulain, Le) ...          4.131930\n",
      "42                     Philadelphia Story, The (1940)          4.112210\n",
      "44         Life Is Beautiful (La Vita è bella) (1997)          4.102493\n",
      "Would you like to retrieve your recommendations? (yes/no): yes\n",
      "Would you like recommendations from a specific genre? (yes/no): yes\n",
      "Compiling your recommendations...\n",
      "Please select from the following list:\n",
      "\t- romance \n",
      "\t- fantasy \n",
      "\t- mystery \n",
      "\t- children \n",
      "\t- war \n",
      "\t- comedy \n",
      "\t- documentary \n",
      "\t- film-noir \n",
      "\t- thriller \n",
      "\t- action \n",
      "\t- sci-fi \n",
      "\t- drama \n",
      "\t- horror \n",
      "\t- crime \n",
      "\t- imax \n",
      "\t- animation \n",
      "\t- adventure \n",
      "\t- musical \n",
      "\t- western\n",
      "Selection: film-noir\n",
      "Searching through specified genre...\n",
      "How many recommendations would you like? (1-50): 10\n",
      "Processing request...\n",
      "                                             title  predicted rating\n",
      "57                                Chinatown (1974)          4.085929\n",
      "69   Sunset Blvd. (a.k.a. Sunset Boulevard) (1950)          4.071904\n",
      "75                      Maltese Falcon, The (1941)          4.063191\n",
      "83                        L.A. Confidential (1997)          4.054644\n",
      "85                            Touch of Evil (1958)          4.053999\n",
      "98                        Miller's Crossing (1990)          4.036663\n",
      "153                               Notorious (1946)          3.977477\n",
      "185                          Third Man, The (1949)          3.960159\n",
      "259                            Blood Simple (1984)          3.914941\n",
      "300                                Sin City (2005)          3.895784\n",
      "Would you like to retrieve your recommendations? (yes/no): yes\n",
      "Would you like recommendations from a specific genre? (yes/no): yes\n",
      "Compiling your recommendations...\n",
      "Please select from the following list:\n",
      "\t- romance \n",
      "\t- fantasy \n",
      "\t- mystery \n",
      "\t- children \n",
      "\t- war \n",
      "\t- comedy \n",
      "\t- documentary \n",
      "\t- film-noir \n",
      "\t- thriller \n",
      "\t- action \n",
      "\t- sci-fi \n",
      "\t- drama \n",
      "\t- horror \n",
      "\t- crime \n",
      "\t- imax \n",
      "\t- animation \n",
      "\t- adventure \n",
      "\t- musical \n",
      "\t- western\n",
      "Selection: musical\n",
      "Searching through specified genre...\n",
      "How many recommendations would you like? (1-50): 10\n",
      "Processing request...\n",
      "                                           title  predicted rating\n",
      "73                    Singin' in the Rain (1952)          4.066218\n",
      "134                          Mary Poppins (1964)          3.994719\n",
      "178  South Park: Bigger, Longer and Uncut (1999)          3.964023\n",
      "193             Hedwig and the Angry Inch (2000)          3.953950\n",
      "198                        Lion King, The (1994)          3.947789\n",
      "211                   Sound of Music, The (1965)          3.938238\n",
      "219                          My Fair Lady (1964)          3.933462\n",
      "247                             Duck Soup (1933)          3.919677\n",
      "262                   Blues Brothers, The (1980)          3.914490\n",
      "270                         Walk the Line (2005)          3.910075\n",
      "Would you like to retrieve your recommendations? (yes/no): quir\n",
      "You did not select a valid response.\n",
      "Would you like to retrieve your recommendations? (yes/no): quir\n",
      "You did not select a valid response.\n",
      "Would you like to retrieve your recommendations? (yes/no): no\n",
      "Would you like to close the program? (yes/no): yes\n",
      "Thank you for using the recommendation system.\n",
      "Closing the program...\n"
     ]
    }
   ],
   "source": [
    "new_user_df = functions.start_program(new_user_df, movies_df, model=baseline)"
   ]
  },
  {
   "cell_type": "code",
   "execution_count": 61,
   "metadata": {
    "ExecuteTime": {
     "end_time": "2023-01-25T15:30:36.132246Z",
     "start_time": "2023-01-25T15:30:36.110780Z"
    }
   },
   "outputs": [
    {
     "data": {
      "text/html": [
       "<div>\n",
       "<style scoped>\n",
       "    .dataframe tbody tr th:only-of-type {\n",
       "        vertical-align: middle;\n",
       "    }\n",
       "\n",
       "    .dataframe tbody tr th {\n",
       "        vertical-align: top;\n",
       "    }\n",
       "\n",
       "    .dataframe thead th {\n",
       "        text-align: right;\n",
       "    }\n",
       "</style>\n",
       "<table border=\"1\" class=\"dataframe\">\n",
       "  <thead>\n",
       "    <tr style=\"text-align: right;\">\n",
       "      <th></th>\n",
       "      <th>userId</th>\n",
       "      <th>movieId</th>\n",
       "      <th>rating</th>\n",
       "      <th>title</th>\n",
       "      <th>genres</th>\n",
       "      <th>split_genres</th>\n",
       "      <th>username</th>\n",
       "      <th>password</th>\n",
       "    </tr>\n",
       "  </thead>\n",
       "  <tbody>\n",
       "    <tr>\n",
       "      <th>0</th>\n",
       "      <td>1.0</td>\n",
       "      <td>1.0</td>\n",
       "      <td>4.0</td>\n",
       "      <td>Toy Story (1995)</td>\n",
       "      <td>adventure|animation|children|comedy|fantasy</td>\n",
       "      <td>[adventure, animation, children, comedy, fantasy]</td>\n",
       "      <td>NaN</td>\n",
       "      <td>NaN</td>\n",
       "    </tr>\n",
       "    <tr>\n",
       "      <th>1</th>\n",
       "      <td>5.0</td>\n",
       "      <td>1.0</td>\n",
       "      <td>4.0</td>\n",
       "      <td>Toy Story (1995)</td>\n",
       "      <td>adventure|animation|children|comedy|fantasy</td>\n",
       "      <td>[adventure, animation, children, comedy, fantasy]</td>\n",
       "      <td>NaN</td>\n",
       "      <td>NaN</td>\n",
       "    </tr>\n",
       "    <tr>\n",
       "      <th>2</th>\n",
       "      <td>7.0</td>\n",
       "      <td>1.0</td>\n",
       "      <td>4.5</td>\n",
       "      <td>Toy Story (1995)</td>\n",
       "      <td>adventure|animation|children|comedy|fantasy</td>\n",
       "      <td>[adventure, animation, children, comedy, fantasy]</td>\n",
       "      <td>NaN</td>\n",
       "      <td>NaN</td>\n",
       "    </tr>\n",
       "    <tr>\n",
       "      <th>3</th>\n",
       "      <td>15.0</td>\n",
       "      <td>1.0</td>\n",
       "      <td>2.5</td>\n",
       "      <td>Toy Story (1995)</td>\n",
       "      <td>adventure|animation|children|comedy|fantasy</td>\n",
       "      <td>[adventure, animation, children, comedy, fantasy]</td>\n",
       "      <td>NaN</td>\n",
       "      <td>NaN</td>\n",
       "    </tr>\n",
       "    <tr>\n",
       "      <th>4</th>\n",
       "      <td>17.0</td>\n",
       "      <td>1.0</td>\n",
       "      <td>4.5</td>\n",
       "      <td>Toy Story (1995)</td>\n",
       "      <td>adventure|animation|children|comedy|fantasy</td>\n",
       "      <td>[adventure, animation, children, comedy, fantasy]</td>\n",
       "      <td>NaN</td>\n",
       "      <td>NaN</td>\n",
       "    </tr>\n",
       "    <tr>\n",
       "      <th>...</th>\n",
       "      <td>...</td>\n",
       "      <td>...</td>\n",
       "      <td>...</td>\n",
       "      <td>...</td>\n",
       "      <td>...</td>\n",
       "      <td>...</td>\n",
       "      <td>...</td>\n",
       "      <td>...</td>\n",
       "    </tr>\n",
       "    <tr>\n",
       "      <th>100838</th>\n",
       "      <td>612.0</td>\n",
       "      <td>2012.0</td>\n",
       "      <td>4.0</td>\n",
       "      <td>Back to the Future Part III (1990)</td>\n",
       "      <td>adventure|comedy|sci-fi|western</td>\n",
       "      <td>NaN</td>\n",
       "      <td>test</td>\n",
       "      <td>test</td>\n",
       "    </tr>\n",
       "    <tr>\n",
       "      <th>100839</th>\n",
       "      <td>612.0</td>\n",
       "      <td>165.0</td>\n",
       "      <td>3.0</td>\n",
       "      <td>Die Hard: With a Vengeance (1995)</td>\n",
       "      <td>action|crime|thriller</td>\n",
       "      <td>NaN</td>\n",
       "      <td>test</td>\n",
       "      <td>test</td>\n",
       "    </tr>\n",
       "    <tr>\n",
       "      <th>100840</th>\n",
       "      <td>612.0</td>\n",
       "      <td>1407.0</td>\n",
       "      <td>2.0</td>\n",
       "      <td>Scream (1996)</td>\n",
       "      <td>comedy|horror|mystery|thriller</td>\n",
       "      <td>NaN</td>\n",
       "      <td>test</td>\n",
       "      <td>test</td>\n",
       "    </tr>\n",
       "    <tr>\n",
       "      <th>100841</th>\n",
       "      <td>612.0</td>\n",
       "      <td>40815.0</td>\n",
       "      <td>1.0</td>\n",
       "      <td>Harry Potter and the Goblet of Fire (2005)</td>\n",
       "      <td>adventure|fantasy|thriller|imax</td>\n",
       "      <td>NaN</td>\n",
       "      <td>test</td>\n",
       "      <td>test</td>\n",
       "    </tr>\n",
       "    <tr>\n",
       "      <th>100842</th>\n",
       "      <td>612.0</td>\n",
       "      <td>1215.0</td>\n",
       "      <td>5.0</td>\n",
       "      <td>Army of Darkness (1993)</td>\n",
       "      <td>action|adventure|comedy|fantasy|horror</td>\n",
       "      <td>NaN</td>\n",
       "      <td>test</td>\n",
       "      <td>test</td>\n",
       "    </tr>\n",
       "  </tbody>\n",
       "</table>\n",
       "<p>100843 rows × 8 columns</p>\n",
       "</div>"
      ],
      "text/plain": [
       "        userId  movieId  rating                                       title  \\\n",
       "0          1.0      1.0     4.0                            Toy Story (1995)   \n",
       "1          5.0      1.0     4.0                            Toy Story (1995)   \n",
       "2          7.0      1.0     4.5                            Toy Story (1995)   \n",
       "3         15.0      1.0     2.5                            Toy Story (1995)   \n",
       "4         17.0      1.0     4.5                            Toy Story (1995)   \n",
       "...        ...      ...     ...                                         ...   \n",
       "100838   612.0   2012.0     4.0          Back to the Future Part III (1990)   \n",
       "100839   612.0    165.0     3.0           Die Hard: With a Vengeance (1995)   \n",
       "100840   612.0   1407.0     2.0                               Scream (1996)   \n",
       "100841   612.0  40815.0     1.0  Harry Potter and the Goblet of Fire (2005)   \n",
       "100842   612.0   1215.0     5.0                     Army of Darkness (1993)   \n",
       "\n",
       "                                             genres  \\\n",
       "0       adventure|animation|children|comedy|fantasy   \n",
       "1       adventure|animation|children|comedy|fantasy   \n",
       "2       adventure|animation|children|comedy|fantasy   \n",
       "3       adventure|animation|children|comedy|fantasy   \n",
       "4       adventure|animation|children|comedy|fantasy   \n",
       "...                                             ...   \n",
       "100838              adventure|comedy|sci-fi|western   \n",
       "100839                        action|crime|thriller   \n",
       "100840               comedy|horror|mystery|thriller   \n",
       "100841              adventure|fantasy|thriller|imax   \n",
       "100842       action|adventure|comedy|fantasy|horror   \n",
       "\n",
       "                                             split_genres username password  \n",
       "0       [adventure, animation, children, comedy, fantasy]      NaN      NaN  \n",
       "1       [adventure, animation, children, comedy, fantasy]      NaN      NaN  \n",
       "2       [adventure, animation, children, comedy, fantasy]      NaN      NaN  \n",
       "3       [adventure, animation, children, comedy, fantasy]      NaN      NaN  \n",
       "4       [adventure, animation, children, comedy, fantasy]      NaN      NaN  \n",
       "...                                                   ...      ...      ...  \n",
       "100838                                                NaN     test     test  \n",
       "100839                                                NaN     test     test  \n",
       "100840                                                NaN     test     test  \n",
       "100841                                                NaN     test     test  \n",
       "100842                                                NaN     test     test  \n",
       "\n",
       "[100843 rows x 8 columns]"
      ]
     },
     "execution_count": 61,
     "metadata": {},
     "output_type": "execute_result"
    }
   ],
   "source": [
    "new_user_df"
   ]
  },
  {
   "cell_type": "code",
   "execution_count": 62,
   "metadata": {
    "ExecuteTime": {
     "end_time": "2023-01-25T15:33:37.545725Z",
     "start_time": "2023-01-25T15:33:37.537531Z"
    }
   },
   "outputs": [],
   "source": [
    "# def make_rec(user_id, username, password, main_df = new_user_df):\n",
    "#     # list of all available genres\n",
    "#     genre_list = ['romance','fantasy','mystery','children','war','comedy',\n",
    "#                   'documentary','film-noir','thriller','action','sci-fi',\n",
    "#                   'drama','horror','crime','imax','animation','adventure',\n",
    "#                   'musical','western']\n",
    "#     # creating a while loop to keep the function opn\n",
    "#     keep_open = True\n",
    "#     print(\"(Enter 'quit' at any time to end the program.)\")\n",
    "#     while keep_open == True:\n",
    "#         # seeing if user wants to review their recs\n",
    "#         rec = input('Would you like to retrieve your recommendations? (yes/no): ')\n",
    "#         if rec == 'yes':\n",
    "#             # Does the user want to limit results by genre?\n",
    "#             genre = input('Would you like recommendations from a specific genre? (yes/no): ')\n",
    "#             print('Compiling your recommendations...')\n",
    "#             # letting the user stop the program if they want to quit\n",
    "#             if genre == 'quit':\n",
    "#                 print('Thank you for using the recommendation system.')\n",
    "#                 print('Closing the program...')\n",
    "#                 keep_open = False\n",
    "#                 break      \n",
    "#             # If the user wants to limit results by genre\n",
    "#             elif genre == 'yes':\n",
    "#                 print('Please select from the following list:')\n",
    "#                 print('\\t- romance','\\n\\t- fantasy','\\n\\t- mystery',\n",
    "#                       '\\n\\t- children','\\n\\t- war','\\n\\t- comedy',\n",
    "#                       '\\n\\t- documentary','\\n\\t- film-noir','\\n\\t- thriller',\n",
    "#                       '\\n\\t- action','\\n\\t- sci-fi','\\n\\t- drama','\\n\\t- horror',\n",
    "#                       '\\n\\t- crime','\\n\\t- imax','\\n\\t- animation','\\n\\t- adventure',\n",
    "#                       '\\n\\t- musical','\\n\\t- western')\n",
    "#                 # Letting the user input specific genre\n",
    "#                 genre_choice = input('Selection: ')\n",
    "#                 # letting the user quit if they want to stop the program\n",
    "#                 if genre_choice == 'quit':\n",
    "#                     print('Thank you for using the recommendation system.')\n",
    "#                     print('Closing the program...')\n",
    "#                     keep_open = False\n",
    "#                     break\n",
    "#                 # Running the model with specified genre    \n",
    "#                 elif genre_choice in genre_list:\n",
    "#                     print('Searching through specified genre...')\n",
    "#                     number_of_predictions = input('How many recommendations would you like? (1-50): ')\n",
    "#                     if number_of_predictions == 'quit':\n",
    "#                         print('Thank you for using the recommendation system.')\n",
    "#                         print('Closing the program...')\n",
    "#                         keep_open = False\n",
    "#                         break\n",
    "#                     else:\n",
    "#                         try:\n",
    "#                             number_of_predictions = int(number_of_predictions)\n",
    "#                             if number_of_predictions in list(range(1, 51)):\n",
    "#                                 print('Processing request...')\n",
    "#                                 rec_df = final_rec(user_id, genre=genre_choice, number_of_predictions=number_of_predictions)\n",
    "#                             else:\n",
    "#                                 print('You did not select a valid response.')\n",
    "#                         except:\n",
    "#                             print('error: You did not select a valid response.')\n",
    "#                 #telling the user that they didnt input valid response    \n",
    "#                 else:\n",
    "#                     print('You did not select a valid response.')\n",
    "#             # running model with all genres\n",
    "#             elif genre == 'no':\n",
    "#                 number_of_predictions = input('How many recommendations would you like? (1-50): ')\n",
    "#                 if number_of_predictions == 'quit':\n",
    "#                     print('Thank you for using the recommendation system.')\n",
    "#                     print('Closing the program...')\n",
    "#                     keep_open = False\n",
    "#                     break\n",
    "#                 else:\n",
    "#                     try:\n",
    "#                         number_of_predictions = int(number_of_predictions)\n",
    "#                         if number_of_predictions in list(range(1, 51)):\n",
    "#                             print('Processing request...')\n",
    "#                             rec_df = final_rec(user_id, number_of_predictions=number_of_predictions)\n",
    "#                         else:\n",
    "#                             print('You did not select a valid response.')\n",
    "#                     except:\n",
    "#                         print('error: You did not select a valid response.')\n",
    "#             else:\n",
    "#                 # user did not enter a valid response\n",
    "#                 print('You did not select a valid response.')\n",
    "            \n",
    "            \n",
    "#         # user does not want to receive recommendation now    \n",
    "#         elif rec == 'no':\n",
    "#             close_rec = input('Would you like to close the program? (yes/no): ')\n",
    "#             # closing recommendation\n",
    "#             if close_rec =='yes':\n",
    "#                 print('Thank you for using the recommendation system.')\n",
    "#                 print('Closing the program...')\n",
    "#                 keep_open = False\n",
    "#                 break\n",
    "#             # resetting so the user can get a rec if they want\n",
    "#             elif close_rec == 'no':\n",
    "#                 continue\n",
    "#             #user did not input valid response\n",
    "#             else:\n",
    "#                 print('You did not select a valid response.')\n",
    "#         # letting user quit program\n",
    "#         elif rec == 'quit':\n",
    "#             print('Thank you for using the recommendation system.')\n",
    "#             print('Closing the program...')\n",
    "#             keep_open = False\n",
    "#             break\n",
    "#         # user did not submit valid response\n",
    "#         else:\n",
    "#             print('You did not select a valid response.')\n",
    "    \n",
    "#     return main_df"
   ]
  },
  {
   "cell_type": "code",
   "execution_count": 63,
   "metadata": {
    "ExecuteTime": {
     "end_time": "2023-01-25T15:33:39.531544Z",
     "start_time": "2023-01-25T15:33:39.512530Z"
    }
   },
   "outputs": [],
   "source": [
    "# def final_rec(user_id, genre = None, number_of_predictions= 10, main_df = new_user_df, movies_df = movies_df, model = baseline):\n",
    "#     # creating a dataframe with a specified user\n",
    "#     genre_list = ['romance','fantasy','mystery','children','war','comedy',\n",
    "#                   'documentary','film-noir','thriller','action','sci-fi',\n",
    "#                   'drama','horror','crime','imax','animation','adventure',\n",
    "#                   'musical','western']\n",
    "#     if genre == None:\n",
    "#         user_ratings = main_df[main_df['userId'] == user_id][['userId', 'movieId', 'rating']]\n",
    "#         # creating a dataframe with movies not yet reviewed\n",
    "#         user_predict = list(movies_df[~movies_df['movieId'].isin(user_ratings['movieId'].values)].movieId.values)\n",
    "#         # creating predictions and storing them in list\n",
    "#         predictions = []\n",
    "#         for movie in user_predict:\n",
    "#             predictions.append((movies_df['title'].loc[movies_df['movieId'] == movie].values[0], \\\n",
    "#                                 model.predict(user_id, movie)[3]))\n",
    "        \n",
    "#         predicted_df = pd.DataFrame(predictions, columns=['title', 'predicted rating']).sort_values('predicted rating', ascending=False).head(number_of_predictions)\n",
    "#         print(predicted_df)\n",
    "    \n",
    "#     elif genre in genre_list:\n",
    "#         user_ratings = main_df[main_df['userId'] == user_id][['userId', 'movieId', 'rating']]\n",
    "#         # creating a dataframe with movies not yet reviewed\n",
    "#         user_predict = list(movies_df[~movies_df['movieId'].isin(user_ratings['movieId'].values)].movieId.values)\n",
    "#         # creating predictions and storing them in list\n",
    "#         predictions = []\n",
    "#         for movie in user_predict:\n",
    "#             predictions.append((movies_df['title'].loc[movies_df['movieId'] == movie].values[0], \\\n",
    "#                                 model.predict(user_id, movie)[3]))\n",
    "        \n",
    "#         predicted_df = pd.DataFrame(predictions, columns=['title', 'predicted rating']).sort_values('predicted rating', ascending=False)\n",
    "#         final_prediction = predicted_df.merge(movies_df).drop('movieId', axis=1)\n",
    "#         predicted_df = final_prediction[final_prediction['genres'].str.contains(genre)].drop(['genres', 'split_genres'], axis=1).head(number_of_predictions)\n",
    "#         print(predicted_df)\n",
    "#     else:\n",
    "#         print('You did not select a valid response.')\n",
    "      \n",
    "# #     new_user_df = main_df\n",
    "#     return main_df"
   ]
  },
  {
   "cell_type": "code",
   "execution_count": 64,
   "metadata": {
    "ExecuteTime": {
     "end_time": "2023-01-25T05:10:07.774088Z",
     "start_time": "2023-01-25T05:10:07.759877Z"
    }
   },
   "outputs": [],
   "source": [
    "# number_of_predictions = 10"
   ]
  },
  {
   "cell_type": "code",
   "execution_count": 65,
   "metadata": {
    "ExecuteTime": {
     "end_time": "2023-01-25T05:10:07.790111Z",
     "start_time": "2023-01-25T05:10:07.775090Z"
    }
   },
   "outputs": [],
   "source": [
    "# final_rec(612, genre='comedy', number_of_predictions=number_of_predictions)"
   ]
  },
  {
   "cell_type": "code",
   "execution_count": 66,
   "metadata": {
    "ExecuteTime": {
     "end_time": "2023-01-25T05:10:07.805238Z",
     "start_time": "2023-01-25T05:10:07.791111Z"
    }
   },
   "outputs": [],
   "source": [
    "# make_rec(612, 'matt', 'matt')"
   ]
  },
  {
   "cell_type": "code",
   "execution_count": 67,
   "metadata": {
    "ExecuteTime": {
     "end_time": "2023-01-25T15:33:51.915642Z",
     "start_time": "2023-01-25T15:33:51.904508Z"
    }
   },
   "outputs": [],
   "source": [
    "# def start_program():\n",
    "#     user_id, username, password = new_user()\n",
    "    \n",
    "#     if user_id is not np.NaN:    \n",
    "#         temp_df = check_for_recs(user_id, username, password)\n",
    "        \n",
    "#         temp_df= make_rec(user_id, username, password, main_df=temp_df)\n",
    "        \n",
    "        \n",
    "#         return temp_df\n",
    "#     else:\n",
    "#         print('Program was terminated.')"
   ]
  },
  {
   "cell_type": "code",
   "execution_count": 68,
   "metadata": {
    "ExecuteTime": {
     "end_time": "2023-01-25T16:06:41.532879Z",
     "start_time": "2023-01-25T15:52:22.038619Z"
    },
    "scrolled": false
   },
   "outputs": [
    {
     "ename": "NameError",
     "evalue": "name 'start_program' is not defined",
     "output_type": "error",
     "traceback": [
      "\u001b[0;31m---------------------------------------------------------------------------\u001b[0m",
      "\u001b[0;31mNameError\u001b[0m                                 Traceback (most recent call last)",
      "\u001b[0;32m<ipython-input-68-00d1c87bfb92>\u001b[0m in \u001b[0;36m<module>\u001b[0;34m\u001b[0m\n\u001b[0;32m----> 1\u001b[0;31m \u001b[0mnew_user_df\u001b[0m \u001b[0;34m=\u001b[0m \u001b[0mstart_program\u001b[0m\u001b[0;34m(\u001b[0m\u001b[0;34m)\u001b[0m\u001b[0;34m\u001b[0m\u001b[0;34m\u001b[0m\u001b[0m\n\u001b[0m",
      "\u001b[0;31mNameError\u001b[0m: name 'start_program' is not defined"
     ]
    }
   ],
   "source": [
    "new_user_df = start_program()"
   ]
  },
  {
   "cell_type": "code",
   "execution_count": null,
   "metadata": {
    "ExecuteTime": {
     "end_time": "2023-01-25T16:06:42.960484Z",
     "start_time": "2023-01-25T16:06:42.939469Z"
    }
   },
   "outputs": [],
   "source": [
    "new_user_df"
   ]
  },
  {
   "cell_type": "code",
   "execution_count": null,
   "metadata": {},
   "outputs": [],
   "source": []
  },
  {
   "cell_type": "markdown",
   "metadata": {},
   "source": [
    "## Go back tomorrow and check output for all functions to see why it isnt saving to the dataframe"
   ]
  },
  {
   "cell_type": "code",
   "execution_count": null,
   "metadata": {},
   "outputs": [],
   "source": []
  },
  {
   "cell_type": "code",
   "execution_count": null,
   "metadata": {},
   "outputs": [],
   "source": []
  },
  {
   "cell_type": "code",
   "execution_count": null,
   "metadata": {},
   "outputs": [],
   "source": []
  },
  {
   "cell_type": "code",
   "execution_count": null,
   "metadata": {},
   "outputs": [],
   "source": []
  },
  {
   "cell_type": "code",
   "execution_count": null,
   "metadata": {},
   "outputs": [],
   "source": []
  },
  {
   "cell_type": "code",
   "execution_count": null,
   "metadata": {},
   "outputs": [],
   "source": []
  },
  {
   "cell_type": "code",
   "execution_count": null,
   "metadata": {},
   "outputs": [],
   "source": []
  },
  {
   "cell_type": "code",
   "execution_count": null,
   "metadata": {
    "ExecuteTime": {
     "end_time": "2023-01-25T05:10:45.304372Z",
     "start_time": "2023-01-25T05:10:45.289865Z"
    }
   },
   "outputs": [],
   "source": [
    "# # working baseline\n",
    "\n",
    "# def movie_recs(user_id, username, password, main_df = new_user_df):\n",
    "#     # Setting the base rating at zero\n",
    "#     rating = 0\n",
    "#     # creating a new DF to hold the temp ratings\n",
    "#     current_session_df = pd.DataFrame()\n",
    "#     # whether or not its ok to quit the recommend prompt loop\n",
    "#     ok_to_quit = False\n",
    "#     # automatically puts user in the loop if they have less than 5 ratings\n",
    "#     if len(new_user_df[new_user_df['userId'] == user_id]) < 5:\n",
    "#         # the loop to make recommendations\n",
    "#         while ok_to_quit is False:\n",
    "#             print(\"You need at least 5 reviews before we can make recommendations.\")\n",
    "#             # setting a loop to keep sampling if the sample is already in the main df or in the temp df\n",
    "#             ok_to_move_on = False\n",
    "#             while ok_to_move_on is False:\n",
    "#                 # pulling sample from most rated moves\n",
    "#                 movie_review = top_100.sample()\n",
    "#                 movie_check = movie_review['movieId'].values\n",
    "#                 # checking length of df to see if its been filled yet\n",
    "#                 # ensuring movie has not already been rated\n",
    "#                 if len(current_session_df) != 0:\n",
    "#                     if movie_check not in new_user_df[new_user_df['userId'] == \n",
    "#                                                       user_id]['movieId'].values and\\\n",
    "#                     movie_check not in current_session_df['movieId'].values:\n",
    "#                         ok_to_move_on = True\n",
    "#                     # resample if already rated\n",
    "#                     else:\n",
    "#                         continue\n",
    "#                 else:\n",
    "#                     # ensuring movie has not already been rated\n",
    "#                     if movie_check not in new_user_df[new_user_df['userId'] == \n",
    "#                                                       user_id]['movieId'].values:\n",
    "#                         ok_to_move_on = True\n",
    "#                     else:\n",
    "#                         # resample if already rated\n",
    "#                         continue\n",
    "#             # creating a loop to ensure that user provides a valid rating\n",
    "#             while rating not in range(1,6):\n",
    "#                 # creating a dictionary to store rating info that will be appended to df\n",
    "#                 rating_dict = {'userId':user_id, \n",
    "#                            'movieId': np.nan, \n",
    "#                            'rating': np.nan, \n",
    "#                            'title': np.nan, \n",
    "#                            'genres': np.nan, \n",
    "#                            'username': username, \n",
    "#                            'password': password}\n",
    "#                 print(f\"\\n(Type 'quit' to stop rating movies.) \\n\")\n",
    "#                 # telling user how to rate\n",
    "#                 print(f'Please rate the movie 1-5. If you have not seen the movie, type \"n\" to skip: \\n')\n",
    "#                 # giving user movie info\n",
    "#                 print(f\"{movie_review['title'].values}\")\n",
    "#                 rating = input('Rating: \\n')\n",
    "#                 # letting the user quit if they dont want to rate\n",
    "#                 if rating == 'quit':\n",
    "#                     print('\\n\\nThank you for ranking movies.')\n",
    "#                     # checking to see if the user made any ratings during this session\n",
    "#                     if len(current_session_df) != 0:\n",
    "#                         print('Here are the results of your ranking session:')\n",
    "#                         # showing the user the ratings they made\n",
    "#                         print(current_session_df[['title', 'rating']])\n",
    "#                         # checking if user wants to save ratings\n",
    "#                         submit_ratings = input('\\nWould you like to save these ratings to your profile? (yes/quit): ')\n",
    "#                         if submit_ratings == 'yes':\n",
    "#                             # saving ratings to main database and closing program\n",
    "#                             main_df = main_df.append(current_session_df, ignore_index=True)\n",
    "#                             ok_to_quit = True\n",
    "#                             ok_to_move_on = True\n",
    "#                             to_return = True\n",
    "#                             break\n",
    "#                         elif submit_ratings == 'quit':\n",
    "#                             # not saving ratings to main database and closing program\n",
    "#                             rating = 10\n",
    "#                             ok_to_move_on = True\n",
    "#                             to_return = False\n",
    "#                             ok_to_quit = True\n",
    "#                             print('Thank you for trying the movie recommendor system.')\n",
    "#                             print('Your results have not been saved.')\n",
    "#                             break\n",
    "#                         else:\n",
    "#                             # user did not enter a valid input to save or quit\n",
    "#                             print('That is not a valid input. Please Try again.')\n",
    "#                     else:\n",
    "#                         # quitting the program without saving anything if dataframe is empty\n",
    "#                         print('Program is now closing.')\n",
    "#                         ok_to_move_on = True\n",
    "#                         rating = 10\n",
    "#                         to_return = False\n",
    "#                         ok_to_quit = True\n",
    "#                         break\n",
    "#                 # letting user skip a movie review if they havent seen it\n",
    "#                 elif rating == 'n':\n",
    "#                     print('\\n')\n",
    "#                     break\n",
    "\n",
    "#                 else:\n",
    "#                     try:\n",
    "#                         # trying to convert rating input to float\n",
    "#                         rating = float(rating)\n",
    "#                         if rating not in range(1,6):\n",
    "#                             # letting user know that they need to use 1-5\n",
    "#                             print('That is not a valid rating, please enter a value 1-5:')\n",
    "#                             continue\n",
    "#                         else:\n",
    "#                             # saving user rating to temp df \n",
    "#                             rating_dict['movieId'] = movie_review['movieId'].values[0]\n",
    "#                             rating_dict['rating'] = rating\n",
    "#                             rating_dict['title'] = movie_review['title'].values[0]\n",
    "#                             rating_dict['genres'] = movie_review['genres'].values[0]\n",
    "#                             current_session_df = current_session_df.append(rating_dict, ignore_index=True)\n",
    "#                             rating = 0\n",
    "#                             ok_to_move_on = False\n",
    "#                             print('Saving rating to temporary memory...\\n\\n')\n",
    "#                             break\n",
    "#                     except:\n",
    "#                         # user tried to enter something other than 1-5, 'n', or 'quit'\n",
    "#                         print('That is not a valid rating, please enter a value 1-5:')\n",
    "    \n",
    "#     # returns dataframe if they made changes to it, otherwise closes with no changes\n",
    "#     if to_return:    \n",
    "#         return main_df"
   ]
  },
  {
   "cell_type": "code",
   "execution_count": null,
   "metadata": {},
   "outputs": [],
   "source": []
  },
  {
   "cell_type": "code",
   "execution_count": null,
   "metadata": {},
   "outputs": [],
   "source": []
  },
  {
   "cell_type": "code",
   "execution_count": null,
   "metadata": {},
   "outputs": [],
   "source": []
  },
  {
   "cell_type": "markdown",
   "metadata": {},
   "source": [
    "## making predictions with surprise"
   ]
  },
  {
   "cell_type": "code",
   "execution_count": null,
   "metadata": {
    "ExecuteTime": {
     "end_time": "2023-01-25T05:10:45.319392Z",
     "start_time": "2023-01-25T05:10:45.305373Z"
    }
   },
   "outputs": [],
   "source": [
    "user_to_rate = 2"
   ]
  },
  {
   "cell_type": "code",
   "execution_count": null,
   "metadata": {
    "ExecuteTime": {
     "end_time": "2023-01-25T05:10:45.334901Z",
     "start_time": "2023-01-25T05:10:45.320398Z"
    }
   },
   "outputs": [],
   "source": [
    "# creating a dataframe with a specified user\n",
    "user_ratings = new_user_df[new_user_df['userId'] == user_to_rate][['userId', 'movieId', 'rating']]\n",
    "user_ratings.head()"
   ]
  },
  {
   "cell_type": "code",
   "execution_count": null,
   "metadata": {
    "ExecuteTime": {
     "end_time": "2023-01-25T05:10:45.350928Z",
     "start_time": "2023-01-25T05:10:45.335901Z"
    }
   },
   "outputs": [],
   "source": [
    "user_ratings['movieId'].values"
   ]
  },
  {
   "cell_type": "code",
   "execution_count": null,
   "metadata": {
    "ExecuteTime": {
     "end_time": "2023-01-25T05:10:45.366581Z",
     "start_time": "2023-01-25T05:10:45.351928Z"
    }
   },
   "outputs": [],
   "source": [
    "# creating a dataframe with movies not yet reviewed\n",
    "user_predict = list(movies_df[~movies_df['movieId'].isin(user_ratings['movieId'].values)].movieId.values)\n",
    "# user_predict"
   ]
  },
  {
   "cell_type": "code",
   "execution_count": null,
   "metadata": {
    "ExecuteTime": {
     "end_time": "2023-01-25T05:10:46.146572Z",
     "start_time": "2023-01-25T05:10:45.367582Z"
    }
   },
   "outputs": [],
   "source": [
    "predictions = []\n",
    "for movie in user_predict:\n",
    "    predictions.append((movies_df['title'].loc[movies_df['movieId'] == movie].values[0], \\\n",
    "                        baseline.predict(user_to_rate, movie)[3]))\n",
    "    "
   ]
  },
  {
   "cell_type": "code",
   "execution_count": null,
   "metadata": {
    "ExecuteTime": {
     "end_time": "2023-01-25T05:10:46.161793Z",
     "start_time": "2023-01-25T05:10:46.147582Z"
    }
   },
   "outputs": [],
   "source": [
    "predicted_df = pd.DataFrame(predictions, columns=['title', 'prediction'])"
   ]
  },
  {
   "cell_type": "code",
   "execution_count": null,
   "metadata": {
    "ExecuteTime": {
     "end_time": "2023-01-25T05:10:46.177317Z",
     "start_time": "2023-01-25T05:10:46.162794Z"
    }
   },
   "outputs": [],
   "source": [
    "final_prediction = predicted_df.merge(movies_df).drop('movieId', axis=1)"
   ]
  },
  {
   "cell_type": "code",
   "execution_count": null,
   "metadata": {
    "ExecuteTime": {
     "end_time": "2023-01-25T05:10:46.192844Z",
     "start_time": "2023-01-25T05:10:46.177317Z"
    }
   },
   "outputs": [],
   "source": [
    "test = final_prediction.sort_values('prediction', ascending=False)"
   ]
  },
  {
   "cell_type": "code",
   "execution_count": null,
   "metadata": {
    "ExecuteTime": {
     "end_time": "2023-01-25T05:10:46.208907Z",
     "start_time": "2023-01-25T05:10:46.192844Z"
    }
   },
   "outputs": [],
   "source": [
    "print(test[test['genres'].str.contains(('romance').title())])"
   ]
  },
  {
   "cell_type": "code",
   "execution_count": null,
   "metadata": {
    "ExecuteTime": {
     "end_time": "2023-01-25T05:10:46.224369Z",
     "start_time": "2023-01-25T05:10:46.209858Z"
    }
   },
   "outputs": [],
   "source": [
    "test"
   ]
  },
  {
   "cell_type": "code",
   "execution_count": null,
   "metadata": {
    "ExecuteTime": {
     "end_time": "2023-01-25T05:10:46.240398Z",
     "start_time": "2023-01-25T05:10:46.225372Z"
    }
   },
   "outputs": [],
   "source": [
    "predicted_df.sort_values('prediction', ascending=False).head(10)"
   ]
  },
  {
   "cell_type": "code",
   "execution_count": null,
   "metadata": {
    "ExecuteTime": {
     "end_time": "2023-01-25T05:10:46.270927Z",
     "start_time": "2023-01-25T05:10:46.241399Z"
    }
   },
   "outputs": [],
   "source": [
    "predictions"
   ]
  },
  {
   "cell_type": "code",
   "execution_count": null,
   "metadata": {},
   "outputs": [],
   "source": []
  },
  {
   "cell_type": "code",
   "execution_count": null,
   "metadata": {
    "ExecuteTime": {
     "end_time": "2023-01-25T05:10:46.348578Z",
     "start_time": "2023-01-25T05:10:46.271930Z"
    }
   },
   "outputs": [],
   "source": [
    "movies_df['split_genres'] = movies_df['genres'].iloc[0:].apply(lambda x: x.lower().split('|'))\n",
    "\n",
    "movies = []\n",
    "for i in movies_df['split_genres']:\n",
    "    for x in i:\n",
    "        movies.append(x)"
   ]
  },
  {
   "cell_type": "code",
   "execution_count": null,
   "metadata": {
    "ExecuteTime": {
     "end_time": "2023-01-25T05:10:46.363813Z",
     "start_time": "2023-01-25T05:10:46.348578Z"
    }
   },
   "outputs": [],
   "source": [
    "list(set(movies))"
   ]
  },
  {
   "cell_type": "code",
   "execution_count": null,
   "metadata": {
    "ExecuteTime": {
     "end_time": "2023-01-25T05:10:46.378897Z",
     "start_time": "2023-01-25T05:10:46.364815Z"
    }
   },
   "outputs": [],
   "source": [
    "tags_df['tag_clean'] = tags_df['tag'].iloc[0:].apply(lambda x: x.lower().replace(' ', ''))\n",
    "tags_df['tag_clean'].head()"
   ]
  },
  {
   "cell_type": "code",
   "execution_count": null,
   "metadata": {},
   "outputs": [],
   "source": []
  },
  {
   "cell_type": "code",
   "execution_count": null,
   "metadata": {},
   "outputs": [],
   "source": []
  },
  {
   "cell_type": "markdown",
   "metadata": {},
   "source": [
    "## Final Model"
   ]
  },
  {
   "cell_type": "markdown",
   "metadata": {},
   "source": [
    "## Results/Conclusions"
   ]
  },
  {
   "cell_type": "markdown",
   "metadata": {},
   "source": [
    "### Further Exploration/Questions"
   ]
  },
  {
   "cell_type": "code",
   "execution_count": null,
   "metadata": {},
   "outputs": [],
   "source": []
  }
 ],
 "metadata": {
  "kernelspec": {
   "display_name": "learn-env",
   "language": "python",
   "name": "learn-env"
  },
  "language_info": {
   "codemirror_mode": {
    "name": "ipython",
    "version": 3
   },
   "file_extension": ".py",
   "mimetype": "text/x-python",
   "name": "python",
   "nbconvert_exporter": "python",
   "pygments_lexer": "ipython3",
   "version": "3.8.5"
  },
  "toc": {
   "base_numbering": 1,
   "nav_menu": {},
   "number_sections": true,
   "sideBar": false,
   "skip_h1_title": false,
   "title_cell": "Table of Contents",
   "title_sidebar": "Contents",
   "toc_cell": true,
   "toc_position": {},
   "toc_section_display": true,
   "toc_window_display": false
  },
  "varInspector": {
   "cols": {
    "lenName": 16,
    "lenType": 16,
    "lenVar": 40
   },
   "kernels_config": {
    "python": {
     "delete_cmd_postfix": "",
     "delete_cmd_prefix": "del ",
     "library": "var_list.py",
     "varRefreshCmd": "print(var_dic_list())"
    },
    "r": {
     "delete_cmd_postfix": ") ",
     "delete_cmd_prefix": "rm(",
     "library": "var_list.r",
     "varRefreshCmd": "cat(var_dic_list()) "
    }
   },
   "types_to_exclude": [
    "module",
    "function",
    "builtin_function_or_method",
    "instance",
    "_Feature"
   ],
   "window_display": false
  }
 },
 "nbformat": 4,
 "nbformat_minor": 4
}
