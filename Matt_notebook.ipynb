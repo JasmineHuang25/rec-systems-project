{
 "cells": [
  {
   "cell_type": "markdown",
   "metadata": {
    "toc": true
   },
   "source": [
    "<h1>Table of Contents<span class=\"tocSkip\"></span></h1>\n",
    "<div class=\"toc\"><ul class=\"toc-item\"><li><span><a href=\"#Click-That-Recommendation-Button\" data-toc-modified-id=\"Click-That-Recommendation-Button-1\"><span class=\"toc-item-num\">1&nbsp;&nbsp;</span>Click That Recommendation Button</a></span><ul class=\"toc-item\"><li><span><a href=\"#Business-Understanding-and-Business-Problem\" data-toc-modified-id=\"Business-Understanding-and-Business-Problem-1.1\"><span class=\"toc-item-num\">1.1&nbsp;&nbsp;</span>Business Understanding and Business Problem</a></span><ul class=\"toc-item\"><li><span><a href=\"#Cost-of-Errors\" data-toc-modified-id=\"Cost-of-Errors-1.1.1\"><span class=\"toc-item-num\">1.1.1&nbsp;&nbsp;</span>Cost of Errors</a></span></li></ul></li><li><span><a href=\"#Data-Understanding\" data-toc-modified-id=\"Data-Understanding-1.2\"><span class=\"toc-item-num\">1.2&nbsp;&nbsp;</span>Data Understanding</a></span><ul class=\"toc-item\"><li><span><a href=\"#Initial-Data\" data-toc-modified-id=\"Initial-Data-1.2.1\"><span class=\"toc-item-num\">1.2.1&nbsp;&nbsp;</span>Initial Data</a></span></li></ul></li><li><span><a href=\"#Exploratory-Data-Analysis\" data-toc-modified-id=\"Exploratory-Data-Analysis-1.3\"><span class=\"toc-item-num\">1.3&nbsp;&nbsp;</span>Exploratory Data Analysis</a></span><ul class=\"toc-item\"><li><span><a href=\"#Exploring-links_df\" data-toc-modified-id=\"Exploring-links_df-1.3.1\"><span class=\"toc-item-num\">1.3.1&nbsp;&nbsp;</span>Exploring <code>links_df</code></a></span></li><li><span><a href=\"#Exploring-movies_df\" data-toc-modified-id=\"Exploring-movies_df-1.3.2\"><span class=\"toc-item-num\">1.3.2&nbsp;&nbsp;</span>Exploring <code>movies_df</code></a></span></li><li><span><a href=\"#Exploring-ratings_df\" data-toc-modified-id=\"Exploring-ratings_df-1.3.3\"><span class=\"toc-item-num\">1.3.3&nbsp;&nbsp;</span>Exploring <code>ratings_df</code></a></span></li><li><span><a href=\"#Exploring-tags_df\" data-toc-modified-id=\"Exploring-tags_df-1.3.4\"><span class=\"toc-item-num\">1.3.4&nbsp;&nbsp;</span>Exploring <code>tags_df</code></a></span></li><li><span><a href=\"#Creating-a-New-DataFrame-with-Relevant-Data\" data-toc-modified-id=\"Creating-a-New-DataFrame-with-Relevant-Data-1.3.5\"><span class=\"toc-item-num\">1.3.5&nbsp;&nbsp;</span>Creating a New DataFrame with Relevant Data</a></span><ul class=\"toc-item\"><li><span><a href=\"#Additional-EDA-that-likely-can-be-dropped-for-final-notebook\" data-toc-modified-id=\"Additional-EDA-that-likely-can-be-dropped-for-final-notebook-1.3.5.1\"><span class=\"toc-item-num\">1.3.5.1&nbsp;&nbsp;</span><strong>Additional EDA that likely can be dropped for final notebook</strong></a></span></li></ul></li></ul></li><li><span><a href=\"#Modeling\" data-toc-modified-id=\"Modeling-1.4\"><span class=\"toc-item-num\">1.4&nbsp;&nbsp;</span>Modeling</a></span></li><li><span><a href=\"#First-Baseline-Model\" data-toc-modified-id=\"First-Baseline-Model-1.5\"><span class=\"toc-item-num\">1.5&nbsp;&nbsp;</span>First Baseline Model</a></span></li><li><span><a href=\"#Model-KNN-with-Z-Score\" data-toc-modified-id=\"Model-KNN-with-Z-Score-1.6\"><span class=\"toc-item-num\">1.6&nbsp;&nbsp;</span>Model KNN with Z-Score</a></span></li><li><span><a href=\"#Model-with-SVD\" data-toc-modified-id=\"Model-with-SVD-1.7\"><span class=\"toc-item-num\">1.7&nbsp;&nbsp;</span>Model with SVD</a></span></li><li><span><a href=\"#Model-with-SVD++\" data-toc-modified-id=\"Model-with-SVD++-1.8\"><span class=\"toc-item-num\">1.8&nbsp;&nbsp;</span>Model with SVD++</a></span></li><li><span><a href=\"#All-Models?-(maybe-we-can-condense-the-modeling-section-so-its-not-a-bunch-of-the-same-code-again-and-again)\" data-toc-modified-id=\"All-Models?-(maybe-we-can-condense-the-modeling-section-so-its-not-a-bunch-of-the-same-code-again-and-again)-1.9\"><span class=\"toc-item-num\">1.9&nbsp;&nbsp;</span>All Models? (maybe we can condense the modeling section so its not a bunch of the same code again and again)</a></span><ul class=\"toc-item\"><li><span><a href=\"#Gridsearch-best-model\" data-toc-modified-id=\"Gridsearch-best-model-1.9.1\"><span class=\"toc-item-num\">1.9.1&nbsp;&nbsp;</span>Gridsearch best model</a></span></li></ul></li></ul></li><li><span><a href=\"#Creating-a-New-User\" data-toc-modified-id=\"Creating-a-New-User-2\"><span class=\"toc-item-num\">2&nbsp;&nbsp;</span>Creating a New User</a></span><ul class=\"toc-item\"><li><span><a href=\"#Go-back-tomorrow-and-check-output-for-all-functions-to-see-why-it-isnt-saving-to-the-dataframe\" data-toc-modified-id=\"Go-back-tomorrow-and-check-output-for-all-functions-to-see-why-it-isnt-saving-to-the-dataframe-2.1\"><span class=\"toc-item-num\">2.1&nbsp;&nbsp;</span>Go back tomorrow and check output for all functions to see why it isnt saving to the dataframe</a></span></li><li><span><a href=\"#making-predictions-with-surprise\" data-toc-modified-id=\"making-predictions-with-surprise-2.2\"><span class=\"toc-item-num\">2.2&nbsp;&nbsp;</span>making predictions with surprise</a></span></li><li><span><a href=\"#Final-Model\" data-toc-modified-id=\"Final-Model-2.3\"><span class=\"toc-item-num\">2.3&nbsp;&nbsp;</span>Final Model</a></span></li><li><span><a href=\"#Results/Conclusions\" data-toc-modified-id=\"Results/Conclusions-2.4\"><span class=\"toc-item-num\">2.4&nbsp;&nbsp;</span>Results/Conclusions</a></span><ul class=\"toc-item\"><li><span><a href=\"#Further-Exploration/Questions\" data-toc-modified-id=\"Further-Exploration/Questions-2.4.1\"><span class=\"toc-item-num\">2.4.1&nbsp;&nbsp;</span>Further Exploration/Questions</a></span></li></ul></li></ul></li></ul></div>"
   ]
  },
  {
   "cell_type": "markdown",
   "metadata": {},
   "source": [
    "insert header"
   ]
  },
  {
   "cell_type": "markdown",
   "metadata": {},
   "source": [
    "# Click That Recommendation Button"
   ]
  },
  {
   "cell_type": "markdown",
   "metadata": {},
   "source": [
    "## Business Understanding and Business Problem"
   ]
  },
  {
   "cell_type": "markdown",
   "metadata": {},
   "source": [
    "Our team has been tasked with implementation of a recommendation system for the movie rental company, RedBox. We have three main goals:\n",
    "\n",
    "- Create a recommendation system model that allows users to input movie ratings and provides movie suggestions\n",
    "- Be able to store user ratings for future recommendation requests\n",
    "- Be able to provide specific genre recommendations based on a users request"
   ]
  },
  {
   "cell_type": "markdown",
   "metadata": {},
   "source": [
    "### Cost of Errors"
   ]
  },
  {
   "cell_type": "markdown",
   "metadata": {},
   "source": [
    "Cost of Errors is somewhat ephemeral for this project. The main cost of errors would be user trust and loyalty. \n",
    "\n",
    "While the goal is to build user loyalty and create a seamless user experience from recommendation to rental, if users don't find value in the recommendations provided than that loyalty is lost in an instant."
   ]
  },
  {
   "cell_type": "markdown",
   "metadata": {},
   "source": [
    "## Data Understanding"
   ]
  },
  {
   "cell_type": "code",
   "execution_count": 51,
   "metadata": {
    "ExecuteTime": {
     "end_time": "2023-01-25T20:42:44.303383Z",
     "start_time": "2023-01-25T20:42:44.292066Z"
    }
   },
   "outputs": [],
   "source": [
    "#imports grabbed from lecture\n",
    "from random import gauss as gs, uniform as uni, seed\n",
    "import numpy as np\n",
    "import pandas as pd\n",
    "\n",
    "from sklearn.linear_model import LinearRegression\n",
    "\n",
    "from surprise import Reader, Dataset\n",
    "from surprise.model_selection import train_test_split\n",
    "from surprise.prediction_algorithms import knns, SVD, BaselineOnly, SVDpp\n",
    "from surprise.similarities import cosine, msd, pearson\n",
    "from surprise import accuracy\n",
    "\n",
    "\n",
    "import warnings\n",
    "warnings.filterwarnings('ignore')"
   ]
  },
  {
   "cell_type": "markdown",
   "metadata": {},
   "source": [
    "### Initial Data"
   ]
  },
  {
   "cell_type": "markdown",
   "metadata": {},
   "source": [
    "Our data was provided by MovieLens data set and includes over 100,000 ratings made by 600 users across almost 10,000 movies. The data is broken into four different .CSV files and further analysis of these files is discussed below."
   ]
  },
  {
   "cell_type": "code",
   "execution_count": 2,
   "metadata": {
    "ExecuteTime": {
     "end_time": "2023-01-25T20:40:08.410251Z",
     "start_time": "2023-01-25T20:40:08.365152Z"
    }
   },
   "outputs": [],
   "source": [
    "#the four csv files provided\n",
    "links_df = pd.read_csv('data/links.csv')\n",
    "movies_df = pd.read_csv('data/movies.csv')\n",
    "ratings_df = pd.read_csv('data/ratings.csv')\n",
    "tags_df = pd.read_csv('data/tags.csv')"
   ]
  },
  {
   "cell_type": "code",
   "execution_count": 3,
   "metadata": {
    "ExecuteTime": {
     "end_time": "2023-01-25T20:40:08.830190Z",
     "start_time": "2023-01-25T20:40:08.815916Z"
    }
   },
   "outputs": [
    {
     "data": {
      "text/html": [
       "<div>\n",
       "<style scoped>\n",
       "    .dataframe tbody tr th:only-of-type {\n",
       "        vertical-align: middle;\n",
       "    }\n",
       "\n",
       "    .dataframe tbody tr th {\n",
       "        vertical-align: top;\n",
       "    }\n",
       "\n",
       "    .dataframe thead th {\n",
       "        text-align: right;\n",
       "    }\n",
       "</style>\n",
       "<table border=\"1\" class=\"dataframe\">\n",
       "  <thead>\n",
       "    <tr style=\"text-align: right;\">\n",
       "      <th></th>\n",
       "      <th>movieId</th>\n",
       "      <th>imdbId</th>\n",
       "      <th>tmdbId</th>\n",
       "    </tr>\n",
       "  </thead>\n",
       "  <tbody>\n",
       "    <tr>\n",
       "      <th>0</th>\n",
       "      <td>1</td>\n",
       "      <td>114709</td>\n",
       "      <td>862.0</td>\n",
       "    </tr>\n",
       "    <tr>\n",
       "      <th>1</th>\n",
       "      <td>2</td>\n",
       "      <td>113497</td>\n",
       "      <td>8844.0</td>\n",
       "    </tr>\n",
       "    <tr>\n",
       "      <th>2</th>\n",
       "      <td>3</td>\n",
       "      <td>113228</td>\n",
       "      <td>15602.0</td>\n",
       "    </tr>\n",
       "    <tr>\n",
       "      <th>3</th>\n",
       "      <td>4</td>\n",
       "      <td>114885</td>\n",
       "      <td>31357.0</td>\n",
       "    </tr>\n",
       "    <tr>\n",
       "      <th>4</th>\n",
       "      <td>5</td>\n",
       "      <td>113041</td>\n",
       "      <td>11862.0</td>\n",
       "    </tr>\n",
       "  </tbody>\n",
       "</table>\n",
       "</div>"
      ],
      "text/plain": [
       "   movieId  imdbId   tmdbId\n",
       "0        1  114709    862.0\n",
       "1        2  113497   8844.0\n",
       "2        3  113228  15602.0\n",
       "3        4  114885  31357.0\n",
       "4        5  113041  11862.0"
      ]
     },
     "execution_count": 3,
     "metadata": {},
     "output_type": "execute_result"
    }
   ],
   "source": [
    "links_df.head()"
   ]
  },
  {
   "cell_type": "code",
   "execution_count": 4,
   "metadata": {
    "ExecuteTime": {
     "end_time": "2023-01-25T20:40:09.218906Z",
     "start_time": "2023-01-25T20:40:09.213692Z"
    }
   },
   "outputs": [
    {
     "data": {
      "text/html": [
       "<div>\n",
       "<style scoped>\n",
       "    .dataframe tbody tr th:only-of-type {\n",
       "        vertical-align: middle;\n",
       "    }\n",
       "\n",
       "    .dataframe tbody tr th {\n",
       "        vertical-align: top;\n",
       "    }\n",
       "\n",
       "    .dataframe thead th {\n",
       "        text-align: right;\n",
       "    }\n",
       "</style>\n",
       "<table border=\"1\" class=\"dataframe\">\n",
       "  <thead>\n",
       "    <tr style=\"text-align: right;\">\n",
       "      <th></th>\n",
       "      <th>movieId</th>\n",
       "      <th>title</th>\n",
       "      <th>genres</th>\n",
       "    </tr>\n",
       "  </thead>\n",
       "  <tbody>\n",
       "    <tr>\n",
       "      <th>0</th>\n",
       "      <td>1</td>\n",
       "      <td>Toy Story (1995)</td>\n",
       "      <td>Adventure|Animation|Children|Comedy|Fantasy</td>\n",
       "    </tr>\n",
       "    <tr>\n",
       "      <th>1</th>\n",
       "      <td>2</td>\n",
       "      <td>Jumanji (1995)</td>\n",
       "      <td>Adventure|Children|Fantasy</td>\n",
       "    </tr>\n",
       "    <tr>\n",
       "      <th>2</th>\n",
       "      <td>3</td>\n",
       "      <td>Grumpier Old Men (1995)</td>\n",
       "      <td>Comedy|Romance</td>\n",
       "    </tr>\n",
       "    <tr>\n",
       "      <th>3</th>\n",
       "      <td>4</td>\n",
       "      <td>Waiting to Exhale (1995)</td>\n",
       "      <td>Comedy|Drama|Romance</td>\n",
       "    </tr>\n",
       "    <tr>\n",
       "      <th>4</th>\n",
       "      <td>5</td>\n",
       "      <td>Father of the Bride Part II (1995)</td>\n",
       "      <td>Comedy</td>\n",
       "    </tr>\n",
       "  </tbody>\n",
       "</table>\n",
       "</div>"
      ],
      "text/plain": [
       "   movieId                               title  \\\n",
       "0        1                    Toy Story (1995)   \n",
       "1        2                      Jumanji (1995)   \n",
       "2        3             Grumpier Old Men (1995)   \n",
       "3        4            Waiting to Exhale (1995)   \n",
       "4        5  Father of the Bride Part II (1995)   \n",
       "\n",
       "                                        genres  \n",
       "0  Adventure|Animation|Children|Comedy|Fantasy  \n",
       "1                   Adventure|Children|Fantasy  \n",
       "2                               Comedy|Romance  \n",
       "3                         Comedy|Drama|Romance  \n",
       "4                                       Comedy  "
      ]
     },
     "execution_count": 4,
     "metadata": {},
     "output_type": "execute_result"
    }
   ],
   "source": [
    "movies_df.head()"
   ]
  },
  {
   "cell_type": "code",
   "execution_count": 5,
   "metadata": {
    "ExecuteTime": {
     "end_time": "2023-01-25T20:40:09.606912Z",
     "start_time": "2023-01-25T20:40:09.588586Z"
    }
   },
   "outputs": [
    {
     "data": {
      "text/html": [
       "<div>\n",
       "<style scoped>\n",
       "    .dataframe tbody tr th:only-of-type {\n",
       "        vertical-align: middle;\n",
       "    }\n",
       "\n",
       "    .dataframe tbody tr th {\n",
       "        vertical-align: top;\n",
       "    }\n",
       "\n",
       "    .dataframe thead th {\n",
       "        text-align: right;\n",
       "    }\n",
       "</style>\n",
       "<table border=\"1\" class=\"dataframe\">\n",
       "  <thead>\n",
       "    <tr style=\"text-align: right;\">\n",
       "      <th></th>\n",
       "      <th>userId</th>\n",
       "      <th>movieId</th>\n",
       "      <th>rating</th>\n",
       "      <th>timestamp</th>\n",
       "    </tr>\n",
       "  </thead>\n",
       "  <tbody>\n",
       "    <tr>\n",
       "      <th>0</th>\n",
       "      <td>1</td>\n",
       "      <td>1</td>\n",
       "      <td>4.0</td>\n",
       "      <td>964982703</td>\n",
       "    </tr>\n",
       "    <tr>\n",
       "      <th>1</th>\n",
       "      <td>1</td>\n",
       "      <td>3</td>\n",
       "      <td>4.0</td>\n",
       "      <td>964981247</td>\n",
       "    </tr>\n",
       "    <tr>\n",
       "      <th>2</th>\n",
       "      <td>1</td>\n",
       "      <td>6</td>\n",
       "      <td>4.0</td>\n",
       "      <td>964982224</td>\n",
       "    </tr>\n",
       "    <tr>\n",
       "      <th>3</th>\n",
       "      <td>1</td>\n",
       "      <td>47</td>\n",
       "      <td>5.0</td>\n",
       "      <td>964983815</td>\n",
       "    </tr>\n",
       "    <tr>\n",
       "      <th>4</th>\n",
       "      <td>1</td>\n",
       "      <td>50</td>\n",
       "      <td>5.0</td>\n",
       "      <td>964982931</td>\n",
       "    </tr>\n",
       "  </tbody>\n",
       "</table>\n",
       "</div>"
      ],
      "text/plain": [
       "   userId  movieId  rating  timestamp\n",
       "0       1        1     4.0  964982703\n",
       "1       1        3     4.0  964981247\n",
       "2       1        6     4.0  964982224\n",
       "3       1       47     5.0  964983815\n",
       "4       1       50     5.0  964982931"
      ]
     },
     "execution_count": 5,
     "metadata": {},
     "output_type": "execute_result"
    }
   ],
   "source": [
    "ratings_df.head()"
   ]
  },
  {
   "cell_type": "code",
   "execution_count": 6,
   "metadata": {
    "ExecuteTime": {
     "end_time": "2023-01-25T20:40:10.041110Z",
     "start_time": "2023-01-25T20:40:10.036601Z"
    }
   },
   "outputs": [
    {
     "data": {
      "text/html": [
       "<div>\n",
       "<style scoped>\n",
       "    .dataframe tbody tr th:only-of-type {\n",
       "        vertical-align: middle;\n",
       "    }\n",
       "\n",
       "    .dataframe tbody tr th {\n",
       "        vertical-align: top;\n",
       "    }\n",
       "\n",
       "    .dataframe thead th {\n",
       "        text-align: right;\n",
       "    }\n",
       "</style>\n",
       "<table border=\"1\" class=\"dataframe\">\n",
       "  <thead>\n",
       "    <tr style=\"text-align: right;\">\n",
       "      <th></th>\n",
       "      <th>userId</th>\n",
       "      <th>movieId</th>\n",
       "      <th>tag</th>\n",
       "      <th>timestamp</th>\n",
       "    </tr>\n",
       "  </thead>\n",
       "  <tbody>\n",
       "    <tr>\n",
       "      <th>0</th>\n",
       "      <td>2</td>\n",
       "      <td>60756</td>\n",
       "      <td>funny</td>\n",
       "      <td>1445714994</td>\n",
       "    </tr>\n",
       "    <tr>\n",
       "      <th>1</th>\n",
       "      <td>2</td>\n",
       "      <td>60756</td>\n",
       "      <td>Highly quotable</td>\n",
       "      <td>1445714996</td>\n",
       "    </tr>\n",
       "    <tr>\n",
       "      <th>2</th>\n",
       "      <td>2</td>\n",
       "      <td>60756</td>\n",
       "      <td>will ferrell</td>\n",
       "      <td>1445714992</td>\n",
       "    </tr>\n",
       "    <tr>\n",
       "      <th>3</th>\n",
       "      <td>2</td>\n",
       "      <td>89774</td>\n",
       "      <td>Boxing story</td>\n",
       "      <td>1445715207</td>\n",
       "    </tr>\n",
       "    <tr>\n",
       "      <th>4</th>\n",
       "      <td>2</td>\n",
       "      <td>89774</td>\n",
       "      <td>MMA</td>\n",
       "      <td>1445715200</td>\n",
       "    </tr>\n",
       "  </tbody>\n",
       "</table>\n",
       "</div>"
      ],
      "text/plain": [
       "   userId  movieId              tag   timestamp\n",
       "0       2    60756            funny  1445714994\n",
       "1       2    60756  Highly quotable  1445714996\n",
       "2       2    60756     will ferrell  1445714992\n",
       "3       2    89774     Boxing story  1445715207\n",
       "4       2    89774              MMA  1445715200"
      ]
     },
     "execution_count": 6,
     "metadata": {},
     "output_type": "execute_result"
    }
   ],
   "source": [
    "tags_df.head()"
   ]
  },
  {
   "cell_type": "markdown",
   "metadata": {},
   "source": [
    "## Exploratory Data Analysis"
   ]
  },
  {
   "cell_type": "markdown",
   "metadata": {},
   "source": [
    "### Exploring `links_df`"
   ]
  },
  {
   "cell_type": "code",
   "execution_count": 8,
   "metadata": {
    "ExecuteTime": {
     "end_time": "2023-01-25T20:40:11.315096Z",
     "start_time": "2023-01-25T20:40:11.308581Z"
    }
   },
   "outputs": [
    {
     "data": {
      "text/html": [
       "<div>\n",
       "<style scoped>\n",
       "    .dataframe tbody tr th:only-of-type {\n",
       "        vertical-align: middle;\n",
       "    }\n",
       "\n",
       "    .dataframe tbody tr th {\n",
       "        vertical-align: top;\n",
       "    }\n",
       "\n",
       "    .dataframe thead th {\n",
       "        text-align: right;\n",
       "    }\n",
       "</style>\n",
       "<table border=\"1\" class=\"dataframe\">\n",
       "  <thead>\n",
       "    <tr style=\"text-align: right;\">\n",
       "      <th></th>\n",
       "      <th>movieId</th>\n",
       "      <th>imdbId</th>\n",
       "      <th>tmdbId</th>\n",
       "    </tr>\n",
       "  </thead>\n",
       "  <tbody>\n",
       "    <tr>\n",
       "      <th>0</th>\n",
       "      <td>1</td>\n",
       "      <td>114709</td>\n",
       "      <td>862.0</td>\n",
       "    </tr>\n",
       "    <tr>\n",
       "      <th>1</th>\n",
       "      <td>2</td>\n",
       "      <td>113497</td>\n",
       "      <td>8844.0</td>\n",
       "    </tr>\n",
       "    <tr>\n",
       "      <th>2</th>\n",
       "      <td>3</td>\n",
       "      <td>113228</td>\n",
       "      <td>15602.0</td>\n",
       "    </tr>\n",
       "    <tr>\n",
       "      <th>3</th>\n",
       "      <td>4</td>\n",
       "      <td>114885</td>\n",
       "      <td>31357.0</td>\n",
       "    </tr>\n",
       "    <tr>\n",
       "      <th>4</th>\n",
       "      <td>5</td>\n",
       "      <td>113041</td>\n",
       "      <td>11862.0</td>\n",
       "    </tr>\n",
       "  </tbody>\n",
       "</table>\n",
       "</div>"
      ],
      "text/plain": [
       "   movieId  imdbId   tmdbId\n",
       "0        1  114709    862.0\n",
       "1        2  113497   8844.0\n",
       "2        3  113228  15602.0\n",
       "3        4  114885  31357.0\n",
       "4        5  113041  11862.0"
      ]
     },
     "execution_count": 8,
     "metadata": {},
     "output_type": "execute_result"
    }
   ],
   "source": [
    "links_df.head()"
   ]
  },
  {
   "cell_type": "markdown",
   "metadata": {},
   "source": [
    "This file is a key to merge movie identifiers with IMDB Database and The Movie DataBase. We will be focusing on the MovieLens database for this analysis and will not need this file."
   ]
  },
  {
   "cell_type": "markdown",
   "metadata": {},
   "source": [
    "### Exploring `movies_df`"
   ]
  },
  {
   "cell_type": "code",
   "execution_count": 9,
   "metadata": {
    "ExecuteTime": {
     "end_time": "2023-01-25T20:40:12.464337Z",
     "start_time": "2023-01-25T20:40:12.452383Z"
    }
   },
   "outputs": [
    {
     "data": {
      "text/html": [
       "<div>\n",
       "<style scoped>\n",
       "    .dataframe tbody tr th:only-of-type {\n",
       "        vertical-align: middle;\n",
       "    }\n",
       "\n",
       "    .dataframe tbody tr th {\n",
       "        vertical-align: top;\n",
       "    }\n",
       "\n",
       "    .dataframe thead th {\n",
       "        text-align: right;\n",
       "    }\n",
       "</style>\n",
       "<table border=\"1\" class=\"dataframe\">\n",
       "  <thead>\n",
       "    <tr style=\"text-align: right;\">\n",
       "      <th></th>\n",
       "      <th>movieId</th>\n",
       "      <th>title</th>\n",
       "      <th>genres</th>\n",
       "    </tr>\n",
       "  </thead>\n",
       "  <tbody>\n",
       "    <tr>\n",
       "      <th>0</th>\n",
       "      <td>1</td>\n",
       "      <td>Toy Story (1995)</td>\n",
       "      <td>Adventure|Animation|Children|Comedy|Fantasy</td>\n",
       "    </tr>\n",
       "    <tr>\n",
       "      <th>1</th>\n",
       "      <td>2</td>\n",
       "      <td>Jumanji (1995)</td>\n",
       "      <td>Adventure|Children|Fantasy</td>\n",
       "    </tr>\n",
       "    <tr>\n",
       "      <th>2</th>\n",
       "      <td>3</td>\n",
       "      <td>Grumpier Old Men (1995)</td>\n",
       "      <td>Comedy|Romance</td>\n",
       "    </tr>\n",
       "    <tr>\n",
       "      <th>3</th>\n",
       "      <td>4</td>\n",
       "      <td>Waiting to Exhale (1995)</td>\n",
       "      <td>Comedy|Drama|Romance</td>\n",
       "    </tr>\n",
       "    <tr>\n",
       "      <th>4</th>\n",
       "      <td>5</td>\n",
       "      <td>Father of the Bride Part II (1995)</td>\n",
       "      <td>Comedy</td>\n",
       "    </tr>\n",
       "  </tbody>\n",
       "</table>\n",
       "</div>"
      ],
      "text/plain": [
       "   movieId                               title  \\\n",
       "0        1                    Toy Story (1995)   \n",
       "1        2                      Jumanji (1995)   \n",
       "2        3             Grumpier Old Men (1995)   \n",
       "3        4            Waiting to Exhale (1995)   \n",
       "4        5  Father of the Bride Part II (1995)   \n",
       "\n",
       "                                        genres  \n",
       "0  Adventure|Animation|Children|Comedy|Fantasy  \n",
       "1                   Adventure|Children|Fantasy  \n",
       "2                               Comedy|Romance  \n",
       "3                         Comedy|Drama|Romance  \n",
       "4                                       Comedy  "
      ]
     },
     "execution_count": 9,
     "metadata": {},
     "output_type": "execute_result"
    }
   ],
   "source": [
    "movies_df.head()"
   ]
  },
  {
   "cell_type": "code",
   "execution_count": 10,
   "metadata": {
    "ExecuteTime": {
     "end_time": "2023-01-25T20:40:12.931577Z",
     "start_time": "2023-01-25T20:40:12.916603Z"
    }
   },
   "outputs": [
    {
     "data": {
      "text/plain": [
       "(9742, 3)"
      ]
     },
     "execution_count": 10,
     "metadata": {},
     "output_type": "execute_result"
    }
   ],
   "source": [
    "movies_df.shape"
   ]
  },
  {
   "cell_type": "code",
   "execution_count": 11,
   "metadata": {
    "ExecuteTime": {
     "end_time": "2023-01-25T20:40:13.367975Z",
     "start_time": "2023-01-25T20:40:13.349087Z"
    }
   },
   "outputs": [
    {
     "data": {
      "text/plain": [
       "movieId    0\n",
       "title      0\n",
       "genres     0\n",
       "dtype: int64"
      ]
     },
     "execution_count": 11,
     "metadata": {},
     "output_type": "execute_result"
    }
   ],
   "source": [
    "movies_df.isna().sum()"
   ]
  },
  {
   "cell_type": "code",
   "execution_count": 12,
   "metadata": {
    "ExecuteTime": {
     "end_time": "2023-01-25T20:40:13.691015Z",
     "start_time": "2023-01-25T20:40:13.676585Z"
    }
   },
   "outputs": [
    {
     "data": {
      "text/plain": [
       "9737"
      ]
     },
     "execution_count": 12,
     "metadata": {},
     "output_type": "execute_result"
    }
   ],
   "source": [
    "movies_df['title'].nunique()"
   ]
  },
  {
   "cell_type": "code",
   "execution_count": 13,
   "metadata": {
    "ExecuteTime": {
     "end_time": "2023-01-25T20:40:14.033963Z",
     "start_time": "2023-01-25T20:40:14.020949Z"
    }
   },
   "outputs": [
    {
     "data": {
      "text/plain": [
       "War of the Worlds (2005)                             2\n",
       "Eros (2004)                                          2\n",
       "Emma (1996)                                          2\n",
       "Confessions of a Dangerous Mind (2002)               2\n",
       "Saturn 3 (1980)                                      2\n",
       "Great Beauty, The (Grande Bellezza, La) (2013)       1\n",
       "'night Mother (1986)                                 1\n",
       "Libertine, The (2004)                                1\n",
       "St. Elmo's Fire (1985)                               1\n",
       "Revenge of the Nerds II: Nerds in Paradise (1987)    1\n",
       "Name: title, dtype: int64"
      ]
     },
     "execution_count": 13,
     "metadata": {},
     "output_type": "execute_result"
    }
   ],
   "source": [
    "movies_df['title'].value_counts().head(10)"
   ]
  },
  {
   "cell_type": "markdown",
   "metadata": {},
   "source": [
    "There are 9737 unique movie titles. Repeats for 5 movies:\n",
    "- Emma (1996)                                   2\n",
    "- Saturn 3 (1980)                               2\n",
    "- Eros (2004)                                   2\n",
    "- Confessions of a Dangerous Mind (2002)        2\n",
    "- War of the Worlds (2005)                      2"
   ]
  },
  {
   "cell_type": "markdown",
   "metadata": {},
   "source": [
    "Cleaning the text in the DataFrame."
   ]
  },
  {
   "cell_type": "code",
   "execution_count": 14,
   "metadata": {
    "ExecuteTime": {
     "end_time": "2023-01-25T20:40:15.228069Z",
     "start_time": "2023-01-25T20:40:15.204528Z"
    }
   },
   "outputs": [],
   "source": [
    "movies_df['split_genres'] = movies_df['genres'].iloc[0:].apply(lambda x: x.lower().split('|'))\n",
    "movies_df['genres'] = movies_df['genres'].iloc[0:].apply(lambda x: x.lower())"
   ]
  },
  {
   "cell_type": "markdown",
   "metadata": {},
   "source": [
    "This file will be very helpful for our analysis. It provides us with the title of movie in relation to its unique identifier and lets us know the genre categories that the movie would fall under."
   ]
  },
  {
   "cell_type": "markdown",
   "metadata": {},
   "source": [
    "### Exploring `ratings_df`"
   ]
  },
  {
   "cell_type": "code",
   "execution_count": 15,
   "metadata": {
    "ExecuteTime": {
     "end_time": "2023-01-25T20:40:16.039108Z",
     "start_time": "2023-01-25T20:40:16.028592Z"
    }
   },
   "outputs": [
    {
     "data": {
      "text/html": [
       "<div>\n",
       "<style scoped>\n",
       "    .dataframe tbody tr th:only-of-type {\n",
       "        vertical-align: middle;\n",
       "    }\n",
       "\n",
       "    .dataframe tbody tr th {\n",
       "        vertical-align: top;\n",
       "    }\n",
       "\n",
       "    .dataframe thead th {\n",
       "        text-align: right;\n",
       "    }\n",
       "</style>\n",
       "<table border=\"1\" class=\"dataframe\">\n",
       "  <thead>\n",
       "    <tr style=\"text-align: right;\">\n",
       "      <th></th>\n",
       "      <th>userId</th>\n",
       "      <th>movieId</th>\n",
       "      <th>rating</th>\n",
       "      <th>timestamp</th>\n",
       "    </tr>\n",
       "  </thead>\n",
       "  <tbody>\n",
       "    <tr>\n",
       "      <th>0</th>\n",
       "      <td>1</td>\n",
       "      <td>1</td>\n",
       "      <td>4.0</td>\n",
       "      <td>964982703</td>\n",
       "    </tr>\n",
       "    <tr>\n",
       "      <th>1</th>\n",
       "      <td>1</td>\n",
       "      <td>3</td>\n",
       "      <td>4.0</td>\n",
       "      <td>964981247</td>\n",
       "    </tr>\n",
       "    <tr>\n",
       "      <th>2</th>\n",
       "      <td>1</td>\n",
       "      <td>6</td>\n",
       "      <td>4.0</td>\n",
       "      <td>964982224</td>\n",
       "    </tr>\n",
       "    <tr>\n",
       "      <th>3</th>\n",
       "      <td>1</td>\n",
       "      <td>47</td>\n",
       "      <td>5.0</td>\n",
       "      <td>964983815</td>\n",
       "    </tr>\n",
       "    <tr>\n",
       "      <th>4</th>\n",
       "      <td>1</td>\n",
       "      <td>50</td>\n",
       "      <td>5.0</td>\n",
       "      <td>964982931</td>\n",
       "    </tr>\n",
       "  </tbody>\n",
       "</table>\n",
       "</div>"
      ],
      "text/plain": [
       "   userId  movieId  rating  timestamp\n",
       "0       1        1     4.0  964982703\n",
       "1       1        3     4.0  964981247\n",
       "2       1        6     4.0  964982224\n",
       "3       1       47     5.0  964983815\n",
       "4       1       50     5.0  964982931"
      ]
     },
     "execution_count": 15,
     "metadata": {},
     "output_type": "execute_result"
    }
   ],
   "source": [
    "ratings_df.head()"
   ]
  },
  {
   "cell_type": "code",
   "execution_count": 16,
   "metadata": {
    "ExecuteTime": {
     "end_time": "2023-01-25T20:40:16.397093Z",
     "start_time": "2023-01-25T20:40:16.380266Z"
    }
   },
   "outputs": [
    {
     "data": {
      "text/plain": [
       "userId       0\n",
       "movieId      0\n",
       "rating       0\n",
       "timestamp    0\n",
       "dtype: int64"
      ]
     },
     "execution_count": 16,
     "metadata": {},
     "output_type": "execute_result"
    }
   ],
   "source": [
    "ratings_df.isna().sum()"
   ]
  },
  {
   "cell_type": "code",
   "execution_count": 17,
   "metadata": {
    "ExecuteTime": {
     "end_time": "2023-01-25T20:40:16.831616Z",
     "start_time": "2023-01-25T20:40:16.813084Z"
    }
   },
   "outputs": [
    {
     "data": {
      "text/html": [
       "<div>\n",
       "<style scoped>\n",
       "    .dataframe tbody tr th:only-of-type {\n",
       "        vertical-align: middle;\n",
       "    }\n",
       "\n",
       "    .dataframe tbody tr th {\n",
       "        vertical-align: top;\n",
       "    }\n",
       "\n",
       "    .dataframe thead th {\n",
       "        text-align: right;\n",
       "    }\n",
       "</style>\n",
       "<table border=\"1\" class=\"dataframe\">\n",
       "  <thead>\n",
       "    <tr style=\"text-align: right;\">\n",
       "      <th></th>\n",
       "      <th>userId</th>\n",
       "      <th>rating</th>\n",
       "      <th>timestamp</th>\n",
       "    </tr>\n",
       "    <tr>\n",
       "      <th>movieId</th>\n",
       "      <th></th>\n",
       "      <th></th>\n",
       "      <th></th>\n",
       "    </tr>\n",
       "  </thead>\n",
       "  <tbody>\n",
       "    <tr>\n",
       "      <th>356</th>\n",
       "      <td>329</td>\n",
       "      <td>329</td>\n",
       "      <td>329</td>\n",
       "    </tr>\n",
       "    <tr>\n",
       "      <th>318</th>\n",
       "      <td>317</td>\n",
       "      <td>317</td>\n",
       "      <td>317</td>\n",
       "    </tr>\n",
       "    <tr>\n",
       "      <th>296</th>\n",
       "      <td>307</td>\n",
       "      <td>307</td>\n",
       "      <td>307</td>\n",
       "    </tr>\n",
       "    <tr>\n",
       "      <th>593</th>\n",
       "      <td>279</td>\n",
       "      <td>279</td>\n",
       "      <td>279</td>\n",
       "    </tr>\n",
       "    <tr>\n",
       "      <th>2571</th>\n",
       "      <td>278</td>\n",
       "      <td>278</td>\n",
       "      <td>278</td>\n",
       "    </tr>\n",
       "    <tr>\n",
       "      <th>260</th>\n",
       "      <td>251</td>\n",
       "      <td>251</td>\n",
       "      <td>251</td>\n",
       "    </tr>\n",
       "    <tr>\n",
       "      <th>480</th>\n",
       "      <td>238</td>\n",
       "      <td>238</td>\n",
       "      <td>238</td>\n",
       "    </tr>\n",
       "    <tr>\n",
       "      <th>110</th>\n",
       "      <td>237</td>\n",
       "      <td>237</td>\n",
       "      <td>237</td>\n",
       "    </tr>\n",
       "    <tr>\n",
       "      <th>589</th>\n",
       "      <td>224</td>\n",
       "      <td>224</td>\n",
       "      <td>224</td>\n",
       "    </tr>\n",
       "    <tr>\n",
       "      <th>527</th>\n",
       "      <td>220</td>\n",
       "      <td>220</td>\n",
       "      <td>220</td>\n",
       "    </tr>\n",
       "  </tbody>\n",
       "</table>\n",
       "</div>"
      ],
      "text/plain": [
       "         userId  rating  timestamp\n",
       "movieId                           \n",
       "356         329     329        329\n",
       "318         317     317        317\n",
       "296         307     307        307\n",
       "593         279     279        279\n",
       "2571        278     278        278\n",
       "260         251     251        251\n",
       "480         238     238        238\n",
       "110         237     237        237\n",
       "589         224     224        224\n",
       "527         220     220        220"
      ]
     },
     "execution_count": 17,
     "metadata": {},
     "output_type": "execute_result"
    }
   ],
   "source": [
    "# The 10 movies with the most reviews\n",
    "ratings_df.groupby('movieId').count().sort_values('userId', ascending=False).head(10)"
   ]
  },
  {
   "cell_type": "code",
   "execution_count": 18,
   "metadata": {
    "ExecuteTime": {
     "end_time": "2023-01-25T20:40:17.185614Z",
     "start_time": "2023-01-25T20:40:17.156582Z"
    }
   },
   "outputs": [
    {
     "data": {
      "text/html": [
       "<div>\n",
       "<style scoped>\n",
       "    .dataframe tbody tr th:only-of-type {\n",
       "        vertical-align: middle;\n",
       "    }\n",
       "\n",
       "    .dataframe tbody tr th {\n",
       "        vertical-align: top;\n",
       "    }\n",
       "\n",
       "    .dataframe thead th {\n",
       "        text-align: right;\n",
       "    }\n",
       "</style>\n",
       "<table border=\"1\" class=\"dataframe\">\n",
       "  <thead>\n",
       "    <tr style=\"text-align: right;\">\n",
       "      <th></th>\n",
       "      <th>userId</th>\n",
       "      <th>rating</th>\n",
       "      <th>timestamp</th>\n",
       "    </tr>\n",
       "    <tr>\n",
       "      <th>movieId</th>\n",
       "      <th></th>\n",
       "      <th></th>\n",
       "      <th></th>\n",
       "    </tr>\n",
       "  </thead>\n",
       "  <tbody>\n",
       "    <tr>\n",
       "      <th>88448</th>\n",
       "      <td>483.0</td>\n",
       "      <td>5.0</td>\n",
       "      <td>1.315438e+09</td>\n",
       "    </tr>\n",
       "    <tr>\n",
       "      <th>100556</th>\n",
       "      <td>462.0</td>\n",
       "      <td>5.0</td>\n",
       "      <td>1.456151e+09</td>\n",
       "    </tr>\n",
       "    <tr>\n",
       "      <th>143031</th>\n",
       "      <td>89.0</td>\n",
       "      <td>5.0</td>\n",
       "      <td>1.520409e+09</td>\n",
       "    </tr>\n",
       "    <tr>\n",
       "      <th>143511</th>\n",
       "      <td>105.0</td>\n",
       "      <td>5.0</td>\n",
       "      <td>1.526207e+09</td>\n",
       "    </tr>\n",
       "    <tr>\n",
       "      <th>143559</th>\n",
       "      <td>89.0</td>\n",
       "      <td>5.0</td>\n",
       "      <td>1.520410e+09</td>\n",
       "    </tr>\n",
       "    <tr>\n",
       "      <th>6201</th>\n",
       "      <td>474.0</td>\n",
       "      <td>5.0</td>\n",
       "      <td>1.100120e+09</td>\n",
       "    </tr>\n",
       "    <tr>\n",
       "      <th>102217</th>\n",
       "      <td>63.0</td>\n",
       "      <td>5.0</td>\n",
       "      <td>1.443200e+09</td>\n",
       "    </tr>\n",
       "    <tr>\n",
       "      <th>102084</th>\n",
       "      <td>380.0</td>\n",
       "      <td>5.0</td>\n",
       "      <td>1.493422e+09</td>\n",
       "    </tr>\n",
       "    <tr>\n",
       "      <th>6192</th>\n",
       "      <td>182.0</td>\n",
       "      <td>5.0</td>\n",
       "      <td>1.063275e+09</td>\n",
       "    </tr>\n",
       "    <tr>\n",
       "      <th>145994</th>\n",
       "      <td>105.0</td>\n",
       "      <td>5.0</td>\n",
       "      <td>1.526207e+09</td>\n",
       "    </tr>\n",
       "  </tbody>\n",
       "</table>\n",
       "</div>"
      ],
      "text/plain": [
       "         userId  rating     timestamp\n",
       "movieId                              \n",
       "88448     483.0     5.0  1.315438e+09\n",
       "100556    462.0     5.0  1.456151e+09\n",
       "143031     89.0     5.0  1.520409e+09\n",
       "143511    105.0     5.0  1.526207e+09\n",
       "143559     89.0     5.0  1.520410e+09\n",
       "6201      474.0     5.0  1.100120e+09\n",
       "102217     63.0     5.0  1.443200e+09\n",
       "102084    380.0     5.0  1.493422e+09\n",
       "6192      182.0     5.0  1.063275e+09\n",
       "145994    105.0     5.0  1.526207e+09"
      ]
     },
     "execution_count": 18,
     "metadata": {},
     "output_type": "execute_result"
    }
   ],
   "source": [
    "# the 10 movies with the highest ratings\n",
    "ratings_df.groupby('movieId').mean().sort_values('rating', ascending=False).head(10)"
   ]
  },
  {
   "cell_type": "code",
   "execution_count": 19,
   "metadata": {
    "ExecuteTime": {
     "end_time": "2023-01-25T20:40:17.588819Z",
     "start_time": "2023-01-25T20:40:17.566120Z"
    }
   },
   "outputs": [
    {
     "data": {
      "text/html": [
       "<div>\n",
       "<style scoped>\n",
       "    .dataframe tbody tr th:only-of-type {\n",
       "        vertical-align: middle;\n",
       "    }\n",
       "\n",
       "    .dataframe tbody tr th {\n",
       "        vertical-align: top;\n",
       "    }\n",
       "\n",
       "    .dataframe thead th {\n",
       "        text-align: right;\n",
       "    }\n",
       "</style>\n",
       "<table border=\"1\" class=\"dataframe\">\n",
       "  <thead>\n",
       "    <tr style=\"text-align: right;\">\n",
       "      <th></th>\n",
       "      <th>movieId</th>\n",
       "      <th>rating</th>\n",
       "      <th>timestamp</th>\n",
       "    </tr>\n",
       "    <tr>\n",
       "      <th>userId</th>\n",
       "      <th></th>\n",
       "      <th></th>\n",
       "      <th></th>\n",
       "    </tr>\n",
       "  </thead>\n",
       "  <tbody>\n",
       "    <tr>\n",
       "      <th>414</th>\n",
       "      <td>2698</td>\n",
       "      <td>2698</td>\n",
       "      <td>2698</td>\n",
       "    </tr>\n",
       "    <tr>\n",
       "      <th>599</th>\n",
       "      <td>2478</td>\n",
       "      <td>2478</td>\n",
       "      <td>2478</td>\n",
       "    </tr>\n",
       "    <tr>\n",
       "      <th>474</th>\n",
       "      <td>2108</td>\n",
       "      <td>2108</td>\n",
       "      <td>2108</td>\n",
       "    </tr>\n",
       "    <tr>\n",
       "      <th>448</th>\n",
       "      <td>1864</td>\n",
       "      <td>1864</td>\n",
       "      <td>1864</td>\n",
       "    </tr>\n",
       "    <tr>\n",
       "      <th>274</th>\n",
       "      <td>1346</td>\n",
       "      <td>1346</td>\n",
       "      <td>1346</td>\n",
       "    </tr>\n",
       "    <tr>\n",
       "      <th>610</th>\n",
       "      <td>1302</td>\n",
       "      <td>1302</td>\n",
       "      <td>1302</td>\n",
       "    </tr>\n",
       "    <tr>\n",
       "      <th>68</th>\n",
       "      <td>1260</td>\n",
       "      <td>1260</td>\n",
       "      <td>1260</td>\n",
       "    </tr>\n",
       "    <tr>\n",
       "      <th>380</th>\n",
       "      <td>1218</td>\n",
       "      <td>1218</td>\n",
       "      <td>1218</td>\n",
       "    </tr>\n",
       "    <tr>\n",
       "      <th>606</th>\n",
       "      <td>1115</td>\n",
       "      <td>1115</td>\n",
       "      <td>1115</td>\n",
       "    </tr>\n",
       "    <tr>\n",
       "      <th>288</th>\n",
       "      <td>1055</td>\n",
       "      <td>1055</td>\n",
       "      <td>1055</td>\n",
       "    </tr>\n",
       "  </tbody>\n",
       "</table>\n",
       "</div>"
      ],
      "text/plain": [
       "        movieId  rating  timestamp\n",
       "userId                            \n",
       "414        2698    2698       2698\n",
       "599        2478    2478       2478\n",
       "474        2108    2108       2108\n",
       "448        1864    1864       1864\n",
       "274        1346    1346       1346\n",
       "610        1302    1302       1302\n",
       "68         1260    1260       1260\n",
       "380        1218    1218       1218\n",
       "606        1115    1115       1115\n",
       "288        1055    1055       1055"
      ]
     },
     "execution_count": 19,
     "metadata": {},
     "output_type": "execute_result"
    }
   ],
   "source": [
    "# the 10 users with the most reviews\n",
    "ratings_df.groupby('userId').count().sort_values('rating', ascending=False).head(10)"
   ]
  },
  {
   "cell_type": "markdown",
   "metadata": {},
   "source": [
    "This will be the primary datafile for this analysis. It includes relevant information including `userId`, `rating`, and `movieId`. `timestamp` is not relevant for this analysis and will be dropped."
   ]
  },
  {
   "cell_type": "code",
   "execution_count": 20,
   "metadata": {
    "ExecuteTime": {
     "end_time": "2023-01-25T20:40:18.378088Z",
     "start_time": "2023-01-25T20:40:18.372087Z"
    }
   },
   "outputs": [],
   "source": [
    "ratings_df.drop('timestamp', axis=1, inplace=True)"
   ]
  },
  {
   "cell_type": "markdown",
   "metadata": {},
   "source": [
    "### Exploring `tags_df`"
   ]
  },
  {
   "cell_type": "code",
   "execution_count": 21,
   "metadata": {
    "ExecuteTime": {
     "end_time": "2023-01-25T20:40:19.155187Z",
     "start_time": "2023-01-25T20:40:19.148584Z"
    }
   },
   "outputs": [
    {
     "data": {
      "text/html": [
       "<div>\n",
       "<style scoped>\n",
       "    .dataframe tbody tr th:only-of-type {\n",
       "        vertical-align: middle;\n",
       "    }\n",
       "\n",
       "    .dataframe tbody tr th {\n",
       "        vertical-align: top;\n",
       "    }\n",
       "\n",
       "    .dataframe thead th {\n",
       "        text-align: right;\n",
       "    }\n",
       "</style>\n",
       "<table border=\"1\" class=\"dataframe\">\n",
       "  <thead>\n",
       "    <tr style=\"text-align: right;\">\n",
       "      <th></th>\n",
       "      <th>userId</th>\n",
       "      <th>movieId</th>\n",
       "      <th>tag</th>\n",
       "      <th>timestamp</th>\n",
       "    </tr>\n",
       "  </thead>\n",
       "  <tbody>\n",
       "    <tr>\n",
       "      <th>0</th>\n",
       "      <td>2</td>\n",
       "      <td>60756</td>\n",
       "      <td>funny</td>\n",
       "      <td>1445714994</td>\n",
       "    </tr>\n",
       "    <tr>\n",
       "      <th>1</th>\n",
       "      <td>2</td>\n",
       "      <td>60756</td>\n",
       "      <td>Highly quotable</td>\n",
       "      <td>1445714996</td>\n",
       "    </tr>\n",
       "    <tr>\n",
       "      <th>2</th>\n",
       "      <td>2</td>\n",
       "      <td>60756</td>\n",
       "      <td>will ferrell</td>\n",
       "      <td>1445714992</td>\n",
       "    </tr>\n",
       "    <tr>\n",
       "      <th>3</th>\n",
       "      <td>2</td>\n",
       "      <td>89774</td>\n",
       "      <td>Boxing story</td>\n",
       "      <td>1445715207</td>\n",
       "    </tr>\n",
       "    <tr>\n",
       "      <th>4</th>\n",
       "      <td>2</td>\n",
       "      <td>89774</td>\n",
       "      <td>MMA</td>\n",
       "      <td>1445715200</td>\n",
       "    </tr>\n",
       "  </tbody>\n",
       "</table>\n",
       "</div>"
      ],
      "text/plain": [
       "   userId  movieId              tag   timestamp\n",
       "0       2    60756            funny  1445714994\n",
       "1       2    60756  Highly quotable  1445714996\n",
       "2       2    60756     will ferrell  1445714992\n",
       "3       2    89774     Boxing story  1445715207\n",
       "4       2    89774              MMA  1445715200"
      ]
     },
     "execution_count": 21,
     "metadata": {},
     "output_type": "execute_result"
    }
   ],
   "source": [
    "tags_df.head()"
   ]
  },
  {
   "cell_type": "code",
   "execution_count": 22,
   "metadata": {
    "ExecuteTime": {
     "end_time": "2023-01-25T20:40:19.417455Z",
     "start_time": "2023-01-25T20:40:19.404444Z"
    }
   },
   "outputs": [
    {
     "data": {
      "text/plain": [
       "userId       0\n",
       "movieId      0\n",
       "tag          0\n",
       "timestamp    0\n",
       "dtype: int64"
      ]
     },
     "execution_count": 22,
     "metadata": {},
     "output_type": "execute_result"
    }
   ],
   "source": [
    "tags_df.isna().sum()"
   ]
  },
  {
   "cell_type": "code",
   "execution_count": 23,
   "metadata": {
    "ExecuteTime": {
     "end_time": "2023-01-25T20:40:19.589139Z",
     "start_time": "2023-01-25T20:40:19.572633Z"
    }
   },
   "outputs": [
    {
     "data": {
      "text/html": [
       "<div>\n",
       "<style scoped>\n",
       "    .dataframe tbody tr th:only-of-type {\n",
       "        vertical-align: middle;\n",
       "    }\n",
       "\n",
       "    .dataframe tbody tr th {\n",
       "        vertical-align: top;\n",
       "    }\n",
       "\n",
       "    .dataframe thead th {\n",
       "        text-align: right;\n",
       "    }\n",
       "</style>\n",
       "<table border=\"1\" class=\"dataframe\">\n",
       "  <thead>\n",
       "    <tr style=\"text-align: right;\">\n",
       "      <th></th>\n",
       "      <th>movieId</th>\n",
       "      <th>tag</th>\n",
       "      <th>timestamp</th>\n",
       "    </tr>\n",
       "    <tr>\n",
       "      <th>userId</th>\n",
       "      <th></th>\n",
       "      <th></th>\n",
       "      <th></th>\n",
       "    </tr>\n",
       "  </thead>\n",
       "  <tbody>\n",
       "    <tr>\n",
       "      <th>474</th>\n",
       "      <td>1507</td>\n",
       "      <td>1507</td>\n",
       "      <td>1507</td>\n",
       "    </tr>\n",
       "    <tr>\n",
       "      <th>567</th>\n",
       "      <td>432</td>\n",
       "      <td>432</td>\n",
       "      <td>432</td>\n",
       "    </tr>\n",
       "    <tr>\n",
       "      <th>62</th>\n",
       "      <td>370</td>\n",
       "      <td>370</td>\n",
       "      <td>370</td>\n",
       "    </tr>\n",
       "    <tr>\n",
       "      <th>599</th>\n",
       "      <td>323</td>\n",
       "      <td>323</td>\n",
       "      <td>323</td>\n",
       "    </tr>\n",
       "    <tr>\n",
       "      <th>477</th>\n",
       "      <td>280</td>\n",
       "      <td>280</td>\n",
       "      <td>280</td>\n",
       "    </tr>\n",
       "    <tr>\n",
       "      <th>424</th>\n",
       "      <td>273</td>\n",
       "      <td>273</td>\n",
       "      <td>273</td>\n",
       "    </tr>\n",
       "    <tr>\n",
       "      <th>537</th>\n",
       "      <td>100</td>\n",
       "      <td>100</td>\n",
       "      <td>100</td>\n",
       "    </tr>\n",
       "    <tr>\n",
       "      <th>125</th>\n",
       "      <td>48</td>\n",
       "      <td>48</td>\n",
       "      <td>48</td>\n",
       "    </tr>\n",
       "    <tr>\n",
       "      <th>357</th>\n",
       "      <td>45</td>\n",
       "      <td>45</td>\n",
       "      <td>45</td>\n",
       "    </tr>\n",
       "    <tr>\n",
       "      <th>318</th>\n",
       "      <td>41</td>\n",
       "      <td>41</td>\n",
       "      <td>41</td>\n",
       "    </tr>\n",
       "  </tbody>\n",
       "</table>\n",
       "</div>"
      ],
      "text/plain": [
       "        movieId   tag  timestamp\n",
       "userId                          \n",
       "474        1507  1507       1507\n",
       "567         432   432        432\n",
       "62          370   370        370\n",
       "599         323   323        323\n",
       "477         280   280        280\n",
       "424         273   273        273\n",
       "537         100   100        100\n",
       "125          48    48         48\n",
       "357          45    45         45\n",
       "318          41    41         41"
      ]
     },
     "execution_count": 23,
     "metadata": {},
     "output_type": "execute_result"
    }
   ],
   "source": [
    "# users with the most comments on movies\n",
    "tags_df.groupby('userId').count().sort_values('tag', ascending=False).head(10)"
   ]
  },
  {
   "cell_type": "markdown",
   "metadata": {},
   "source": [
    "This will be helpful for analysis as it provides keyword insights to each of the films. `timestamp` will not be helpful for this analysis and will be dropped later."
   ]
  },
  {
   "cell_type": "markdown",
   "metadata": {},
   "source": [
    "### Creating a New DataFrame with Relevant Data"
   ]
  },
  {
   "cell_type": "markdown",
   "metadata": {},
   "source": [
    "To better understand and work with the separate files, they have been merged to one, larger working file. "
   ]
  },
  {
   "cell_type": "code",
   "execution_count": 24,
   "metadata": {
    "ExecuteTime": {
     "end_time": "2023-01-25T20:40:21.048437Z",
     "start_time": "2023-01-25T20:40:21.028414Z"
    }
   },
   "outputs": [],
   "source": [
    "# Merging the ratings data with movie titles and genres\n",
    "merged_df = ratings_df.merge(movies_df, how='outer', on='movieId')"
   ]
  },
  {
   "cell_type": "code",
   "execution_count": 25,
   "metadata": {
    "ExecuteTime": {
     "end_time": "2023-01-25T20:40:21.547206Z",
     "start_time": "2023-01-25T20:40:21.532444Z"
    }
   },
   "outputs": [
    {
     "data": {
      "text/html": [
       "<div>\n",
       "<style scoped>\n",
       "    .dataframe tbody tr th:only-of-type {\n",
       "        vertical-align: middle;\n",
       "    }\n",
       "\n",
       "    .dataframe tbody tr th {\n",
       "        vertical-align: top;\n",
       "    }\n",
       "\n",
       "    .dataframe thead th {\n",
       "        text-align: right;\n",
       "    }\n",
       "</style>\n",
       "<table border=\"1\" class=\"dataframe\">\n",
       "  <thead>\n",
       "    <tr style=\"text-align: right;\">\n",
       "      <th></th>\n",
       "      <th>userId</th>\n",
       "      <th>movieId</th>\n",
       "      <th>rating</th>\n",
       "      <th>title</th>\n",
       "      <th>genres</th>\n",
       "      <th>split_genres</th>\n",
       "    </tr>\n",
       "  </thead>\n",
       "  <tbody>\n",
       "    <tr>\n",
       "      <th>0</th>\n",
       "      <td>1.0</td>\n",
       "      <td>1</td>\n",
       "      <td>4.0</td>\n",
       "      <td>Toy Story (1995)</td>\n",
       "      <td>adventure|animation|children|comedy|fantasy</td>\n",
       "      <td>[adventure, animation, children, comedy, fantasy]</td>\n",
       "    </tr>\n",
       "    <tr>\n",
       "      <th>1</th>\n",
       "      <td>5.0</td>\n",
       "      <td>1</td>\n",
       "      <td>4.0</td>\n",
       "      <td>Toy Story (1995)</td>\n",
       "      <td>adventure|animation|children|comedy|fantasy</td>\n",
       "      <td>[adventure, animation, children, comedy, fantasy]</td>\n",
       "    </tr>\n",
       "    <tr>\n",
       "      <th>2</th>\n",
       "      <td>7.0</td>\n",
       "      <td>1</td>\n",
       "      <td>4.5</td>\n",
       "      <td>Toy Story (1995)</td>\n",
       "      <td>adventure|animation|children|comedy|fantasy</td>\n",
       "      <td>[adventure, animation, children, comedy, fantasy]</td>\n",
       "    </tr>\n",
       "    <tr>\n",
       "      <th>3</th>\n",
       "      <td>15.0</td>\n",
       "      <td>1</td>\n",
       "      <td>2.5</td>\n",
       "      <td>Toy Story (1995)</td>\n",
       "      <td>adventure|animation|children|comedy|fantasy</td>\n",
       "      <td>[adventure, animation, children, comedy, fantasy]</td>\n",
       "    </tr>\n",
       "    <tr>\n",
       "      <th>4</th>\n",
       "      <td>17.0</td>\n",
       "      <td>1</td>\n",
       "      <td>4.5</td>\n",
       "      <td>Toy Story (1995)</td>\n",
       "      <td>adventure|animation|children|comedy|fantasy</td>\n",
       "      <td>[adventure, animation, children, comedy, fantasy]</td>\n",
       "    </tr>\n",
       "  </tbody>\n",
       "</table>\n",
       "</div>"
      ],
      "text/plain": [
       "   userId  movieId  rating             title  \\\n",
       "0     1.0        1     4.0  Toy Story (1995)   \n",
       "1     5.0        1     4.0  Toy Story (1995)   \n",
       "2     7.0        1     4.5  Toy Story (1995)   \n",
       "3    15.0        1     2.5  Toy Story (1995)   \n",
       "4    17.0        1     4.5  Toy Story (1995)   \n",
       "\n",
       "                                        genres  \\\n",
       "0  adventure|animation|children|comedy|fantasy   \n",
       "1  adventure|animation|children|comedy|fantasy   \n",
       "2  adventure|animation|children|comedy|fantasy   \n",
       "3  adventure|animation|children|comedy|fantasy   \n",
       "4  adventure|animation|children|comedy|fantasy   \n",
       "\n",
       "                                        split_genres  \n",
       "0  [adventure, animation, children, comedy, fantasy]  \n",
       "1  [adventure, animation, children, comedy, fantasy]  \n",
       "2  [adventure, animation, children, comedy, fantasy]  \n",
       "3  [adventure, animation, children, comedy, fantasy]  \n",
       "4  [adventure, animation, children, comedy, fantasy]  "
      ]
     },
     "execution_count": 25,
     "metadata": {},
     "output_type": "execute_result"
    }
   ],
   "source": [
    "merged_df.head()"
   ]
  },
  {
   "cell_type": "code",
   "execution_count": 26,
   "metadata": {
    "ExecuteTime": {
     "end_time": "2023-01-25T20:40:21.964104Z",
     "start_time": "2023-01-25T20:40:21.940082Z"
    }
   },
   "outputs": [
    {
     "data": {
      "text/plain": [
       "userId          18\n",
       "movieId          0\n",
       "rating          18\n",
       "title            0\n",
       "genres           0\n",
       "split_genres     0\n",
       "dtype: int64"
      ]
     },
     "execution_count": 26,
     "metadata": {},
     "output_type": "execute_result"
    }
   ],
   "source": [
    "# Checking for nulls after merging\n",
    "merged_df.isna().sum()"
   ]
  },
  {
   "cell_type": "code",
   "execution_count": 27,
   "metadata": {
    "ExecuteTime": {
     "end_time": "2023-01-25T20:40:22.398725Z",
     "start_time": "2023-01-25T20:40:22.389210Z"
    }
   },
   "outputs": [
    {
     "data": {
      "text/html": [
       "<div>\n",
       "<style scoped>\n",
       "    .dataframe tbody tr th:only-of-type {\n",
       "        vertical-align: middle;\n",
       "    }\n",
       "\n",
       "    .dataframe tbody tr th {\n",
       "        vertical-align: top;\n",
       "    }\n",
       "\n",
       "    .dataframe thead th {\n",
       "        text-align: right;\n",
       "    }\n",
       "</style>\n",
       "<table border=\"1\" class=\"dataframe\">\n",
       "  <thead>\n",
       "    <tr style=\"text-align: right;\">\n",
       "      <th></th>\n",
       "      <th>userId</th>\n",
       "      <th>movieId</th>\n",
       "      <th>rating</th>\n",
       "      <th>title</th>\n",
       "      <th>genres</th>\n",
       "      <th>split_genres</th>\n",
       "    </tr>\n",
       "  </thead>\n",
       "  <tbody>\n",
       "    <tr>\n",
       "      <th>100834</th>\n",
       "      <td>610.0</td>\n",
       "      <td>163937</td>\n",
       "      <td>3.5</td>\n",
       "      <td>Blair Witch (2016)</td>\n",
       "      <td>horror|thriller</td>\n",
       "      <td>[horror, thriller]</td>\n",
       "    </tr>\n",
       "    <tr>\n",
       "      <th>100835</th>\n",
       "      <td>610.0</td>\n",
       "      <td>163981</td>\n",
       "      <td>3.5</td>\n",
       "      <td>31 (2016)</td>\n",
       "      <td>horror</td>\n",
       "      <td>[horror]</td>\n",
       "    </tr>\n",
       "    <tr>\n",
       "      <th>100836</th>\n",
       "      <td>NaN</td>\n",
       "      <td>1076</td>\n",
       "      <td>NaN</td>\n",
       "      <td>Innocents, The (1961)</td>\n",
       "      <td>drama|horror|thriller</td>\n",
       "      <td>[drama, horror, thriller]</td>\n",
       "    </tr>\n",
       "    <tr>\n",
       "      <th>100837</th>\n",
       "      <td>NaN</td>\n",
       "      <td>2939</td>\n",
       "      <td>NaN</td>\n",
       "      <td>Niagara (1953)</td>\n",
       "      <td>drama|thriller</td>\n",
       "      <td>[drama, thriller]</td>\n",
       "    </tr>\n",
       "    <tr>\n",
       "      <th>100838</th>\n",
       "      <td>NaN</td>\n",
       "      <td>3338</td>\n",
       "      <td>NaN</td>\n",
       "      <td>For All Mankind (1989)</td>\n",
       "      <td>documentary</td>\n",
       "      <td>[documentary]</td>\n",
       "    </tr>\n",
       "    <tr>\n",
       "      <th>100839</th>\n",
       "      <td>NaN</td>\n",
       "      <td>3456</td>\n",
       "      <td>NaN</td>\n",
       "      <td>Color of Paradise, The (Rang-e khoda) (1999)</td>\n",
       "      <td>drama</td>\n",
       "      <td>[drama]</td>\n",
       "    </tr>\n",
       "    <tr>\n",
       "      <th>100840</th>\n",
       "      <td>NaN</td>\n",
       "      <td>4194</td>\n",
       "      <td>NaN</td>\n",
       "      <td>I Know Where I'm Going! (1945)</td>\n",
       "      <td>drama|romance|war</td>\n",
       "      <td>[drama, romance, war]</td>\n",
       "    </tr>\n",
       "    <tr>\n",
       "      <th>100841</th>\n",
       "      <td>NaN</td>\n",
       "      <td>5721</td>\n",
       "      <td>NaN</td>\n",
       "      <td>Chosen, The (1981)</td>\n",
       "      <td>drama</td>\n",
       "      <td>[drama]</td>\n",
       "    </tr>\n",
       "    <tr>\n",
       "      <th>100842</th>\n",
       "      <td>NaN</td>\n",
       "      <td>6668</td>\n",
       "      <td>NaN</td>\n",
       "      <td>Road Home, The (Wo de fu qin mu qin) (1999)</td>\n",
       "      <td>drama|romance</td>\n",
       "      <td>[drama, romance]</td>\n",
       "    </tr>\n",
       "    <tr>\n",
       "      <th>100843</th>\n",
       "      <td>NaN</td>\n",
       "      <td>6849</td>\n",
       "      <td>NaN</td>\n",
       "      <td>Scrooge (1970)</td>\n",
       "      <td>drama|fantasy|musical</td>\n",
       "      <td>[drama, fantasy, musical]</td>\n",
       "    </tr>\n",
       "    <tr>\n",
       "      <th>100844</th>\n",
       "      <td>NaN</td>\n",
       "      <td>7020</td>\n",
       "      <td>NaN</td>\n",
       "      <td>Proof (1991)</td>\n",
       "      <td>comedy|drama|romance</td>\n",
       "      <td>[comedy, drama, romance]</td>\n",
       "    </tr>\n",
       "    <tr>\n",
       "      <th>100845</th>\n",
       "      <td>NaN</td>\n",
       "      <td>7792</td>\n",
       "      <td>NaN</td>\n",
       "      <td>Parallax View, The (1974)</td>\n",
       "      <td>thriller</td>\n",
       "      <td>[thriller]</td>\n",
       "    </tr>\n",
       "    <tr>\n",
       "      <th>100846</th>\n",
       "      <td>NaN</td>\n",
       "      <td>8765</td>\n",
       "      <td>NaN</td>\n",
       "      <td>This Gun for Hire (1942)</td>\n",
       "      <td>crime|film-noir|thriller</td>\n",
       "      <td>[crime, film-noir, thriller]</td>\n",
       "    </tr>\n",
       "    <tr>\n",
       "      <th>100847</th>\n",
       "      <td>NaN</td>\n",
       "      <td>25855</td>\n",
       "      <td>NaN</td>\n",
       "      <td>Roaring Twenties, The (1939)</td>\n",
       "      <td>crime|drama|thriller</td>\n",
       "      <td>[crime, drama, thriller]</td>\n",
       "    </tr>\n",
       "    <tr>\n",
       "      <th>100848</th>\n",
       "      <td>NaN</td>\n",
       "      <td>26085</td>\n",
       "      <td>NaN</td>\n",
       "      <td>Mutiny on the Bounty (1962)</td>\n",
       "      <td>adventure|drama|romance</td>\n",
       "      <td>[adventure, drama, romance]</td>\n",
       "    </tr>\n",
       "    <tr>\n",
       "      <th>100849</th>\n",
       "      <td>NaN</td>\n",
       "      <td>30892</td>\n",
       "      <td>NaN</td>\n",
       "      <td>In the Realms of the Unreal (2004)</td>\n",
       "      <td>animation|documentary</td>\n",
       "      <td>[animation, documentary]</td>\n",
       "    </tr>\n",
       "    <tr>\n",
       "      <th>100850</th>\n",
       "      <td>NaN</td>\n",
       "      <td>32160</td>\n",
       "      <td>NaN</td>\n",
       "      <td>Twentieth Century (1934)</td>\n",
       "      <td>comedy</td>\n",
       "      <td>[comedy]</td>\n",
       "    </tr>\n",
       "    <tr>\n",
       "      <th>100851</th>\n",
       "      <td>NaN</td>\n",
       "      <td>32371</td>\n",
       "      <td>NaN</td>\n",
       "      <td>Call Northside 777 (1948)</td>\n",
       "      <td>crime|drama|film-noir</td>\n",
       "      <td>[crime, drama, film-noir]</td>\n",
       "    </tr>\n",
       "    <tr>\n",
       "      <th>100852</th>\n",
       "      <td>NaN</td>\n",
       "      <td>34482</td>\n",
       "      <td>NaN</td>\n",
       "      <td>Browning Version, The (1951)</td>\n",
       "      <td>drama</td>\n",
       "      <td>[drama]</td>\n",
       "    </tr>\n",
       "    <tr>\n",
       "      <th>100853</th>\n",
       "      <td>NaN</td>\n",
       "      <td>85565</td>\n",
       "      <td>NaN</td>\n",
       "      <td>Chalet Girl (2011)</td>\n",
       "      <td>comedy|romance</td>\n",
       "      <td>[comedy, romance]</td>\n",
       "    </tr>\n",
       "  </tbody>\n",
       "</table>\n",
       "</div>"
      ],
      "text/plain": [
       "        userId  movieId  rating                                         title  \\\n",
       "100834   610.0   163937     3.5                            Blair Witch (2016)   \n",
       "100835   610.0   163981     3.5                                     31 (2016)   \n",
       "100836     NaN     1076     NaN                         Innocents, The (1961)   \n",
       "100837     NaN     2939     NaN                                Niagara (1953)   \n",
       "100838     NaN     3338     NaN                        For All Mankind (1989)   \n",
       "100839     NaN     3456     NaN  Color of Paradise, The (Rang-e khoda) (1999)   \n",
       "100840     NaN     4194     NaN                I Know Where I'm Going! (1945)   \n",
       "100841     NaN     5721     NaN                            Chosen, The (1981)   \n",
       "100842     NaN     6668     NaN   Road Home, The (Wo de fu qin mu qin) (1999)   \n",
       "100843     NaN     6849     NaN                                Scrooge (1970)   \n",
       "100844     NaN     7020     NaN                                  Proof (1991)   \n",
       "100845     NaN     7792     NaN                     Parallax View, The (1974)   \n",
       "100846     NaN     8765     NaN                      This Gun for Hire (1942)   \n",
       "100847     NaN    25855     NaN                  Roaring Twenties, The (1939)   \n",
       "100848     NaN    26085     NaN                   Mutiny on the Bounty (1962)   \n",
       "100849     NaN    30892     NaN            In the Realms of the Unreal (2004)   \n",
       "100850     NaN    32160     NaN                      Twentieth Century (1934)   \n",
       "100851     NaN    32371     NaN                     Call Northside 777 (1948)   \n",
       "100852     NaN    34482     NaN                  Browning Version, The (1951)   \n",
       "100853     NaN    85565     NaN                            Chalet Girl (2011)   \n",
       "\n",
       "                          genres                  split_genres  \n",
       "100834           horror|thriller            [horror, thriller]  \n",
       "100835                    horror                      [horror]  \n",
       "100836     drama|horror|thriller     [drama, horror, thriller]  \n",
       "100837            drama|thriller             [drama, thriller]  \n",
       "100838               documentary                 [documentary]  \n",
       "100839                     drama                       [drama]  \n",
       "100840         drama|romance|war         [drama, romance, war]  \n",
       "100841                     drama                       [drama]  \n",
       "100842             drama|romance              [drama, romance]  \n",
       "100843     drama|fantasy|musical     [drama, fantasy, musical]  \n",
       "100844      comedy|drama|romance      [comedy, drama, romance]  \n",
       "100845                  thriller                    [thriller]  \n",
       "100846  crime|film-noir|thriller  [crime, film-noir, thriller]  \n",
       "100847      crime|drama|thriller      [crime, drama, thriller]  \n",
       "100848   adventure|drama|romance   [adventure, drama, romance]  \n",
       "100849     animation|documentary      [animation, documentary]  \n",
       "100850                    comedy                      [comedy]  \n",
       "100851     crime|drama|film-noir     [crime, drama, film-noir]  \n",
       "100852                     drama                       [drama]  \n",
       "100853            comedy|romance             [comedy, romance]  "
      ]
     },
     "execution_count": 27,
     "metadata": {},
     "output_type": "execute_result"
    }
   ],
   "source": [
    "# 18 movies do not have any reviews \n",
    "merged_df.tail(20)"
   ]
  },
  {
   "cell_type": "code",
   "execution_count": 28,
   "metadata": {
    "ExecuteTime": {
     "end_time": "2023-01-25T20:40:22.832392Z",
     "start_time": "2023-01-25T20:40:22.812085Z"
    }
   },
   "outputs": [],
   "source": [
    "# Dropping nulls in data\n",
    "merged_df.dropna(inplace=True)"
   ]
  },
  {
   "cell_type": "code",
   "execution_count": 29,
   "metadata": {
    "ExecuteTime": {
     "end_time": "2023-01-25T20:40:23.809390Z",
     "start_time": "2023-01-25T20:40:23.788868Z"
    }
   },
   "outputs": [
    {
     "data": {
      "text/plain": [
       "userId          0\n",
       "movieId         0\n",
       "rating          0\n",
       "title           0\n",
       "genres          0\n",
       "split_genres    0\n",
       "dtype: int64"
      ]
     },
     "execution_count": 29,
     "metadata": {},
     "output_type": "execute_result"
    }
   ],
   "source": [
    "merged_df.isna().sum()"
   ]
  },
  {
   "cell_type": "code",
   "execution_count": 30,
   "metadata": {
    "ExecuteTime": {
     "end_time": "2023-01-25T20:40:24.352894Z",
     "start_time": "2023-01-25T20:40:24.340371Z"
    }
   },
   "outputs": [
    {
     "data": {
      "text/plain": [
       "(100836, 6)"
      ]
     },
     "execution_count": 30,
     "metadata": {},
     "output_type": "execute_result"
    }
   ],
   "source": [
    "merged_df.shape"
   ]
  },
  {
   "cell_type": "code",
   "execution_count": 31,
   "metadata": {
    "ExecuteTime": {
     "end_time": "2023-01-25T20:40:24.898669Z",
     "start_time": "2023-01-25T20:40:24.892609Z"
    }
   },
   "outputs": [
    {
     "data": {
      "text/plain": [
       "9724"
      ]
     },
     "execution_count": 31,
     "metadata": {},
     "output_type": "execute_result"
    }
   ],
   "source": [
    "merged_df['movieId'].nunique()"
   ]
  },
  {
   "cell_type": "markdown",
   "metadata": {},
   "source": [
    "We have a cleaned dataframe with 100836 reviews for 9724 movies."
   ]
  },
  {
   "cell_type": "markdown",
   "metadata": {},
   "source": [
    "#### **Additional EDA that likely can be dropped for final notebook**"
   ]
  },
  {
   "cell_type": "code",
   "execution_count": 32,
   "metadata": {
    "ExecuteTime": {
     "end_time": "2023-01-25T20:40:26.238361Z",
     "start_time": "2023-01-25T20:40:26.133131Z"
    }
   },
   "outputs": [],
   "source": [
    "# creating a sparse matrix pivot table that has all users as the index and all movies as the columns\n",
    "pivot_test = merged_df.pivot_table(index='userId', columns='title', values='rating')"
   ]
  },
  {
   "cell_type": "code",
   "execution_count": 33,
   "metadata": {
    "ExecuteTime": {
     "end_time": "2023-01-25T20:40:26.534436Z",
     "start_time": "2023-01-25T20:40:26.518346Z"
    },
    "scrolled": true
   },
   "outputs": [
    {
     "data": {
      "text/html": [
       "<div>\n",
       "<style scoped>\n",
       "    .dataframe tbody tr th:only-of-type {\n",
       "        vertical-align: middle;\n",
       "    }\n",
       "\n",
       "    .dataframe tbody tr th {\n",
       "        vertical-align: top;\n",
       "    }\n",
       "\n",
       "    .dataframe thead th {\n",
       "        text-align: right;\n",
       "    }\n",
       "</style>\n",
       "<table border=\"1\" class=\"dataframe\">\n",
       "  <thead>\n",
       "    <tr style=\"text-align: right;\">\n",
       "      <th>title</th>\n",
       "      <th>'71 (2014)</th>\n",
       "      <th>'Hellboy': The Seeds of Creation (2004)</th>\n",
       "      <th>'Round Midnight (1986)</th>\n",
       "      <th>'Salem's Lot (2004)</th>\n",
       "      <th>'Til There Was You (1997)</th>\n",
       "      <th>'Tis the Season for Love (2015)</th>\n",
       "      <th>'burbs, The (1989)</th>\n",
       "      <th>'night Mother (1986)</th>\n",
       "      <th>(500) Days of Summer (2009)</th>\n",
       "      <th>*batteries not included (1987)</th>\n",
       "      <th>...</th>\n",
       "      <th>Zulu (2013)</th>\n",
       "      <th>[REC] (2007)</th>\n",
       "      <th>[REC]² (2009)</th>\n",
       "      <th>[REC]³ 3 Génesis (2012)</th>\n",
       "      <th>anohana: The Flower We Saw That Day - The Movie (2013)</th>\n",
       "      <th>eXistenZ (1999)</th>\n",
       "      <th>xXx (2002)</th>\n",
       "      <th>xXx: State of the Union (2005)</th>\n",
       "      <th>¡Three Amigos! (1986)</th>\n",
       "      <th>À nous la liberté (Freedom for Us) (1931)</th>\n",
       "    </tr>\n",
       "    <tr>\n",
       "      <th>userId</th>\n",
       "      <th></th>\n",
       "      <th></th>\n",
       "      <th></th>\n",
       "      <th></th>\n",
       "      <th></th>\n",
       "      <th></th>\n",
       "      <th></th>\n",
       "      <th></th>\n",
       "      <th></th>\n",
       "      <th></th>\n",
       "      <th></th>\n",
       "      <th></th>\n",
       "      <th></th>\n",
       "      <th></th>\n",
       "      <th></th>\n",
       "      <th></th>\n",
       "      <th></th>\n",
       "      <th></th>\n",
       "      <th></th>\n",
       "      <th></th>\n",
       "      <th></th>\n",
       "    </tr>\n",
       "  </thead>\n",
       "  <tbody>\n",
       "    <tr>\n",
       "      <th>1.0</th>\n",
       "      <td>NaN</td>\n",
       "      <td>NaN</td>\n",
       "      <td>NaN</td>\n",
       "      <td>NaN</td>\n",
       "      <td>NaN</td>\n",
       "      <td>NaN</td>\n",
       "      <td>NaN</td>\n",
       "      <td>NaN</td>\n",
       "      <td>NaN</td>\n",
       "      <td>NaN</td>\n",
       "      <td>...</td>\n",
       "      <td>NaN</td>\n",
       "      <td>NaN</td>\n",
       "      <td>NaN</td>\n",
       "      <td>NaN</td>\n",
       "      <td>NaN</td>\n",
       "      <td>NaN</td>\n",
       "      <td>NaN</td>\n",
       "      <td>NaN</td>\n",
       "      <td>4.0</td>\n",
       "      <td>NaN</td>\n",
       "    </tr>\n",
       "    <tr>\n",
       "      <th>2.0</th>\n",
       "      <td>NaN</td>\n",
       "      <td>NaN</td>\n",
       "      <td>NaN</td>\n",
       "      <td>NaN</td>\n",
       "      <td>NaN</td>\n",
       "      <td>NaN</td>\n",
       "      <td>NaN</td>\n",
       "      <td>NaN</td>\n",
       "      <td>NaN</td>\n",
       "      <td>NaN</td>\n",
       "      <td>...</td>\n",
       "      <td>NaN</td>\n",
       "      <td>NaN</td>\n",
       "      <td>NaN</td>\n",
       "      <td>NaN</td>\n",
       "      <td>NaN</td>\n",
       "      <td>NaN</td>\n",
       "      <td>NaN</td>\n",
       "      <td>NaN</td>\n",
       "      <td>NaN</td>\n",
       "      <td>NaN</td>\n",
       "    </tr>\n",
       "    <tr>\n",
       "      <th>3.0</th>\n",
       "      <td>NaN</td>\n",
       "      <td>NaN</td>\n",
       "      <td>NaN</td>\n",
       "      <td>NaN</td>\n",
       "      <td>NaN</td>\n",
       "      <td>NaN</td>\n",
       "      <td>NaN</td>\n",
       "      <td>NaN</td>\n",
       "      <td>NaN</td>\n",
       "      <td>NaN</td>\n",
       "      <td>...</td>\n",
       "      <td>NaN</td>\n",
       "      <td>NaN</td>\n",
       "      <td>NaN</td>\n",
       "      <td>NaN</td>\n",
       "      <td>NaN</td>\n",
       "      <td>NaN</td>\n",
       "      <td>NaN</td>\n",
       "      <td>NaN</td>\n",
       "      <td>NaN</td>\n",
       "      <td>NaN</td>\n",
       "    </tr>\n",
       "    <tr>\n",
       "      <th>4.0</th>\n",
       "      <td>NaN</td>\n",
       "      <td>NaN</td>\n",
       "      <td>NaN</td>\n",
       "      <td>NaN</td>\n",
       "      <td>NaN</td>\n",
       "      <td>NaN</td>\n",
       "      <td>NaN</td>\n",
       "      <td>NaN</td>\n",
       "      <td>NaN</td>\n",
       "      <td>NaN</td>\n",
       "      <td>...</td>\n",
       "      <td>NaN</td>\n",
       "      <td>NaN</td>\n",
       "      <td>NaN</td>\n",
       "      <td>NaN</td>\n",
       "      <td>NaN</td>\n",
       "      <td>NaN</td>\n",
       "      <td>NaN</td>\n",
       "      <td>NaN</td>\n",
       "      <td>NaN</td>\n",
       "      <td>NaN</td>\n",
       "    </tr>\n",
       "    <tr>\n",
       "      <th>5.0</th>\n",
       "      <td>NaN</td>\n",
       "      <td>NaN</td>\n",
       "      <td>NaN</td>\n",
       "      <td>NaN</td>\n",
       "      <td>NaN</td>\n",
       "      <td>NaN</td>\n",
       "      <td>NaN</td>\n",
       "      <td>NaN</td>\n",
       "      <td>NaN</td>\n",
       "      <td>NaN</td>\n",
       "      <td>...</td>\n",
       "      <td>NaN</td>\n",
       "      <td>NaN</td>\n",
       "      <td>NaN</td>\n",
       "      <td>NaN</td>\n",
       "      <td>NaN</td>\n",
       "      <td>NaN</td>\n",
       "      <td>NaN</td>\n",
       "      <td>NaN</td>\n",
       "      <td>NaN</td>\n",
       "      <td>NaN</td>\n",
       "    </tr>\n",
       "  </tbody>\n",
       "</table>\n",
       "<p>5 rows × 9719 columns</p>\n",
       "</div>"
      ],
      "text/plain": [
       "title   '71 (2014)  'Hellboy': The Seeds of Creation (2004)  \\\n",
       "userId                                                        \n",
       "1.0            NaN                                      NaN   \n",
       "2.0            NaN                                      NaN   \n",
       "3.0            NaN                                      NaN   \n",
       "4.0            NaN                                      NaN   \n",
       "5.0            NaN                                      NaN   \n",
       "\n",
       "title   'Round Midnight (1986)  'Salem's Lot (2004)  \\\n",
       "userId                                                \n",
       "1.0                        NaN                  NaN   \n",
       "2.0                        NaN                  NaN   \n",
       "3.0                        NaN                  NaN   \n",
       "4.0                        NaN                  NaN   \n",
       "5.0                        NaN                  NaN   \n",
       "\n",
       "title   'Til There Was You (1997)  'Tis the Season for Love (2015)  \\\n",
       "userId                                                               \n",
       "1.0                           NaN                              NaN   \n",
       "2.0                           NaN                              NaN   \n",
       "3.0                           NaN                              NaN   \n",
       "4.0                           NaN                              NaN   \n",
       "5.0                           NaN                              NaN   \n",
       "\n",
       "title   'burbs, The (1989)  'night Mother (1986)  (500) Days of Summer (2009)  \\\n",
       "userId                                                                          \n",
       "1.0                    NaN                   NaN                          NaN   \n",
       "2.0                    NaN                   NaN                          NaN   \n",
       "3.0                    NaN                   NaN                          NaN   \n",
       "4.0                    NaN                   NaN                          NaN   \n",
       "5.0                    NaN                   NaN                          NaN   \n",
       "\n",
       "title   *batteries not included (1987)  ...  Zulu (2013)  [REC] (2007)  \\\n",
       "userId                                  ...                              \n",
       "1.0                                NaN  ...          NaN           NaN   \n",
       "2.0                                NaN  ...          NaN           NaN   \n",
       "3.0                                NaN  ...          NaN           NaN   \n",
       "4.0                                NaN  ...          NaN           NaN   \n",
       "5.0                                NaN  ...          NaN           NaN   \n",
       "\n",
       "title   [REC]² (2009)  [REC]³ 3 Génesis (2012)  \\\n",
       "userId                                           \n",
       "1.0               NaN                      NaN   \n",
       "2.0               NaN                      NaN   \n",
       "3.0               NaN                      NaN   \n",
       "4.0               NaN                      NaN   \n",
       "5.0               NaN                      NaN   \n",
       "\n",
       "title   anohana: The Flower We Saw That Day - The Movie (2013)  \\\n",
       "userId                                                           \n",
       "1.0                                                   NaN        \n",
       "2.0                                                   NaN        \n",
       "3.0                                                   NaN        \n",
       "4.0                                                   NaN        \n",
       "5.0                                                   NaN        \n",
       "\n",
       "title   eXistenZ (1999)  xXx (2002)  xXx: State of the Union (2005)  \\\n",
       "userId                                                                \n",
       "1.0                 NaN         NaN                             NaN   \n",
       "2.0                 NaN         NaN                             NaN   \n",
       "3.0                 NaN         NaN                             NaN   \n",
       "4.0                 NaN         NaN                             NaN   \n",
       "5.0                 NaN         NaN                             NaN   \n",
       "\n",
       "title   ¡Three Amigos! (1986)  À nous la liberté (Freedom for Us) (1931)  \n",
       "userId                                                                    \n",
       "1.0                       4.0                                        NaN  \n",
       "2.0                       NaN                                        NaN  \n",
       "3.0                       NaN                                        NaN  \n",
       "4.0                       NaN                                        NaN  \n",
       "5.0                       NaN                                        NaN  \n",
       "\n",
       "[5 rows x 9719 columns]"
      ]
     },
     "execution_count": 33,
     "metadata": {},
     "output_type": "execute_result"
    }
   ],
   "source": [
    "pivot_test.head()"
   ]
  },
  {
   "cell_type": "markdown",
   "metadata": {},
   "source": [
    "## Modeling"
   ]
  },
  {
   "cell_type": "markdown",
   "metadata": {},
   "source": [
    "We will be using the Surprise library for this analysis. This library requires that data inputs be limited to three columns of information:\n",
    "\n",
    "- User\n",
    "- Movie\n",
    "- Rating"
   ]
  },
  {
   "cell_type": "code",
   "execution_count": 34,
   "metadata": {
    "ExecuteTime": {
     "end_time": "2023-01-25T20:40:27.524592Z",
     "start_time": "2023-01-25T20:40:27.517087Z"
    }
   },
   "outputs": [],
   "source": [
    "# Adjusting the dataframe for modeling purposes\n",
    "model_df = merged_df.drop(['title', 'genres', 'split_genres'], axis=1)"
   ]
  },
  {
   "cell_type": "code",
   "execution_count": 35,
   "metadata": {
    "ExecuteTime": {
     "end_time": "2023-01-25T20:40:30.491621Z",
     "start_time": "2023-01-25T20:40:30.485112Z"
    }
   },
   "outputs": [
    {
     "data": {
      "text/html": [
       "<div>\n",
       "<style scoped>\n",
       "    .dataframe tbody tr th:only-of-type {\n",
       "        vertical-align: middle;\n",
       "    }\n",
       "\n",
       "    .dataframe tbody tr th {\n",
       "        vertical-align: top;\n",
       "    }\n",
       "\n",
       "    .dataframe thead th {\n",
       "        text-align: right;\n",
       "    }\n",
       "</style>\n",
       "<table border=\"1\" class=\"dataframe\">\n",
       "  <thead>\n",
       "    <tr style=\"text-align: right;\">\n",
       "      <th></th>\n",
       "      <th>userId</th>\n",
       "      <th>movieId</th>\n",
       "      <th>rating</th>\n",
       "    </tr>\n",
       "  </thead>\n",
       "  <tbody>\n",
       "    <tr>\n",
       "      <th>0</th>\n",
       "      <td>1.0</td>\n",
       "      <td>1</td>\n",
       "      <td>4.0</td>\n",
       "    </tr>\n",
       "    <tr>\n",
       "      <th>1</th>\n",
       "      <td>5.0</td>\n",
       "      <td>1</td>\n",
       "      <td>4.0</td>\n",
       "    </tr>\n",
       "    <tr>\n",
       "      <th>2</th>\n",
       "      <td>7.0</td>\n",
       "      <td>1</td>\n",
       "      <td>4.5</td>\n",
       "    </tr>\n",
       "    <tr>\n",
       "      <th>3</th>\n",
       "      <td>15.0</td>\n",
       "      <td>1</td>\n",
       "      <td>2.5</td>\n",
       "    </tr>\n",
       "    <tr>\n",
       "      <th>4</th>\n",
       "      <td>17.0</td>\n",
       "      <td>1</td>\n",
       "      <td>4.5</td>\n",
       "    </tr>\n",
       "  </tbody>\n",
       "</table>\n",
       "</div>"
      ],
      "text/plain": [
       "   userId  movieId  rating\n",
       "0     1.0        1     4.0\n",
       "1     5.0        1     4.0\n",
       "2     7.0        1     4.5\n",
       "3    15.0        1     2.5\n",
       "4    17.0        1     4.5"
      ]
     },
     "execution_count": 35,
     "metadata": {},
     "output_type": "execute_result"
    }
   ],
   "source": [
    "# Contains all movie ratings and the unique identifiers for user and movie\n",
    "model_df.head()"
   ]
  },
  {
   "cell_type": "code",
   "execution_count": 36,
   "metadata": {
    "ExecuteTime": {
     "end_time": "2023-01-25T20:40:31.223486Z",
     "start_time": "2023-01-25T20:40:31.132910Z"
    }
   },
   "outputs": [],
   "source": [
    "# Converting model_df to surprise accessible data\n",
    "reader = Reader()\n",
    "data = Dataset.load_from_df(model_df,reader)"
   ]
  },
  {
   "cell_type": "code",
   "execution_count": 37,
   "metadata": {
    "ExecuteTime": {
     "end_time": "2023-01-25T20:40:32.172582Z",
     "start_time": "2023-01-25T20:40:32.100714Z"
    }
   },
   "outputs": [],
   "source": [
    "trainset, testset = train_test_split(data, test_size=.2, random_state=42)"
   ]
  },
  {
   "cell_type": "code",
   "execution_count": 38,
   "metadata": {
    "ExecuteTime": {
     "end_time": "2023-01-25T20:40:32.343122Z",
     "start_time": "2023-01-25T20:40:32.332601Z"
    }
   },
   "outputs": [
    {
     "name": "stdout",
     "output_type": "stream",
     "text": [
      "Number of users:  610 \n",
      "\n",
      "Number of items:  8982\n"
     ]
    }
   ],
   "source": [
    "print('Number of users: ', trainset.n_users, '\\n')\n",
    "print('Number of items: ', trainset.n_items)"
   ]
  },
  {
   "cell_type": "markdown",
   "metadata": {},
   "source": [
    "## First Baseline Model"
   ]
  },
  {
   "cell_type": "markdown",
   "metadata": {},
   "source": [
    "Setting up a baseline model using Surprise's `BaseLineOnly` algorithm. "
   ]
  },
  {
   "cell_type": "code",
   "execution_count": 39,
   "metadata": {
    "ExecuteTime": {
     "end_time": "2023-01-25T20:40:34.211550Z",
     "start_time": "2023-01-25T20:40:34.100601Z"
    }
   },
   "outputs": [
    {
     "name": "stdout",
     "output_type": "stream",
     "text": [
      "Estimating biases using als...\n"
     ]
    },
    {
     "data": {
      "text/plain": [
       "<surprise.prediction_algorithms.baseline_only.BaselineOnly at 0x1f598e5c580>"
      ]
     },
     "execution_count": 39,
     "metadata": {},
     "output_type": "execute_result"
    }
   ],
   "source": [
    "baseline = BaselineOnly()\n",
    "baseline.fit(trainset)"
   ]
  },
  {
   "cell_type": "code",
   "execution_count": 40,
   "metadata": {
    "ExecuteTime": {
     "end_time": "2023-01-25T20:40:35.157067Z",
     "start_time": "2023-01-25T20:40:35.109360Z"
    }
   },
   "outputs": [],
   "source": [
    "base_predictions = baseline.test(testset)"
   ]
  },
  {
   "cell_type": "code",
   "execution_count": 41,
   "metadata": {
    "ExecuteTime": {
     "end_time": "2023-01-25T20:40:39.476004Z",
     "start_time": "2023-01-25T20:40:39.452658Z"
    }
   },
   "outputs": [
    {
     "name": "stdout",
     "output_type": "stream",
     "text": [
      "RMSE: 0.8734\n"
     ]
    },
    {
     "data": {
      "text/plain": [
       "0.8734341181528673"
      ]
     },
     "execution_count": 41,
     "metadata": {},
     "output_type": "execute_result"
    }
   ],
   "source": [
    "accuracy.rmse(base_predictions)"
   ]
  },
  {
   "cell_type": "code",
   "execution_count": 42,
   "metadata": {
    "ExecuteTime": {
     "end_time": "2023-01-25T20:40:53.813581Z",
     "start_time": "2023-01-25T20:40:53.789047Z"
    }
   },
   "outputs": [
    {
     "name": "stdout",
     "output_type": "stream",
     "text": [
      "MAE:  0.6722\n"
     ]
    },
    {
     "data": {
      "text/plain": [
       "0.6722070558104862"
      ]
     },
     "execution_count": 42,
     "metadata": {},
     "output_type": "execute_result"
    }
   ],
   "source": [
    "accuracy.mae(base_predictions)"
   ]
  },
  {
   "cell_type": "code",
   "execution_count": 62,
   "metadata": {
    "ExecuteTime": {
     "end_time": "2023-01-25T21:05:48.635338Z",
     "start_time": "2023-01-25T21:05:47.401291Z"
    }
   },
   "outputs": [],
   "source": [
    "cv = cross_validate(baseline, data, n_jobs=3)"
   ]
  },
  {
   "cell_type": "code",
   "execution_count": 93,
   "metadata": {
    "ExecuteTime": {
     "end_time": "2023-01-25T21:18:03.977916Z",
     "start_time": "2023-01-25T21:18:03.965408Z"
    }
   },
   "outputs": [
    {
     "name": "stdout",
     "output_type": "stream",
     "text": [
      "test_rmse\n",
      "0.8730027359247566\n",
      "test_mae\n",
      "0.6731495254534968\n",
      "fit_time\n",
      "0.033376455307006836\n",
      "test_time\n",
      "0.05573716163635254\n"
     ]
    },
    {
     "data": {
      "text/html": [
       "<div>\n",
       "<style scoped>\n",
       "    .dataframe tbody tr th:only-of-type {\n",
       "        vertical-align: middle;\n",
       "    }\n",
       "\n",
       "    .dataframe tbody tr th {\n",
       "        vertical-align: top;\n",
       "    }\n",
       "\n",
       "    .dataframe thead th {\n",
       "        text-align: right;\n",
       "    }\n",
       "</style>\n",
       "<table border=\"1\" class=\"dataframe\">\n",
       "  <thead>\n",
       "    <tr style=\"text-align: right;\">\n",
       "      <th></th>\n",
       "      <th>mean_fit_time</th>\n",
       "      <th>mean_test_mae</th>\n",
       "      <th>mean_test_rmse</th>\n",
       "      <th>mean_test_time</th>\n",
       "      <th>model</th>\n",
       "    </tr>\n",
       "  </thead>\n",
       "  <tbody>\n",
       "    <tr>\n",
       "      <th>0</th>\n",
       "      <td>0.033376</td>\n",
       "      <td>0.67315</td>\n",
       "      <td>0.873003</td>\n",
       "      <td>0.055737</td>\n",
       "      <td>&lt;surprise.prediction_algorithms.baseline_only....</td>\n",
       "    </tr>\n",
       "  </tbody>\n",
       "</table>\n",
       "</div>"
      ],
      "text/plain": [
       "   mean_fit_time  mean_test_mae  mean_test_rmse  mean_test_time  \\\n",
       "0       0.033376        0.67315        0.873003        0.055737   \n",
       "\n",
       "                                               model  \n",
       "0  <surprise.prediction_algorithms.baseline_only....  "
      ]
     },
     "execution_count": 93,
     "metadata": {},
     "output_type": "execute_result"
    }
   ],
   "source": [
    "results_df = pd.DataFrame()\n",
    "results_dict = {'model': baseline}\n",
    "\n",
    "for item in cv.items():\n",
    "#     results_dict = {}\n",
    "    results_dict[f\"mean_{item[0]}\"] = np.mean(item[-1])\n",
    "    print(item[0])\n",
    "    print(np.mean(item[-1]))\n",
    "\n",
    "results_df.append(results_dict, ignore_index=True, sort=False)"
   ]
  },
  {
   "cell_type": "markdown",
   "metadata": {},
   "source": [
    "## Model KNN with Z-Score"
   ]
  },
  {
   "cell_type": "code",
   "execution_count": 43,
   "metadata": {
    "ExecuteTime": {
     "end_time": "2023-01-25T20:40:59.434040Z",
     "start_time": "2023-01-25T20:40:59.300579Z"
    }
   },
   "outputs": [
    {
     "name": "stdout",
     "output_type": "stream",
     "text": [
      "Computing the msd similarity matrix...\n",
      "Done computing similarity matrix.\n"
     ]
    },
    {
     "data": {
      "text/plain": [
       "<surprise.prediction_algorithms.knns.KNNWithZScore at 0x1f5a18c7a90>"
      ]
     },
     "execution_count": 43,
     "metadata": {},
     "output_type": "execute_result"
    }
   ],
   "source": [
    "knn_z = knns.KNNWithZScore(random_state=42)\n",
    "knn_z.fit(trainset=trainset)"
   ]
  },
  {
   "cell_type": "code",
   "execution_count": 44,
   "metadata": {
    "ExecuteTime": {
     "end_time": "2023-01-25T20:41:01.284194Z",
     "start_time": "2023-01-25T20:41:00.461085Z"
    }
   },
   "outputs": [],
   "source": [
    "knn_z_predictions = knn_z.test(testset)"
   ]
  },
  {
   "cell_type": "code",
   "execution_count": 45,
   "metadata": {
    "ExecuteTime": {
     "end_time": "2023-01-25T20:41:03.890007Z",
     "start_time": "2023-01-25T20:41:03.876571Z"
    }
   },
   "outputs": [
    {
     "name": "stdout",
     "output_type": "stream",
     "text": [
      "RMSE: 0.8963\n"
     ]
    },
    {
     "data": {
      "text/plain": [
       "0.8962709994505563"
      ]
     },
     "execution_count": 45,
     "metadata": {},
     "output_type": "execute_result"
    }
   ],
   "source": [
    "accuracy.rmse(knn_z_predictions)"
   ]
  },
  {
   "cell_type": "code",
   "execution_count": 46,
   "metadata": {
    "ExecuteTime": {
     "end_time": "2023-01-25T20:41:11.759111Z",
     "start_time": "2023-01-25T20:41:11.748506Z"
    }
   },
   "outputs": [
    {
     "name": "stdout",
     "output_type": "stream",
     "text": [
      "MAE:  0.6769\n"
     ]
    },
    {
     "data": {
      "text/plain": [
       "0.6769105071826177"
      ]
     },
     "execution_count": 46,
     "metadata": {},
     "output_type": "execute_result"
    }
   ],
   "source": [
    "accuracy.mae(knn_z_predictions)"
   ]
  },
  {
   "cell_type": "markdown",
   "metadata": {},
   "source": [
    "## Model with SVD"
   ]
  },
  {
   "cell_type": "code",
   "execution_count": 47,
   "metadata": {
    "ExecuteTime": {
     "end_time": "2023-01-25T20:41:24.592917Z",
     "start_time": "2023-01-25T20:41:22.284078Z"
    }
   },
   "outputs": [
    {
     "data": {
      "text/plain": [
       "<surprise.prediction_algorithms.matrix_factorization.SVD at 0x1f5a18bef10>"
      ]
     },
     "execution_count": 47,
     "metadata": {},
     "output_type": "execute_result"
    }
   ],
   "source": [
    "svd = SVD(random_state=42)\n",
    "svd.fit(trainset)"
   ]
  },
  {
   "cell_type": "code",
   "execution_count": 48,
   "metadata": {
    "ExecuteTime": {
     "end_time": "2023-01-25T20:41:25.451094Z",
     "start_time": "2023-01-25T20:41:25.276084Z"
    }
   },
   "outputs": [],
   "source": [
    "svd_predictions = svd.test(testset)"
   ]
  },
  {
   "cell_type": "code",
   "execution_count": 49,
   "metadata": {
    "ExecuteTime": {
     "end_time": "2023-01-25T20:41:25.948093Z",
     "start_time": "2023-01-25T20:41:25.933074Z"
    }
   },
   "outputs": [
    {
     "name": "stdout",
     "output_type": "stream",
     "text": [
      "RMSE: 0.8757\n"
     ]
    },
    {
     "data": {
      "text/plain": [
       "0.8757353176838333"
      ]
     },
     "execution_count": 49,
     "metadata": {},
     "output_type": "execute_result"
    }
   ],
   "source": [
    "accuracy.rmse(svd_predictions)"
   ]
  },
  {
   "cell_type": "code",
   "execution_count": 50,
   "metadata": {
    "ExecuteTime": {
     "end_time": "2023-01-25T20:41:39.990723Z",
     "start_time": "2023-01-25T20:41:39.972130Z"
    }
   },
   "outputs": [
    {
     "name": "stdout",
     "output_type": "stream",
     "text": [
      "MAE:  0.6715\n"
     ]
    },
    {
     "data": {
      "text/plain": [
       "0.6714792053984324"
      ]
     },
     "execution_count": 50,
     "metadata": {},
     "output_type": "execute_result"
    }
   ],
   "source": [
    "accuracy.mae(svd_predictions)"
   ]
  },
  {
   "cell_type": "markdown",
   "metadata": {},
   "source": [
    "## Model with SVD++"
   ]
  },
  {
   "cell_type": "code",
   "execution_count": 52,
   "metadata": {
    "ExecuteTime": {
     "end_time": "2023-01-25T20:47:25.704519Z",
     "start_time": "2023-01-25T20:43:23.404543Z"
    }
   },
   "outputs": [
    {
     "data": {
      "text/plain": [
       "<surprise.prediction_algorithms.matrix_factorization.SVDpp at 0x1f5a37fc040>"
      ]
     },
     "execution_count": 52,
     "metadata": {},
     "output_type": "execute_result"
    }
   ],
   "source": [
    "svdpp = SVDpp(random_state=42)\n",
    "svdpp.fit(trainset)"
   ]
  },
  {
   "cell_type": "code",
   "execution_count": 53,
   "metadata": {
    "ExecuteTime": {
     "end_time": "2023-01-25T20:48:58.403525Z",
     "start_time": "2023-01-25T20:48:54.443994Z"
    }
   },
   "outputs": [],
   "source": [
    "svdpp_predictions = svdpp.test(testset)"
   ]
  },
  {
   "cell_type": "code",
   "execution_count": 54,
   "metadata": {
    "ExecuteTime": {
     "end_time": "2023-01-25T20:49:04.363765Z",
     "start_time": "2023-01-25T20:49:04.339729Z"
    }
   },
   "outputs": [
    {
     "name": "stdout",
     "output_type": "stream",
     "text": [
      "RMSE: 0.8616\n"
     ]
    },
    {
     "data": {
      "text/plain": [
       "0.8616314766744503"
      ]
     },
     "execution_count": 54,
     "metadata": {},
     "output_type": "execute_result"
    }
   ],
   "source": [
    "accuracy.rmse(svdpp_predictions)"
   ]
  },
  {
   "cell_type": "code",
   "execution_count": 55,
   "metadata": {
    "ExecuteTime": {
     "end_time": "2023-01-25T20:49:13.455321Z",
     "start_time": "2023-01-25T20:49:13.435474Z"
    }
   },
   "outputs": [
    {
     "name": "stdout",
     "output_type": "stream",
     "text": [
      "MAE:  0.6585\n"
     ]
    },
    {
     "data": {
      "text/plain": [
       "0.6584658027784405"
      ]
     },
     "execution_count": 55,
     "metadata": {},
     "output_type": "execute_result"
    }
   ],
   "source": [
    "accuracy.mae(svdpp_predictions)"
   ]
  },
  {
   "cell_type": "markdown",
   "metadata": {},
   "source": [
    "## All Models? (maybe we can condense the modeling section so its not a bunch of the same code again and again)"
   ]
  },
  {
   "cell_type": "code",
   "execution_count": 59,
   "metadata": {
    "ExecuteTime": {
     "end_time": "2023-01-25T20:57:14.324782Z",
     "start_time": "2023-01-25T20:57:14.313768Z"
    }
   },
   "outputs": [],
   "source": [
    "from surprise.prediction_algorithms import *\n",
    "from surprise.model_selection import GridSearchCV, cross_validate"
   ]
  },
  {
   "cell_type": "code",
   "execution_count": 112,
   "metadata": {
    "ExecuteTime": {
     "end_time": "2023-01-25T21:38:56.141457Z",
     "start_time": "2023-01-25T21:38:56.136946Z"
    }
   },
   "outputs": [],
   "source": [
    "models_list = [NormalPredictor(), BaselineOnly(), KNNBaseline(random_state=42),\n",
    "               KNNBasic(random_state=42), KNNWithMeans(random_state=42), \n",
    "               KNNWithZScore(random_state=42), SVD(random_state=42), \n",
    "               SVDpp(random_state=42), NMF(random_state=42), SlopeOne(), \n",
    "               CoClustering(random_state=42)]"
   ]
  },
  {
   "cell_type": "code",
   "execution_count": 113,
   "metadata": {
    "ExecuteTime": {
     "end_time": "2023-01-25T21:42:15.701598Z",
     "start_time": "2023-01-25T21:38:59.384703Z"
    }
   },
   "outputs": [],
   "source": [
    "results_df = pd.DataFrame()\n",
    "\n",
    "for model in models_list:\n",
    "    model_dict = {}\n",
    "    temp_model = cross_validate(model, data, cv=3, n_jobs=3, verbose=False)\n",
    "    model_dict['model'] = model\n",
    "    for item in temp_model.items():\n",
    "        model_dict[f\"mean_{item[0]}\"] = np.mean(item[-1])\n",
    "    results_df = results_df.append(model_dict, ignore_index=True, sort=False)"
   ]
  },
  {
   "cell_type": "code",
   "execution_count": 114,
   "metadata": {
    "ExecuteTime": {
     "end_time": "2023-01-25T21:42:53.828177Z",
     "start_time": "2023-01-25T21:42:53.817672Z"
    }
   },
   "outputs": [
    {
     "data": {
      "text/html": [
       "<div>\n",
       "<style scoped>\n",
       "    .dataframe tbody tr th:only-of-type {\n",
       "        vertical-align: middle;\n",
       "    }\n",
       "\n",
       "    .dataframe tbody tr th {\n",
       "        vertical-align: top;\n",
       "    }\n",
       "\n",
       "    .dataframe thead th {\n",
       "        text-align: right;\n",
       "    }\n",
       "</style>\n",
       "<table border=\"1\" class=\"dataframe\">\n",
       "  <thead>\n",
       "    <tr style=\"text-align: right;\">\n",
       "      <th></th>\n",
       "      <th>mean_fit_time</th>\n",
       "      <th>mean_test_mae</th>\n",
       "      <th>mean_test_rmse</th>\n",
       "      <th>mean_test_time</th>\n",
       "      <th>model</th>\n",
       "    </tr>\n",
       "  </thead>\n",
       "  <tbody>\n",
       "    <tr>\n",
       "      <th>7</th>\n",
       "      <td>170.620822</td>\n",
       "      <td>0.667532</td>\n",
       "      <td>0.869729</td>\n",
       "      <td>4.667422</td>\n",
       "      <td>&lt;surprise.prediction_algorithms.matrix_factori...</td>\n",
       "    </tr>\n",
       "    <tr>\n",
       "      <th>2</th>\n",
       "      <td>0.072381</td>\n",
       "      <td>0.674500</td>\n",
       "      <td>0.882325</td>\n",
       "      <td>1.273059</td>\n",
       "      <td>&lt;surprise.prediction_algorithms.knns.KNNBaseli...</td>\n",
       "    </tr>\n",
       "    <tr>\n",
       "      <th>1</th>\n",
       "      <td>0.023875</td>\n",
       "      <td>0.675894</td>\n",
       "      <td>0.876393</td>\n",
       "      <td>0.090204</td>\n",
       "      <td>&lt;surprise.prediction_algorithms.baseline_only....</td>\n",
       "    </tr>\n",
       "    <tr>\n",
       "      <th>6</th>\n",
       "      <td>1.805532</td>\n",
       "      <td>0.677758</td>\n",
       "      <td>0.880992</td>\n",
       "      <td>0.125624</td>\n",
       "      <td>&lt;surprise.prediction_algorithms.matrix_factori...</td>\n",
       "    </tr>\n",
       "    <tr>\n",
       "      <th>5</th>\n",
       "      <td>0.069958</td>\n",
       "      <td>0.684488</td>\n",
       "      <td>0.902209</td>\n",
       "      <td>1.114337</td>\n",
       "      <td>&lt;surprise.prediction_algorithms.knns.KNNWithZS...</td>\n",
       "    </tr>\n",
       "    <tr>\n",
       "      <th>4</th>\n",
       "      <td>0.054664</td>\n",
       "      <td>0.691516</td>\n",
       "      <td>0.905344</td>\n",
       "      <td>1.021725</td>\n",
       "      <td>&lt;surprise.prediction_algorithms.knns.KNNWithMe...</td>\n",
       "    </tr>\n",
       "    <tr>\n",
       "      <th>9</th>\n",
       "      <td>1.782339</td>\n",
       "      <td>0.695004</td>\n",
       "      <td>0.907771</td>\n",
       "      <td>3.932988</td>\n",
       "      <td>&lt;surprise.prediction_algorithms.slope_one.Slop...</td>\n",
       "    </tr>\n",
       "    <tr>\n",
       "      <th>8</th>\n",
       "      <td>1.966401</td>\n",
       "      <td>0.716263</td>\n",
       "      <td>0.933924</td>\n",
       "      <td>0.106362</td>\n",
       "      <td>&lt;surprise.prediction_algorithms.matrix_factori...</td>\n",
       "    </tr>\n",
       "    <tr>\n",
       "      <th>3</th>\n",
       "      <td>0.048387</td>\n",
       "      <td>0.733830</td>\n",
       "      <td>0.957030</td>\n",
       "      <td>0.916583</td>\n",
       "      <td>&lt;surprise.prediction_algorithms.knns.KNNBasic ...</td>\n",
       "    </tr>\n",
       "    <tr>\n",
       "      <th>10</th>\n",
       "      <td>0.837916</td>\n",
       "      <td>0.736870</td>\n",
       "      <td>0.952521</td>\n",
       "      <td>0.095379</td>\n",
       "      <td>&lt;surprise.prediction_algorithms.co_clustering....</td>\n",
       "    </tr>\n",
       "    <tr>\n",
       "      <th>0</th>\n",
       "      <td>0.035084</td>\n",
       "      <td>1.135527</td>\n",
       "      <td>1.421817</td>\n",
       "      <td>0.112665</td>\n",
       "      <td>&lt;surprise.prediction_algorithms.random_pred.No...</td>\n",
       "    </tr>\n",
       "  </tbody>\n",
       "</table>\n",
       "</div>"
      ],
      "text/plain": [
       "    mean_fit_time  mean_test_mae  mean_test_rmse  mean_test_time  \\\n",
       "7      170.620822       0.667532        0.869729        4.667422   \n",
       "2        0.072381       0.674500        0.882325        1.273059   \n",
       "1        0.023875       0.675894        0.876393        0.090204   \n",
       "6        1.805532       0.677758        0.880992        0.125624   \n",
       "5        0.069958       0.684488        0.902209        1.114337   \n",
       "4        0.054664       0.691516        0.905344        1.021725   \n",
       "9        1.782339       0.695004        0.907771        3.932988   \n",
       "8        1.966401       0.716263        0.933924        0.106362   \n",
       "3        0.048387       0.733830        0.957030        0.916583   \n",
       "10       0.837916       0.736870        0.952521        0.095379   \n",
       "0        0.035084       1.135527        1.421817        0.112665   \n",
       "\n",
       "                                                model  \n",
       "7   <surprise.prediction_algorithms.matrix_factori...  \n",
       "2   <surprise.prediction_algorithms.knns.KNNBaseli...  \n",
       "1   <surprise.prediction_algorithms.baseline_only....  \n",
       "6   <surprise.prediction_algorithms.matrix_factori...  \n",
       "5   <surprise.prediction_algorithms.knns.KNNWithZS...  \n",
       "4   <surprise.prediction_algorithms.knns.KNNWithMe...  \n",
       "9   <surprise.prediction_algorithms.slope_one.Slop...  \n",
       "8   <surprise.prediction_algorithms.matrix_factori...  \n",
       "3   <surprise.prediction_algorithms.knns.KNNBasic ...  \n",
       "10  <surprise.prediction_algorithms.co_clustering....  \n",
       "0   <surprise.prediction_algorithms.random_pred.No...  "
      ]
     },
     "execution_count": 114,
     "metadata": {},
     "output_type": "execute_result"
    }
   ],
   "source": [
    "results_df.sort_values('mean_test_mae')"
   ]
  },
  {
   "cell_type": "markdown",
   "metadata": {},
   "source": [
    "### Gridsearch best model"
   ]
  },
  {
   "cell_type": "code",
   "execution_count": null,
   "metadata": {},
   "outputs": [],
   "source": [
    "# # Commenting out cause this is a work in progress\n",
    "\n",
    "# sim_cos = {'name':'msd', 'user_based':False}\n",
    "# params = {'n_factors': []}\n",
    "\n",
    "\n",
    "\n",
    "# model = GridSearchCV(SVDpp()"
   ]
  },
  {
   "cell_type": "code",
   "execution_count": null,
   "metadata": {},
   "outputs": [],
   "source": []
  },
  {
   "cell_type": "code",
   "execution_count": null,
   "metadata": {},
   "outputs": [],
   "source": []
  },
  {
   "cell_type": "code",
   "execution_count": null,
   "metadata": {},
   "outputs": [],
   "source": []
  },
  {
   "cell_type": "markdown",
   "metadata": {},
   "source": [
    "# Creating a New User"
   ]
  },
  {
   "cell_type": "code",
   "execution_count": 48,
   "metadata": {
    "ExecuteTime": {
     "end_time": "2023-01-25T15:02:52.804968Z",
     "start_time": "2023-01-25T15:02:52.784423Z"
    }
   },
   "outputs": [
    {
     "data": {
      "text/html": [
       "<div>\n",
       "<style scoped>\n",
       "    .dataframe tbody tr th:only-of-type {\n",
       "        vertical-align: middle;\n",
       "    }\n",
       "\n",
       "    .dataframe tbody tr th {\n",
       "        vertical-align: top;\n",
       "    }\n",
       "\n",
       "    .dataframe thead th {\n",
       "        text-align: right;\n",
       "    }\n",
       "</style>\n",
       "<table border=\"1\" class=\"dataframe\">\n",
       "  <thead>\n",
       "    <tr style=\"text-align: right;\">\n",
       "      <th></th>\n",
       "      <th>userId</th>\n",
       "      <th>movieId</th>\n",
       "      <th>rating</th>\n",
       "      <th>title</th>\n",
       "      <th>genres</th>\n",
       "      <th>split_genres</th>\n",
       "    </tr>\n",
       "  </thead>\n",
       "  <tbody>\n",
       "    <tr>\n",
       "      <th>0</th>\n",
       "      <td>1.0</td>\n",
       "      <td>1</td>\n",
       "      <td>4.0</td>\n",
       "      <td>Toy Story (1995)</td>\n",
       "      <td>adventure|animation|children|comedy|fantasy</td>\n",
       "      <td>[adventure, animation, children, comedy, fantasy]</td>\n",
       "    </tr>\n",
       "    <tr>\n",
       "      <th>1</th>\n",
       "      <td>5.0</td>\n",
       "      <td>1</td>\n",
       "      <td>4.0</td>\n",
       "      <td>Toy Story (1995)</td>\n",
       "      <td>adventure|animation|children|comedy|fantasy</td>\n",
       "      <td>[adventure, animation, children, comedy, fantasy]</td>\n",
       "    </tr>\n",
       "    <tr>\n",
       "      <th>2</th>\n",
       "      <td>7.0</td>\n",
       "      <td>1</td>\n",
       "      <td>4.5</td>\n",
       "      <td>Toy Story (1995)</td>\n",
       "      <td>adventure|animation|children|comedy|fantasy</td>\n",
       "      <td>[adventure, animation, children, comedy, fantasy]</td>\n",
       "    </tr>\n",
       "    <tr>\n",
       "      <th>3</th>\n",
       "      <td>15.0</td>\n",
       "      <td>1</td>\n",
       "      <td>2.5</td>\n",
       "      <td>Toy Story (1995)</td>\n",
       "      <td>adventure|animation|children|comedy|fantasy</td>\n",
       "      <td>[adventure, animation, children, comedy, fantasy]</td>\n",
       "    </tr>\n",
       "    <tr>\n",
       "      <th>4</th>\n",
       "      <td>17.0</td>\n",
       "      <td>1</td>\n",
       "      <td>4.5</td>\n",
       "      <td>Toy Story (1995)</td>\n",
       "      <td>adventure|animation|children|comedy|fantasy</td>\n",
       "      <td>[adventure, animation, children, comedy, fantasy]</td>\n",
       "    </tr>\n",
       "  </tbody>\n",
       "</table>\n",
       "</div>"
      ],
      "text/plain": [
       "   userId  movieId  rating             title  \\\n",
       "0     1.0        1     4.0  Toy Story (1995)   \n",
       "1     5.0        1     4.0  Toy Story (1995)   \n",
       "2     7.0        1     4.5  Toy Story (1995)   \n",
       "3    15.0        1     2.5  Toy Story (1995)   \n",
       "4    17.0        1     4.5  Toy Story (1995)   \n",
       "\n",
       "                                        genres  \\\n",
       "0  adventure|animation|children|comedy|fantasy   \n",
       "1  adventure|animation|children|comedy|fantasy   \n",
       "2  adventure|animation|children|comedy|fantasy   \n",
       "3  adventure|animation|children|comedy|fantasy   \n",
       "4  adventure|animation|children|comedy|fantasy   \n",
       "\n",
       "                                        split_genres  \n",
       "0  [adventure, animation, children, comedy, fantasy]  \n",
       "1  [adventure, animation, children, comedy, fantasy]  \n",
       "2  [adventure, animation, children, comedy, fantasy]  \n",
       "3  [adventure, animation, children, comedy, fantasy]  \n",
       "4  [adventure, animation, children, comedy, fantasy]  "
      ]
     },
     "execution_count": 48,
     "metadata": {},
     "output_type": "execute_result"
    }
   ],
   "source": [
    "merged_df.head()"
   ]
  },
  {
   "cell_type": "code",
   "execution_count": 49,
   "metadata": {
    "ExecuteTime": {
     "end_time": "2023-01-25T15:02:53.208725Z",
     "start_time": "2023-01-25T15:02:53.191696Z"
    }
   },
   "outputs": [],
   "source": [
    "new_user_df = merged_df.copy()\n",
    "new_user_df['username'] = np.nan\n",
    "new_user_df['password'] = np.nan"
   ]
  },
  {
   "cell_type": "code",
   "execution_count": 50,
   "metadata": {
    "ExecuteTime": {
     "end_time": "2023-01-25T15:02:53.581975Z",
     "start_time": "2023-01-25T15:02:53.570026Z"
    }
   },
   "outputs": [
    {
     "data": {
      "text/html": [
       "<div>\n",
       "<style scoped>\n",
       "    .dataframe tbody tr th:only-of-type {\n",
       "        vertical-align: middle;\n",
       "    }\n",
       "\n",
       "    .dataframe tbody tr th {\n",
       "        vertical-align: top;\n",
       "    }\n",
       "\n",
       "    .dataframe thead th {\n",
       "        text-align: right;\n",
       "    }\n",
       "</style>\n",
       "<table border=\"1\" class=\"dataframe\">\n",
       "  <thead>\n",
       "    <tr style=\"text-align: right;\">\n",
       "      <th></th>\n",
       "      <th>userId</th>\n",
       "      <th>movieId</th>\n",
       "      <th>rating</th>\n",
       "      <th>title</th>\n",
       "      <th>genres</th>\n",
       "      <th>split_genres</th>\n",
       "      <th>username</th>\n",
       "      <th>password</th>\n",
       "    </tr>\n",
       "  </thead>\n",
       "  <tbody>\n",
       "    <tr>\n",
       "      <th>100831</th>\n",
       "      <td>610.0</td>\n",
       "      <td>160341</td>\n",
       "      <td>2.5</td>\n",
       "      <td>Bloodmoon (1997)</td>\n",
       "      <td>action|thriller</td>\n",
       "      <td>[action, thriller]</td>\n",
       "      <td>NaN</td>\n",
       "      <td>NaN</td>\n",
       "    </tr>\n",
       "    <tr>\n",
       "      <th>100832</th>\n",
       "      <td>610.0</td>\n",
       "      <td>160527</td>\n",
       "      <td>4.5</td>\n",
       "      <td>Sympathy for the Underdog (1971)</td>\n",
       "      <td>action|crime|drama</td>\n",
       "      <td>[action, crime, drama]</td>\n",
       "      <td>NaN</td>\n",
       "      <td>NaN</td>\n",
       "    </tr>\n",
       "    <tr>\n",
       "      <th>100833</th>\n",
       "      <td>610.0</td>\n",
       "      <td>160836</td>\n",
       "      <td>3.0</td>\n",
       "      <td>Hazard (2005)</td>\n",
       "      <td>action|drama|thriller</td>\n",
       "      <td>[action, drama, thriller]</td>\n",
       "      <td>NaN</td>\n",
       "      <td>NaN</td>\n",
       "    </tr>\n",
       "    <tr>\n",
       "      <th>100834</th>\n",
       "      <td>610.0</td>\n",
       "      <td>163937</td>\n",
       "      <td>3.5</td>\n",
       "      <td>Blair Witch (2016)</td>\n",
       "      <td>horror|thriller</td>\n",
       "      <td>[horror, thriller]</td>\n",
       "      <td>NaN</td>\n",
       "      <td>NaN</td>\n",
       "    </tr>\n",
       "    <tr>\n",
       "      <th>100835</th>\n",
       "      <td>610.0</td>\n",
       "      <td>163981</td>\n",
       "      <td>3.5</td>\n",
       "      <td>31 (2016)</td>\n",
       "      <td>horror</td>\n",
       "      <td>[horror]</td>\n",
       "      <td>NaN</td>\n",
       "      <td>NaN</td>\n",
       "    </tr>\n",
       "  </tbody>\n",
       "</table>\n",
       "</div>"
      ],
      "text/plain": [
       "        userId  movieId  rating                             title  \\\n",
       "100831   610.0   160341     2.5                  Bloodmoon (1997)   \n",
       "100832   610.0   160527     4.5  Sympathy for the Underdog (1971)   \n",
       "100833   610.0   160836     3.0                     Hazard (2005)   \n",
       "100834   610.0   163937     3.5                Blair Witch (2016)   \n",
       "100835   610.0   163981     3.5                         31 (2016)   \n",
       "\n",
       "                       genres               split_genres  username  password  \n",
       "100831        action|thriller         [action, thriller]       NaN       NaN  \n",
       "100832     action|crime|drama     [action, crime, drama]       NaN       NaN  \n",
       "100833  action|drama|thriller  [action, drama, thriller]       NaN       NaN  \n",
       "100834        horror|thriller         [horror, thriller]       NaN       NaN  \n",
       "100835                 horror                   [horror]       NaN       NaN  "
      ]
     },
     "execution_count": 50,
     "metadata": {},
     "output_type": "execute_result"
    }
   ],
   "source": [
    "new_user_df.tail()"
   ]
  },
  {
   "cell_type": "code",
   "execution_count": 51,
   "metadata": {
    "ExecuteTime": {
     "end_time": "2023-01-25T15:02:53.999037Z",
     "start_time": "2023-01-25T15:02:53.991307Z"
    }
   },
   "outputs": [],
   "source": [
    "test_user = {'userId':611, \n",
    "             'movieId':1, \n",
    "             'rating':5, \n",
    "             'title': 'Toy Story (1995)', \n",
    "             'genres': 'Adventure|Animation|Children|Comedy|Fantasy', \n",
    "             'username': 'test_user', \n",
    "             'password': 'test_user'}"
   ]
  },
  {
   "cell_type": "code",
   "execution_count": 52,
   "metadata": {
    "ExecuteTime": {
     "end_time": "2023-01-25T15:02:54.231977Z",
     "start_time": "2023-01-25T15:02:54.218204Z"
    }
   },
   "outputs": [
    {
     "data": {
      "text/html": [
       "<div>\n",
       "<style scoped>\n",
       "    .dataframe tbody tr th:only-of-type {\n",
       "        vertical-align: middle;\n",
       "    }\n",
       "\n",
       "    .dataframe tbody tr th {\n",
       "        vertical-align: top;\n",
       "    }\n",
       "\n",
       "    .dataframe thead th {\n",
       "        text-align: right;\n",
       "    }\n",
       "</style>\n",
       "<table border=\"1\" class=\"dataframe\">\n",
       "  <thead>\n",
       "    <tr style=\"text-align: right;\">\n",
       "      <th></th>\n",
       "      <th>userId</th>\n",
       "      <th>movieId</th>\n",
       "      <th>rating</th>\n",
       "      <th>title</th>\n",
       "      <th>genres</th>\n",
       "      <th>split_genres</th>\n",
       "      <th>username</th>\n",
       "      <th>password</th>\n",
       "    </tr>\n",
       "  </thead>\n",
       "  <tbody>\n",
       "    <tr>\n",
       "      <th>100832</th>\n",
       "      <td>610.0</td>\n",
       "      <td>160527</td>\n",
       "      <td>4.5</td>\n",
       "      <td>Sympathy for the Underdog (1971)</td>\n",
       "      <td>action|crime|drama</td>\n",
       "      <td>[action, crime, drama]</td>\n",
       "      <td>NaN</td>\n",
       "      <td>NaN</td>\n",
       "    </tr>\n",
       "    <tr>\n",
       "      <th>100833</th>\n",
       "      <td>610.0</td>\n",
       "      <td>160836</td>\n",
       "      <td>3.0</td>\n",
       "      <td>Hazard (2005)</td>\n",
       "      <td>action|drama|thriller</td>\n",
       "      <td>[action, drama, thriller]</td>\n",
       "      <td>NaN</td>\n",
       "      <td>NaN</td>\n",
       "    </tr>\n",
       "    <tr>\n",
       "      <th>100834</th>\n",
       "      <td>610.0</td>\n",
       "      <td>163937</td>\n",
       "      <td>3.5</td>\n",
       "      <td>Blair Witch (2016)</td>\n",
       "      <td>horror|thriller</td>\n",
       "      <td>[horror, thriller]</td>\n",
       "      <td>NaN</td>\n",
       "      <td>NaN</td>\n",
       "    </tr>\n",
       "    <tr>\n",
       "      <th>100835</th>\n",
       "      <td>610.0</td>\n",
       "      <td>163981</td>\n",
       "      <td>3.5</td>\n",
       "      <td>31 (2016)</td>\n",
       "      <td>horror</td>\n",
       "      <td>[horror]</td>\n",
       "      <td>NaN</td>\n",
       "      <td>NaN</td>\n",
       "    </tr>\n",
       "    <tr>\n",
       "      <th>100836</th>\n",
       "      <td>611.0</td>\n",
       "      <td>1</td>\n",
       "      <td>5.0</td>\n",
       "      <td>Toy Story (1995)</td>\n",
       "      <td>Adventure|Animation|Children|Comedy|Fantasy</td>\n",
       "      <td>NaN</td>\n",
       "      <td>test_user</td>\n",
       "      <td>test_user</td>\n",
       "    </tr>\n",
       "  </tbody>\n",
       "</table>\n",
       "</div>"
      ],
      "text/plain": [
       "        userId  movieId  rating                             title  \\\n",
       "100832   610.0   160527     4.5  Sympathy for the Underdog (1971)   \n",
       "100833   610.0   160836     3.0                     Hazard (2005)   \n",
       "100834   610.0   163937     3.5                Blair Witch (2016)   \n",
       "100835   610.0   163981     3.5                         31 (2016)   \n",
       "100836   611.0        1     5.0                  Toy Story (1995)   \n",
       "\n",
       "                                             genres  \\\n",
       "100832                           action|crime|drama   \n",
       "100833                        action|drama|thriller   \n",
       "100834                              horror|thriller   \n",
       "100835                                       horror   \n",
       "100836  Adventure|Animation|Children|Comedy|Fantasy   \n",
       "\n",
       "                     split_genres   username   password  \n",
       "100832     [action, crime, drama]        NaN        NaN  \n",
       "100833  [action, drama, thriller]        NaN        NaN  \n",
       "100834         [horror, thriller]        NaN        NaN  \n",
       "100835                   [horror]        NaN        NaN  \n",
       "100836                        NaN  test_user  test_user  "
      ]
     },
     "execution_count": 52,
     "metadata": {},
     "output_type": "execute_result"
    }
   ],
   "source": [
    "new_user_df = new_user_df.append(test_user, ignore_index=True)\n",
    "new_user_df.tail()"
   ]
  },
  {
   "cell_type": "code",
   "execution_count": 53,
   "metadata": {
    "ExecuteTime": {
     "end_time": "2023-01-25T15:02:54.699366Z",
     "start_time": "2023-01-25T15:02:54.688431Z"
    }
   },
   "outputs": [],
   "source": [
    "def new_user():\n",
    "    # creating a while loop so that the program runs until everything is satisfied\n",
    "    new_user_cleared = False\n",
    "    while new_user_cleared is False:\n",
    "        # checking if new user or not\n",
    "        answer = input(\"(Type 'quit' at any time to exit.) \\n\\nAre you a new user? (yes/no): \")\n",
    "        new_user_cleared = False\n",
    "        # this section is for new users\n",
    "        if answer == 'yes':\n",
    "            ok_to_move_on = False\n",
    "            while ok_to_move_on is False:\n",
    "                # creating a new userId based on the last one available\n",
    "                new_user_id = (new_user_df['userId'].max() + 1)\n",
    "                # asking for them to create a username\n",
    "                username = input('Please enter a unique username: ')\n",
    "                # letting them quit the program if they want to stop\n",
    "                if username == 'quit':\n",
    "                    print('Thank you. Closing the program.')\n",
    "                    user_id = np.NaN\n",
    "                    username = np.NaN\n",
    "                    password = np.NaN\n",
    "                    new_user_cleared = True\n",
    "                    ok_to_move_on = True\n",
    "                    break\n",
    "                else:\n",
    "                    # Checking the list of usernames to see if its available\n",
    "                    user_check = len(new_user_df[new_user_df['username'] == username]) <1\n",
    "                    if user_check:\n",
    "                        # having them make a new password\n",
    "                        password = input('Please enter a password: ')\n",
    "                        # letting them quit the program if they want to stop\n",
    "                        if password == 'quit':\n",
    "                            print('Thank you. Closing the program.')\n",
    "                            user_id = np.NaN\n",
    "                            username = np.NaN\n",
    "                            password = np.NaN\n",
    "                            new_user_cleared = True\n",
    "                            ok_to_move_on = True\n",
    "                            break\n",
    "                        else:\n",
    "                            # creating a new account with user input username and password\n",
    "                            ok_to_move_on = True\n",
    "                            new_user_cleared = True\n",
    "                            print('\\nWelcome! Your new account is created...\\n')\n",
    "                            user_id = new_user_id\n",
    "                    else:\n",
    "                        # returns them to make a new username if the name isnt available\n",
    "                        print('Sorry, that name is taken.')\n",
    "        # this section is for existing users    \n",
    "        elif answer == 'no':\n",
    "            ok_to_move_on = False\n",
    "            while ok_to_move_on is False:\n",
    "                username = input('Please enter your username: ')\n",
    "                # letting them quit the program if they want to stop\n",
    "                if username == 'quit':\n",
    "                    print('Thank you. Closing the program.')\n",
    "                    user_id = np.NaN\n",
    "                    username = np.NaN\n",
    "                    password = np.NaN\n",
    "                    new_user_cleared = True\n",
    "                    ok_to_move_on = True\n",
    "                    break\n",
    "                else:\n",
    "                    # checking to make sure username is in the list of active users\n",
    "                    user_check = new_user_df[new_user_df['username'] == username]['username'] == username\n",
    "                    if len(user_check.values !=0):\n",
    "                        password = input('Please enter your password: ')\n",
    "                        # letting them quit the program if they want to stop\n",
    "                        if password == 'quit':\n",
    "                            print('Thank you. Closing the program.')\n",
    "                            user_id = np.NaN\n",
    "                            username = np.NaN\n",
    "                            password = np.NaN\n",
    "                            new_user_cleared = True\n",
    "                            ok_to_move_on = True\n",
    "                            break\n",
    "                        else:\n",
    "                            # checking password match with username\n",
    "                            password_check = new_user_df[(new_user_df['username'] == username) & (new_user_df['password'] == password)]['password'] == password\n",
    "                            if len(password_check.values) !=0:\n",
    "                                user_id = new_user_df[(new_user_df['username'] == username) & (new_user_df['password'] == password)]['userId']\n",
    "                                user_id = user_id.values[0]\n",
    "                                print('...\\n...\\nLog-in Successful.')\n",
    "                                ok_to_move_on = True\n",
    "                                new_user_cleared = True\n",
    "                            else:\n",
    "                                # letting them know that there is no username password match\n",
    "                                print('Sorry, that username and password is not in the system.')\n",
    "                    else:\n",
    "                        # letting them know that there is no username with that name in the system\n",
    "                        print('Sorry, that username is not in the system.')\n",
    "        # letting the user quit if they want to stop the program\n",
    "        elif answer == 'quit':\n",
    "            print('Thank you. Closing the program.')\n",
    "            user_id = np.NaN\n",
    "            username = np.NaN\n",
    "            password = np.NaN\n",
    "            break\n",
    "            \n",
    "        elif new_user_cleared == True:\n",
    "            break\n",
    "        else:\n",
    "            # message if a user tries to enter anything but yes or no\n",
    "            print('Invalid entry. Please enter (yes/no).\\n')\n",
    "          \n",
    "    if user_id:\n",
    "        \n",
    "        return user_id, username, password"
   ]
  },
  {
   "cell_type": "code",
   "execution_count": 54,
   "metadata": {
    "ExecuteTime": {
     "end_time": "2023-01-25T15:02:56.295286Z",
     "start_time": "2023-01-25T15:02:56.280764Z"
    },
    "scrolled": false
   },
   "outputs": [],
   "source": [
    "# u_id, u_name, p_word = new_user()"
   ]
  },
  {
   "cell_type": "code",
   "execution_count": 55,
   "metadata": {
    "ExecuteTime": {
     "end_time": "2023-01-25T15:02:56.542582Z",
     "start_time": "2023-01-25T15:02:56.504239Z"
    }
   },
   "outputs": [],
   "source": [
    "# creating a dataframe of the top 100 movies by review count\n",
    "top_500 = new_user_df.groupby('movieId').count().sort_values('userId', ascending=False).head(500)\n",
    "top_500 = top_500.reset_index()[['movieId']]"
   ]
  },
  {
   "cell_type": "code",
   "execution_count": 56,
   "metadata": {
    "ExecuteTime": {
     "end_time": "2023-01-25T15:02:56.731736Z",
     "start_time": "2023-01-25T15:02:56.712713Z"
    }
   },
   "outputs": [
    {
     "data": {
      "text/html": [
       "<div>\n",
       "<style scoped>\n",
       "    .dataframe tbody tr th:only-of-type {\n",
       "        vertical-align: middle;\n",
       "    }\n",
       "\n",
       "    .dataframe tbody tr th {\n",
       "        vertical-align: top;\n",
       "    }\n",
       "\n",
       "    .dataframe thead th {\n",
       "        text-align: right;\n",
       "    }\n",
       "</style>\n",
       "<table border=\"1\" class=\"dataframe\">\n",
       "  <thead>\n",
       "    <tr style=\"text-align: right;\">\n",
       "      <th></th>\n",
       "      <th>movieId</th>\n",
       "      <th>title</th>\n",
       "      <th>genres</th>\n",
       "      <th>split_genres</th>\n",
       "    </tr>\n",
       "  </thead>\n",
       "  <tbody>\n",
       "    <tr>\n",
       "      <th>0</th>\n",
       "      <td>356</td>\n",
       "      <td>Forrest Gump (1994)</td>\n",
       "      <td>comedy|drama|romance|war</td>\n",
       "      <td>[comedy, drama, romance, war]</td>\n",
       "    </tr>\n",
       "    <tr>\n",
       "      <th>1</th>\n",
       "      <td>318</td>\n",
       "      <td>Shawshank Redemption, The (1994)</td>\n",
       "      <td>crime|drama</td>\n",
       "      <td>[crime, drama]</td>\n",
       "    </tr>\n",
       "    <tr>\n",
       "      <th>2</th>\n",
       "      <td>296</td>\n",
       "      <td>Pulp Fiction (1994)</td>\n",
       "      <td>comedy|crime|drama|thriller</td>\n",
       "      <td>[comedy, crime, drama, thriller]</td>\n",
       "    </tr>\n",
       "    <tr>\n",
       "      <th>3</th>\n",
       "      <td>593</td>\n",
       "      <td>Silence of the Lambs, The (1991)</td>\n",
       "      <td>crime|horror|thriller</td>\n",
       "      <td>[crime, horror, thriller]</td>\n",
       "    </tr>\n",
       "    <tr>\n",
       "      <th>4</th>\n",
       "      <td>2571</td>\n",
       "      <td>Matrix, The (1999)</td>\n",
       "      <td>action|sci-fi|thriller</td>\n",
       "      <td>[action, sci-fi, thriller]</td>\n",
       "    </tr>\n",
       "  </tbody>\n",
       "</table>\n",
       "</div>"
      ],
      "text/plain": [
       "   movieId                             title                       genres  \\\n",
       "0      356               Forrest Gump (1994)     comedy|drama|romance|war   \n",
       "1      318  Shawshank Redemption, The (1994)                  crime|drama   \n",
       "2      296               Pulp Fiction (1994)  comedy|crime|drama|thriller   \n",
       "3      593  Silence of the Lambs, The (1991)        crime|horror|thriller   \n",
       "4     2571                Matrix, The (1999)       action|sci-fi|thriller   \n",
       "\n",
       "                       split_genres  \n",
       "0     [comedy, drama, romance, war]  \n",
       "1                    [crime, drama]  \n",
       "2  [comedy, crime, drama, thriller]  \n",
       "3         [crime, horror, thriller]  \n",
       "4        [action, sci-fi, thriller]  "
      ]
     },
     "execution_count": 56,
     "metadata": {},
     "output_type": "execute_result"
    }
   ],
   "source": [
    "# adding in the movie title and genre\n",
    "top_500 = top_500.merge(movies_df, on='movieId', how='left')\n",
    "top_500.head()"
   ]
  },
  {
   "cell_type": "code",
   "execution_count": 57,
   "metadata": {
    "ExecuteTime": {
     "end_time": "2023-01-25T15:02:57.196690Z",
     "start_time": "2023-01-25T15:02:57.176623Z"
    }
   },
   "outputs": [],
   "source": [
    "#  Newest one to coordinate better with other function\n",
    "\n",
    "\n",
    "def movie_recs(user_id, username, password, main_df = new_user_df):\n",
    "    # Setting the base rating at zero\n",
    "    rating = 0\n",
    "    # creating a new DF to hold the temp ratings\n",
    "    current_session_df = pd.DataFrame()\n",
    "    # whether or not its ok to quit the recommend prompt loop\n",
    "    ok_to_quit = False\n",
    "\n",
    "    # the loop to make recommendations\n",
    "    while ok_to_quit is False:\n",
    "        # prints message if they have less than 5 ratings\n",
    "        if len(main_df[main_df['userId'] == user_id]) < 5:\n",
    "            print(\"You need at least 5 reviews before we can make recommendations.\")\n",
    "        else:\n",
    "            print('You are now ready to make additional recommendations.')\n",
    "        # setting a loop to keep sampling if the sample is already in the main df or in the temp df\n",
    "        ok_to_move_on = False\n",
    "        while ok_to_move_on is False:\n",
    "            # pulling sample from most rated moves\n",
    "            movie_review = top_500.sample()\n",
    "            movie_check = movie_review['movieId'].values\n",
    "            # checking length of df to see if its been filled yet\n",
    "            # ensuring movie has not already been rated\n",
    "            if len(current_session_df) != 0:\n",
    "                if movie_check not in main_df[main_df['userId'] == \n",
    "                                                  user_id]['movieId'].values and\\\n",
    "                movie_check not in current_session_df['movieId'].values:\n",
    "                    ok_to_move_on = True\n",
    "                # resample if already rated\n",
    "                else:\n",
    "                    continue\n",
    "            else:\n",
    "                # ensuring movie has not already been rated\n",
    "                if movie_check not in main_df[main_df['userId'] == \n",
    "                                                  user_id]['movieId'].values:\n",
    "                    ok_to_move_on = True\n",
    "                else:\n",
    "                    # resample if already rated\n",
    "                    continue\n",
    "        # creating a loop to ensure that user provides a valid rating\n",
    "        while rating not in range(1,6):\n",
    "            # creating a dictionary to store rating info that will be appended to df\n",
    "            rating_dict = {'userId':user_id, \n",
    "                       'movieId': np.nan, \n",
    "                       'rating': np.nan, \n",
    "                       'title': np.nan, \n",
    "                       'genres': np.nan, \n",
    "                       'username': username, \n",
    "                       'password': password}\n",
    "            print(f\"\\n(Type 'quit' to stop rating movies.) \\n\")\n",
    "            # telling user how to rate\n",
    "            print(f'Please rate the movie 1-5. If you have not seen the movie, type \"n\" to skip: \\n')\n",
    "            # giving user movie info\n",
    "            print(f\"{movie_review['title'].values}\")\n",
    "            rating = input('Rating: \\n')\n",
    "            # letting the user quit if they dont want to rate\n",
    "            if rating == 'quit':\n",
    "                print('\\n\\nThank you for ranking movies.')\n",
    "                # checking to see if the user made any ratings during this session\n",
    "                if len(current_session_df) != 0:\n",
    "                    print('Here are the results of your ranking session:')\n",
    "                    # showing the user the ratings they made\n",
    "                    print(current_session_df[['title', 'rating']])\n",
    "                    # checking if user wants to save ratings\n",
    "                    submit_ratings = input('\\nWould you like to save these ratings to your profile? (yes/quit): ')\n",
    "                    if submit_ratings == 'yes':\n",
    "                        # saving ratings to main database and closing program\n",
    "                        temp_df = main_df.append(current_session_df, ignore_index=True)\n",
    "                        ok_to_quit = True\n",
    "                        ok_to_move_on = True\n",
    "                        to_return = True\n",
    "                        print('\\nThank you. Your results have been saved to the main system!')\n",
    "                        break\n",
    "                    elif submit_ratings == 'quit':\n",
    "                        # not saving ratings to main database and closing program\n",
    "                        rating = 10\n",
    "                        ok_to_move_on = True\n",
    "                        to_return = False\n",
    "                        ok_to_quit = True\n",
    "                        print('Thank you for trying the movie recommendor system.')\n",
    "                        print('Your results have not been saved.')\n",
    "                        break\n",
    "                    else:\n",
    "                        # user did not enter a valid input to save or quit\n",
    "                        print('That is not a valid input. Please Try again.')\n",
    "                else:\n",
    "                    # quitting the program without saving anything if dataframe is empty\n",
    "                    print('Program is now closing.')\n",
    "                    ok_to_move_on = True\n",
    "                    rating = 10\n",
    "                    to_return = False\n",
    "                    ok_to_quit = True\n",
    "                    break\n",
    "            # letting user skip a movie review if they havent seen it\n",
    "            elif rating == 'n':\n",
    "                print('\\n')\n",
    "                break\n",
    "\n",
    "            else:\n",
    "                try:\n",
    "                    # trying to convert rating input to float\n",
    "                    rating = float(rating)\n",
    "                    if rating not in range(1,6):\n",
    "                        # letting user know that they need to use 1-5\n",
    "                        print('That is not a valid rating, please enter a value 1-5:')\n",
    "                        continue\n",
    "                    else:\n",
    "                        # saving user rating to temp df \n",
    "                        rating_dict['movieId'] = movie_review['movieId'].values[0]\n",
    "                        rating_dict['rating'] = rating\n",
    "                        rating_dict['title'] = movie_review['title'].values[0]\n",
    "                        rating_dict['genres'] = movie_review['genres'].values[0]\n",
    "                        current_session_df = current_session_df.append(rating_dict, ignore_index=True)\n",
    "                        rating = 0\n",
    "                        ok_to_move_on = False\n",
    "                        print('Saving rating to temporary memory...\\n\\n')\n",
    "                        break\n",
    "                except:\n",
    "                    # user tried to enter something other than 1-5, 'n', or 'quit'\n",
    "                    print('That is not a valid rating, please enter a value 1-5:')\n",
    "    \n",
    "    # returns dataframe if they made changes to it, otherwise closes with no changes\n",
    "    if to_return:\n",
    "#         new_user_df = main_df\n",
    "        return temp_df"
   ]
  },
  {
   "cell_type": "code",
   "execution_count": 58,
   "metadata": {
    "ExecuteTime": {
     "end_time": "2023-01-25T15:30:12.725688Z",
     "start_time": "2023-01-25T15:30:12.720178Z"
    }
   },
   "outputs": [],
   "source": [
    "def check_for_recs(user_id, username, password, main_df= new_user_df):\n",
    "    if len(main_df[main_df['userId'] == user_id]) < 5:\n",
    "        temp_df = movie_recs(user_id, username, password, main_df)\n",
    "    else:\n",
    "        make_more_recs = input('Would you like to make more recommendations? (yes/no): ')\n",
    "        if make_more_recs == 'yes':\n",
    "            temp_df = movie_recs(user_id, username, password, main_df)\n",
    "        elif make_more_recs == 'no':\n",
    "            pass\n",
    "        else:\n",
    "            print('You did not make a valid selection.')\n",
    "           \n",
    "       \n",
    "    return temp_df"
   ]
  },
  {
   "cell_type": "code",
   "execution_count": 59,
   "metadata": {
    "ExecuteTime": {
     "end_time": "2023-01-25T15:30:15.188329Z",
     "start_time": "2023-01-25T15:30:15.176305Z"
    }
   },
   "outputs": [],
   "source": [
    "# old start program, replaced later on in notebook.\n",
    "# will delate this once confirmed no bugs in new one\n",
    "\n",
    "def start_program():\n",
    "    user_id, username, password = new_user()\n",
    "    \n",
    "    if user_id is not np.NaN:    \n",
    "        temp_df = check_for_recs(user_id, username, password)\n",
    "    \n",
    "        return temp_df\n",
    "    else:\n",
    "        print('Program was terminated.')"
   ]
  },
  {
   "cell_type": "code",
   "execution_count": 60,
   "metadata": {
    "ExecuteTime": {
     "end_time": "2023-01-25T15:30:34.965959Z",
     "start_time": "2023-01-25T15:30:19.671002Z"
    },
    "scrolled": false
   },
   "outputs": [
    {
     "name": "stdout",
     "output_type": "stream",
     "text": [
      "(Type 'quit' at any time to exit.) \n",
      "\n",
      "Are you a new user? (yes/no): yes\n",
      "Please enter a unique username: matt\n",
      "Please enter a password: matt\n",
      "\n",
      "Welcome! Your new account is created...\n",
      "\n",
      "You need at least 5 reviews before we can make recommendations.\n",
      "\n",
      "(Type 'quit' to stop rating movies.) \n",
      "\n",
      "Please rate the movie 1-5. If you have not seen the movie, type \"n\" to skip: \n",
      "\n",
      "['Maverick (1994)']\n",
      "Rating: \n",
      "1\n",
      "Saving rating to temporary memory...\n",
      "\n",
      "\n",
      "You need at least 5 reviews before we can make recommendations.\n",
      "\n",
      "(Type 'quit' to stop rating movies.) \n",
      "\n",
      "Please rate the movie 1-5. If you have not seen the movie, type \"n\" to skip: \n",
      "\n",
      "['Star Trek II: The Wrath of Khan (1982)']\n",
      "Rating: \n",
      "1\n",
      "Saving rating to temporary memory...\n",
      "\n",
      "\n",
      "You need at least 5 reviews before we can make recommendations.\n",
      "\n",
      "(Type 'quit' to stop rating movies.) \n",
      "\n",
      "Please rate the movie 1-5. If you have not seen the movie, type \"n\" to skip: \n",
      "\n",
      "['Die Hard 2 (1990)']\n",
      "Rating: \n",
      "1\n",
      "Saving rating to temporary memory...\n",
      "\n",
      "\n",
      "You need at least 5 reviews before we can make recommendations.\n",
      "\n",
      "(Type 'quit' to stop rating movies.) \n",
      "\n",
      "Please rate the movie 1-5. If you have not seen the movie, type \"n\" to skip: \n",
      "\n",
      "['Mask of Zorro, The (1998)']\n",
      "Rating: \n",
      "1\n",
      "Saving rating to temporary memory...\n",
      "\n",
      "\n",
      "You need at least 5 reviews before we can make recommendations.\n",
      "\n",
      "(Type 'quit' to stop rating movies.) \n",
      "\n",
      "Please rate the movie 1-5. If you have not seen the movie, type \"n\" to skip: \n",
      "\n",
      "['Harry Potter and the Goblet of Fire (2005)']\n",
      "Rating: \n",
      "1\n",
      "Saving rating to temporary memory...\n",
      "\n",
      "\n",
      "You need at least 5 reviews before we can make recommendations.\n",
      "\n",
      "(Type 'quit' to stop rating movies.) \n",
      "\n",
      "Please rate the movie 1-5. If you have not seen the movie, type \"n\" to skip: \n",
      "\n",
      "['Superbad (2007)']\n",
      "Rating: \n",
      "1\n",
      "Saving rating to temporary memory...\n",
      "\n",
      "\n",
      "You need at least 5 reviews before we can make recommendations.\n",
      "\n",
      "(Type 'quit' to stop rating movies.) \n",
      "\n",
      "Please rate the movie 1-5. If you have not seen the movie, type \"n\" to skip: \n",
      "\n",
      "['Kill Bill: Vol. 1 (2003)']\n",
      "Rating: \n",
      "quit\n",
      "\n",
      "\n",
      "Thank you for ranking movies.\n",
      "Here are the results of your ranking session:\n",
      "                                        title  rating\n",
      "0                             Maverick (1994)     1.0\n",
      "1      Star Trek II: The Wrath of Khan (1982)     1.0\n",
      "2                           Die Hard 2 (1990)     1.0\n",
      "3                   Mask of Zorro, The (1998)     1.0\n",
      "4  Harry Potter and the Goblet of Fire (2005)     1.0\n",
      "5                             Superbad (2007)     1.0\n",
      "\n",
      "Would you like to save these ratings to your profile? (yes/quit): yes\n",
      "\n",
      "Thank you. Your results have been saved to the main system!\n"
     ]
    }
   ],
   "source": [
    "new_user_df = start_program()"
   ]
  },
  {
   "cell_type": "code",
   "execution_count": 61,
   "metadata": {
    "ExecuteTime": {
     "end_time": "2023-01-25T15:30:36.132246Z",
     "start_time": "2023-01-25T15:30:36.110780Z"
    }
   },
   "outputs": [
    {
     "data": {
      "text/html": [
       "<div>\n",
       "<style scoped>\n",
       "    .dataframe tbody tr th:only-of-type {\n",
       "        vertical-align: middle;\n",
       "    }\n",
       "\n",
       "    .dataframe tbody tr th {\n",
       "        vertical-align: top;\n",
       "    }\n",
       "\n",
       "    .dataframe thead th {\n",
       "        text-align: right;\n",
       "    }\n",
       "</style>\n",
       "<table border=\"1\" class=\"dataframe\">\n",
       "  <thead>\n",
       "    <tr style=\"text-align: right;\">\n",
       "      <th></th>\n",
       "      <th>userId</th>\n",
       "      <th>movieId</th>\n",
       "      <th>rating</th>\n",
       "      <th>title</th>\n",
       "      <th>genres</th>\n",
       "      <th>split_genres</th>\n",
       "      <th>username</th>\n",
       "      <th>password</th>\n",
       "    </tr>\n",
       "  </thead>\n",
       "  <tbody>\n",
       "    <tr>\n",
       "      <th>0</th>\n",
       "      <td>1.0</td>\n",
       "      <td>1.0</td>\n",
       "      <td>4.0</td>\n",
       "      <td>Toy Story (1995)</td>\n",
       "      <td>adventure|animation|children|comedy|fantasy</td>\n",
       "      <td>[adventure, animation, children, comedy, fantasy]</td>\n",
       "      <td>NaN</td>\n",
       "      <td>NaN</td>\n",
       "    </tr>\n",
       "    <tr>\n",
       "      <th>1</th>\n",
       "      <td>5.0</td>\n",
       "      <td>1.0</td>\n",
       "      <td>4.0</td>\n",
       "      <td>Toy Story (1995)</td>\n",
       "      <td>adventure|animation|children|comedy|fantasy</td>\n",
       "      <td>[adventure, animation, children, comedy, fantasy]</td>\n",
       "      <td>NaN</td>\n",
       "      <td>NaN</td>\n",
       "    </tr>\n",
       "    <tr>\n",
       "      <th>2</th>\n",
       "      <td>7.0</td>\n",
       "      <td>1.0</td>\n",
       "      <td>4.5</td>\n",
       "      <td>Toy Story (1995)</td>\n",
       "      <td>adventure|animation|children|comedy|fantasy</td>\n",
       "      <td>[adventure, animation, children, comedy, fantasy]</td>\n",
       "      <td>NaN</td>\n",
       "      <td>NaN</td>\n",
       "    </tr>\n",
       "    <tr>\n",
       "      <th>3</th>\n",
       "      <td>15.0</td>\n",
       "      <td>1.0</td>\n",
       "      <td>2.5</td>\n",
       "      <td>Toy Story (1995)</td>\n",
       "      <td>adventure|animation|children|comedy|fantasy</td>\n",
       "      <td>[adventure, animation, children, comedy, fantasy]</td>\n",
       "      <td>NaN</td>\n",
       "      <td>NaN</td>\n",
       "    </tr>\n",
       "    <tr>\n",
       "      <th>4</th>\n",
       "      <td>17.0</td>\n",
       "      <td>1.0</td>\n",
       "      <td>4.5</td>\n",
       "      <td>Toy Story (1995)</td>\n",
       "      <td>adventure|animation|children|comedy|fantasy</td>\n",
       "      <td>[adventure, animation, children, comedy, fantasy]</td>\n",
       "      <td>NaN</td>\n",
       "      <td>NaN</td>\n",
       "    </tr>\n",
       "    <tr>\n",
       "      <th>...</th>\n",
       "      <td>...</td>\n",
       "      <td>...</td>\n",
       "      <td>...</td>\n",
       "      <td>...</td>\n",
       "      <td>...</td>\n",
       "      <td>...</td>\n",
       "      <td>...</td>\n",
       "      <td>...</td>\n",
       "    </tr>\n",
       "    <tr>\n",
       "      <th>100838</th>\n",
       "      <td>612.0</td>\n",
       "      <td>1374.0</td>\n",
       "      <td>1.0</td>\n",
       "      <td>Star Trek II: The Wrath of Khan (1982)</td>\n",
       "      <td>action|adventure|sci-fi|thriller</td>\n",
       "      <td>NaN</td>\n",
       "      <td>matt</td>\n",
       "      <td>matt</td>\n",
       "    </tr>\n",
       "    <tr>\n",
       "      <th>100839</th>\n",
       "      <td>612.0</td>\n",
       "      <td>1370.0</td>\n",
       "      <td>1.0</td>\n",
       "      <td>Die Hard 2 (1990)</td>\n",
       "      <td>action|adventure|thriller</td>\n",
       "      <td>NaN</td>\n",
       "      <td>matt</td>\n",
       "      <td>matt</td>\n",
       "    </tr>\n",
       "    <tr>\n",
       "      <th>100840</th>\n",
       "      <td>612.0</td>\n",
       "      <td>2006.0</td>\n",
       "      <td>1.0</td>\n",
       "      <td>Mask of Zorro, The (1998)</td>\n",
       "      <td>action|comedy|romance</td>\n",
       "      <td>NaN</td>\n",
       "      <td>matt</td>\n",
       "      <td>matt</td>\n",
       "    </tr>\n",
       "    <tr>\n",
       "      <th>100841</th>\n",
       "      <td>612.0</td>\n",
       "      <td>40815.0</td>\n",
       "      <td>1.0</td>\n",
       "      <td>Harry Potter and the Goblet of Fire (2005)</td>\n",
       "      <td>adventure|fantasy|thriller|imax</td>\n",
       "      <td>NaN</td>\n",
       "      <td>matt</td>\n",
       "      <td>matt</td>\n",
       "    </tr>\n",
       "    <tr>\n",
       "      <th>100842</th>\n",
       "      <td>612.0</td>\n",
       "      <td>54503.0</td>\n",
       "      <td>1.0</td>\n",
       "      <td>Superbad (2007)</td>\n",
       "      <td>comedy</td>\n",
       "      <td>NaN</td>\n",
       "      <td>matt</td>\n",
       "      <td>matt</td>\n",
       "    </tr>\n",
       "  </tbody>\n",
       "</table>\n",
       "<p>100843 rows × 8 columns</p>\n",
       "</div>"
      ],
      "text/plain": [
       "        userId  movieId  rating                                       title  \\\n",
       "0          1.0      1.0     4.0                            Toy Story (1995)   \n",
       "1          5.0      1.0     4.0                            Toy Story (1995)   \n",
       "2          7.0      1.0     4.5                            Toy Story (1995)   \n",
       "3         15.0      1.0     2.5                            Toy Story (1995)   \n",
       "4         17.0      1.0     4.5                            Toy Story (1995)   \n",
       "...        ...      ...     ...                                         ...   \n",
       "100838   612.0   1374.0     1.0      Star Trek II: The Wrath of Khan (1982)   \n",
       "100839   612.0   1370.0     1.0                           Die Hard 2 (1990)   \n",
       "100840   612.0   2006.0     1.0                   Mask of Zorro, The (1998)   \n",
       "100841   612.0  40815.0     1.0  Harry Potter and the Goblet of Fire (2005)   \n",
       "100842   612.0  54503.0     1.0                             Superbad (2007)   \n",
       "\n",
       "                                             genres  \\\n",
       "0       adventure|animation|children|comedy|fantasy   \n",
       "1       adventure|animation|children|comedy|fantasy   \n",
       "2       adventure|animation|children|comedy|fantasy   \n",
       "3       adventure|animation|children|comedy|fantasy   \n",
       "4       adventure|animation|children|comedy|fantasy   \n",
       "...                                             ...   \n",
       "100838             action|adventure|sci-fi|thriller   \n",
       "100839                    action|adventure|thriller   \n",
       "100840                        action|comedy|romance   \n",
       "100841              adventure|fantasy|thriller|imax   \n",
       "100842                                       comedy   \n",
       "\n",
       "                                             split_genres username password  \n",
       "0       [adventure, animation, children, comedy, fantasy]      NaN      NaN  \n",
       "1       [adventure, animation, children, comedy, fantasy]      NaN      NaN  \n",
       "2       [adventure, animation, children, comedy, fantasy]      NaN      NaN  \n",
       "3       [adventure, animation, children, comedy, fantasy]      NaN      NaN  \n",
       "4       [adventure, animation, children, comedy, fantasy]      NaN      NaN  \n",
       "...                                                   ...      ...      ...  \n",
       "100838                                                NaN     matt     matt  \n",
       "100839                                                NaN     matt     matt  \n",
       "100840                                                NaN     matt     matt  \n",
       "100841                                                NaN     matt     matt  \n",
       "100842                                                NaN     matt     matt  \n",
       "\n",
       "[100843 rows x 8 columns]"
      ]
     },
     "execution_count": 61,
     "metadata": {},
     "output_type": "execute_result"
    }
   ],
   "source": [
    "new_user_df"
   ]
  },
  {
   "cell_type": "code",
   "execution_count": 62,
   "metadata": {
    "ExecuteTime": {
     "end_time": "2023-01-25T15:33:37.545725Z",
     "start_time": "2023-01-25T15:33:37.537531Z"
    }
   },
   "outputs": [],
   "source": [
    "def make_rec(user_id, username, password, main_df = new_user_df):\n",
    "    # list of all available genres\n",
    "    genre_list = ['romance','fantasy','mystery','children','war','comedy',\n",
    "                  'documentary','film-noir','thriller','action','sci-fi',\n",
    "                  'drama','horror','crime','imax','animation','adventure',\n",
    "                  'musical','western']\n",
    "    # creating a while loop to keep the function opn\n",
    "    keep_open = True\n",
    "    print(\"(Enter 'quit' at any time to end the program.)\")\n",
    "    while keep_open == True:\n",
    "        # seeing if user wants to review their recs\n",
    "        rec = input('Would you like to retrieve your recommendations? (yes/no): ')\n",
    "        if rec == 'yes':\n",
    "            # Does the user want to limit results by genre?\n",
    "            genre = input('Would you like recommendations from a specific genre? (yes/no): ')\n",
    "            print('Compiling your recommendations...')\n",
    "            # letting the user stop the program if they want to quit\n",
    "            if genre == 'quit':\n",
    "                print('Thank you for using the recommendation system.')\n",
    "                print('Closing the program...')\n",
    "                keep_open = False\n",
    "                break      \n",
    "            # If the user wants to limit results by genre\n",
    "            elif genre == 'yes':\n",
    "                print('Please select from the following list:')\n",
    "                print('\\t- romance','\\n\\t- fantasy','\\n\\t- mystery',\n",
    "                      '\\n\\t- children','\\n\\t- war','\\n\\t- comedy',\n",
    "                      '\\n\\t- documentary','\\n\\t- film-noir','\\n\\t- thriller',\n",
    "                      '\\n\\t- action','\\n\\t- sci-fi','\\n\\t- drama','\\n\\t- horror',\n",
    "                      '\\n\\t- crime','\\n\\t- imax','\\n\\t- animation','\\n\\t- adventure',\n",
    "                      '\\n\\t- musical','\\n\\t- western')\n",
    "                # Letting the user input specific genre\n",
    "                genre_choice = input('Selection: ')\n",
    "                # letting the user quit if they want to stop the program\n",
    "                if genre_choice == 'quit':\n",
    "                    print('Thank you for using the recommendation system.')\n",
    "                    print('Closing the program...')\n",
    "                    keep_open = False\n",
    "                    break\n",
    "                # Running the model with specified genre    \n",
    "                elif genre_choice in genre_list:\n",
    "                    print('Searching through specified genre...')\n",
    "                    number_of_predictions = input('How many recommendations would you like? (1-50): ')\n",
    "                    if number_of_predictions == 'quit':\n",
    "                        print('Thank you for using the recommendation system.')\n",
    "                        print('Closing the program...')\n",
    "                        keep_open = False\n",
    "                        break\n",
    "                    else:\n",
    "                        try:\n",
    "                            number_of_predictions = int(number_of_predictions)\n",
    "                            if number_of_predictions in list(range(1, 51)):\n",
    "                                print('Processing request...')\n",
    "                                rec_df = final_rec(user_id, genre=genre_choice, number_of_predictions=number_of_predictions)\n",
    "                            else:\n",
    "                                print('You did not select a valid response.')\n",
    "                        except:\n",
    "                            print('error: You did not select a valid response.')\n",
    "                #telling the user that they didnt input valid response    \n",
    "                else:\n",
    "                    print('You did not select a valid response.')\n",
    "            # running model with all genres\n",
    "            elif genre == 'no':\n",
    "                number_of_predictions = input('How many recommendations would you like? (1-50): ')\n",
    "                if number_of_predictions == 'quit':\n",
    "                    print('Thank you for using the recommendation system.')\n",
    "                    print('Closing the program...')\n",
    "                    keep_open = False\n",
    "                    break\n",
    "                else:\n",
    "                    try:\n",
    "                        number_of_predictions = int(number_of_predictions)\n",
    "                        if number_of_predictions in list(range(1, 51)):\n",
    "                            print('Processing request...')\n",
    "                            rec_df = final_rec(user_id, number_of_predictions=number_of_predictions)\n",
    "                        else:\n",
    "                            print('You did not select a valid response.')\n",
    "                    except:\n",
    "                        print('error: You did not select a valid response.')\n",
    "            else:\n",
    "                # user did not enter a valid response\n",
    "                print('You did not select a valid response.')\n",
    "            \n",
    "            \n",
    "        # user does not want to receive recommendation now    \n",
    "        elif rec == 'no':\n",
    "            close_rec = input('Would you like to close the program? (yes/no): ')\n",
    "            # closing recommendation\n",
    "            if close_rec =='yes':\n",
    "                print('Thank you for using the recommendation system.')\n",
    "                print('Closing the program...')\n",
    "                keep_open = False\n",
    "                break\n",
    "            # resetting so the user can get a rec if they want\n",
    "            elif close_rec == 'no':\n",
    "                continue\n",
    "            #user did not input valid response\n",
    "            else:\n",
    "                print('You did not select a valid response.')\n",
    "        # letting user quit program\n",
    "        elif rec == 'quit':\n",
    "            print('Thank you for using the recommendation system.')\n",
    "            print('Closing the program...')\n",
    "            keep_open = False\n",
    "            break\n",
    "        # user did not submit valid response\n",
    "        else:\n",
    "            print('You did not select a valid response.')\n",
    "    \n",
    "    return main_df"
   ]
  },
  {
   "cell_type": "code",
   "execution_count": 63,
   "metadata": {
    "ExecuteTime": {
     "end_time": "2023-01-25T15:33:39.531544Z",
     "start_time": "2023-01-25T15:33:39.512530Z"
    }
   },
   "outputs": [],
   "source": [
    "def final_rec(user_id, genre = None, number_of_predictions= 10, main_df = new_user_df, movies_df = movies_df, model = baseline):\n",
    "    # creating a dataframe with a specified user\n",
    "    genre_list = ['romance','fantasy','mystery','children','war','comedy',\n",
    "                  'documentary','film-noir','thriller','action','sci-fi',\n",
    "                  'drama','horror','crime','imax','animation','adventure',\n",
    "                  'musical','western']\n",
    "    if genre == None:\n",
    "        user_ratings = main_df[main_df['userId'] == user_id][['userId', 'movieId', 'rating']]\n",
    "        # creating a dataframe with movies not yet reviewed\n",
    "        user_predict = list(movies_df[~movies_df['movieId'].isin(user_ratings['movieId'].values)].movieId.values)\n",
    "        # creating predictions and storing them in list\n",
    "        predictions = []\n",
    "        for movie in user_predict:\n",
    "            predictions.append((movies_df['title'].loc[movies_df['movieId'] == movie].values[0], \\\n",
    "                                model.predict(user_id, movie)[3]))\n",
    "        \n",
    "        predicted_df = pd.DataFrame(predictions, columns=['title', 'predicted rating']).sort_values('predicted rating', ascending=False).head(number_of_predictions)\n",
    "        print(predicted_df)\n",
    "    \n",
    "    elif genre in genre_list:\n",
    "        user_ratings = main_df[main_df['userId'] == user_id][['userId', 'movieId', 'rating']]\n",
    "        # creating a dataframe with movies not yet reviewed\n",
    "        user_predict = list(movies_df[~movies_df['movieId'].isin(user_ratings['movieId'].values)].movieId.values)\n",
    "        # creating predictions and storing them in list\n",
    "        predictions = []\n",
    "        for movie in user_predict:\n",
    "            predictions.append((movies_df['title'].loc[movies_df['movieId'] == movie].values[0], \\\n",
    "                                model.predict(user_id, movie)[3]))\n",
    "        \n",
    "        predicted_df = pd.DataFrame(predictions, columns=['title', 'predicted rating']).sort_values('predicted rating', ascending=False)\n",
    "        final_prediction = predicted_df.merge(movies_df).drop('movieId', axis=1)\n",
    "        predicted_df = final_prediction[final_prediction['genres'].str.contains(genre)].drop(['genres', 'split_genres'], axis=1).head(number_of_predictions)\n",
    "        print(predicted_df)\n",
    "    else:\n",
    "        print('You did not select a valid response.')\n",
    "      \n",
    "#     new_user_df = main_df\n",
    "    return main_df"
   ]
  },
  {
   "cell_type": "code",
   "execution_count": 64,
   "metadata": {
    "ExecuteTime": {
     "end_time": "2023-01-25T05:10:07.774088Z",
     "start_time": "2023-01-25T05:10:07.759877Z"
    }
   },
   "outputs": [],
   "source": [
    "# number_of_predictions = 10"
   ]
  },
  {
   "cell_type": "code",
   "execution_count": 65,
   "metadata": {
    "ExecuteTime": {
     "end_time": "2023-01-25T05:10:07.790111Z",
     "start_time": "2023-01-25T05:10:07.775090Z"
    }
   },
   "outputs": [],
   "source": [
    "# final_rec(612, genre='comedy', number_of_predictions=number_of_predictions)"
   ]
  },
  {
   "cell_type": "code",
   "execution_count": 66,
   "metadata": {
    "ExecuteTime": {
     "end_time": "2023-01-25T05:10:07.805238Z",
     "start_time": "2023-01-25T05:10:07.791111Z"
    }
   },
   "outputs": [],
   "source": [
    "# make_rec(612, 'matt', 'matt')"
   ]
  },
  {
   "cell_type": "code",
   "execution_count": 64,
   "metadata": {
    "ExecuteTime": {
     "end_time": "2023-01-25T15:33:51.915642Z",
     "start_time": "2023-01-25T15:33:51.904508Z"
    }
   },
   "outputs": [],
   "source": [
    "def start_program():\n",
    "    user_id, username, password = new_user()\n",
    "    \n",
    "    if user_id is not np.NaN:    \n",
    "        temp_df = check_for_recs(user_id, username, password)\n",
    "        \n",
    "        temp_df= make_rec(user_id, username, password, main_df=temp_df)\n",
    "        \n",
    "        \n",
    "        return temp_df\n",
    "    else:\n",
    "        print('Program was terminated.')"
   ]
  },
  {
   "cell_type": "code",
   "execution_count": 71,
   "metadata": {
    "ExecuteTime": {
     "end_time": "2023-01-25T16:06:41.532879Z",
     "start_time": "2023-01-25T15:52:22.038619Z"
    },
    "scrolled": false
   },
   "outputs": [
    {
     "name": "stdout",
     "output_type": "stream",
     "text": [
      "(Type 'quit' at any time to exit.) \n",
      "\n",
      "Are you a new user? (yes/no): yes\n",
      "Please enter a unique username: jon\n",
      "Please enter a password: jon\n",
      "\n",
      "Welcome! Your new account is created...\n",
      "\n",
      "You need at least 5 reviews before we can make recommendations.\n",
      "\n",
      "(Type 'quit' to stop rating movies.) \n",
      "\n",
      "Please rate the movie 1-5. If you have not seen the movie, type \"n\" to skip: \n",
      "\n",
      "['American President, The (1995)']\n",
      "Rating: \n",
      "3\n",
      "Saving rating to temporary memory...\n",
      "\n",
      "\n",
      "You need at least 5 reviews before we can make recommendations.\n",
      "\n",
      "(Type 'quit' to stop rating movies.) \n",
      "\n",
      "Please rate the movie 1-5. If you have not seen the movie, type \"n\" to skip: \n",
      "\n",
      "['Shutter Island (2010)']\n",
      "Rating: \n",
      "3\n",
      "Saving rating to temporary memory...\n",
      "\n",
      "\n",
      "You need at least 5 reviews before we can make recommendations.\n",
      "\n",
      "(Type 'quit' to stop rating movies.) \n",
      "\n",
      "Please rate the movie 1-5. If you have not seen the movie, type \"n\" to skip: \n",
      "\n",
      "['Godfather, The (1972)']\n",
      "Rating: \n",
      "3\n",
      "Saving rating to temporary memory...\n",
      "\n",
      "\n",
      "You need at least 5 reviews before we can make recommendations.\n",
      "\n",
      "(Type 'quit' to stop rating movies.) \n",
      "\n",
      "Please rate the movie 1-5. If you have not seen the movie, type \"n\" to skip: \n",
      "\n",
      "['Zoolander (2001)']\n",
      "Rating: \n",
      "3\n",
      "Saving rating to temporary memory...\n",
      "\n",
      "\n",
      "You need at least 5 reviews before we can make recommendations.\n",
      "\n",
      "(Type 'quit' to stop rating movies.) \n",
      "\n",
      "Please rate the movie 1-5. If you have not seen the movie, type \"n\" to skip: \n",
      "\n",
      "['Planet of the Apes (2001)']\n",
      "Rating: \n",
      "3\n",
      "Saving rating to temporary memory...\n",
      "\n",
      "\n",
      "You need at least 5 reviews before we can make recommendations.\n",
      "\n",
      "(Type 'quit' to stop rating movies.) \n",
      "\n",
      "Please rate the movie 1-5. If you have not seen the movie, type \"n\" to skip: \n",
      "\n",
      "['Santa Clause, The (1994)']\n",
      "Rating: \n",
      "3\n",
      "Saving rating to temporary memory...\n",
      "\n",
      "\n",
      "You need at least 5 reviews before we can make recommendations.\n",
      "\n",
      "(Type 'quit' to stop rating movies.) \n",
      "\n",
      "Please rate the movie 1-5. If you have not seen the movie, type \"n\" to skip: \n",
      "\n",
      "['Bruce Almighty (2003)']\n",
      "Rating: \n",
      "3\n",
      "Saving rating to temporary memory...\n",
      "\n",
      "\n",
      "You need at least 5 reviews before we can make recommendations.\n",
      "\n",
      "(Type 'quit' to stop rating movies.) \n",
      "\n",
      "Please rate the movie 1-5. If you have not seen the movie, type \"n\" to skip: \n",
      "\n",
      "['Armageddon (1998)']\n",
      "Rating: \n",
      "quit\n",
      "\n",
      "\n",
      "Thank you for ranking movies.\n",
      "Here are the results of your ranking session:\n",
      "                            title  rating\n",
      "0  American President, The (1995)     3.0\n",
      "1           Shutter Island (2010)     3.0\n",
      "2           Godfather, The (1972)     3.0\n",
      "3                Zoolander (2001)     3.0\n",
      "4       Planet of the Apes (2001)     3.0\n",
      "5        Santa Clause, The (1994)     3.0\n",
      "6           Bruce Almighty (2003)     3.0\n",
      "\n",
      "Would you like to save these ratings to your profile? (yes/quit): yes\n",
      "\n",
      "Thank you. Your results have been saved to the main system!\n",
      "(Enter 'quit' at any time to end the program.)\n",
      "Would you like to retrieve your recommendations? (yes/no): yes\n",
      "Would you like recommendations from a specific genre? (yes/no): no\n",
      "Compiling your recommendations...\n",
      "How many recommendations would you like? (1-50): 10\n",
      "Processing request...\n",
      "                                                  title  predicted rating\n",
      "277                    Shawshank Redemption, The (1994)          4.415990\n",
      "898   Star Wars: Episode V - The Empire Strikes Back...          4.316904\n",
      "2226                                  Fight Club (1999)          4.291507\n",
      "602   Dr. Strangelove or: How I Learned to Stop Worr...          4.288998\n",
      "906                           Lawrence of Arabia (1962)          4.268171\n",
      "659                               Godfather, The (1972)          4.254736\n",
      "694                                   Casablanca (1942)          4.246424\n",
      "899                          Princess Bride, The (1987)          4.229961\n",
      "46                           Usual Suspects, The (1995)          4.227022\n",
      "909                               Apocalypse Now (1979)          4.220256\n",
      "Would you like to retrieve your recommendations? (yes/no): no\n",
      "Would you like to close the program? (yes/no): yes\n",
      "Thank you for using the recommendation system.\n",
      "Closing the program...\n"
     ]
    }
   ],
   "source": [
    "new_user_df = start_program()"
   ]
  },
  {
   "cell_type": "code",
   "execution_count": 72,
   "metadata": {
    "ExecuteTime": {
     "end_time": "2023-01-25T16:06:42.960484Z",
     "start_time": "2023-01-25T16:06:42.939469Z"
    }
   },
   "outputs": [
    {
     "data": {
      "text/html": [
       "<div>\n",
       "<style scoped>\n",
       "    .dataframe tbody tr th:only-of-type {\n",
       "        vertical-align: middle;\n",
       "    }\n",
       "\n",
       "    .dataframe tbody tr th {\n",
       "        vertical-align: top;\n",
       "    }\n",
       "\n",
       "    .dataframe thead th {\n",
       "        text-align: right;\n",
       "    }\n",
       "</style>\n",
       "<table border=\"1\" class=\"dataframe\">\n",
       "  <thead>\n",
       "    <tr style=\"text-align: right;\">\n",
       "      <th></th>\n",
       "      <th>userId</th>\n",
       "      <th>movieId</th>\n",
       "      <th>rating</th>\n",
       "      <th>title</th>\n",
       "      <th>genres</th>\n",
       "      <th>split_genres</th>\n",
       "      <th>username</th>\n",
       "      <th>password</th>\n",
       "    </tr>\n",
       "  </thead>\n",
       "  <tbody>\n",
       "    <tr>\n",
       "      <th>0</th>\n",
       "      <td>1.0</td>\n",
       "      <td>1.0</td>\n",
       "      <td>4.0</td>\n",
       "      <td>Toy Story (1995)</td>\n",
       "      <td>adventure|animation|children|comedy|fantasy</td>\n",
       "      <td>[adventure, animation, children, comedy, fantasy]</td>\n",
       "      <td>NaN</td>\n",
       "      <td>NaN</td>\n",
       "    </tr>\n",
       "    <tr>\n",
       "      <th>1</th>\n",
       "      <td>5.0</td>\n",
       "      <td>1.0</td>\n",
       "      <td>4.0</td>\n",
       "      <td>Toy Story (1995)</td>\n",
       "      <td>adventure|animation|children|comedy|fantasy</td>\n",
       "      <td>[adventure, animation, children, comedy, fantasy]</td>\n",
       "      <td>NaN</td>\n",
       "      <td>NaN</td>\n",
       "    </tr>\n",
       "    <tr>\n",
       "      <th>2</th>\n",
       "      <td>7.0</td>\n",
       "      <td>1.0</td>\n",
       "      <td>4.5</td>\n",
       "      <td>Toy Story (1995)</td>\n",
       "      <td>adventure|animation|children|comedy|fantasy</td>\n",
       "      <td>[adventure, animation, children, comedy, fantasy]</td>\n",
       "      <td>NaN</td>\n",
       "      <td>NaN</td>\n",
       "    </tr>\n",
       "    <tr>\n",
       "      <th>3</th>\n",
       "      <td>15.0</td>\n",
       "      <td>1.0</td>\n",
       "      <td>2.5</td>\n",
       "      <td>Toy Story (1995)</td>\n",
       "      <td>adventure|animation|children|comedy|fantasy</td>\n",
       "      <td>[adventure, animation, children, comedy, fantasy]</td>\n",
       "      <td>NaN</td>\n",
       "      <td>NaN</td>\n",
       "    </tr>\n",
       "    <tr>\n",
       "      <th>4</th>\n",
       "      <td>17.0</td>\n",
       "      <td>1.0</td>\n",
       "      <td>4.5</td>\n",
       "      <td>Toy Story (1995)</td>\n",
       "      <td>adventure|animation|children|comedy|fantasy</td>\n",
       "      <td>[adventure, animation, children, comedy, fantasy]</td>\n",
       "      <td>NaN</td>\n",
       "      <td>NaN</td>\n",
       "    </tr>\n",
       "    <tr>\n",
       "      <th>...</th>\n",
       "      <td>...</td>\n",
       "      <td>...</td>\n",
       "      <td>...</td>\n",
       "      <td>...</td>\n",
       "      <td>...</td>\n",
       "      <td>...</td>\n",
       "      <td>...</td>\n",
       "      <td>...</td>\n",
       "    </tr>\n",
       "    <tr>\n",
       "      <th>100839</th>\n",
       "      <td>613.0</td>\n",
       "      <td>858.0</td>\n",
       "      <td>3.0</td>\n",
       "      <td>Godfather, The (1972)</td>\n",
       "      <td>crime|drama</td>\n",
       "      <td>NaN</td>\n",
       "      <td>jon</td>\n",
       "      <td>jon</td>\n",
       "    </tr>\n",
       "    <tr>\n",
       "      <th>100840</th>\n",
       "      <td>613.0</td>\n",
       "      <td>4816.0</td>\n",
       "      <td>3.0</td>\n",
       "      <td>Zoolander (2001)</td>\n",
       "      <td>comedy</td>\n",
       "      <td>NaN</td>\n",
       "      <td>jon</td>\n",
       "      <td>jon</td>\n",
       "    </tr>\n",
       "    <tr>\n",
       "      <th>100841</th>\n",
       "      <td>613.0</td>\n",
       "      <td>4643.0</td>\n",
       "      <td>3.0</td>\n",
       "      <td>Planet of the Apes (2001)</td>\n",
       "      <td>action|adventure|drama|sci-fi</td>\n",
       "      <td>NaN</td>\n",
       "      <td>jon</td>\n",
       "      <td>jon</td>\n",
       "    </tr>\n",
       "    <tr>\n",
       "      <th>100842</th>\n",
       "      <td>613.0</td>\n",
       "      <td>317.0</td>\n",
       "      <td>3.0</td>\n",
       "      <td>Santa Clause, The (1994)</td>\n",
       "      <td>comedy|drama|fantasy</td>\n",
       "      <td>NaN</td>\n",
       "      <td>jon</td>\n",
       "      <td>jon</td>\n",
       "    </tr>\n",
       "    <tr>\n",
       "      <th>100843</th>\n",
       "      <td>613.0</td>\n",
       "      <td>6373.0</td>\n",
       "      <td>3.0</td>\n",
       "      <td>Bruce Almighty (2003)</td>\n",
       "      <td>comedy|drama|fantasy|romance</td>\n",
       "      <td>NaN</td>\n",
       "      <td>jon</td>\n",
       "      <td>jon</td>\n",
       "    </tr>\n",
       "  </tbody>\n",
       "</table>\n",
       "<p>100844 rows × 8 columns</p>\n",
       "</div>"
      ],
      "text/plain": [
       "        userId  movieId  rating                      title  \\\n",
       "0          1.0      1.0     4.0           Toy Story (1995)   \n",
       "1          5.0      1.0     4.0           Toy Story (1995)   \n",
       "2          7.0      1.0     4.5           Toy Story (1995)   \n",
       "3         15.0      1.0     2.5           Toy Story (1995)   \n",
       "4         17.0      1.0     4.5           Toy Story (1995)   \n",
       "...        ...      ...     ...                        ...   \n",
       "100839   613.0    858.0     3.0      Godfather, The (1972)   \n",
       "100840   613.0   4816.0     3.0           Zoolander (2001)   \n",
       "100841   613.0   4643.0     3.0  Planet of the Apes (2001)   \n",
       "100842   613.0    317.0     3.0   Santa Clause, The (1994)   \n",
       "100843   613.0   6373.0     3.0      Bruce Almighty (2003)   \n",
       "\n",
       "                                             genres  \\\n",
       "0       adventure|animation|children|comedy|fantasy   \n",
       "1       adventure|animation|children|comedy|fantasy   \n",
       "2       adventure|animation|children|comedy|fantasy   \n",
       "3       adventure|animation|children|comedy|fantasy   \n",
       "4       adventure|animation|children|comedy|fantasy   \n",
       "...                                             ...   \n",
       "100839                                  crime|drama   \n",
       "100840                                       comedy   \n",
       "100841                action|adventure|drama|sci-fi   \n",
       "100842                         comedy|drama|fantasy   \n",
       "100843                 comedy|drama|fantasy|romance   \n",
       "\n",
       "                                             split_genres username password  \n",
       "0       [adventure, animation, children, comedy, fantasy]      NaN      NaN  \n",
       "1       [adventure, animation, children, comedy, fantasy]      NaN      NaN  \n",
       "2       [adventure, animation, children, comedy, fantasy]      NaN      NaN  \n",
       "3       [adventure, animation, children, comedy, fantasy]      NaN      NaN  \n",
       "4       [adventure, animation, children, comedy, fantasy]      NaN      NaN  \n",
       "...                                                   ...      ...      ...  \n",
       "100839                                                NaN      jon      jon  \n",
       "100840                                                NaN      jon      jon  \n",
       "100841                                                NaN      jon      jon  \n",
       "100842                                                NaN      jon      jon  \n",
       "100843                                                NaN      jon      jon  \n",
       "\n",
       "[100844 rows x 8 columns]"
      ]
     },
     "execution_count": 72,
     "metadata": {},
     "output_type": "execute_result"
    }
   ],
   "source": [
    "new_user_df"
   ]
  },
  {
   "cell_type": "code",
   "execution_count": null,
   "metadata": {},
   "outputs": [],
   "source": []
  },
  {
   "cell_type": "markdown",
   "metadata": {},
   "source": [
    "## Go back tomorrow and check output for all functions to see why it isnt saving to the dataframe"
   ]
  },
  {
   "cell_type": "code",
   "execution_count": null,
   "metadata": {},
   "outputs": [],
   "source": []
  },
  {
   "cell_type": "code",
   "execution_count": null,
   "metadata": {},
   "outputs": [],
   "source": []
  },
  {
   "cell_type": "code",
   "execution_count": null,
   "metadata": {},
   "outputs": [],
   "source": []
  },
  {
   "cell_type": "code",
   "execution_count": null,
   "metadata": {},
   "outputs": [],
   "source": []
  },
  {
   "cell_type": "code",
   "execution_count": null,
   "metadata": {},
   "outputs": [],
   "source": []
  },
  {
   "cell_type": "code",
   "execution_count": null,
   "metadata": {},
   "outputs": [],
   "source": []
  },
  {
   "cell_type": "code",
   "execution_count": null,
   "metadata": {},
   "outputs": [],
   "source": []
  },
  {
   "cell_type": "code",
   "execution_count": 70,
   "metadata": {
    "ExecuteTime": {
     "end_time": "2023-01-25T05:10:45.304372Z",
     "start_time": "2023-01-25T05:10:45.289865Z"
    }
   },
   "outputs": [],
   "source": [
    "# working baseline\n",
    "\n",
    "def movie_recs(user_id, username, password, main_df = new_user_df):\n",
    "    # Setting the base rating at zero\n",
    "    rating = 0\n",
    "    # creating a new DF to hold the temp ratings\n",
    "    current_session_df = pd.DataFrame()\n",
    "    # whether or not its ok to quit the recommend prompt loop\n",
    "    ok_to_quit = False\n",
    "    # automatically puts user in the loop if they have less than 5 ratings\n",
    "    if len(new_user_df[new_user_df['userId'] == user_id]) < 5:\n",
    "        # the loop to make recommendations\n",
    "        while ok_to_quit is False:\n",
    "            print(\"You need at least 5 reviews before we can make recommendations.\")\n",
    "            # setting a loop to keep sampling if the sample is already in the main df or in the temp df\n",
    "            ok_to_move_on = False\n",
    "            while ok_to_move_on is False:\n",
    "                # pulling sample from most rated moves\n",
    "                movie_review = top_100.sample()\n",
    "                movie_check = movie_review['movieId'].values\n",
    "                # checking length of df to see if its been filled yet\n",
    "                # ensuring movie has not already been rated\n",
    "                if len(current_session_df) != 0:\n",
    "                    if movie_check not in new_user_df[new_user_df['userId'] == \n",
    "                                                      user_id]['movieId'].values and\\\n",
    "                    movie_check not in current_session_df['movieId'].values:\n",
    "                        ok_to_move_on = True\n",
    "                    # resample if already rated\n",
    "                    else:\n",
    "                        continue\n",
    "                else:\n",
    "                    # ensuring movie has not already been rated\n",
    "                    if movie_check not in new_user_df[new_user_df['userId'] == \n",
    "                                                      user_id]['movieId'].values:\n",
    "                        ok_to_move_on = True\n",
    "                    else:\n",
    "                        # resample if already rated\n",
    "                        continue\n",
    "            # creating a loop to ensure that user provides a valid rating\n",
    "            while rating not in range(1,6):\n",
    "                # creating a dictionary to store rating info that will be appended to df\n",
    "                rating_dict = {'userId':user_id, \n",
    "                           'movieId': np.nan, \n",
    "                           'rating': np.nan, \n",
    "                           'title': np.nan, \n",
    "                           'genres': np.nan, \n",
    "                           'username': username, \n",
    "                           'password': password}\n",
    "                print(f\"\\n(Type 'quit' to stop rating movies.) \\n\")\n",
    "                # telling user how to rate\n",
    "                print(f'Please rate the movie 1-5. If you have not seen the movie, type \"n\" to skip: \\n')\n",
    "                # giving user movie info\n",
    "                print(f\"{movie_review['title'].values}\")\n",
    "                rating = input('Rating: \\n')\n",
    "                # letting the user quit if they dont want to rate\n",
    "                if rating == 'quit':\n",
    "                    print('\\n\\nThank you for ranking movies.')\n",
    "                    # checking to see if the user made any ratings during this session\n",
    "                    if len(current_session_df) != 0:\n",
    "                        print('Here are the results of your ranking session:')\n",
    "                        # showing the user the ratings they made\n",
    "                        print(current_session_df[['title', 'rating']])\n",
    "                        # checking if user wants to save ratings\n",
    "                        submit_ratings = input('\\nWould you like to save these ratings to your profile? (yes/quit): ')\n",
    "                        if submit_ratings == 'yes':\n",
    "                            # saving ratings to main database and closing program\n",
    "                            main_df = main_df.append(current_session_df, ignore_index=True)\n",
    "                            ok_to_quit = True\n",
    "                            ok_to_move_on = True\n",
    "                            to_return = True\n",
    "                            break\n",
    "                        elif submit_ratings == 'quit':\n",
    "                            # not saving ratings to main database and closing program\n",
    "                            rating = 10\n",
    "                            ok_to_move_on = True\n",
    "                            to_return = False\n",
    "                            ok_to_quit = True\n",
    "                            print('Thank you for trying the movie recommendor system.')\n",
    "                            print('Your results have not been saved.')\n",
    "                            break\n",
    "                        else:\n",
    "                            # user did not enter a valid input to save or quit\n",
    "                            print('That is not a valid input. Please Try again.')\n",
    "                    else:\n",
    "                        # quitting the program without saving anything if dataframe is empty\n",
    "                        print('Program is now closing.')\n",
    "                        ok_to_move_on = True\n",
    "                        rating = 10\n",
    "                        to_return = False\n",
    "                        ok_to_quit = True\n",
    "                        break\n",
    "                # letting user skip a movie review if they havent seen it\n",
    "                elif rating == 'n':\n",
    "                    print('\\n')\n",
    "                    break\n",
    "\n",
    "                else:\n",
    "                    try:\n",
    "                        # trying to convert rating input to float\n",
    "                        rating = float(rating)\n",
    "                        if rating not in range(1,6):\n",
    "                            # letting user know that they need to use 1-5\n",
    "                            print('That is not a valid rating, please enter a value 1-5:')\n",
    "                            continue\n",
    "                        else:\n",
    "                            # saving user rating to temp df \n",
    "                            rating_dict['movieId'] = movie_review['movieId'].values[0]\n",
    "                            rating_dict['rating'] = rating\n",
    "                            rating_dict['title'] = movie_review['title'].values[0]\n",
    "                            rating_dict['genres'] = movie_review['genres'].values[0]\n",
    "                            current_session_df = current_session_df.append(rating_dict, ignore_index=True)\n",
    "                            rating = 0\n",
    "                            ok_to_move_on = False\n",
    "                            print('Saving rating to temporary memory...\\n\\n')\n",
    "                            break\n",
    "                    except:\n",
    "                        # user tried to enter something other than 1-5, 'n', or 'quit'\n",
    "                        print('That is not a valid rating, please enter a value 1-5:')\n",
    "    \n",
    "    # returns dataframe if they made changes to it, otherwise closes with no changes\n",
    "    if to_return:    \n",
    "        return main_df"
   ]
  },
  {
   "cell_type": "code",
   "execution_count": null,
   "metadata": {},
   "outputs": [],
   "source": []
  },
  {
   "cell_type": "code",
   "execution_count": null,
   "metadata": {},
   "outputs": [],
   "source": []
  },
  {
   "cell_type": "code",
   "execution_count": null,
   "metadata": {},
   "outputs": [],
   "source": []
  },
  {
   "cell_type": "markdown",
   "metadata": {},
   "source": [
    "## making predictions with surprise"
   ]
  },
  {
   "cell_type": "code",
   "execution_count": 71,
   "metadata": {
    "ExecuteTime": {
     "end_time": "2023-01-25T05:10:45.319392Z",
     "start_time": "2023-01-25T05:10:45.305373Z"
    }
   },
   "outputs": [],
   "source": [
    "user_to_rate = 2"
   ]
  },
  {
   "cell_type": "code",
   "execution_count": 72,
   "metadata": {
    "ExecuteTime": {
     "end_time": "2023-01-25T05:10:45.334901Z",
     "start_time": "2023-01-25T05:10:45.320398Z"
    }
   },
   "outputs": [
    {
     "data": {
      "text/html": [
       "<div>\n",
       "<style scoped>\n",
       "    .dataframe tbody tr th:only-of-type {\n",
       "        vertical-align: middle;\n",
       "    }\n",
       "\n",
       "    .dataframe tbody tr th {\n",
       "        vertical-align: top;\n",
       "    }\n",
       "\n",
       "    .dataframe thead th {\n",
       "        text-align: right;\n",
       "    }\n",
       "</style>\n",
       "<table border=\"1\" class=\"dataframe\">\n",
       "  <thead>\n",
       "    <tr style=\"text-align: right;\">\n",
       "      <th></th>\n",
       "      <th>userId</th>\n",
       "      <th>movieId</th>\n",
       "      <th>rating</th>\n",
       "    </tr>\n",
       "  </thead>\n",
       "  <tbody>\n",
       "    <tr>\n",
       "      <th>2267</th>\n",
       "      <td>2.0</td>\n",
       "      <td>333</td>\n",
       "      <td>4.0</td>\n",
       "    </tr>\n",
       "    <tr>\n",
       "      <th>15657</th>\n",
       "      <td>2.0</td>\n",
       "      <td>3578</td>\n",
       "      <td>4.0</td>\n",
       "    </tr>\n",
       "    <tr>\n",
       "      <th>16296</th>\n",
       "      <td>2.0</td>\n",
       "      <td>318</td>\n",
       "      <td>3.0</td>\n",
       "    </tr>\n",
       "    <tr>\n",
       "      <th>16613</th>\n",
       "      <td>2.0</td>\n",
       "      <td>1704</td>\n",
       "      <td>4.5</td>\n",
       "    </tr>\n",
       "    <tr>\n",
       "      <th>16754</th>\n",
       "      <td>2.0</td>\n",
       "      <td>6874</td>\n",
       "      <td>4.0</td>\n",
       "    </tr>\n",
       "  </tbody>\n",
       "</table>\n",
       "</div>"
      ],
      "text/plain": [
       "       userId  movieId  rating\n",
       "2267      2.0      333     4.0\n",
       "15657     2.0     3578     4.0\n",
       "16296     2.0      318     3.0\n",
       "16613     2.0     1704     4.5\n",
       "16754     2.0     6874     4.0"
      ]
     },
     "execution_count": 72,
     "metadata": {},
     "output_type": "execute_result"
    }
   ],
   "source": [
    "# creating a dataframe with a specified user\n",
    "user_ratings = new_user_df[new_user_df['userId'] == user_to_rate][['userId', 'movieId', 'rating']]\n",
    "user_ratings.head()"
   ]
  },
  {
   "cell_type": "code",
   "execution_count": 73,
   "metadata": {
    "ExecuteTime": {
     "end_time": "2023-01-25T05:10:45.350928Z",
     "start_time": "2023-01-25T05:10:45.335901Z"
    }
   },
   "outputs": [
    {
     "data": {
      "text/plain": [
       "array([   333,   3578,    318,   1704,   6874,   8798,  46970,  48516,\n",
       "        58559,  60756,  68157,  71535,  74458,  77455,  79132,  80489,\n",
       "        80906,  86345,  89774,  91529,  91658,  99114, 106782, 109487,\n",
       "       112552, 114060, 115713, 122882, 131724], dtype=int64)"
      ]
     },
     "execution_count": 73,
     "metadata": {},
     "output_type": "execute_result"
    }
   ],
   "source": [
    "user_ratings['movieId'].values"
   ]
  },
  {
   "cell_type": "code",
   "execution_count": 74,
   "metadata": {
    "ExecuteTime": {
     "end_time": "2023-01-25T05:10:45.366581Z",
     "start_time": "2023-01-25T05:10:45.351928Z"
    }
   },
   "outputs": [],
   "source": [
    "# creating a dataframe with movies not yet reviewed\n",
    "user_predict = list(movies_df[~movies_df['movieId'].isin(user_ratings['movieId'].values)].movieId.values)\n",
    "# user_predict"
   ]
  },
  {
   "cell_type": "code",
   "execution_count": 75,
   "metadata": {
    "ExecuteTime": {
     "end_time": "2023-01-25T05:10:46.146572Z",
     "start_time": "2023-01-25T05:10:45.367582Z"
    }
   },
   "outputs": [],
   "source": [
    "predictions = []\n",
    "for movie in user_predict:\n",
    "    predictions.append((movies_df['title'].loc[movies_df['movieId'] == movie].values[0], \\\n",
    "                        baseline.predict(user_to_rate, movie)[3]))\n",
    "    "
   ]
  },
  {
   "cell_type": "code",
   "execution_count": 76,
   "metadata": {
    "ExecuteTime": {
     "end_time": "2023-01-25T05:10:46.161793Z",
     "start_time": "2023-01-25T05:10:46.147582Z"
    }
   },
   "outputs": [],
   "source": [
    "predicted_df = pd.DataFrame(predictions, columns=['title', 'prediction'])"
   ]
  },
  {
   "cell_type": "code",
   "execution_count": 77,
   "metadata": {
    "ExecuteTime": {
     "end_time": "2023-01-25T05:10:46.177317Z",
     "start_time": "2023-01-25T05:10:46.162794Z"
    }
   },
   "outputs": [],
   "source": [
    "final_prediction = predicted_df.merge(movies_df).drop('movieId', axis=1)"
   ]
  },
  {
   "cell_type": "code",
   "execution_count": 78,
   "metadata": {
    "ExecuteTime": {
     "end_time": "2023-01-25T05:10:46.192844Z",
     "start_time": "2023-01-25T05:10:46.177317Z"
    }
   },
   "outputs": [],
   "source": [
    "test = final_prediction.sort_values('prediction', ascending=False)"
   ]
  },
  {
   "cell_type": "code",
   "execution_count": 79,
   "metadata": {
    "ExecuteTime": {
     "end_time": "2023-01-25T05:10:46.208907Z",
     "start_time": "2023-01-25T05:10:46.192844Z"
    }
   },
   "outputs": [
    {
     "name": "stdout",
     "output_type": "stream",
     "text": [
      "Empty DataFrame\n",
      "Columns: [title, prediction, genres, split_genres]\n",
      "Index: []\n"
     ]
    }
   ],
   "source": [
    "print(test[test['genres'].str.contains(('romance').title())])"
   ]
  },
  {
   "cell_type": "code",
   "execution_count": 80,
   "metadata": {
    "ExecuteTime": {
     "end_time": "2023-01-25T05:10:46.224369Z",
     "start_time": "2023-01-25T05:10:46.209858Z"
    }
   },
   "outputs": [
    {
     "data": {
      "text/html": [
       "<div>\n",
       "<style scoped>\n",
       "    .dataframe tbody tr th:only-of-type {\n",
       "        vertical-align: middle;\n",
       "    }\n",
       "\n",
       "    .dataframe tbody tr th {\n",
       "        vertical-align: top;\n",
       "    }\n",
       "\n",
       "    .dataframe thead th {\n",
       "        text-align: right;\n",
       "    }\n",
       "</style>\n",
       "<table border=\"1\" class=\"dataframe\">\n",
       "  <thead>\n",
       "    <tr style=\"text-align: right;\">\n",
       "      <th></th>\n",
       "      <th>title</th>\n",
       "      <th>prediction</th>\n",
       "      <th>genres</th>\n",
       "      <th>split_genres</th>\n",
       "    </tr>\n",
       "  </thead>\n",
       "  <tbody>\n",
       "    <tr>\n",
       "      <th>899</th>\n",
       "      <td>Star Wars: Episode V - The Empire Strikes Back...</td>\n",
       "      <td>4.411833</td>\n",
       "      <td>action|adventure|sci-fi</td>\n",
       "      <td>[action, adventure, sci-fi]</td>\n",
       "    </tr>\n",
       "    <tr>\n",
       "      <th>2229</th>\n",
       "      <td>Fight Club (1999)</td>\n",
       "      <td>4.386436</td>\n",
       "      <td>action|crime|drama|thriller</td>\n",
       "      <td>[action, crime, drama, thriller]</td>\n",
       "    </tr>\n",
       "    <tr>\n",
       "      <th>600</th>\n",
       "      <td>Dr. Strangelove or: How I Learned to Stop Worr...</td>\n",
       "      <td>4.383926</td>\n",
       "      <td>comedy|war</td>\n",
       "      <td>[comedy, war]</td>\n",
       "    </tr>\n",
       "    <tr>\n",
       "      <th>907</th>\n",
       "      <td>Lawrence of Arabia (1962)</td>\n",
       "      <td>4.363100</td>\n",
       "      <td>adventure|drama|war</td>\n",
       "      <td>[adventure, drama, war]</td>\n",
       "    </tr>\n",
       "    <tr>\n",
       "      <th>660</th>\n",
       "      <td>Godfather, The (1972)</td>\n",
       "      <td>4.349665</td>\n",
       "      <td>crime|drama</td>\n",
       "      <td>[crime, drama]</td>\n",
       "    </tr>\n",
       "    <tr>\n",
       "      <th>...</th>\n",
       "      <td>...</td>\n",
       "      <td>...</td>\n",
       "      <td>...</td>\n",
       "      <td>...</td>\n",
       "    </tr>\n",
       "    <tr>\n",
       "      <th>2029</th>\n",
       "      <td>Wild Wild West (1999)</td>\n",
       "      <td>2.700796</td>\n",
       "      <td>action|comedy|sci-fi|western</td>\n",
       "      <td>[action, comedy, sci-fi, western]</td>\n",
       "    </tr>\n",
       "    <tr>\n",
       "      <th>5274</th>\n",
       "      <td>Catwoman (2004)</td>\n",
       "      <td>2.699413</td>\n",
       "      <td>action|crime|fantasy</td>\n",
       "      <td>[action, crime, fantasy]</td>\n",
       "    </tr>\n",
       "    <tr>\n",
       "      <th>1373</th>\n",
       "      <td>Godzilla (1998)</td>\n",
       "      <td>2.661489</td>\n",
       "      <td>action|sci-fi|thriller</td>\n",
       "      <td>[action, sci-fi, thriller]</td>\n",
       "    </tr>\n",
       "    <tr>\n",
       "      <th>1312</th>\n",
       "      <td>Spice World (1997)</td>\n",
       "      <td>2.650159</td>\n",
       "      <td>comedy</td>\n",
       "      <td>[comedy]</td>\n",
       "    </tr>\n",
       "    <tr>\n",
       "      <th>2685</th>\n",
       "      <td>Battlefield Earth (2000)</td>\n",
       "      <td>2.516839</td>\n",
       "      <td>action|sci-fi</td>\n",
       "      <td>[action, sci-fi]</td>\n",
       "    </tr>\n",
       "  </tbody>\n",
       "</table>\n",
       "<p>9723 rows × 4 columns</p>\n",
       "</div>"
      ],
      "text/plain": [
       "                                                  title  prediction  \\\n",
       "899   Star Wars: Episode V - The Empire Strikes Back...    4.411833   \n",
       "2229                                  Fight Club (1999)    4.386436   \n",
       "600   Dr. Strangelove or: How I Learned to Stop Worr...    4.383926   \n",
       "907                           Lawrence of Arabia (1962)    4.363100   \n",
       "660                               Godfather, The (1972)    4.349665   \n",
       "...                                                 ...         ...   \n",
       "2029                              Wild Wild West (1999)    2.700796   \n",
       "5274                                    Catwoman (2004)    2.699413   \n",
       "1373                                    Godzilla (1998)    2.661489   \n",
       "1312                                 Spice World (1997)    2.650159   \n",
       "2685                           Battlefield Earth (2000)    2.516839   \n",
       "\n",
       "                            genres                       split_genres  \n",
       "899        action|adventure|sci-fi        [action, adventure, sci-fi]  \n",
       "2229   action|crime|drama|thriller   [action, crime, drama, thriller]  \n",
       "600                     comedy|war                      [comedy, war]  \n",
       "907            adventure|drama|war            [adventure, drama, war]  \n",
       "660                    crime|drama                     [crime, drama]  \n",
       "...                            ...                                ...  \n",
       "2029  action|comedy|sci-fi|western  [action, comedy, sci-fi, western]  \n",
       "5274          action|crime|fantasy           [action, crime, fantasy]  \n",
       "1373        action|sci-fi|thriller         [action, sci-fi, thriller]  \n",
       "1312                        comedy                           [comedy]  \n",
       "2685                 action|sci-fi                   [action, sci-fi]  \n",
       "\n",
       "[9723 rows x 4 columns]"
      ]
     },
     "execution_count": 80,
     "metadata": {},
     "output_type": "execute_result"
    }
   ],
   "source": [
    "test"
   ]
  },
  {
   "cell_type": "code",
   "execution_count": 81,
   "metadata": {
    "ExecuteTime": {
     "end_time": "2023-01-25T05:10:46.240398Z",
     "start_time": "2023-01-25T05:10:46.225372Z"
    }
   },
   "outputs": [
    {
     "data": {
      "text/html": [
       "<div>\n",
       "<style scoped>\n",
       "    .dataframe tbody tr th:only-of-type {\n",
       "        vertical-align: middle;\n",
       "    }\n",
       "\n",
       "    .dataframe tbody tr th {\n",
       "        vertical-align: top;\n",
       "    }\n",
       "\n",
       "    .dataframe thead th {\n",
       "        text-align: right;\n",
       "    }\n",
       "</style>\n",
       "<table border=\"1\" class=\"dataframe\">\n",
       "  <thead>\n",
       "    <tr style=\"text-align: right;\">\n",
       "      <th></th>\n",
       "      <th>title</th>\n",
       "      <th>prediction</th>\n",
       "    </tr>\n",
       "  </thead>\n",
       "  <tbody>\n",
       "    <tr>\n",
       "      <th>896</th>\n",
       "      <td>Star Wars: Episode V - The Empire Strikes Back...</td>\n",
       "      <td>4.411833</td>\n",
       "    </tr>\n",
       "    <tr>\n",
       "      <th>2223</th>\n",
       "      <td>Fight Club (1999)</td>\n",
       "      <td>4.386436</td>\n",
       "    </tr>\n",
       "    <tr>\n",
       "      <th>600</th>\n",
       "      <td>Dr. Strangelove or: How I Learned to Stop Worr...</td>\n",
       "      <td>4.383926</td>\n",
       "    </tr>\n",
       "    <tr>\n",
       "      <th>904</th>\n",
       "      <td>Lawrence of Arabia (1962)</td>\n",
       "      <td>4.363100</td>\n",
       "    </tr>\n",
       "    <tr>\n",
       "      <th>657</th>\n",
       "      <td>Godfather, The (1972)</td>\n",
       "      <td>4.349665</td>\n",
       "    </tr>\n",
       "    <tr>\n",
       "      <th>692</th>\n",
       "      <td>Casablanca (1942)</td>\n",
       "      <td>4.341353</td>\n",
       "    </tr>\n",
       "    <tr>\n",
       "      <th>897</th>\n",
       "      <td>Princess Bride, The (1987)</td>\n",
       "      <td>4.324890</td>\n",
       "    </tr>\n",
       "    <tr>\n",
       "      <th>46</th>\n",
       "      <td>Usual Suspects, The (1995)</td>\n",
       "      <td>4.321951</td>\n",
       "    </tr>\n",
       "    <tr>\n",
       "      <th>907</th>\n",
       "      <td>Apocalypse Now (1979)</td>\n",
       "      <td>4.315185</td>\n",
       "    </tr>\n",
       "    <tr>\n",
       "      <th>224</th>\n",
       "      <td>Star Wars: Episode IV - A New Hope (1977)</td>\n",
       "      <td>4.313092</td>\n",
       "    </tr>\n",
       "  </tbody>\n",
       "</table>\n",
       "</div>"
      ],
      "text/plain": [
       "                                                  title  prediction\n",
       "896   Star Wars: Episode V - The Empire Strikes Back...    4.411833\n",
       "2223                                  Fight Club (1999)    4.386436\n",
       "600   Dr. Strangelove or: How I Learned to Stop Worr...    4.383926\n",
       "904                           Lawrence of Arabia (1962)    4.363100\n",
       "657                               Godfather, The (1972)    4.349665\n",
       "692                                   Casablanca (1942)    4.341353\n",
       "897                          Princess Bride, The (1987)    4.324890\n",
       "46                           Usual Suspects, The (1995)    4.321951\n",
       "907                               Apocalypse Now (1979)    4.315185\n",
       "224           Star Wars: Episode IV - A New Hope (1977)    4.313092"
      ]
     },
     "execution_count": 81,
     "metadata": {},
     "output_type": "execute_result"
    }
   ],
   "source": [
    "predicted_df.sort_values('prediction', ascending=False).head(10)"
   ]
  },
  {
   "cell_type": "code",
   "execution_count": 82,
   "metadata": {
    "ExecuteTime": {
     "end_time": "2023-01-25T05:10:46.270927Z",
     "start_time": "2023-01-25T05:10:46.241399Z"
    }
   },
   "outputs": [
    {
     "data": {
      "text/plain": [
       "[('Toy Story (1995)', 4.013543396286959),\n",
       " ('Jumanji (1995)', 3.647139404330795),\n",
       " ('Grumpier Old Men (1995)', 3.4558718534655095),\n",
       " ('Waiting to Exhale (1995)', 3.2635810556818687),\n",
       " ('Father of the Bride Part II (1995)', 3.294237100026675),\n",
       " ('Heat (1995)', 4.022059772354651),\n",
       " ('Sabrina (1995)', 3.299375022715588),\n",
       " ('Tom and Huck (1995)', 3.4883789531691876),\n",
       " ('Sudden Death (1995)', 3.390387011401443),\n",
       " ('GoldenEye (1995)', 3.608037212980662),\n",
       " ('American President, The (1995)', 3.8109337117224835),\n",
       " ('Dracula: Dead and Loving It (1995)', 2.9912268941425424),\n",
       " ('Balto (1995)', 3.5307718077826493),\n",
       " ('Nixon (1995)', 3.7045657795492493),\n",
       " ('Cutthroat Island (1995)', 3.3893698114101047),\n",
       " ('Casino (1995)', 3.9792277892036885),\n",
       " ('Sense and Sensibility (1995)', 3.9994613818479885),\n",
       " ('Four Rooms (1995)', 3.775151527206968),\n",
       " ('Ace Ventura: When Nature Calls (1995)', 2.9582319004933293),\n",
       " ('Money Train (1995)', 3.1800508036538364),\n",
       " ('Get Shorty (1995)', 3.6990030188928578),\n",
       " ('Copycat (1995)', 3.482142097370446),\n",
       " ('Assassins (1995)', 3.405714882225384),\n",
       " ('Powder (1995)', 3.348899430579756),\n",
       " ('Leaving Las Vegas (1995)', 3.669487906250119),\n",
       " ('Othello (1995)', 3.687192520114727),\n",
       " ('Now and Then (1995)', 3.517753464197551),\n",
       " ('Persuasion (1995)', 3.9835796457692454),\n",
       " ('City of Lost Children, The (Cité des enfants perdus, La) (1995)',\n",
       "  3.895237478304545),\n",
       " ('Shanghai Triad (Yao a yao yao dao waipo qiao) (1995)', 3.4605292178829155),\n",
       " ('Dangerous Minds (1995)', 3.415509697312777),\n",
       " ('Twelve Monkeys (a.k.a. 12 Monkeys) (1995)', 4.039514206488706),\n",
       " ('Babe (1995)', 3.775009066103287),\n",
       " ('Dead Man Walking (1995)', 3.817807517440371),\n",
       " ('It Takes Two (1995)', 3.328645146453534),\n",
       " ('Clueless (1995)', 3.472301103466389),\n",
       " ('Cry, the Beloved Country (1995)', 3.757629075001343),\n",
       " ('Richard III (1995)', 3.7540975767291807),\n",
       " ('Dead Presidents (1995)', 3.4214522406910537),\n",
       " ('Restoration (1995)', 3.6272364898964233),\n",
       " ('Mortal Kombat (1995)', 2.969041713587705),\n",
       " ('To Die For (1995)', 3.5487948304655608),\n",
       " ('How to Make an American Quilt (1995)', 3.299581534582326),\n",
       " ('Seven (a.k.a. Se7en) (1995)', 4.067476333766342),\n",
       " ('Pocahontas (1995)', 3.3505963142443846),\n",
       " ('When Night Is Falling (1995)', 3.540710326335825),\n",
       " ('Usual Suspects, The (1995)', 4.321951249403596),\n",
       " ('Mighty Aphrodite (1995)', 3.545879475969977),\n",
       " ('Lamerica (1994)', 3.851064089753476),\n",
       " ('Big Green, The (1995)', 3.3426326399091413),\n",
       " ('Georgia (1995)', 3.6395804902671745),\n",
       " ('Home for the Holidays (1995)', 3.451802486516235),\n",
       " ('Postman, The (Postino, Il) (1994)', 3.9722034991726973),\n",
       " ('Indian in the Cupboard, The (1995)', 3.4657429360954826),\n",
       " ('Eye for an Eye (1996)', 3.739173736551601),\n",
       " (\"Mr. Holland's Opus (1995)\", 3.789400448319018),\n",
       " (\"Don't Be a Menace to South Central While Drinking Your Juice in the Hood (1996)\",\n",
       "  3.3298684128375773),\n",
       " ('Two if by Sea (1996)', 3.1746503176269125),\n",
       " ('Bio-Dome (1996)', 3.0704084039500956),\n",
       " ('Lawnmower Man 2: Beyond Cyberspace (1996)', 3.1310236549781996),\n",
       " ('French Twist (Gazon maudit) (1995)', 3.6227957343368677),\n",
       " ('Friday (1995)', 3.725810128446961),\n",
       " ('From Dusk Till Dawn (1996)', 3.582489884659135),\n",
       " ('Fair Game (1995)', 3.1114473064510615),\n",
       " ('Kicking and Screaming (1995)', 3.5094894302125863),\n",
       " ('Misérables, Les (1995)', 3.6670887463688597),\n",
       " ('Bed of Roses (1996)', 3.6697924048298702),\n",
       " ('Big Bully (1996)', 3.209777124982337),\n",
       " ('Screamers (1995)', 3.566990049255688),\n",
       " ('Nico Icon (1995)', 3.6518691390231677),\n",
       " ('Crossing Guard, The (1995)', 3.542365925449815),\n",
       " ('Juror, The (1996)', 3.188192455541208),\n",
       " ('White Balloon, The (Badkonake sefid) (1995)', 3.6463978958912184),\n",
       " (\"Things to Do in Denver When You're Dead (1995)\", 3.392680112165237),\n",
       " (\"Antonia's Line (Antonia) (1995)\", 3.7355829808183536),\n",
       " ('Once Upon a Time... When We Were Colored (1995)', 3.583963494462928),\n",
       " ('Angels and Insects (1995)', 3.9581782402845387),\n",
       " ('White Squall (1996)', 3.856257317488379),\n",
       " ('Dunston Checks In (1996)', 3.334356142571567),\n",
       " ('Black Sheep (1996)', 3.4677150297306127),\n",
       " ('Nick of Time (1995)', 3.5795573568273737),\n",
       " ('Mary Reilly (1996)', 3.261800370352545),\n",
       " ('Vampire in Brooklyn (1995)', 3.4099176500196244),\n",
       " ('Beautiful Girls (1996)', 3.849479115753488),\n",
       " ('Broken Arrow (1996)', 3.2071462603416685),\n",
       " ('In the Bleak Midwinter (1995)', 3.614000212715734),\n",
       " ('Hate (Haine, La) (1995)', 3.8376134994048985),\n",
       " ('Heidi Fleiss: Hollywood Madam (1995)', 3.839806768342141),\n",
       " ('City Hall (1996)', 3.3294923677500803),\n",
       " ('Bottle Rocket (1996)', 3.94437526860834),\n",
       " ('Mr. Wrong (1996)', 3.072844476061596),\n",
       " ('Unforgettable (1996)', 3.457903001598911),\n",
       " ('Happy Gilmore (1996)', 3.601782248373134),\n",
       " ('Bridges of Madison County, The (1995)', 3.528159941352276),\n",
       " ('Nobody Loves Me (Keiner liebt mich) (1994)', 3.6596607021003686),\n",
       " ('Muppet Treasure Island (1996)', 3.6137357164233306),\n",
       " ('Catwalk (1996)', 3.6518691390231677),\n",
       " ('Braveheart (1995)', 4.161822817765839),\n",
       " ('Taxi Driver (1976)', 4.130449062823219),\n",
       " ('Rumble in the Bronx (Hont faan kui) (1995)', 3.6961121281811873),\n",
       " ('Before and After (1996)', 3.4866139069939015),\n",
       " ('Anne Frank Remembered (1995)', 3.7321692419268766),\n",
       " (\"Young Poisoner's Handbook, The (1995)\", 3.5453390822478994),\n",
       " ('If Lucy Fell (1996)', 3.509299306575808),\n",
       " ('Steal Big, Steal Little (1995)', 3.5638973804216394),\n",
       " ('Boys of St. Vincent, The (1992)', 3.668820305203827),\n",
       " ('Boomerang (1992)', 3.1895289075448856),\n",
       " ('Chungking Express (Chung Hing sam lam) (1994)', 3.747055778820293),\n",
       " ('Flirting With Disaster (1996)', 3.8034939457470602),\n",
       " ('NeverEnding Story III, The (1994)', 3.033782343865116),\n",
       " (\"Jupiter's Wife (1994)\", 3.5507881712207237),\n",
       " ('Pie in the Sky (1996)', 3.4297484501155493),\n",
       " ('Jade (1995)', 3.5371085021975333),\n",
       " ('Down Periscope (1996)', 3.276199192684045),\n",
       " ('Man of the Year (1995)', 3.571510145821254),\n",
       " ('Up Close and Personal (1996)', 3.562052654158685),\n",
       " ('Birdcage, The (1996)', 3.66806263153261),\n",
       " ('Brothers McMullen, The (1995)', 3.6321714782139125),\n",
       " ('Bad Boys (1995)', 3.4494594263160203),\n",
       " ('Amazing Panda Adventure, The (1995)', 3.5597475151813374),\n",
       " ('Basketball Diaries, The (1995)', 3.7445097087313997),\n",
       " ('Awfully Big Adventure, An (1995)', 3.715824873662233),\n",
       " ('Amateur (1994)', 3.4700509572049856),\n",
       " ('Apollo 13 (1995)', 3.8945984751569247),\n",
       " ('Rob Roy (1995)', 3.644388783325217),\n",
       " ('Addiction, The (1995)', 3.3102743250173727),\n",
       " ('Batman Forever (1995)', 3.0670164564696667),\n",
       " ('Beauty of the Day (Belle de jour) (1967)', 3.808009084742874),\n",
       " ('Beyond Rangoon (1995)', 3.327335168811111),\n",
       " ('Blue in the Face (1995)', 3.5387132767786182),\n",
       " ('Canadian Bacon (1995)', 3.447235234037621),\n",
       " ('Casper (1995)', 3.178198749545323),\n",
       " ('Clockers (1995)', 3.3284623017195663),\n",
       " ('Congo (1995)', 3.0755099677938453),\n",
       " ('Crimson Tide (1995)', 3.8390488739276822),\n",
       " ('Crumb (1994)', 4.013885563609447),\n",
       " ('Desperado (1995)', 3.757832518968717),\n",
       " ('Devil in a Blue Dress (1995)', 3.6418642125755976),\n",
       " ('Die Hard: With a Vengeance (1995)', 3.7183280209355476),\n",
       " ('Doom Generation, The (1995)', 3.61720656620493),\n",
       " ('First Knight (1995)', 3.2233967152254346),\n",
       " ('Free Willy 2: The Adventure Home (1995)', 3.2626389799247764),\n",
       " ('Hackers (1995)', 3.4905099489004883),\n",
       " ('Jeffrey (1995)', 3.6727373146112647),\n",
       " ('Johnny Mnemonic (1995)', 3.0652585060916433),\n",
       " ('Judge Dredd (1995)', 3.090445141851839),\n",
       " ('Jury Duty (1995)', 3.313002801568959),\n",
       " ('Kids (1995)', 3.9965028467423487),\n",
       " ('Living in Oblivion (1995)', 3.986785869980617),\n",
       " ('Lord of Illusions (1995)', 3.2907320603400843),\n",
       " ('Love & Human Remains (1993)', 3.5966952919433712),\n",
       " ('Mad Love (1995)', 3.2671452905190166),\n",
       " ('Mallrats (1995)', 3.666804605644004),\n",
       " ('Mighty Morphin Power Rangers: The Movie (1995)', 2.948811910230506),\n",
       " ('Mute Witness (1994)', 3.595179486674715),\n",
       " ('Nadja (1994)', 3.600194792879002),\n",
       " ('Net, The (1995)', 3.2128395728408026),\n",
       " ('Nine Months (1995)', 3.059353053576016),\n",
       " ('Party Girl (1995)', 3.8587906532480396),\n",
       " ('Prophecy, The (1995)', 3.595135373900273),\n",
       " ('Reckless (1995)', 3.5427113837294435),\n",
       " ('Safe (1995)', 3.5249517832063235),\n",
       " ('Scarlet Letter, The (1995)', 3.2498867356347128),\n",
       " ('Showgirls (1995)', 2.853618334455843),\n",
       " ('Smoke (1995)', 3.762272558703373),\n",
       " ('Something to Talk About (1995)', 3.4838254809435143),\n",
       " ('Species (1995)', 2.9048489725290922),\n",
       " ('Strange Days (1995)', 3.472609445576001),\n",
       " ('Umbrellas of Cherbourg, The (Parapluies de Cherbourg, Les) (1964)',\n",
       "  3.7821261389760643),\n",
       " ('Three Wishes (1995)', 3.5966952919433712),\n",
       " ('Total Eclipse (1995)', 3.5471189709368653),\n",
       " ('To Wong Foo, Thanks for Everything! Julie Newmar (1995)',\n",
       "  3.6400395712774496),\n",
       " ('Under Siege 2: Dark Territory (1995)', 3.0082713023925685),\n",
       " ('Unstrung Heroes (1995)', 3.5732125225984164),\n",
       " ('Unzipped (1995)', 3.5396094949059975),\n",
       " ('Walk in the Clouds, A (1995)', 3.5680089131894523),\n",
       " ('Waterworld (1995)', 3.1082481017985937),\n",
       " (\"White Man's Burden (1995)\", 3.590312324853744),\n",
       " ('Wild Bill (1995)', 3.551850786392205),\n",
       " ('Browning Version, The (1994)', 3.633275016358906),\n",
       " ('Bushwhacked (1995)', 3.543134524578978),\n",
       " ('Burnt by the Sun (Utomlyonnye solntsem) (1994)', 3.6850067087505503),\n",
       " ('Before the Rain (Pred dozhdot) (1994)', 3.6518691390231677),\n",
       " ('Before Sunrise (1995)', 4.001075252789589),\n",
       " ('Billy Madison (1995)', 3.5785864621221615),\n",
       " ('Babysitter, The (1995)', 3.499892590938587),\n",
       " ('Boys on the Side (1995)', 3.678522220978454),\n",
       " ('Cure, The (1995)', 3.5427113837294435),\n",
       " ('Castle Freak (1995)', 3.5453390822478994),\n",
       " ('Circle of Friends (1995)', 3.6235387809036497),\n",
       " ('Clerks (1994)', 4.0392723023236154),\n",
       " ('Don Juan DeMarco (1995)', 3.7237839867704405),\n",
       " ('Disclosure (1994)', 3.596801310278418),\n",
       " ('Drop Zone (1994)', 3.138329039664729),\n",
       " ('Destiny Turns on the Radio (1995)', 3.3249353020882855),\n",
       " ('Death and the Maiden (1994)', 3.6711278053466345),\n",
       " ('Dolores Claiborne (1995)', 3.657202041629576),\n",
       " ('Dumb & Dumber (Dumb and Dumber) (1994)', 3.2011700082797665),\n",
       " ('Eat Drink Man Woman (Yin shi nan nu) (1994)', 3.608135798674774),\n",
       " ('Exotica (1994)', 3.686726702395673),\n",
       " ('Exit to Eden (1994)', 3.1058265626792916),\n",
       " ('Ed Wood (1994)', 3.8037080009606985),\n",
       " ('French Kiss (1995)', 3.5219516291173547),\n",
       " ('Forget Paris (1995)', 3.511685874944818),\n",
       " ('Far From Home: The Adventures of Yellow Dog (1995)', 3.6419943055877635),\n",
       " ('Goofy Movie, A (1995)', 3.3035978052323487),\n",
       " ('Hideaway (1995)', 3.3274694039341686),\n",
       " ('Fluke (1995)', 3.5966952919433712),\n",
       " ('Farinelli: il castrato (1994)', 3.6123602984724186),\n",
       " ('Gordy (1995)', 3.5427113837294435),\n",
       " ('Hoop Dreams (1994)', 4.155823039523348),\n",
       " ('Heavenly Creatures (1994)', 4.129035227964833),\n",
       " ('Houseguest (1994)', 3.4258882135406292),\n",
       " ('Immortal Beloved (1994)', 3.83124935188462),\n",
       " ('Heavyweights (Heavy Weights) (1995)', 3.4294954847664876),\n",
       " ('Hunted, The (1995)', 3.5431617870790544),\n",
       " ('I.Q. (1994)', 3.526133079789638),\n",
       " ('Interview with the Vampire: The Vampire Chronicles (1994)',\n",
       "  3.638024213422425),\n",
       " ('Jefferson in Paris (1995)', 3.5427113837294435),\n",
       " ('Jerky Boys, The (1995)', 3.2443400646512837),\n",
       " ('Junior (1994)', 3.109162759260345),\n",
       " ('Just Cause (1995)', 3.590788207235325),\n",
       " (\"Kid in King Arthur's Court, A (1995)\", 3.321295107040141),\n",
       " ('Kiss of Death (1995)', 3.454100001455614),\n",
       " ('Star Wars: Episode IV - A New Hope (1977)', 4.3130924395741665),\n",
       " ('Little Women (1994)', 3.8900050814208678),\n",
       " ('Little Princess, A (1995)', 3.899024810104556),\n",
       " ('Ladybird Ladybird (1994)', 3.5966952919433712),\n",
       " ('Like Water for Chocolate (Como agua para chocolate) (1992)',\n",
       "  3.9418006264856533),\n",
       " ('Legends of the Fall (1994)', 3.5583918245311734),\n",
       " ('Major Payne (1995)', 3.2269579346878836),\n",
       " ('My Crazy Life (Mi vida loca) (1993)', 3.5064734350088074),\n",
       " ('Love Affair (1994)', 3.4790636639880974),\n",
       " ('Losing Isaiah (1995)', 3.558801364764269),\n",
       " ('Madness of King George, The (1994)', 3.8196477781271745),\n",
       " (\"Mary Shelley's Frankenstein (Frankenstein) (1994)\", 3.319399152969763),\n",
       " ('Man of the House (1995)', 3.476663825464098),\n",
       " ('Mixed Nuts (1994)', 3.219999579039007),\n",
       " ('Milk Money (1994)', 3.3849531049276784),\n",
       " ('Miracle on 34th Street (1994)', 3.3682144925225797),\n",
       " ('Miami Rhapsody (1995)', 3.4700509572049856),\n",
       " ('My Family (1995)', 3.4658032232610894),\n",
       " ('Murder in the First (1995)', 3.8307473044025193),\n",
       " (\"Nobody's Fool (1994)\", 3.697211457010893),\n",
       " ('Nell (1994)', 3.463397336141899),\n",
       " ('New Jersey Drive (1995)', 3.5193203345992052),\n",
       " ('New York Cop (Nyû Yôku no koppu) (1993)', 3.651569980351593),\n",
       " ('Beyond Bedlam (1993)', 3.6362481731569902),\n",
       " ('Nina Takes a Lover (1994)', 3.5486713993580836),\n",
       " ('Natural Born Killers (1994)', 3.470686867566556),\n",
       " ('Only You (1994)', 3.5920485108362974),\n",
       " ('Once Were Warriors (1994)', 3.836626671020297),\n",
       " ('Poison Ivy II (1996)', 3.393420306192297),\n",
       " ('Outbreak (1995)', 3.5338286393509915),\n",
       " ('Léon: The Professional (a.k.a. The Professional) (Léon) (1994)',\n",
       "  4.11362503044264),\n",
       " ('Perez Family, The (1995)', 3.5039652578127507),\n",
       " (\"Pyromaniac's Love Story, A (1995)\", 3.6250612194277614),\n",
       " ('Pulp Fiction (1994)', 4.24289136882213),\n",
       " ('Pushing Hands (Tui shou) (1992)', 3.428452601457033),\n",
       " ('Priest (1994)', 3.716252996125211),\n",
       " ('Quiz Show (1994)', 3.5514716969538602),\n",
       " ('Picture Bride (Bijo photo) (1994)', 3.6518691390231677),\n",
       " ('Queen Margot (Reine Margot, La) (1994)', 3.4357269149542318),\n",
       " ('Quick and the Dead, The (1995)', 3.368629602385507),\n",
       " ('Roommates (1995)', 3.7103712406258804),\n",
       " ('Ready to Wear (Pret-A-Porter) (1994)', 3.4896565171824543),\n",
       " ('Three Colors: Red (Trois couleurs: Rouge) (1994)', 3.951038824205374),\n",
       " ('Three Colors: Blue (Trois couleurs: Bleu) (1993)', 3.8612684604386684),\n",
       " ('Three Colors: White (Trzy kolory: Bialy) (1994)', 3.9116325976668946),\n",
       " ('Rent-a-Kid (1995)', 3.5427113837294435),\n",
       " ('Relative Fear (1994)', 3.5453390822478994),\n",
       " ('Stuart Saves His Family (1995)', 2.9075737934031887),\n",
       " ('Swan Princess, The (1994)', 3.5749285634006625),\n",
       " ('Secret of Roan Inish, The (1994)', 3.8141783921462706),\n",
       " ('Specialist, The (1994)', 3.3205415533791753),\n",
       " ('Stargate (1994)', 3.492865167605521),\n",
       " ('Santa Clause, The (1994)', 3.4422087780234047),\n",
       " ('Shallow Grave (1994)', 3.783590657890263),\n",
       " ('Suture (1993)', 3.5609600481140764),\n",
       " ('Strawberry and Chocolate (Fresa y chocolate) (1993)', 3.673895096150894),\n",
       " ('Swimming with Sharks (1995)', 3.723954435699783),\n",
       " ('Sum of Us, The (1994)', 3.6395804902671745),\n",
       " (\"National Lampoon's Senior Trip (1995)\", 3.325724256960975),\n",
       " ('To Live (Huozhe) (1994)', 3.692251771892106),\n",
       " ('Tank Girl (1995)', 3.1841117384277577),\n",
       " ('Tales from the Crypt Presents: Demon Knight (1995)', 3.514135905328401),\n",
       " ('Star Trek: Generations (1994)', 3.5179860398430916),\n",
       " ('Tales from the Hood (1995)', 3.41525113900512),\n",
       " ('Tom & Viv (1994)', 3.5609600481140764),\n",
       " ('Village of the Damned (1995)', 3.3834828251431417),\n",
       " ('Vanya on 42nd Street (1994)', 3.8958250019784546),\n",
       " ('Underneath (1995)', 3.632578414202762),\n",
       " ('Walking Dead, The (1995)', 3.5427113837294435),\n",
       " (\"What's Eating Gilbert Grape (1993)\", 3.936365303425052),\n",
       " ('Virtuosity (1995)', 3.1232573304234688),\n",
       " ('While You Were Sleeping (1995)', 3.6265085552373897),\n",
       " ('War, The (1994)', 3.587095733947028),\n",
       " ('Double Happiness (1994)', 3.655373928506366),\n",
       " (\"Muriel's Wedding (1994)\", 3.4823470671425336),\n",
       " ('Baby-Sitters Club, The (1995)', 3.487595754217141),\n",
       " ('Ace Ventura: Pet Detective (1994)', 3.2173365942849164),\n",
       " ('Adventures of Priscilla, Queen of the Desert, The (1994)',\n",
       "  3.861374331361065),\n",
       " ('Backbeat (1993)', 3.6964002168659302),\n",
       " ('Bitter Moon (1992)', 3.645501501547271),\n",
       " ('Bullets Over Broadway (1994)', 3.672789784867502),\n",
       " ('Clear and Present Danger (1994)', 3.7422070122087625),\n",
       " ('Client, The (1994)', 3.546600622058966),\n",
       " ('Corrina, Corrina (1994)', 3.5531363930272084),\n",
       " ('Crooklyn (1994)', 3.472988289512548),\n",
       " ('Crow, The (1994)', 3.842202923779009),\n",
       " ('Cobb (1994)', 3.625243018511357),\n",
       " ('Flintstones, The (1994)', 2.950781201060285),\n",
       " ('Forrest Gump (1994)', 4.255395947579403),\n",
       " ('Four Weddings and a Funeral (1994)', 3.7232035475817535),\n",
       " ('Higher Learning (1995)', 3.2506342189144983),\n",
       " ('I Like It Like That (1994)', 3.5427113837294435),\n",
       " ('I Love Trouble (1994)', 3.361185108594493),\n",
       " ('It Could Happen to You (1994)', 3.396632577465391),\n",
       " ('Jungle Book, The (1994)', 3.6264618920867537),\n",
       " ('Wonderful, Horrible Life of Leni Riefenstahl, The (Macht der Bilder: Leni Riefenstahl, Die) (1993)',\n",
       "  3.6518691390231677),\n",
       " ('Lion King, The (1994)', 4.042718046797056),\n",
       " ('Little Buddha (1993)', 3.559314962856005),\n",
       " (\"Wes Craven's New Nightmare (Nightmare on Elm Street Part 7: Freddy's Finale, A) (1994)\",\n",
       "  3.4709188613629736),\n",
       " ('Mask, The (1994)', 3.3588511534852024),\n",
       " ('Maverick (1994)', 3.7015749583022672),\n",
       " ('Mrs. Parker and the Vicious Circle (1994)', 3.686582750230004),\n",
       " ('Naked Gun 33 1/3: The Final Insult (1994)', 3.3695930440979014),\n",
       " ('Paper, The (1994)', 3.596837380758606),\n",
       " ('Reality Bites (1994)', 3.2934290291803556),\n",
       " ('Red Rock West (1992)', 3.718208248390435),\n",
       " ('Richie Rich (1994)', 2.810470368075493),\n",
       " ('River Wild, The (1994)', 3.397496186849373),\n",
       " ('Speed (1994)', 3.6537190732337015),\n",
       " ('Speechless (1994)', 3.497484335656465),\n",
       " ('Timecop (1994)', 3.183861009258936),\n",
       " ('True Lies (1994)', 3.6139891470797485),\n",
       " ('When a Man Loves a Woman (1994)', 3.718995020603155),\n",
       " ('Wolf (1994)', 3.3597673923171034),\n",
       " ('Wyatt Earp (1994)', 3.4139775952089577),\n",
       " ('Bad Company (1995)', 3.5634263442936955),\n",
       " ('Man of No Importance, A (1994)', 3.6390727067045106),\n",
       " ('S.F.W. (1994)', 3.5638973804216394),\n",
       " ('Low Down Dirty Shame, A (1994)', 3.5159180103471734),\n",
       " ('Boys Life (1995)', 3.4809860841037787),\n",
       " ('Colonel Chabert, Le (1994)', 3.7437771168525447),\n",
       " ('Faster Pussycat! Kill! Kill! (1965)', 3.6824537051738697),\n",
       " (\"Jason's Lyric (1994)\", 3.7360580577823774),\n",
       " ('Street Fighter (1994)', 3.1986272990166347),\n",
       " ('Highlander III: The Sorcerer (a.k.a. Highlander: The Final Dimension) (1994)',\n",
       "  3.1625514719076055),\n",
       " ('Federal Hill (1994)', 3.5966952919433712),\n",
       " ('In the Mouth of Madness (1995)', 3.6130091554474286),\n",
       " ('8 Seconds (1994)', 3.517441589644929),\n",
       " ('Above the Rim (1994)', 3.535192058521891),\n",
       " ('Addams Family Values (1993)', 3.2709346470389664),\n",
       " ('Age of Innocence, The (1993)', 3.660727020549638),\n",
       " ('Airheads (1994)', 3.207488692688905),\n",
       " ('Air Up There, The (1994)', 3.291881164777234),\n",
       " ('Another Stakeout (1993)', 3.1014926796005398),\n",
       " ('Bad Girls (1994)', 3.360501010138843),\n",
       " ('Barcelona (1994)', 3.7159843265859824),\n",
       " ('Being Human (1993)', 3.5966952919433712),\n",
       " ('Beverly Hillbillies, The (1993)', 3.0547677293910884),\n",
       " ('Beverly Hills Cop III (1994)', 3.072384511818152),\n",
       " ('Black Beauty (1994)', 3.5575683885095573),\n",
       " ('Blink (1994)', 3.619648488710161),\n",
       " ('Blown Away (1994)', 3.359716208487563),\n",
       " ('Blue Chips (1994)', 3.453474795617108),\n",
       " ('Blue Sky (1994)', 3.6525168598615436),\n",
       " ('Body Snatchers (1993)', 3.641467020545386),\n",
       " ('Boxing Helena (1993)', 3.2121285535286237),\n",
       " ('Bronx Tale, A (1993)', 3.7630815301668843),\n",
       " ('Cabin Boy (1994)', 3.270775028703834),\n",
       " ('Calendar Girl (1993)', 3.68529665351946),\n",
       " (\"Carlito's Way (1993)\", 3.8674226613192593),\n",
       " (\"City Slickers II: The Legend of Curly's Gold (1994)\", 3.0193401544080247),\n",
       " ('Clean Slate (1994)', 3.3850789085029045),\n",
       " ('Cliffhanger (1993)', 3.247674918873743),\n",
       " ('Coneheads (1993)', 2.8247541559594027),\n",
       " ('Color of Night (1994)', 3.3773456244355304),\n",
       " ('Cops and Robbersons (1994)', 3.144947674145986),\n",
       " ('Cowboy Way, The (1994)', 3.411857989693343),\n",
       " ('Dave (1993)', 3.749084355277122),\n",
       " ('Dazed and Confused (1993)', 4.019602411186268),\n",
       " ('Demolition Man (1993)', 3.290227581671563),\n",
       " ('Even Cowgirls Get the Blues (1993)', 3.300640108150487),\n",
       " ('Fatal Instinct (1993)', 3.4063256838942753),\n",
       " ('Farewell My Concubine (Ba wang bie ji) (1993)', 3.892758709061643),\n",
       " ('Fearless (1993)', 3.7404995511584165),\n",
       " ('Fear of a Black Hat (1994)', 3.4022539648742587),\n",
       " ('With Honors (1994)', 3.443085608656281),\n",
       " ('Flesh and Bone (1993)', 3.640012043138027),\n",
       " (\"Widows' Peak (1994)\", 3.591519353937902),\n",
       " ('For Love or Money (1993)', 3.441049515423971),\n",
       " ('Firm, The (1993)', 3.608214797381906),\n",
       " ('Free Willy (1993)', 2.958240549731341),\n",
       " ('Fresh (1994)', 3.6865497104495137),\n",
       " ('Fugitive, The (1993)', 4.147705963232192),\n",
       " ('Geronimo: An American Legend (1993)', 3.4177884770985543),\n",
       " ('Getaway, The (1994)', 3.300751544597452),\n",
       " ('Getting Even with Dad (1994)', 3.4798866921995524),\n",
       " ('Go Fish (1994)', 3.3375435105479423),\n",
       " ('Hard Target (1993)', 3.371771504052846),\n",
       " ('Hot Shots! Part Deux (1993)', 3.242032128994383),\n",
       " ('Live Nude Girls (1995)', 3.693850535578929),\n",
       " ('Englishman Who Went Up a Hill But Came Down a Mountain, The (1995)',\n",
       "  3.5311385479658712),\n",
       " ('House of the Spirits, The (1993)', 3.449801235426734),\n",
       " ('House Party 3 (1994)', 3.5966952919433712),\n",
       " ('Hudsucker Proxy, The (1994)', 3.716017228851996),\n",
       " (\"I'll Do Anything (1994)\", 3.434480478590752),\n",
       " ('In the Army Now (1994)', 3.1315163412931186),\n",
       " ('In the Line of Fire (1993)', 3.770777697817133),\n",
       " ('In the Name of the Father (1993)', 4.13968468783415),\n",
       " ('Inkwell, The (1994)', 3.3826513549362915),\n",
       " (\"What's Love Got to Do with It? (1993)\", 3.600567802737685),\n",
       " ('Jimmy Hollywood (1994)', 3.585024514209471),\n",
       " ('Judgment Night (1993)', 3.3698953158643907),\n",
       " ('Jurassic Park (1993)', 3.8751382799626573),\n",
       " ('Kalifornia (1993)', 3.4780906693284703),\n",
       " ('Killing Zoe (1994)', 3.678424425534071),\n",
       " ('Lassie (1994)', 3.4534872081445784),\n",
       " ('Last Action Hero (1993)', 3.2632072289707033),\n",
       " ('Life with Mikey (1993)', 3.5176332332505744),\n",
       " ('Lightning Jack (1994)', 3.457172340034932),\n",
       " ('M. Butterfly (1993)', 3.5966952919433712),\n",
       " ('Made in America (1993)', 3.3711300756848557),\n",
       " ('Malice (1993)', 3.485149721082559),\n",
       " ('Man Without a Face, The (1993)', 3.691143617622071),\n",
       " ('Manhattan Murder Mystery (1993)', 3.811942578457252),\n",
       " ('Menace II Society (1993)', 3.699872076393931),\n",
       " ('Executive Decision (1996)', 3.6457119828247246),\n",
       " ('In the Realm of the Senses (Ai no corrida) (1976)', 3.7427782299322585),\n",
       " ('What Happened Was... (1994)', 3.5966952919433712),\n",
       " ('Much Ado About Nothing (1993)', 3.9992729332693786),\n",
       " ('Mr. Wonderful (1993)', 3.5515674341584926),\n",
       " ('Mrs. Doubtfire (1993)', 3.6622452570312323),\n",
       " ('Naked (1993)', 3.660506258675097),\n",
       " ('Next Karate Kid, The (1994)', 3.064283015997513),\n",
       " ('No Escape (1994)', 3.581308236947177),\n",
       " ('North (1994)', 3.1633229661804245),\n",
       " ('Orlando (1992)', 3.768493024177221),\n",
       " ('Perfect World, A (1993)', 3.512227690014011),\n",
       " ('Philadelphia (1993)', 3.8317612884424777),\n",
       " ('Piano, The (1993)', 3.6446659205185648),\n",
       " ('Poetic Justice (1993)', 3.5427113837294435),\n",
       " ('Program, The (1993)', 3.5067898437744063),\n",
       " ('Puppet Masters, The (1994)', 3.571132520933291),\n",
       " ('Radioland Murders (1994)', 3.6535101384526496),\n",
       " ('Ref, The (1994)', 3.6855039837259476),\n",
       " ('Remains of the Day, The (1993)', 3.656858142469947),\n",
       " ('Renaissance Man (1994)', 3.3643285255879967),\n",
       " ('Rising Sun (1993)', 3.6758715937320128),\n",
       " ('Road to Wellville, The (1994)', 3.455015020175521),\n",
       " ('RoboCop 3 (1993)', 3.0336348284639443),\n",
       " ('Robin Hood: Men in Tights (1993)', 3.358848200683508),\n",
       " ('Romeo Is Bleeding (1993)', 3.590016072735989),\n",
       " ('Romper Stomper (1992)', 3.469752749946874),\n",
       " ('Ruby in Paradise (1993)', 3.592824928606335),\n",
       " ('Rudy (1993)', 3.5979602739340404),\n",
       " ('Savage Nights (Nuits fauves, Les) (1992)', 3.5966952919433712),\n",
       " (\"Schindler's List (1993)\", 4.279795072757818),\n",
       " ('Scout, The (1994)', 3.539569968754926),\n",
       " ('Searching for Bobby Fischer (1993)', 3.9597678952874062),\n",
       " ('Secret Garden, The (1993)', 3.5390816951033495),\n",
       " ('Serial Mom (1994)', 3.2852000441811735),\n",
       " ('Shadow, The (1994)', 3.346637714581577),\n",
       " ('Shadowlands (1993)', 3.786602257380175),\n",
       " ('Short Cuts (1993)', 3.570559168793332),\n",
       " ('Simple Twist of Fate, A (1994)', 3.647983261441194),\n",
       " ('Sirens (1994)', 3.4639281809853255),\n",
       " ('Six Degrees of Separation (1993)', 3.650991163120813),\n",
       " ('Sleepless in Seattle (1993)', 3.6488988678681205),\n",
       " ('Sliver (1993)', 3.22944873261932),\n",
       " ('Blade Runner (1982)', 4.278139459645324),\n",
       " ('Son in Law (1993)', 3.385685631841351),\n",
       " ('So I Married an Axe Murderer (1993)', 3.565117394044057),\n",
       " ('Striking Distance (1993)', 3.289732671933084),\n",
       " ('Super Mario Bros. (1993)', 2.732580255535059),\n",
       " ('Surviving the Game (1994)', 3.6225211599791107),\n",
       " ('Terminal Velocity (1994)', 3.487805057054156),\n",
       " ('Thirty-Two Short Films About Glenn Gould (1993)', 3.7449430362574523),\n",
       " ('Threesome (1994)', 3.6940920683299305),\n",
       " ('Nightmare Before Christmas, The (1993)', 3.7329500324184606),\n",
       " ('Three Musketeers, The (1993)', 3.393131726333245),\n",
       " ('Tombstone (1993)', 3.867988992225377),\n",
       " ('True Romance (1993)', 3.975450509547139),\n",
       " ('War Room, The (1993)', 3.612666538189698),\n",
       " ('Pagemaster, The (1994)', 3.4462855533344996),\n",
       " ('Welcome to the Dollhouse (1995)', 3.835407130297042),\n",
       " ('Germinal (1993)', 3.6380280618459566),\n",
       " ('Chasers (1994)', 3.331308236947177),\n",
       " ('Kika (1993)', 3.335734009970682),\n",
       " ('Bhaji on the Beach (1993)', 3.5609600481140764),\n",
       " ('Little Big League (1994)', 3.439970708023395),\n",
       " ('Ciao, Professore! (Io speriamo che me la cavo) (1992)', 3.5925735163914108),\n",
       " ('Spanking the Monkey (1994)', 3.576037328039656),\n",
       " ('Little Rascals, The (1994)', 3.1673710431474555),\n",
       " ('Andre (1994)', 3.381792951534607),\n",
       " ('Escort, The (Scorta, La) (1993)', 3.5471189709368653),\n",
       " ('Princess Caraboo (1994)', 3.423477537600186),\n",
       " ('Celluloid Closet, The (1995)', 3.715824873662233),\n",
       " ('Dear Diary (Caro Diario) (1994)', 3.6380280618459566),\n",
       " ('Brady Bunch Movie, The (1995)', 3.0267043178223347),\n",
       " ('Home Alone (1990)', 3.2795629033703393),\n",
       " ('Ghost (1990)', 3.612043825597672),\n",
       " ('Aladdin (1992)', 3.8619844502907545),\n",
       " ('Terminator 2: Judgment Day (1991)', 4.070934264929006),\n",
       " ('Dances with Wolves (1990)', 3.9427882612649148),\n",
       " ('Batman (1989)', 3.590777181117082),\n",
       " ('Silence of the Lambs, The (1991)', 4.255888078379876),\n",
       " ('Snow White and the Seven Dwarfs (1937)', 3.778992091529662),\n",
       " ('Beauty and the Beast (1991)', 3.893299269607165),\n",
       " ('Pinocchio (1940)', 3.7518246694279793),\n",
       " ('Pretty Woman (1990)', 3.6299944829108615),\n",
       " ('Wild Bunch, The (1969)', 3.8895106633373304),\n",
       " ('Love and a .45 (1994)', 3.649324650991209),\n",
       " ('Great Day in Harlem, A (1994)', 3.6518691390231677),\n",
       " ('One Fine Day (1996)', 3.407866710388351),\n",
       " ('Candyman: Farewell to the Flesh (1995)', 3.662002107249485),\n",
       " ('Fargo (1996)', 4.24407105433561),\n",
       " ('Homeward Bound II: Lost in San Francisco (1996)', 3.5909333844476414),\n",
       " ('Heavy Metal (1981)', 3.7548597535657686),\n",
       " ('Hellraiser: Bloodline (1996)', 3.2693909624437456),\n",
       " ('Pallbearer, The (1996)', 3.3341306057140434),\n",
       " ('Jane Eyre (1996)', 3.41254868994936),\n",
       " ('Bread and Chocolate (Pane e cioccolata) (1973)', 3.522404881207075),\n",
       " ('Aristocats, The (1970)', 3.6781955139766342),\n",
       " ('Flower of My Secret, The (La flor de mi secreto) (1995)',\n",
       "  3.493930475434664),\n",
       " ('Two Much (1995)', 3.588674008781318),\n",
       " ('Ed (1996)', 3.353628294479785),\n",
       " ('Thin Line Between Love and Hate, A (1996)', 3.5966952919433712),\n",
       " ('Last Supper, The (1995)', 3.639760978112506),\n",
       " ('Primal Fear (1996)', 3.7550148768498115),\n",
       " ('All Dogs Go to Heaven 2 (1996)', 3.527100027137173),\n",
       " ('Land and Freedom (Tierra y libertad) (1995)', 3.6380280618459566),\n",
       " ('Denise Calls Up (1995)', 3.5966952919433712),\n",
       " ('Theodore Rex (1995)', 3.2418100984152582),\n",
       " ('Family Thing, A (1996)', 3.5772735746805977),\n",
       " ('Frisk (1995)', 3.5453390822478994),\n",
       " ('Sgt. Bilko (1996)', 3.2418108811486075),\n",
       " ('Jack and Sarah (1995)', 3.5685456672611884),\n",
       " ('Girl 6 (1996)', 3.453900514932888),\n",
       " ('Diabolique (1996)', 3.2348558132279677),\n",
       " ('Nelly & Monsieur Arnaud (1995)', 3.6380280618459566),\n",
       " ('Courage Under Fire (1996)', 3.593408134243761),\n",
       " ('Mission: Impossible (1996)', 3.681414775326566),\n",
       " ('Cold Fever (Á köldum klaka) (1995)', 3.5609600481140764),\n",
       " ('Moll Flanders (1996)', 3.4546864638494013),\n",
       " ('Dragonheart (1996)', 3.363002460026155),\n",
       " ('Eddie (1996)', 3.4888728012318637),\n",
       " ('James and the Giant Peach (1996)', 3.678826639304988),\n",
       " ('Fear (1996)', 3.61219171717606),\n",
       " ('Kids in the Hall: Brain Candy (1996)', 3.667081520703306),\n",
       " ('Underground (1995)', 3.722982168149851),\n",
       " ('Bloodsport 2 (a.k.a. Bloodsport II: The Next Kumite) (1996)',\n",
       "  3.2100104999142154),\n",
       " ('Song of the Little Road (Pather Panchali) (1955)', 3.7217602525603266),\n",
       " ('World of Apu, The (Apur Sansar) (1959)', 3.7935631871423046),\n",
       " ('Mystery Science Theater 3000: The Movie (1996)', 3.6195621855397215),\n",
       " ('Space Jam (1996)', 3.036232052476767),\n",
       " ('Barbarella (1968)', 3.585248451917709),\n",
       " ('Some Folks Call It a Sling Blade (1993)', 3.729381207593565),\n",
       " ('Run of the Country, The (1995)', 3.631619417244916),\n",
       " ('Alphaville (Alphaville, une étrange aventure de Lemmy Caution) (1965)',\n",
       "  3.739191110740726),\n",
       " (\"It's My Party (1996)\", 3.63157010238216),\n",
       " ('Operation Dumbo Drop (1995)', 3.2864584947354336),\n",
       " ('Mrs. Winterbourne (1996)', 3.5360877215182858),\n",
       " ('Solo (1996)', 3.4504319625080258),\n",
       " ('Substitute, The (1996)', 3.401727692416638),\n",
       " ('True Crime (1996)', 3.6689447641743165),\n",
       " ('Feeling Minnesota (1996)', 3.430815020660231),\n",
       " ('Delta of Venus (1995)', 3.3947780586056),\n",
       " ('Angus (1995)', 3.7230498458059),\n",
       " ('Boys (1996)', 3.4700509572049856),\n",
       " ('Quest, The (1996)', 3.3166885977174525),\n",
       " ('Sunset Park (1996)', 3.5253999458743417),\n",
       " ('Mulholland Falls (1996)', 3.2862564108537713),\n",
       " ('Truth About Cats & Dogs, The (1996)', 3.502066469970051),\n",
       " ('Oliver & Company (1988)', 3.4858543181070676),\n",
       " ('Celtic Pride (1996)', 3.233713419411779),\n",
       " ('Flipper (1996)', 3.412985261469077),\n",
       " ('Dead Man (1995)', 3.784262079009344),\n",
       " ('Horseman on the Roof, The (Hussard sur le toit, Le) (1995)',\n",
       "  3.667555037000832),\n",
       " ('Visitors, The (Visiteurs, Les) (1993)', 3.8209585563020707),\n",
       " ('Multiplicity (1996)', 3.209533278884368),\n",
       " ('Wallace & Gromit: The Best of Aardman Animation (1996)', 4.084699973133396),\n",
       " ('Haunted World of Edward D. Wood Jr., The (1996)', 3.6395804902671745),\n",
       " ('Craft, The (1996)', 3.3520767030722225),\n",
       " ('Great White Hype, The (1996)', 3.338432401506593),\n",
       " ('Last Dance (1996)', 3.5486713993580836),\n",
       " ('Cold Comfort Farm (1995)', 3.7011621356261655),\n",
       " (\"Heaven's Prisoners (1996)\", 3.6092396151276724),\n",
       " ('Rock, The (1996)', 3.675638862515122),\n",
       " ('Cemetery Man (Dellamorte Dellamore) (1994)', 3.6343124131695648),\n",
       " ('Twister (1996)', 3.389169391442393),\n",
       " ('Barb Wire (1996)', 3.0967922865470543),\n",
       " ('Ghost in the Shell (Kôkaku kidôtai) (1995)', 4.168697016925239),\n",
       " ('Thinner (1996)', 3.361536686318704),\n",
       " ('Spy Hard (1996)', 2.9864407117923304),\n",
       " ('Wallace & Gromit: A Close Shave (1995)', 4.058081012292859),\n",
       " ('Stupids, The (1996)', 3.5785039571178965),\n",
       " ('Arrival, The (1996)', 3.5116592343693043),\n",
       " ('Dr. Strangelove or: How I Learned to Stop Worrying and Love the Bomb (1964)',\n",
       "  4.383926322801861),\n",
       " ('Ashes of Time (Dung che sai duk) (1994)', 3.5968529531279034),\n",
       " ('Maya Lin: A Strong Clear Vision (1994)', 3.6518691390231677),\n",
       " ('Stalingrad (1993)', 3.65770352455905),\n",
       " ('Phantom, The (1996)', 3.1953257539407116),\n",
       " ('Striptease (1996)', 2.8795174520682036),\n",
       " ('Heavy (1995)', 3.6402866270817427),\n",
       " ('Jack (1996)', 3.3056124399881455),\n",
       " ('I Shot Andy Warhol (1996)', 3.546827711540133),\n",
       " ('Touki Bouki (1973)', 3.5832570121804785),\n",
       " ('Spirits of the Dead (1968)', 3.5427113837294435),\n",
       " ('Trainspotting (1996)', 4.192639287694266),\n",
       " (\"'Til There Was You (1997)\", 3.544633893467998),\n",
       " ('Independence Day (a.k.a. ID4) (1996)', 3.625909429637032),\n",
       " ('Stealing Beauty (1996)', 3.650648449442238),\n",
       " ('Fan, The (1996)', 3.549605897182247),\n",
       " ('Hunchback of Notre Dame, The (1996)', 3.4415303073362247),\n",
       " ('Cable Guy, The (1996)', 3.0166354540529228),\n",
       " ('Kingpin (1996)', 3.7598854216933972),\n",
       " ('Eraser (1996)', 3.311480868447864),\n",
       " ('Nutty Professor, The (1996)', 3.033704885344214),\n",
       " ('Unforgettable Summer, An (Un été inoubliable) (1994)', 3.460658343249402),\n",
       " ('Last Klezmer: Leopold Kozlowski, His Life and Music, The (1994)',\n",
       "  3.6112325541268033),\n",
       " ('Somebody to Love (1994)', 3.585098415157974),\n",
       " ('Daylight (1996)', 3.4091127301750763),\n",
       " ('Frighteners, The (1996)', 3.5726357955534565),\n",
       " ('Lone Star (1996)', 3.907760015682486),\n",
       " ('Harriet the Spy (1996)', 3.5493746888219695),\n",
       " ('Phenomenon (1996)', 3.5887408514865813),\n",
       " ('Walking and Talking (1996)', 3.6518691390231677),\n",
       " (\"She's the One (1996)\", 3.542958780722596),\n",
       " ('Time to Kill, A (1996)', 3.5958928194479847),\n",
       " ('American Buffalo (1996)', 3.4941154233003804),\n",
       " ('Alaska (1996)', 3.6369608771549053),\n",
       " ('Fled (1996)', 3.2708784373601563),\n",
       " ('Kazaam (1996)', 3.007607770467522),\n",
       " ('Larger Than Life (1996)', 3.503355633038883),\n",
       " ('Very Brady Sequel, A (1996)', 3.6036951548968066),\n",
       " ('Collector, The (La collectionneuse) (1967)', 3.5832570121804785),\n",
       " ('Kaspar Hauser (1993)', 3.6123371659334818),\n",
       " ('Adventures of Pinocchio, The (1996)', 3.4567714105856746),\n",
       " (\"Joe's Apartment (1996)\", 3.3175806788655455),\n",
       " ('First Wives Club, The (1996)', 3.4108619434148193),\n",
       " ('Ransom (1996)', 3.533696152640735),\n",
       " ('High School High (1996)', 3.1584229232338124),\n",
       " ('Foxfire (1996)', 3.6468731612345637),\n",
       " ('Chain Reaction (1996)', 3.2754059585211523),\n",
       " ('Matilda (1996)', 3.557437760025592),\n",
       " ('Emma (1996)', 3.9968494650612816),\n",
       " ('Crow: City of Angels, The (1996)', 3.4938672287712307),\n",
       " ('House Arrest (1996)', 3.511750021264834),\n",
       " ('Eyes Without a Face (Yeux sans visage, Les) (1959)', 3.5909046639972244),\n",
       " ('Tales from the Crypt Presents: Bordello of Blood (1996)',\n",
       "  3.105067477660444),\n",
       " ('Spitfire Grill, The (1996)', 3.5116071268544498),\n",
       " ('Escape from L.A. (1996)', 3.214764379154295),\n",
       " ('Basquiat (1996)', 3.4599328031597882),\n",
       " ('Tin Cup (1996)', 3.366959820778737),\n",
       " ('Godfather, The (1972)', 4.349664681847858),\n",
       " ('Supercop (Police Story 3: Supercop) (Jing cha gu shi III: Chao ji jing cha) (1992)',\n",
       "  3.8077358392987617),\n",
       " ('Bound (1996)', 4.056229984052785),\n",
       " ('Carpool (1996)', 3.36583207877758),\n",
       " ('Kansas City (1996)', 3.6084938254128125),\n",
       " (\"Gone Fishin' (1997)\", 3.287869070117387),\n",
       " ('Nothing to Lose (1994)', 3.625515387300326),\n",
       " ('Supercop 2 (Project S) (Chao ji ji hua) (1993)', 3.7410044263854596),\n",
       " ('Relic, The (1997)', 3.5779460500023665),\n",
       " ('Island of Dr. Moreau, The (1996)', 3.1450561931557894),\n",
       " ('First Kid (1996)', 3.383450669525943),\n",
       " ('Trigger Effect, The (1996)', 3.486905352194553),\n",
       " ('Bogus (1996)', 3.5399250167113268),\n",
       " ('Bulletproof (1996)', 3.5431224846263034),\n",
       " ('Land Before Time III: The Time of the Great Giving (1995)',\n",
       "  3.3033824246016357),\n",
       " ('1-900 (06) (1994)', 3.6546011626323804),\n",
       " ('Halloween: The Curse of Michael Myers (Halloween 6: The Curse of Michael Myers) (1995)',\n",
       "  3.634045867076803),\n",
       " ('Twelfth Night (1996)', 3.76685955080406),\n",
       " ('Mother Night (1996)', 3.7062228746502086),\n",
       " ('Wild Reeds (Les roseaux sauvages) (1994)', 3.4050359131812047),\n",
       " ('For Whom the Bell Tolls (1943)', 3.6623727234146095),\n",
       " ('Philadelphia Story, The (1940)', 4.207138881971796),\n",
       " (\"Singin' in the Rain (1952)\", 4.161147254822944),\n",
       " ('American in Paris, An (1951)', 3.7272822596066018),\n",
       " ('Funny Face (1957)', 3.38715075954511),\n",
       " (\"Breakfast at Tiffany's (1961)\", 3.9052156120121415),\n",
       " ('Vertigo (1958)', 4.057653341948477),\n",
       " ('Rear Window (1954)', 4.311776799074602),\n",
       " ('It Happened One Night (1934)', 4.021418163266243),\n",
       " ('Gaslight (1944)', 3.7445914096344963),\n",
       " ('Gay Divorcee, The (1934)', 3.5880773303181552),\n",
       " ('North by Northwest (1959)', 4.167507491585641),\n",
       " ('Apartment, The (1960)', 3.947987729784888),\n",
       " ('Some Like It Hot (1959)', 4.105719335109755),\n",
       " ('Charade (1963)', 3.8490669024801383),\n",
       " ('Casablanca (1942)', 4.341352668955083),\n",
       " ('Maltese Falcon, The (1941)', 4.158119925750009),\n",
       " ('My Fair Lady (1964)', 4.02839089298578),\n",
       " ('Sabrina (1954)', 3.8024673607840804),\n",
       " ('Roman Holiday (1953)', 4.018788512984216),\n",
       " ('Little Princess, The (1939)', 3.5852710277208817),\n",
       " ('Meet Me in St. Louis (1944)', 3.9396079329281957),\n",
       " ('Wizard of Oz, The (1939)', 3.988429466210004),\n",
       " ('Gone with the Wind (1939)', 3.8738958248086046),\n",
       " ('My Favorite Year (1982)', 3.6322949895145547),\n",
       " ('Sunset Blvd. (a.k.a. Sunset Boulevard) (1950)', 4.166832878433488),\n",
       " ('Citizen Kane (1941)', 4.142315741483959),\n",
       " ('2001: A Space Odyssey (1968)', 4.016433964118945),\n",
       " ('All About Eve (1950)', 3.961702156899473),\n",
       " ('Women, The (1939)', 3.6921131750620733),\n",
       " ('Rebecca (1940)', 4.064409047171987),\n",
       " ('Foreign Correspondent (1940)', 3.614000212715734),\n",
       " ('Notorious (1946)', 4.072406062372906),\n",
       " ('Spellbound (1945)', 3.9425471183979472),\n",
       " ('Affair to Remember, An (1957)', 3.8403049425834523),\n",
       " ('To Catch a Thief (1955)', 4.101446593095979),\n",
       " ('Father of the Bride (1950)', 3.3661644025950594),\n",
       " ('Band Wagon, The (1953)', 3.626221121982758),\n",
       " ('Ninotchka (1939)', 3.8411461725149976),\n",
       " ('Love in the Afternoon (1957)', 3.6089686236646554),\n",
       " ('Gigi (1958)', 3.5688322433770487),\n",
       " ('Adventures of Robin Hood, The (1938)', 3.893827547794439),\n",
       " ('Mark of Zorro, The (1940)', 3.705720883593326),\n",
       " ('Laura (1944)', 3.882198367119777),\n",
       " ('Ghost and Mrs. Muir, The (1947)', 3.814384460207832),\n",
       " ('Lost Horizon (1937)', 3.7039367372541045),\n",
       " ('Top Hat (1935)', 3.7616837219602797),\n",
       " ('To Be or Not to Be (1942)', 3.388416762092962),\n",
       " ('My Man Godfrey (1936)', 3.690902849879125),\n",
       " ('Giant (1956)', 3.842666492271458),\n",
       " ('East of Eden (1955)', 3.6895322768105956),\n",
       " ('Thin Man, The (1934)', 3.784948468743991),\n",
       " ('His Girl Friday (1940)', 4.0552353375930625),\n",
       " ('Around the World in 80 Days (1956)', 3.813395288366828),\n",
       " (\"It's a Wonderful Life (1946)\", 4.1295365196797285),\n",
       " ('Mr. Smith Goes to Washington (1939)', 3.8608976258919476),\n",
       " ('Bringing Up Baby (1938)', 3.8506433481096294),\n",
       " ('Penny Serenade (1941)', 3.659454758170279),\n",
       " ('Of Human Bondage (1934)', 3.614000212715734),\n",
       " ('Little Lord Fauntleroy (1936)', 3.6380280618459566),\n",
       " ('Inspector General, The (1949)', 3.5878187786075446),\n",
       " ('39 Steps, The (1935)', 3.7967181036432156),\n",
       " ('Night of the Living Dead (1968)', 3.722162921431045),\n",
       " ('African Queen, The (1951)', 3.9456435819162374),\n",
       " ('Beat the Devil (1953)', 3.5966952919433712),\n",
       " ('Cat on a Hot Tin Roof (1958)', 3.899829105459234),\n",
       " ('Meet John Doe (1941)', 3.7345311900061082),\n",
       " ('Farewell to Arms, A (1932)', 3.5966952919433712),\n",
       " ('Nothing Personal (1995)', 3.5427113837294435),\n",
       " ('Dangerous Ground (1997)', 3.540527651454419),\n",
       " ('Picnic (1955)', 3.5685456672611884),\n",
       " ('Pompatus of Love, The (1996)', 3.6360232158055417),\n",
       " ('Fly Away Home (1996)', 3.7442401340213745),\n",
       " ('Bliss (1997)', 3.5966952919433712),\n",
       " ('Grace of My Heart (1996)', 3.5188549317609104),\n",
       " ('Maximum Risk (1996)', 3.560101334266746),\n",
       " ('Michael Collins (1996)', 3.615186563857277),\n",
       " ('Infinity (1996)', 3.5966952919433712),\n",
       " ('Big Night (1996)', 3.8852987835763133),\n",
       " ('Last Man Standing (1996)', 3.2205921217115008),\n",
       " ('Set It Off (1996)', 3.496939965652769),\n",
       " ('2 Days in the Valley (1996)', 3.5518120887086417),\n",
       " ('Extreme Measures (1996)', 3.443290429441346),\n",
       " ('Glimmer Man, The (1996)', 3.44534426981833),\n",
       " ('D3: The Mighty Ducks (1996)', 3.1007591397553),\n",
       " ('Chamber, The (1996)', 3.571814000060613),\n",
       " ('Apple Dumpling Gang, The (1975)', 3.23743338154747),\n",
       " ('Davy Crockett, King of the Wild Frontier (1955)', 3.5878187786075446),\n",
       " ('Escape to Witch Mountain (1975)', 3.338760159966974),\n",
       " ('Love Bug, The (1969)', 3.4567385664768353),\n",
       " ('Herbie Rides Again (1974)', 3.41870559877692),\n",
       " ('Old Yeller (1957)', 3.634541670487316),\n",
       " ('Parent Trap, The (1961)', 3.610396520220468),\n",
       " ('Pollyanna (1960)', 3.442494161637898),\n",
       " ('Homeward Bound: The Incredible Journey (1993)', 3.5112636392045617),\n",
       " ('Shaggy Dog, The (1959)', 3.576074942332821),\n",
       " ('Swiss Family Robinson (1960)', 3.8043154724197503),\n",
       " ('That Darn Cat! (1965)', 3.2854771966953393),\n",
       " ('20,000 Leagues Under the Sea (1954)', 3.6520341147942315),\n",
       " ('Cool Runnings (1993)', 3.473492665462862),\n",
       " ('Angels in the Outfield (1994)', 3.0104932213717475),\n",
       " ('Cinderella (1950)', 3.6837532228091967),\n",
       " ('Winnie the Pooh and the Blustery Day (1968)', 3.689074444941285),\n",
       " ('Three Caballeros, The (1945)', 3.6029216199877263),\n",
       " ('Sword in the Stone, The (1963)', 3.797494687451807),\n",
       " ('Robin Hood: Prince of Thieves (1991)', 3.3982258269255765),\n",
       " ('Mary Poppins (1964)', 4.089648042009889),\n",
       " ('Dumbo (1941)', 3.5844082708297083),\n",
       " (\"Pete's Dragon (1977)\", 3.2649046771911805),\n",
       " ('Bedknobs and Broomsticks (1971)', 3.75010972494142),\n",
       " ('Alice in Wonderland (1951)', 3.6020268994815168),\n",
       " ('Fox and the Hound, The (1981)', 3.6938357465461222),\n",
       " ('Freeway (1996)', 3.490431685832969),\n",
       " ('Sound of Music, The (1965)', 4.033166691086223),\n",
       " ('Die Hard (1988)', 3.9944211574302195),\n",
       " ('Lawnmower Man, The (1992)', 3.362347225704983),\n",
       " ('Secret Agent, The (1996)', 3.5966952919433712),\n",
       " ('Secrets & Lies (1996)', 3.9789315914784464),\n",
       " ('That Thing You Do! (1996)', 3.485213981609505),\n",
       " ('To Gillian on Her 37th Birthday (1996)', 3.263575251270887),\n",
       " ('Beautiful Thing (1996)', 3.8904809371021516),\n",
       " ('Long Kiss Goodnight, The (1996)', 3.5487667729690773),\n",
       " ('Ghost and the Darkness, The (1996)', 3.6810490546063233),\n",
       " ('Looking for Richard (1996)', 3.7936243203790636),\n",
       " ('Trees Lounge (1996)', 3.6773438122106827),\n",
       " ('Normal Life (1996)', 3.5609600481140764),\n",
       " ('Get on the Bus (1996)', 3.5966952919433712),\n",
       " ('Shadow Conspiracy (1997)', 3.3109637166139976),\n",
       " ('Jude (1996)', 3.4662114223417184),\n",
       " ('Everyone Says I Love You (1996)', 3.663042626461457),\n",
       " (\"William Shakespeare's Romeo + Juliet (1996)\", 3.9357862227409206),\n",
       " ('Swingers (1996)', 3.7819835217000253),\n",
       " ('Sleepers (1996)', 3.7611283425388247),\n",
       " ('Aladdin and the King of Thieves (1996)', 3.5041525572061554),\n",
       " ('Shall We Dance (1937)', 3.8310309415839767),\n",
       " ('Crossfire (1947)', 3.614000212715734),\n",
       " ('Willy Wonka & the Chocolate Factory (1971)', 3.8554515373047162),\n",
       " ('Innocents, The (1961)', 3.5966952919433712),\n",
       " ('Sleeper (1973)', 3.8068972426545926),\n",
       " ('Bananas (1971)', 3.626807204079621),\n",
       " ('Fish Called Wanda, A (1988)', 4.032362056741144),\n",
       " (\"Monty Python's Life of Brian (1979)\", 3.9972618745243995),\n",
       " ('Victor/Victoria (1982)', 3.720415117869163),\n",
       " ('Candidate, The (1972)', 3.651636104030201),\n",
       " ('Great Race, The (1965)', 3.6981469978291286),\n",
       " ('Bonnie and Clyde (1967)', 4.009887922562447),\n",
       " ('Old Man and the Sea, The (1958)', 3.6257113736663658),\n",
       " ('Dial M for Murder (1954)', 4.032634694947239),\n",
       " ('Dirty Dancing (1987)', 3.51240882241433),\n",
       " ('Reservoir Dogs (1992)', 4.279733464073357),\n",
       " ('Platoon (1986)', 4.021256861002283),\n",
       " (\"Weekend at Bernie's (1989)\", 3.0957762447185875),\n",
       " ('Basic Instinct (1992)', 3.4137363849505618),\n",
       " ('Doors, The (1991)', 3.5676772645353783),\n",
       " ('Crying Game, The (1992)', 3.742413378791985),\n",
       " ('Glengarry Glen Ross (1992)', 3.7210948510563067),\n",
       " (\"Sophie's Choice (1982)\", 3.7015117372407245),\n",
       " ('E.T. the Extra-Terrestrial (1982)', 3.901618479896956),\n",
       " ('Christmas Carol, A (1938)', 3.5226793633644564),\n",
       " ('Days of Thunder (1990)', 3.1060196115178784),\n",
       " ('Top Gun (1986)', 3.4780773640600686),\n",
       " ('Rebel Without a Cause (1955)', 4.0106481029882355),\n",
       " ('Streetcar Named Desire, A (1951)', 4.252824595832832),\n",
       " ('Children of the Corn IV: The Gathering (1996)', 3.720524103710175),\n",
       " ('Loser (1991)', 3.5101594452329086),\n",
       " (\"Microcosmos (Microcosmos: Le peuple de l'herbe) (1996)\", 3.735780621361942),\n",
       " ('Palookaville (1996)', 3.613313972116166),\n",
       " ('Funeral, The (1996)', 3.6304790596640166),\n",
       " ('Single Girl, A (Fille seule, La) (1995)', 3.6112325541268033),\n",
       " ('Eighth Day, The (Huitième jour, Le) (1996)', 3.5925735163914108),\n",
       " ('Drunks (1995)', 3.5966952919433712),\n",
       " ('People vs. Larry Flynt, The (1996)', 3.735616254258958),\n",
       " ('Glory Daze (1995)', 3.65480647133073),\n",
       " ('Perfect Candidate, A (1996)', 3.7018084833724334),\n",
       " ('On Golden Pond (1981)', 3.7335104979744824),\n",
       " ('Return of the Pink Panther, The (1975)', 3.701831736724086),\n",
       " ('Drop Dead Fred (1991)', 3.5012289084300035),\n",
       " ('Abyss, The (1989)', 3.675704954880098),\n",
       " ('Fog, The (1980)', 3.3946460518449655),\n",
       " ('Escape from New York (1981)', 3.642144892549623),\n",
       " ('Howling, The (1980)', 3.4691171984447404),\n",
       " ('Jean de Florette (1986)', 3.9447788817341625),\n",
       " ('Manon of the Spring (Manon des sources) (1986)', 3.8092871511613926),\n",
       " ('Private Benjamin (1980)', 3.5037370796335687),\n",
       " ('Monty Python and the Holy Grail (1975)', 4.289854004135973),\n",
       " ('Hustler White (1996)', 3.6112325541268033),\n",
       " ('Entertaining Angels: The Dorothy Day Story (1996)', 3.728105587929144),\n",
       " ('Line King: The Al Hirschfeld Story, The (1996)', 3.6112325541268033),\n",
       " ('When We Were Kings (1996)', 3.7177154069377005),\n",
       " ('Wallace & Gromit: The Wrong Trousers (1993)', 4.109011311401859),\n",
       " ('Return of Martin Guerre, The (Retour de Martin Guerre, Le) (1982)',\n",
       "  3.5966952919433712),\n",
       " ('Lesson Faust (1994)', 3.5966952919433712),\n",
       " ('Children Are Watching Us, The (Bambini ci guardano, I) (1944)',\n",
       "  3.5966952919433712),\n",
       " ('Tin Drum, The (Blechtrommel, Die) (1979)', 3.589409004058711),\n",
       " ('Ruling Class, The (1972)', 3.5966952919433712),\n",
       " ('Mina Tannenbaum (1994)', 3.44026821337286),\n",
       " ('Dear God (1996)', 3.564908036637523),\n",
       " ('Best of the Best 3: No Turning Back (1995)', 3.5966952919433712),\n",
       " ('Bob Roberts (1992)', 3.55829787561048),\n",
       " ('Cinema Paradiso (Nuovo cinema Paradiso) (1989)', 4.100381995509219),\n",
       " ('Cook the Thief His Wife & Her Lover, The (1989)', 3.457792930660666),\n",
       " ('Delicatessen (1991)', 3.906073141151449),\n",
       " ('Double Life of Veronique, The (Double Vie de Véronique, La) (1991)',\n",
       "  3.7079059200297704),\n",
       " ('Enchanted April (1992)', 3.7883474319985546),\n",
       " ('Paths of Glory (1957)', 4.127737516860467),\n",
       " ('Grifters, The (1990)', 3.7897209382092307),\n",
       " ('Hear My Song (1991)', 3.549102952228936),\n",
       " ('English Patient, The (1996)', 3.857596813432962),\n",
       " ('Mediterraneo (1991)', 3.7380357492976244),\n",
       " ('My Left Foot (1989)', 3.74153495741402),\n",
       " ('Sex, Lies, and Videotape (1989)', 3.783665784396822),\n",
       " ('Passion Fish (1992)', 3.633534330897773),\n",
       " ('Strictly Ballroom (1992)', 3.7434258654019525),\n",
       " ('Thin Blue Line, The (1988)', 3.835698780842811),\n",
       " ('Tie Me Up! Tie Me Down! (¡Átame!) (1990)', 3.4833522039965983),\n",
       " ('Madonna: Truth or Dare (1991)', 3.626113498713328),\n",
       " ('Paris Is Burning (1990)', 3.881935458017004),\n",
       " (\"One Flew Over the Cuckoo's Nest (1975)\", 4.279999525225025),\n",
       " (\"Cheech and Chong's Up in Smoke (1978)\", 3.6963936033608458),\n",
       " ('Star Wars: Episode V - The Empire Strikes Back (1980)', 4.411832715531296),\n",
       " ('Princess Bride, The (1987)', 4.324889837276494),\n",
       " ('Raiders of the Lost Ark (Indiana Jones and the Raiders of the Lost Ark) (1981)',\n",
       "  4.2993920938619326),\n",
       " ('Brazil (1985)', 4.1519034303762865),\n",
       " ('Aliens (1986)', 4.118443013640962),\n",
       " ('Good, the Bad and the Ugly, The (Buono, il brutto, il cattivo, Il) (1966)',\n",
       "  4.219757507158495),\n",
       " ('Withnail & I (1987)', 3.764065797815667),\n",
       " ('12 Angry Men (1957)', 4.109718794206244),\n",
       " ('Lawrence of Arabia (1962)', 4.36309960510755),\n",
       " ('Clockwork Orange, A (1971)', 4.1617777678107055),\n",
       " ('To Kill a Mockingbird (1962)', 4.148770276159174),\n",
       " ('Apocalypse Now (1979)', 4.315185266353202),\n",
       " (\"Once Upon a Time in the West (C'era una volta il West) (1968)\",\n",
       "  4.073452493796602),\n",
       " ('Star Wars: Episode VI - Return of the Jedi (1983)', 4.215749694901868),\n",
       " ('Wings of Desire (Himmel über Berlin, Der) (1987)', 3.824315083802263),\n",
       " ('Third Man, The (1949)', 4.055088058516224),\n",
       " ('Goodfellas (1990)', 4.270744540989924),\n",
       " ('Alien (1979)', 4.04237201483623),\n",
       " ('Army of Darkness (1993)', 4.094853861940682),\n",
       " ('Big Blue, The (Grand bleu, Le) (1988)', 3.6400237866681344),\n",
       " ('Ran (1985)', 4.160653864121967),\n",
       " ('Killer, The (Die xue shuang xiong) (1989)', 3.9006334311307067),\n",
       " ('Psycho (1960)', 4.178247732442415),\n",
       " ('Blues Brothers, The (1980)', 4.0094188501742325),\n",
       " ('Godfather: Part II, The (1974)', 4.267733154707749),\n",
       " ('Full Metal Jacket (1987)', 4.137049050848609),\n",
       " ('Grand Day Out with Wallace and Gromit, A (1989)', 4.172887703415713),\n",
       " ('Henry V (1989)', 3.7112227371436743),\n",
       " ('Amadeus (1984)', 4.189688110075876),\n",
       " ('Quiet Man, The (1952)', 3.605745528781966),\n",
       " ('Once Upon a Time in America (1984)', 4.0442179046372155),\n",
       " ('Raging Bull (1980)', 4.210201740409408),\n",
       " ('Annie Hall (1977)', 3.982850304857829),\n",
       " ('Right Stuff, The (1983)', 3.889381223094817),\n",
       " ('Stalker (1979)', 3.847269339516046),\n",
       " ('Boot, Das (Boat, The) (1981)', 4.181406263228632),\n",
       " ('Sting, The (1973)', 4.005353407769489),\n",
       " ('Harold and Maude (1971)', 4.194354455795703),\n",
       " ('Trust (1990)', 3.8699723954093126),\n",
       " ('Seventh Seal, The (Sjunde inseglet, Det) (1957)', 4.027361416475961),\n",
       " ('Local Hero (1983)', 3.8469735641467837),\n",
       " ('Terminator, The (1984)', 4.021358064300163),\n",
       " ('Dead Alive (Braindead) (1992)', 3.8198612424553917),\n",
       " ('Glory (1989)', 4.153069600327726),\n",
       " ('Rosencrantz and Guildenstern Are Dead (1990)', 3.877405508035599),\n",
       " ('Manhattan (1979)', 4.0546977299290035),\n",
       " (\"Miller's Crossing (1990)\", 4.131592071182213),\n",
       " ('Dead Poets Society (1989)', 4.123818761277446),\n",
       " ('Graduate, The (1967)', 4.064256685956775),\n",
       " ('Touch of Evil (1958)', 4.148927804670044),\n",
       " ('Femme Nikita, La (Nikita) (1990)', 4.085570669043033),\n",
       " ('Bridge on the River Kwai, The (1957)', 4.151751213919485),\n",
       " ('8 1/2 (8½) (1963)', 3.9537270292092215),\n",
       " ('Chinatown (1974)', 4.180858219041067),\n",
       " ('Day the Earth Stood Still, The (1951)', 3.8707896331276075),\n",
       " ('Treasure of the Sierra Madre, The (1948)', 3.808562270278564),\n",
       " ('Bad Taste (1987)', 3.4956322694789788),\n",
       " ('Duck Soup (1933)', 4.0146061011908465),\n",
       " ('Better Off Dead... (1985)', 3.676376318146423),\n",
       " ('Shining, The (1980)', 4.243866919080722),\n",
       " ('Stand by Me (1986)', 4.094799515275213),\n",
       " ('M (1931)', 3.7189665577492645),\n",
       " ('Evil Dead II (Dead by Dawn) (1987)', 4.171722970766908),\n",
       " ('Great Escape, The (1963)', 4.24324176224909),\n",
       " ('Deer Hunter, The (1978)', 3.8738338209198235),\n",
       " ('Diva (1981)', 3.664015952396195),\n",
       " ('Groundhog Day (1993)', 4.052684946783865),\n",
       " ('Unforgiven (1992)', 4.227153776751196),\n",
       " ('Manchurian Candidate, The (1962)', 4.06751732147142),\n",
       " ('Pump Up the Volume (1990)', 3.737526697399356),\n",
       " ('Arsenic and Old Lace (1944)', 3.8831773957998093),\n",
       " ('Back to the Future (1985)', 4.152000405660424),\n",
       " ('Fried Green Tomatoes (1991)', 3.784639216388852),\n",
       " ('Patton (1970)', 4.149902634941795),\n",
       " ('Down by Law (1986)', 3.9600331444951684),\n",
       " ('Akira (1988)', 4.073579892753793),\n",
       " ('Highlander (1986)', 3.8903201246909473),\n",
       " ('Cool Hand Luke (1967)', 4.29135055350042),\n",
       " ('Cyrano de Bergerac (1990)', 3.911379487100611),\n",
       " ('Young Frankenstein (1974)', 4.1378936602098655),\n",
       " ('Night on Earth (1991)', 3.923474170506556),\n",
       " ('Raise the Red Lantern (Da hong deng long gao gao gua) (1991)',\n",
       "  3.8843305383395323),\n",
       " ('Great Dictator, The (1940)', 3.9235336051741485),\n",
       " ('Fantasia (1940)', 3.8500808106711113),\n",
       " ('High Noon (1952)', 4.109515668432225),\n",
       " ('Big Sleep, The (1946)', 3.946657813409766),\n",
       " ('Heathers (1989)', 3.73929421781423),\n",
       " ('Somewhere in Time (1980)', 3.4626951385315614),\n",
       " ('Ben-Hur (1959)', 4.004161355857535),\n",
       " ('This Is Spinal Tap (1984)', 4.137926136306983),\n",
       " ('Koyaanisqatsi (a.k.a. Koyaanisqatsi: Life Out of Balance) (1983)',\n",
       "  3.8226424027778574),\n",
       " ('Some Kind of Wonderful (1987)', 3.491684764036102),\n",
       " ('Indiana Jones and the Last Crusade (1989)', 4.186418788425785),\n",
       " ('Being There (1979)', 3.8602057596246513),\n",
       " ('Gandhi (1982)', 3.8458950969275),\n",
       " ('Unbearable Lightness of Being, The (1988)', 3.389229486639427),\n",
       " ('Room with a View, A (1986)', 3.7570550274873447),\n",
       " ('Real Genius (1985)', 3.843684103596486),\n",
       " ('Pink Floyd: The Wall (1982)', 3.8584989772523626),\n",
       " ('Killing Fields, The (1984)', 3.909959835080997),\n",
       " ('My Life as a Dog (Mitt liv som hund) (1985)', 3.807500326570387),\n",
       " ('Forbidden Planet (1956)', 3.763407444864891),\n",
       " ('Field of Dreams (1989)', 3.6116347706123957),\n",
       " ('Man Who Would Be King, The (1975)', 3.947945834460969),\n",
       " ...]"
      ]
     },
     "execution_count": 82,
     "metadata": {},
     "output_type": "execute_result"
    }
   ],
   "source": [
    "predictions"
   ]
  },
  {
   "cell_type": "code",
   "execution_count": null,
   "metadata": {},
   "outputs": [],
   "source": []
  },
  {
   "cell_type": "code",
   "execution_count": 83,
   "metadata": {
    "ExecuteTime": {
     "end_time": "2023-01-25T05:10:46.348578Z",
     "start_time": "2023-01-25T05:10:46.271930Z"
    }
   },
   "outputs": [],
   "source": [
    "movies_df['split_genres'] = movies_df['genres'].iloc[0:].apply(lambda x: x.lower().split('|'))\n",
    "\n",
    "movies = []\n",
    "for i in movies_df['split_genres']:\n",
    "    for x in i:\n",
    "        movies.append(x)"
   ]
  },
  {
   "cell_type": "code",
   "execution_count": 84,
   "metadata": {
    "ExecuteTime": {
     "end_time": "2023-01-25T05:10:46.363813Z",
     "start_time": "2023-01-25T05:10:46.348578Z"
    }
   },
   "outputs": [
    {
     "data": {
      "text/plain": [
       "['thriller',\n",
       " 'romance',\n",
       " 'crime',\n",
       " 'fantasy',\n",
       " 'animation',\n",
       " 'western',\n",
       " 'children',\n",
       " 'film-noir',\n",
       " 'musical',\n",
       " '(no genres listed)',\n",
       " 'horror',\n",
       " 'action',\n",
       " 'sci-fi',\n",
       " 'war',\n",
       " 'drama',\n",
       " 'adventure',\n",
       " 'mystery',\n",
       " 'comedy',\n",
       " 'documentary',\n",
       " 'imax']"
      ]
     },
     "execution_count": 84,
     "metadata": {},
     "output_type": "execute_result"
    }
   ],
   "source": [
    "list(set(movies))"
   ]
  },
  {
   "cell_type": "code",
   "execution_count": 85,
   "metadata": {
    "ExecuteTime": {
     "end_time": "2023-01-25T05:10:46.378897Z",
     "start_time": "2023-01-25T05:10:46.364815Z"
    }
   },
   "outputs": [
    {
     "data": {
      "text/plain": [
       "0             funny\n",
       "1    highlyquotable\n",
       "2       willferrell\n",
       "3       boxingstory\n",
       "4               mma\n",
       "Name: tag_clean, dtype: object"
      ]
     },
     "execution_count": 85,
     "metadata": {},
     "output_type": "execute_result"
    }
   ],
   "source": [
    "tags_df['tag_clean'] = tags_df['tag'].iloc[0:].apply(lambda x: x.lower().replace(' ', ''))\n",
    "tags_df['tag_clean'].head()"
   ]
  },
  {
   "cell_type": "code",
   "execution_count": null,
   "metadata": {},
   "outputs": [],
   "source": []
  },
  {
   "cell_type": "code",
   "execution_count": null,
   "metadata": {},
   "outputs": [],
   "source": []
  },
  {
   "cell_type": "markdown",
   "metadata": {},
   "source": [
    "## Final Model"
   ]
  },
  {
   "cell_type": "markdown",
   "metadata": {},
   "source": [
    "## Results/Conclusions"
   ]
  },
  {
   "cell_type": "markdown",
   "metadata": {},
   "source": [
    "### Further Exploration/Questions"
   ]
  },
  {
   "cell_type": "code",
   "execution_count": null,
   "metadata": {},
   "outputs": [],
   "source": []
  }
 ],
 "metadata": {
  "kernelspec": {
   "display_name": "Python (learn-env)",
   "language": "python",
   "name": "learn-env"
  },
  "language_info": {
   "codemirror_mode": {
    "name": "ipython",
    "version": 3
   },
   "file_extension": ".py",
   "mimetype": "text/x-python",
   "name": "python",
   "nbconvert_exporter": "python",
   "pygments_lexer": "ipython3",
   "version": "3.8.5"
  },
  "toc": {
   "base_numbering": 1,
   "nav_menu": {},
   "number_sections": true,
   "sideBar": false,
   "skip_h1_title": false,
   "title_cell": "Table of Contents",
   "title_sidebar": "Contents",
   "toc_cell": true,
   "toc_position": {},
   "toc_section_display": true,
   "toc_window_display": false
  },
  "varInspector": {
   "cols": {
    "lenName": 16,
    "lenType": 16,
    "lenVar": 40
   },
   "kernels_config": {
    "python": {
     "delete_cmd_postfix": "",
     "delete_cmd_prefix": "del ",
     "library": "var_list.py",
     "varRefreshCmd": "print(var_dic_list())"
    },
    "r": {
     "delete_cmd_postfix": ") ",
     "delete_cmd_prefix": "rm(",
     "library": "var_list.r",
     "varRefreshCmd": "cat(var_dic_list()) "
    }
   },
   "types_to_exclude": [
    "module",
    "function",
    "builtin_function_or_method",
    "instance",
    "_Feature"
   ],
   "window_display": false
  }
 },
 "nbformat": 4,
 "nbformat_minor": 4
}
