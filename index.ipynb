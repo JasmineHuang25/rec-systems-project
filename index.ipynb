{
 "cells": [
  {
   "cell_type": "markdown",
   "metadata": {
    "toc": true
   },
   "source": [
    "<h1>Table of Contents<span class=\"tocSkip\"></span></h1>\n",
    "<div class=\"toc\"><ul class=\"toc-item\"><li><span><a href=\"#Click-That-Recommendation-Button\" data-toc-modified-id=\"Click-That-Recommendation-Button-1\"><span class=\"toc-item-num\">1&nbsp;&nbsp;</span>Click That Recommendation Button</a></span></li><li><span><a href=\"#Business-Understanding-and-Business-Problem\" data-toc-modified-id=\"Business-Understanding-and-Business-Problem-2\"><span class=\"toc-item-num\">2&nbsp;&nbsp;</span>Business Understanding and Business Problem</a></span><ul class=\"toc-item\"><li><span><a href=\"#Cost-of-Errors\" data-toc-modified-id=\"Cost-of-Errors-2.1\"><span class=\"toc-item-num\">2.1&nbsp;&nbsp;</span>Cost of Errors</a></span></li></ul></li><li><span><a href=\"#Data-Understanding\" data-toc-modified-id=\"Data-Understanding-3\"><span class=\"toc-item-num\">3&nbsp;&nbsp;</span>Data Understanding</a></span><ul class=\"toc-item\"><li><span><a href=\"#Initial-Data\" data-toc-modified-id=\"Initial-Data-3.1\"><span class=\"toc-item-num\">3.1&nbsp;&nbsp;</span>Initial Data</a></span></li><li><span><a href=\"#Exploratory-Data-Analysis\" data-toc-modified-id=\"Exploratory-Data-Analysis-3.2\"><span class=\"toc-item-num\">3.2&nbsp;&nbsp;</span>Exploratory Data Analysis</a></span><ul class=\"toc-item\"><li><span><a href=\"#Exploring-links_df\" data-toc-modified-id=\"Exploring-links_df-3.2.1\"><span class=\"toc-item-num\">3.2.1&nbsp;&nbsp;</span>Exploring <code>links_df</code></a></span></li><li><span><a href=\"#Exploring-movies_df\" data-toc-modified-id=\"Exploring-movies_df-3.2.2\"><span class=\"toc-item-num\">3.2.2&nbsp;&nbsp;</span>Exploring <code>movies_df</code></a></span></li><li><span><a href=\"#Exploring-ratings_df\" data-toc-modified-id=\"Exploring-ratings_df-3.2.3\"><span class=\"toc-item-num\">3.2.3&nbsp;&nbsp;</span>Exploring <code>ratings_df</code></a></span></li><li><span><a href=\"#Exploring-tags_df\" data-toc-modified-id=\"Exploring-tags_df-3.2.4\"><span class=\"toc-item-num\">3.2.4&nbsp;&nbsp;</span>Exploring <code>tags_df</code></a></span></li><li><span><a href=\"#Creating-a-New-DataFrame-with-Relevant-Data\" data-toc-modified-id=\"Creating-a-New-DataFrame-with-Relevant-Data-3.2.5\"><span class=\"toc-item-num\">3.2.5&nbsp;&nbsp;</span>Creating a New DataFrame with Relevant Data</a></span></li></ul></li></ul></li><li><span><a href=\"#Modeling\" data-toc-modified-id=\"Modeling-4\"><span class=\"toc-item-num\">4&nbsp;&nbsp;</span>Modeling</a></span><ul class=\"toc-item\"><li><span><a href=\"#First-Baseline-Model\" data-toc-modified-id=\"First-Baseline-Model-4.1\"><span class=\"toc-item-num\">4.1&nbsp;&nbsp;</span>First Baseline Model</a></span><ul class=\"toc-item\"><li><span><a href=\"#Cross-Validate-Baseline-Model\" data-toc-modified-id=\"Cross-Validate-Baseline-Model-4.1.1\"><span class=\"toc-item-num\">4.1.1&nbsp;&nbsp;</span>Cross-Validate Baseline Model</a></span></li></ul></li><li><span><a href=\"#Checking-Other-Models\" data-toc-modified-id=\"Checking-Other-Models-4.2\"><span class=\"toc-item-num\">4.2&nbsp;&nbsp;</span>Checking Other Models</a></span></li><li><span><a href=\"#GridSearch-of-Top-Model\" data-toc-modified-id=\"GridSearch-of-Top-Model-4.3\"><span class=\"toc-item-num\">4.3&nbsp;&nbsp;</span>GridSearch of Top Model</a></span></li><li><span><a href=\"#Final-Model\" data-toc-modified-id=\"Final-Model-4.4\"><span class=\"toc-item-num\">4.4&nbsp;&nbsp;</span>Final Model</a></span><ul class=\"toc-item\"><li><span><a href=\"#Cross-Validating\" data-toc-modified-id=\"Cross-Validating-4.4.1\"><span class=\"toc-item-num\">4.4.1&nbsp;&nbsp;</span>Cross-Validating</a></span></li></ul></li></ul></li><li><span><a href=\"#New-Users-and-Predictions\" data-toc-modified-id=\"New-Users-and-Predictions-5\"><span class=\"toc-item-num\">5&nbsp;&nbsp;</span>New Users and Predictions</a></span></li><li><span><a href=\"#Deployment-Proof-of-Concept\" data-toc-modified-id=\"Deployment-Proof-of-Concept-6\"><span class=\"toc-item-num\">6&nbsp;&nbsp;</span>Deployment Proof of Concept</a></span></li><li><span><a href=\"#Results/Conclusions\" data-toc-modified-id=\"Results/Conclusions-7\"><span class=\"toc-item-num\">7&nbsp;&nbsp;</span>Results/Conclusions</a></span><ul class=\"toc-item\"><li><span><a href=\"#Further-Exploration/Questions\" data-toc-modified-id=\"Further-Exploration/Questions-7.1\"><span class=\"toc-item-num\">7.1&nbsp;&nbsp;</span>Further Exploration/Questions</a></span><ul class=\"toc-item\"><li><span><a href=\"#More-Data\" data-toc-modified-id=\"More-Data-7.1.1\"><span class=\"toc-item-num\">7.1.1&nbsp;&nbsp;</span>More Data</a></span></li><li><span><a href=\"#Algorithms\" data-toc-modified-id=\"Algorithms-7.1.2\"><span class=\"toc-item-num\">7.1.2&nbsp;&nbsp;</span>Algorithms</a></span></li><li><span><a href=\"#User-Feedback\" data-toc-modified-id=\"User-Feedback-7.1.3\"><span class=\"toc-item-num\">7.1.3&nbsp;&nbsp;</span>User Feedback</a></span></li><li><span><a href=\"#Deployment\" data-toc-modified-id=\"Deployment-7.1.4\"><span class=\"toc-item-num\">7.1.4&nbsp;&nbsp;</span>Deployment</a></span></li></ul></li></ul></li></ul></div>"
   ]
  },
  {
   "cell_type": "markdown",
   "metadata": {},
   "source": [
    "![header](images/header.png)"
   ]
  },
  {
   "cell_type": "markdown",
   "metadata": {},
   "source": [
    "# Click That Recommendation Button\n",
    "**Authors:** Jonathan Fetterolf, Matthew Duncan, Jasmine Huang, Michael Licul"
   ]
  },
  {
   "cell_type": "markdown",
   "metadata": {},
   "source": [
    "# Business Understanding and Business Problem"
   ]
  },
  {
   "cell_type": "markdown",
   "metadata": {},
   "source": [
    "The movie rental company, RedBox asked us to create and implement a recommendation system with the following goals:\n",
    "\n",
    "1. Create a recommender model that allows users to input movie ratings and outputs movie suggestions\n",
    "2. Store user ratings for future recommendation requests\n",
    "3. Provide specific genre recommendations based on a users request"
   ]
  },
  {
   "cell_type": "markdown",
   "metadata": {},
   "source": [
    "Successfully implemented recommender systems increase customer engagement, loyalty, satisfaction, and retention. All of these factors lead to an increase of sales.  "
   ]
  },
  {
   "cell_type": "markdown",
   "metadata": {},
   "source": [
    "## Cost of Errors"
   ]
  },
  {
   "cell_type": "markdown",
   "metadata": {},
   "source": [
    "The main cost of errors in prediction are losing user trust and loyalty. The goal of an accurate recommender system is to build loyalty and create a seamless user experience from initial recommendation to rental, if users do not find value in the recommendations provided than that loyalty is instantly lost."
   ]
  },
  {
   "cell_type": "markdown",
   "metadata": {},
   "source": [
    "# Data Understanding"
   ]
  },
  {
   "cell_type": "markdown",
   "metadata": {},
   "source": [
    "**Important Note:** For the sake of being able to run the notebook completely through, the script to create a new user and provide movie ratings has been commented out. If you would like to test creating a new user, please uncomment the code and run the respective cell.\n",
    "\n",
    "The `functions.py` script within this repo is required for this notebook to run properly if the new user code is uncommented."
   ]
  },
  {
   "cell_type": "code",
   "execution_count": 1,
   "metadata": {
    "ExecuteTime": {
     "end_time": "2023-01-26T16:19:05.719950Z",
     "start_time": "2023-01-26T16:19:04.512319Z"
    }
   },
   "outputs": [],
   "source": [
    "import matplotlib.pyplot as plt\n",
    "%matplotlib inline\n",
    "\n",
    "import numpy as np\n",
    "import pandas as pd\n",
    "\n",
    "import seaborn as sns\n",
    "\n",
    "from surprise import Reader, Dataset\n",
    "from surprise.model_selection import train_test_split, GridSearchCV, cross_validate\n",
    "from surprise.prediction_algorithms import *\n",
    "from surprise.similarities import cosine, msd, pearson\n",
    "from surprise import accuracy\n",
    "\n",
    "import gradio as gr\n",
    "\n",
    "import warnings\n",
    "warnings.filterwarnings('ignore')\n",
    "\n",
    "import functions"
   ]
  },
  {
   "cell_type": "markdown",
   "metadata": {},
   "source": [
    "## Initial Data"
   ]
  },
  {
   "cell_type": "markdown",
   "metadata": {},
   "source": [
    "The data used in this notebook is from MovieLens. The dataset includes over 100,000 ratings of nearly 10,000 movies, made by 600 users. The data is imported from four different CSV files.\n",
    "\n",
    "Further analysis of the data is discussed below:"
   ]
  },
  {
   "cell_type": "code",
   "execution_count": 2,
   "metadata": {
    "ExecuteTime": {
     "end_time": "2023-01-26T16:19:11.575133Z",
     "start_time": "2023-01-26T16:19:11.527618Z"
    }
   },
   "outputs": [],
   "source": [
    "#the four csv files provided\n",
    "links_df = pd.read_csv('data/links.csv')\n",
    "movies_df = pd.read_csv('data/movies.csv')\n",
    "ratings_df = pd.read_csv('data/ratings.csv')\n",
    "tags_df = pd.read_csv('data/tags.csv')"
   ]
  },
  {
   "cell_type": "code",
   "execution_count": 3,
   "metadata": {
    "ExecuteTime": {
     "end_time": "2023-01-26T16:19:11.970607Z",
     "start_time": "2023-01-26T16:19:11.959607Z"
    }
   },
   "outputs": [
    {
     "data": {
      "text/html": [
       "<div>\n",
       "<style scoped>\n",
       "    .dataframe tbody tr th:only-of-type {\n",
       "        vertical-align: middle;\n",
       "    }\n",
       "\n",
       "    .dataframe tbody tr th {\n",
       "        vertical-align: top;\n",
       "    }\n",
       "\n",
       "    .dataframe thead th {\n",
       "        text-align: right;\n",
       "    }\n",
       "</style>\n",
       "<table border=\"1\" class=\"dataframe\">\n",
       "  <thead>\n",
       "    <tr style=\"text-align: right;\">\n",
       "      <th></th>\n",
       "      <th>movieId</th>\n",
       "      <th>imdbId</th>\n",
       "      <th>tmdbId</th>\n",
       "    </tr>\n",
       "  </thead>\n",
       "  <tbody>\n",
       "    <tr>\n",
       "      <th>0</th>\n",
       "      <td>1</td>\n",
       "      <td>114709</td>\n",
       "      <td>862.0</td>\n",
       "    </tr>\n",
       "    <tr>\n",
       "      <th>1</th>\n",
       "      <td>2</td>\n",
       "      <td>113497</td>\n",
       "      <td>8844.0</td>\n",
       "    </tr>\n",
       "    <tr>\n",
       "      <th>2</th>\n",
       "      <td>3</td>\n",
       "      <td>113228</td>\n",
       "      <td>15602.0</td>\n",
       "    </tr>\n",
       "    <tr>\n",
       "      <th>3</th>\n",
       "      <td>4</td>\n",
       "      <td>114885</td>\n",
       "      <td>31357.0</td>\n",
       "    </tr>\n",
       "    <tr>\n",
       "      <th>4</th>\n",
       "      <td>5</td>\n",
       "      <td>113041</td>\n",
       "      <td>11862.0</td>\n",
       "    </tr>\n",
       "  </tbody>\n",
       "</table>\n",
       "</div>"
      ],
      "text/plain": [
       "   movieId  imdbId   tmdbId\n",
       "0        1  114709    862.0\n",
       "1        2  113497   8844.0\n",
       "2        3  113228  15602.0\n",
       "3        4  114885  31357.0\n",
       "4        5  113041  11862.0"
      ]
     },
     "execution_count": 3,
     "metadata": {},
     "output_type": "execute_result"
    }
   ],
   "source": [
    "links_df.head()"
   ]
  },
  {
   "cell_type": "code",
   "execution_count": 4,
   "metadata": {
    "ExecuteTime": {
     "end_time": "2023-01-26T16:19:12.301863Z",
     "start_time": "2023-01-26T16:19:12.286864Z"
    }
   },
   "outputs": [
    {
     "data": {
      "text/html": [
       "<div>\n",
       "<style scoped>\n",
       "    .dataframe tbody tr th:only-of-type {\n",
       "        vertical-align: middle;\n",
       "    }\n",
       "\n",
       "    .dataframe tbody tr th {\n",
       "        vertical-align: top;\n",
       "    }\n",
       "\n",
       "    .dataframe thead th {\n",
       "        text-align: right;\n",
       "    }\n",
       "</style>\n",
       "<table border=\"1\" class=\"dataframe\">\n",
       "  <thead>\n",
       "    <tr style=\"text-align: right;\">\n",
       "      <th></th>\n",
       "      <th>movieId</th>\n",
       "      <th>title</th>\n",
       "      <th>genres</th>\n",
       "    </tr>\n",
       "  </thead>\n",
       "  <tbody>\n",
       "    <tr>\n",
       "      <th>0</th>\n",
       "      <td>1</td>\n",
       "      <td>Toy Story (1995)</td>\n",
       "      <td>Adventure|Animation|Children|Comedy|Fantasy</td>\n",
       "    </tr>\n",
       "    <tr>\n",
       "      <th>1</th>\n",
       "      <td>2</td>\n",
       "      <td>Jumanji (1995)</td>\n",
       "      <td>Adventure|Children|Fantasy</td>\n",
       "    </tr>\n",
       "    <tr>\n",
       "      <th>2</th>\n",
       "      <td>3</td>\n",
       "      <td>Grumpier Old Men (1995)</td>\n",
       "      <td>Comedy|Romance</td>\n",
       "    </tr>\n",
       "    <tr>\n",
       "      <th>3</th>\n",
       "      <td>4</td>\n",
       "      <td>Waiting to Exhale (1995)</td>\n",
       "      <td>Comedy|Drama|Romance</td>\n",
       "    </tr>\n",
       "    <tr>\n",
       "      <th>4</th>\n",
       "      <td>5</td>\n",
       "      <td>Father of the Bride Part II (1995)</td>\n",
       "      <td>Comedy</td>\n",
       "    </tr>\n",
       "  </tbody>\n",
       "</table>\n",
       "</div>"
      ],
      "text/plain": [
       "   movieId                               title  \\\n",
       "0        1                    Toy Story (1995)   \n",
       "1        2                      Jumanji (1995)   \n",
       "2        3             Grumpier Old Men (1995)   \n",
       "3        4            Waiting to Exhale (1995)   \n",
       "4        5  Father of the Bride Part II (1995)   \n",
       "\n",
       "                                        genres  \n",
       "0  Adventure|Animation|Children|Comedy|Fantasy  \n",
       "1                   Adventure|Children|Fantasy  \n",
       "2                               Comedy|Romance  \n",
       "3                         Comedy|Drama|Romance  \n",
       "4                                       Comedy  "
      ]
     },
     "execution_count": 4,
     "metadata": {},
     "output_type": "execute_result"
    }
   ],
   "source": [
    "movies_df.head()"
   ]
  },
  {
   "cell_type": "code",
   "execution_count": 5,
   "metadata": {
    "ExecuteTime": {
     "end_time": "2023-01-26T16:19:12.566802Z",
     "start_time": "2023-01-26T16:19:12.558803Z"
    }
   },
   "outputs": [
    {
     "data": {
      "text/html": [
       "<div>\n",
       "<style scoped>\n",
       "    .dataframe tbody tr th:only-of-type {\n",
       "        vertical-align: middle;\n",
       "    }\n",
       "\n",
       "    .dataframe tbody tr th {\n",
       "        vertical-align: top;\n",
       "    }\n",
       "\n",
       "    .dataframe thead th {\n",
       "        text-align: right;\n",
       "    }\n",
       "</style>\n",
       "<table border=\"1\" class=\"dataframe\">\n",
       "  <thead>\n",
       "    <tr style=\"text-align: right;\">\n",
       "      <th></th>\n",
       "      <th>userId</th>\n",
       "      <th>movieId</th>\n",
       "      <th>rating</th>\n",
       "      <th>timestamp</th>\n",
       "    </tr>\n",
       "  </thead>\n",
       "  <tbody>\n",
       "    <tr>\n",
       "      <th>0</th>\n",
       "      <td>1</td>\n",
       "      <td>1</td>\n",
       "      <td>4.0</td>\n",
       "      <td>964982703</td>\n",
       "    </tr>\n",
       "    <tr>\n",
       "      <th>1</th>\n",
       "      <td>1</td>\n",
       "      <td>3</td>\n",
       "      <td>4.0</td>\n",
       "      <td>964981247</td>\n",
       "    </tr>\n",
       "    <tr>\n",
       "      <th>2</th>\n",
       "      <td>1</td>\n",
       "      <td>6</td>\n",
       "      <td>4.0</td>\n",
       "      <td>964982224</td>\n",
       "    </tr>\n",
       "    <tr>\n",
       "      <th>3</th>\n",
       "      <td>1</td>\n",
       "      <td>47</td>\n",
       "      <td>5.0</td>\n",
       "      <td>964983815</td>\n",
       "    </tr>\n",
       "    <tr>\n",
       "      <th>4</th>\n",
       "      <td>1</td>\n",
       "      <td>50</td>\n",
       "      <td>5.0</td>\n",
       "      <td>964982931</td>\n",
       "    </tr>\n",
       "  </tbody>\n",
       "</table>\n",
       "</div>"
      ],
      "text/plain": [
       "   userId  movieId  rating  timestamp\n",
       "0       1        1     4.0  964982703\n",
       "1       1        3     4.0  964981247\n",
       "2       1        6     4.0  964982224\n",
       "3       1       47     5.0  964983815\n",
       "4       1       50     5.0  964982931"
      ]
     },
     "execution_count": 5,
     "metadata": {},
     "output_type": "execute_result"
    }
   ],
   "source": [
    "ratings_df.head()"
   ]
  },
  {
   "cell_type": "code",
   "execution_count": 6,
   "metadata": {
    "ExecuteTime": {
     "end_time": "2023-01-26T16:19:12.784551Z",
     "start_time": "2023-01-26T16:19:12.767554Z"
    }
   },
   "outputs": [
    {
     "data": {
      "text/html": [
       "<div>\n",
       "<style scoped>\n",
       "    .dataframe tbody tr th:only-of-type {\n",
       "        vertical-align: middle;\n",
       "    }\n",
       "\n",
       "    .dataframe tbody tr th {\n",
       "        vertical-align: top;\n",
       "    }\n",
       "\n",
       "    .dataframe thead th {\n",
       "        text-align: right;\n",
       "    }\n",
       "</style>\n",
       "<table border=\"1\" class=\"dataframe\">\n",
       "  <thead>\n",
       "    <tr style=\"text-align: right;\">\n",
       "      <th></th>\n",
       "      <th>userId</th>\n",
       "      <th>movieId</th>\n",
       "      <th>tag</th>\n",
       "      <th>timestamp</th>\n",
       "    </tr>\n",
       "  </thead>\n",
       "  <tbody>\n",
       "    <tr>\n",
       "      <th>0</th>\n",
       "      <td>2</td>\n",
       "      <td>60756</td>\n",
       "      <td>funny</td>\n",
       "      <td>1445714994</td>\n",
       "    </tr>\n",
       "    <tr>\n",
       "      <th>1</th>\n",
       "      <td>2</td>\n",
       "      <td>60756</td>\n",
       "      <td>Highly quotable</td>\n",
       "      <td>1445714996</td>\n",
       "    </tr>\n",
       "    <tr>\n",
       "      <th>2</th>\n",
       "      <td>2</td>\n",
       "      <td>60756</td>\n",
       "      <td>will ferrell</td>\n",
       "      <td>1445714992</td>\n",
       "    </tr>\n",
       "    <tr>\n",
       "      <th>3</th>\n",
       "      <td>2</td>\n",
       "      <td>89774</td>\n",
       "      <td>Boxing story</td>\n",
       "      <td>1445715207</td>\n",
       "    </tr>\n",
       "    <tr>\n",
       "      <th>4</th>\n",
       "      <td>2</td>\n",
       "      <td>89774</td>\n",
       "      <td>MMA</td>\n",
       "      <td>1445715200</td>\n",
       "    </tr>\n",
       "  </tbody>\n",
       "</table>\n",
       "</div>"
      ],
      "text/plain": [
       "   userId  movieId              tag   timestamp\n",
       "0       2    60756            funny  1445714994\n",
       "1       2    60756  Highly quotable  1445714996\n",
       "2       2    60756     will ferrell  1445714992\n",
       "3       2    89774     Boxing story  1445715207\n",
       "4       2    89774              MMA  1445715200"
      ]
     },
     "execution_count": 6,
     "metadata": {},
     "output_type": "execute_result"
    }
   ],
   "source": [
    "tags_df.head()"
   ]
  },
  {
   "cell_type": "markdown",
   "metadata": {},
   "source": [
    "## Exploratory Data Analysis"
   ]
  },
  {
   "cell_type": "markdown",
   "metadata": {},
   "source": [
    "### Exploring `links_df`"
   ]
  },
  {
   "cell_type": "markdown",
   "metadata": {},
   "source": [
    "The DataFrame, ```links_df``` is a key to merge movie identifiers with IMDB Database and The Movie DataBase. We will be focusing on the MovieLens database for this analysis and will not need this file."
   ]
  },
  {
   "cell_type": "code",
   "execution_count": 7,
   "metadata": {
    "ExecuteTime": {
     "end_time": "2023-01-26T16:19:13.917689Z",
     "start_time": "2023-01-26T16:19:13.902691Z"
    }
   },
   "outputs": [
    {
     "data": {
      "text/html": [
       "<div>\n",
       "<style scoped>\n",
       "    .dataframe tbody tr th:only-of-type {\n",
       "        vertical-align: middle;\n",
       "    }\n",
       "\n",
       "    .dataframe tbody tr th {\n",
       "        vertical-align: top;\n",
       "    }\n",
       "\n",
       "    .dataframe thead th {\n",
       "        text-align: right;\n",
       "    }\n",
       "</style>\n",
       "<table border=\"1\" class=\"dataframe\">\n",
       "  <thead>\n",
       "    <tr style=\"text-align: right;\">\n",
       "      <th></th>\n",
       "      <th>movieId</th>\n",
       "      <th>imdbId</th>\n",
       "      <th>tmdbId</th>\n",
       "    </tr>\n",
       "  </thead>\n",
       "  <tbody>\n",
       "    <tr>\n",
       "      <th>0</th>\n",
       "      <td>1</td>\n",
       "      <td>114709</td>\n",
       "      <td>862.0</td>\n",
       "    </tr>\n",
       "    <tr>\n",
       "      <th>1</th>\n",
       "      <td>2</td>\n",
       "      <td>113497</td>\n",
       "      <td>8844.0</td>\n",
       "    </tr>\n",
       "    <tr>\n",
       "      <th>2</th>\n",
       "      <td>3</td>\n",
       "      <td>113228</td>\n",
       "      <td>15602.0</td>\n",
       "    </tr>\n",
       "    <tr>\n",
       "      <th>3</th>\n",
       "      <td>4</td>\n",
       "      <td>114885</td>\n",
       "      <td>31357.0</td>\n",
       "    </tr>\n",
       "    <tr>\n",
       "      <th>4</th>\n",
       "      <td>5</td>\n",
       "      <td>113041</td>\n",
       "      <td>11862.0</td>\n",
       "    </tr>\n",
       "  </tbody>\n",
       "</table>\n",
       "</div>"
      ],
      "text/plain": [
       "   movieId  imdbId   tmdbId\n",
       "0        1  114709    862.0\n",
       "1        2  113497   8844.0\n",
       "2        3  113228  15602.0\n",
       "3        4  114885  31357.0\n",
       "4        5  113041  11862.0"
      ]
     },
     "execution_count": 7,
     "metadata": {},
     "output_type": "execute_result"
    }
   ],
   "source": [
    "links_df.head()"
   ]
  },
  {
   "cell_type": "markdown",
   "metadata": {},
   "source": [
    "### Exploring `movies_df`"
   ]
  },
  {
   "cell_type": "markdown",
   "metadata": {},
   "source": [
    "The DataFrame, ```movies_df``` will provide us with the title of movie (```title```) in relation to its unique identifier (```movieId```) and also contains information about the genre categories (```genres```) for each movie."
   ]
  },
  {
   "cell_type": "code",
   "execution_count": 8,
   "metadata": {
    "ExecuteTime": {
     "end_time": "2023-01-26T16:19:14.801484Z",
     "start_time": "2023-01-26T16:19:14.790486Z"
    }
   },
   "outputs": [
    {
     "data": {
      "text/html": [
       "<div>\n",
       "<style scoped>\n",
       "    .dataframe tbody tr th:only-of-type {\n",
       "        vertical-align: middle;\n",
       "    }\n",
       "\n",
       "    .dataframe tbody tr th {\n",
       "        vertical-align: top;\n",
       "    }\n",
       "\n",
       "    .dataframe thead th {\n",
       "        text-align: right;\n",
       "    }\n",
       "</style>\n",
       "<table border=\"1\" class=\"dataframe\">\n",
       "  <thead>\n",
       "    <tr style=\"text-align: right;\">\n",
       "      <th></th>\n",
       "      <th>movieId</th>\n",
       "      <th>title</th>\n",
       "      <th>genres</th>\n",
       "    </tr>\n",
       "  </thead>\n",
       "  <tbody>\n",
       "    <tr>\n",
       "      <th>0</th>\n",
       "      <td>1</td>\n",
       "      <td>Toy Story (1995)</td>\n",
       "      <td>Adventure|Animation|Children|Comedy|Fantasy</td>\n",
       "    </tr>\n",
       "    <tr>\n",
       "      <th>1</th>\n",
       "      <td>2</td>\n",
       "      <td>Jumanji (1995)</td>\n",
       "      <td>Adventure|Children|Fantasy</td>\n",
       "    </tr>\n",
       "    <tr>\n",
       "      <th>2</th>\n",
       "      <td>3</td>\n",
       "      <td>Grumpier Old Men (1995)</td>\n",
       "      <td>Comedy|Romance</td>\n",
       "    </tr>\n",
       "    <tr>\n",
       "      <th>3</th>\n",
       "      <td>4</td>\n",
       "      <td>Waiting to Exhale (1995)</td>\n",
       "      <td>Comedy|Drama|Romance</td>\n",
       "    </tr>\n",
       "    <tr>\n",
       "      <th>4</th>\n",
       "      <td>5</td>\n",
       "      <td>Father of the Bride Part II (1995)</td>\n",
       "      <td>Comedy</td>\n",
       "    </tr>\n",
       "  </tbody>\n",
       "</table>\n",
       "</div>"
      ],
      "text/plain": [
       "   movieId                               title  \\\n",
       "0        1                    Toy Story (1995)   \n",
       "1        2                      Jumanji (1995)   \n",
       "2        3             Grumpier Old Men (1995)   \n",
       "3        4            Waiting to Exhale (1995)   \n",
       "4        5  Father of the Bride Part II (1995)   \n",
       "\n",
       "                                        genres  \n",
       "0  Adventure|Animation|Children|Comedy|Fantasy  \n",
       "1                   Adventure|Children|Fantasy  \n",
       "2                               Comedy|Romance  \n",
       "3                         Comedy|Drama|Romance  \n",
       "4                                       Comedy  "
      ]
     },
     "execution_count": 8,
     "metadata": {},
     "output_type": "execute_result"
    }
   ],
   "source": [
    "movies_df.head()"
   ]
  },
  {
   "cell_type": "code",
   "execution_count": 9,
   "metadata": {
    "ExecuteTime": {
     "end_time": "2023-01-26T16:19:15.083614Z",
     "start_time": "2023-01-26T16:19:15.070616Z"
    }
   },
   "outputs": [
    {
     "data": {
      "text/plain": [
       "(9742, 3)"
      ]
     },
     "execution_count": 9,
     "metadata": {},
     "output_type": "execute_result"
    }
   ],
   "source": [
    "movies_df.shape"
   ]
  },
  {
   "cell_type": "code",
   "execution_count": 10,
   "metadata": {
    "ExecuteTime": {
     "end_time": "2023-01-26T16:19:15.476586Z",
     "start_time": "2023-01-26T16:19:15.462586Z"
    }
   },
   "outputs": [
    {
     "data": {
      "text/plain": [
       "movieId    0\n",
       "title      0\n",
       "genres     0\n",
       "dtype: int64"
      ]
     },
     "execution_count": 10,
     "metadata": {},
     "output_type": "execute_result"
    }
   ],
   "source": [
    "movies_df.isna().sum()"
   ]
  },
  {
   "cell_type": "code",
   "execution_count": 11,
   "metadata": {
    "ExecuteTime": {
     "end_time": "2023-01-26T16:19:15.792603Z",
     "start_time": "2023-01-26T16:19:15.774605Z"
    }
   },
   "outputs": [
    {
     "data": {
      "text/plain": [
       "9737"
      ]
     },
     "execution_count": 11,
     "metadata": {},
     "output_type": "execute_result"
    }
   ],
   "source": [
    "movies_df['title'].nunique()"
   ]
  },
  {
   "cell_type": "code",
   "execution_count": 12,
   "metadata": {
    "ExecuteTime": {
     "end_time": "2023-01-26T16:19:16.232866Z",
     "start_time": "2023-01-26T16:19:16.214867Z"
    }
   },
   "outputs": [
    {
     "data": {
      "text/plain": [
       "Emma (1996)                               2\n",
       "Eros (2004)                               2\n",
       "Confessions of a Dangerous Mind (2002)    2\n",
       "War of the Worlds (2005)                  2\n",
       "Saturn 3 (1980)                           2\n",
       "The Taming of the Scoundrel (1980)        1\n",
       "Planet Earth II (2016)                    1\n",
       "Front Page, The (1931)                    1\n",
       "Sandpiper, The (1965)                     1\n",
       "To Kill a Mockingbird (1962)              1\n",
       "Name: title, dtype: int64"
      ]
     },
     "execution_count": 12,
     "metadata": {},
     "output_type": "execute_result"
    }
   ],
   "source": [
    "movies_df['title'].value_counts().head(10)"
   ]
  },
  {
   "cell_type": "markdown",
   "metadata": {},
   "source": [
    "There are 9737 unique movie titles. Repeats for 5 movies:\n",
    "- Emma (1996)                                   2\n",
    "- Saturn 3 (1980)                               2\n",
    "- Eros (2004)                                   2\n",
    "- Confessions of a Dangerous Mind (2002)        2\n",
    "- War of the Worlds (2005)                      2"
   ]
  },
  {
   "cell_type": "markdown",
   "metadata": {},
   "source": [
    "Cleaning the text in the DataFrame."
   ]
  },
  {
   "cell_type": "code",
   "execution_count": 13,
   "metadata": {
    "ExecuteTime": {
     "end_time": "2023-01-26T16:19:21.862955Z",
     "start_time": "2023-01-26T16:19:21.853954Z"
    }
   },
   "outputs": [],
   "source": [
    "movies_df['split_genres'] = movies_df['genres'].iloc[0:].apply(lambda x: x.title().split('|'))\n",
    "movies_df['genres'] = movies_df['genres'].iloc[0:].apply(lambda x: x.lower())"
   ]
  },
  {
   "cell_type": "markdown",
   "metadata": {},
   "source": [
    "Generating a bar chart, **Counts by Genre**"
   ]
  },
  {
   "cell_type": "code",
   "execution_count": 14,
   "metadata": {
    "ExecuteTime": {
     "end_time": "2023-01-26T16:19:22.865623Z",
     "start_time": "2023-01-26T16:19:22.742179Z"
    },
    "scrolled": false
   },
   "outputs": [
    {
     "data": {
      "image/png": "[encoded data removed]",
      "text/plain": [
       "<Figure size 864x360 with 1 Axes>"
      ]
     },
     "metadata": {
      "needs_background": "light"
     },
     "output_type": "display_data"
    }
   ],
   "source": [
    "purple = ['#572f99']\n",
    "\n",
    "genre_counts_names = functions.to_1D(movies_df['split_genres']).value_counts().index.tolist()\n",
    "genre_counts_values = functions.to_1D(movies_df['split_genres']).value_counts().values\n",
    "\n",
    "\n",
    "fig, ax = plt.subplots(figsize=(12,5))\n",
    "sns.barplot(x=genre_counts_names[:11], y=genre_counts_values[:11], color='#572f99', ax=ax)\n",
    "ax.set_title('Counts by Genere')\n",
    "ax.set_ylabel('Counts')\n",
    "ax.set_xlabel('Genres');"
   ]
  },
  {
   "cell_type": "markdown",
   "metadata": {},
   "source": [
    "This chart shows us the most highly represented genres in the DataFrame. A successful recommender system would not necessarily direct users to movies within these genres."
   ]
  },
  {
   "cell_type": "code",
   "execution_count": 15,
   "metadata": {
    "ExecuteTime": {
     "end_time": "2023-01-26T16:19:23.812911Z",
     "start_time": "2023-01-26T16:19:23.798913Z"
    }
   },
   "outputs": [
    {
     "data": {
      "text/plain": [
       "'Drama'"
      ]
     },
     "execution_count": 15,
     "metadata": {},
     "output_type": "execute_result"
    }
   ],
   "source": [
    "genre_counts_names[0].title()"
   ]
  },
  {
   "cell_type": "markdown",
   "metadata": {},
   "source": [
    "### Exploring `ratings_df`"
   ]
  },
  {
   "cell_type": "markdown",
   "metadata": {},
   "source": [
    "The DataFrame, ```ratings_df``` will be ther primary DataFrame used in the analysis. It includes relevant information including `userId`, `rating`, and `movieId`."
   ]
  },
  {
   "cell_type": "code",
   "execution_count": 16,
   "metadata": {
    "ExecuteTime": {
     "end_time": "2023-01-26T16:19:25.458282Z",
     "start_time": "2023-01-26T16:19:25.438778Z"
    }
   },
   "outputs": [
    {
     "data": {
      "text/html": [
       "<div>\n",
       "<style scoped>\n",
       "    .dataframe tbody tr th:only-of-type {\n",
       "        vertical-align: middle;\n",
       "    }\n",
       "\n",
       "    .dataframe tbody tr th {\n",
       "        vertical-align: top;\n",
       "    }\n",
       "\n",
       "    .dataframe thead th {\n",
       "        text-align: right;\n",
       "    }\n",
       "</style>\n",
       "<table border=\"1\" class=\"dataframe\">\n",
       "  <thead>\n",
       "    <tr style=\"text-align: right;\">\n",
       "      <th></th>\n",
       "      <th>userId</th>\n",
       "      <th>movieId</th>\n",
       "      <th>rating</th>\n",
       "      <th>timestamp</th>\n",
       "    </tr>\n",
       "  </thead>\n",
       "  <tbody>\n",
       "    <tr>\n",
       "      <th>0</th>\n",
       "      <td>1</td>\n",
       "      <td>1</td>\n",
       "      <td>4.0</td>\n",
       "      <td>964982703</td>\n",
       "    </tr>\n",
       "    <tr>\n",
       "      <th>1</th>\n",
       "      <td>1</td>\n",
       "      <td>3</td>\n",
       "      <td>4.0</td>\n",
       "      <td>964981247</td>\n",
       "    </tr>\n",
       "    <tr>\n",
       "      <th>2</th>\n",
       "      <td>1</td>\n",
       "      <td>6</td>\n",
       "      <td>4.0</td>\n",
       "      <td>964982224</td>\n",
       "    </tr>\n",
       "    <tr>\n",
       "      <th>3</th>\n",
       "      <td>1</td>\n",
       "      <td>47</td>\n",
       "      <td>5.0</td>\n",
       "      <td>964983815</td>\n",
       "    </tr>\n",
       "    <tr>\n",
       "      <th>4</th>\n",
       "      <td>1</td>\n",
       "      <td>50</td>\n",
       "      <td>5.0</td>\n",
       "      <td>964982931</td>\n",
       "    </tr>\n",
       "  </tbody>\n",
       "</table>\n",
       "</div>"
      ],
      "text/plain": [
       "   userId  movieId  rating  timestamp\n",
       "0       1        1     4.0  964982703\n",
       "1       1        3     4.0  964981247\n",
       "2       1        6     4.0  964982224\n",
       "3       1       47     5.0  964983815\n",
       "4       1       50     5.0  964982931"
      ]
     },
     "execution_count": 16,
     "metadata": {},
     "output_type": "execute_result"
    }
   ],
   "source": [
    "ratings_df.head()"
   ]
  },
  {
   "cell_type": "code",
   "execution_count": 17,
   "metadata": {
    "ExecuteTime": {
     "end_time": "2023-01-26T16:19:25.710894Z",
     "start_time": "2023-01-26T16:19:25.701895Z"
    }
   },
   "outputs": [
    {
     "data": {
      "text/plain": [
       "userId       0\n",
       "movieId      0\n",
       "rating       0\n",
       "timestamp    0\n",
       "dtype: int64"
      ]
     },
     "execution_count": 17,
     "metadata": {},
     "output_type": "execute_result"
    }
   ],
   "source": [
    "ratings_df.isna().sum()"
   ]
  },
  {
   "cell_type": "code",
   "execution_count": 18,
   "metadata": {
    "ExecuteTime": {
     "end_time": "2023-01-26T16:19:26.010875Z",
     "start_time": "2023-01-26T16:19:26.005878Z"
    }
   },
   "outputs": [
    {
     "data": {
      "text/plain": [
       "4.0    26818\n",
       "3.0    20047\n",
       "5.0    13211\n",
       "3.5    13136\n",
       "4.5     8551\n",
       "2.0     7551\n",
       "2.5     5550\n",
       "1.0     2811\n",
       "1.5     1791\n",
       "0.5     1370\n",
       "Name: rating, dtype: int64"
      ]
     },
     "execution_count": 18,
     "metadata": {},
     "output_type": "execute_result"
    }
   ],
   "source": [
    "ratings_df['rating'].value_counts()"
   ]
  },
  {
   "cell_type": "code",
   "execution_count": 19,
   "metadata": {
    "ExecuteTime": {
     "end_time": "2023-01-26T16:19:26.436783Z",
     "start_time": "2023-01-26T16:19:26.413781Z"
    }
   },
   "outputs": [
    {
     "data": {
      "text/html": [
       "<div>\n",
       "<style scoped>\n",
       "    .dataframe tbody tr th:only-of-type {\n",
       "        vertical-align: middle;\n",
       "    }\n",
       "\n",
       "    .dataframe tbody tr th {\n",
       "        vertical-align: top;\n",
       "    }\n",
       "\n",
       "    .dataframe thead th {\n",
       "        text-align: right;\n",
       "    }\n",
       "</style>\n",
       "<table border=\"1\" class=\"dataframe\">\n",
       "  <thead>\n",
       "    <tr style=\"text-align: right;\">\n",
       "      <th></th>\n",
       "      <th>userId</th>\n",
       "      <th>rating</th>\n",
       "      <th>timestamp</th>\n",
       "    </tr>\n",
       "    <tr>\n",
       "      <th>movieId</th>\n",
       "      <th></th>\n",
       "      <th></th>\n",
       "      <th></th>\n",
       "    </tr>\n",
       "  </thead>\n",
       "  <tbody>\n",
       "    <tr>\n",
       "      <th>356</th>\n",
       "      <td>329</td>\n",
       "      <td>329</td>\n",
       "      <td>329</td>\n",
       "    </tr>\n",
       "    <tr>\n",
       "      <th>318</th>\n",
       "      <td>317</td>\n",
       "      <td>317</td>\n",
       "      <td>317</td>\n",
       "    </tr>\n",
       "    <tr>\n",
       "      <th>296</th>\n",
       "      <td>307</td>\n",
       "      <td>307</td>\n",
       "      <td>307</td>\n",
       "    </tr>\n",
       "    <tr>\n",
       "      <th>593</th>\n",
       "      <td>279</td>\n",
       "      <td>279</td>\n",
       "      <td>279</td>\n",
       "    </tr>\n",
       "    <tr>\n",
       "      <th>2571</th>\n",
       "      <td>278</td>\n",
       "      <td>278</td>\n",
       "      <td>278</td>\n",
       "    </tr>\n",
       "    <tr>\n",
       "      <th>260</th>\n",
       "      <td>251</td>\n",
       "      <td>251</td>\n",
       "      <td>251</td>\n",
       "    </tr>\n",
       "    <tr>\n",
       "      <th>480</th>\n",
       "      <td>238</td>\n",
       "      <td>238</td>\n",
       "      <td>238</td>\n",
       "    </tr>\n",
       "    <tr>\n",
       "      <th>110</th>\n",
       "      <td>237</td>\n",
       "      <td>237</td>\n",
       "      <td>237</td>\n",
       "    </tr>\n",
       "    <tr>\n",
       "      <th>589</th>\n",
       "      <td>224</td>\n",
       "      <td>224</td>\n",
       "      <td>224</td>\n",
       "    </tr>\n",
       "    <tr>\n",
       "      <th>527</th>\n",
       "      <td>220</td>\n",
       "      <td>220</td>\n",
       "      <td>220</td>\n",
       "    </tr>\n",
       "  </tbody>\n",
       "</table>\n",
       "</div>"
      ],
      "text/plain": [
       "         userId  rating  timestamp\n",
       "movieId                           \n",
       "356         329     329        329\n",
       "318         317     317        317\n",
       "296         307     307        307\n",
       "593         279     279        279\n",
       "2571        278     278        278\n",
       "260         251     251        251\n",
       "480         238     238        238\n",
       "110         237     237        237\n",
       "589         224     224        224\n",
       "527         220     220        220"
      ]
     },
     "execution_count": 19,
     "metadata": {},
     "output_type": "execute_result"
    }
   ],
   "source": [
    "# The 10 movies with the most reviews\n",
    "ratings_df.groupby('movieId').count().sort_values('userId', ascending=False).head(10)"
   ]
  },
  {
   "cell_type": "code",
   "execution_count": 20,
   "metadata": {
    "ExecuteTime": {
     "end_time": "2023-01-26T16:19:26.828084Z",
     "start_time": "2023-01-26T16:19:26.806085Z"
    }
   },
   "outputs": [
    {
     "data": {
      "text/html": [
       "<div>\n",
       "<style scoped>\n",
       "    .dataframe tbody tr th:only-of-type {\n",
       "        vertical-align: middle;\n",
       "    }\n",
       "\n",
       "    .dataframe tbody tr th {\n",
       "        vertical-align: top;\n",
       "    }\n",
       "\n",
       "    .dataframe thead th {\n",
       "        text-align: right;\n",
       "    }\n",
       "</style>\n",
       "<table border=\"1\" class=\"dataframe\">\n",
       "  <thead>\n",
       "    <tr style=\"text-align: right;\">\n",
       "      <th></th>\n",
       "      <th>userId</th>\n",
       "      <th>rating</th>\n",
       "      <th>timestamp</th>\n",
       "    </tr>\n",
       "    <tr>\n",
       "      <th>movieId</th>\n",
       "      <th></th>\n",
       "      <th></th>\n",
       "      <th></th>\n",
       "    </tr>\n",
       "  </thead>\n",
       "  <tbody>\n",
       "    <tr>\n",
       "      <th>88448</th>\n",
       "      <td>483.0</td>\n",
       "      <td>5.0</td>\n",
       "      <td>1.315438e+09</td>\n",
       "    </tr>\n",
       "    <tr>\n",
       "      <th>100556</th>\n",
       "      <td>462.0</td>\n",
       "      <td>5.0</td>\n",
       "      <td>1.456151e+09</td>\n",
       "    </tr>\n",
       "    <tr>\n",
       "      <th>143031</th>\n",
       "      <td>89.0</td>\n",
       "      <td>5.0</td>\n",
       "      <td>1.520409e+09</td>\n",
       "    </tr>\n",
       "    <tr>\n",
       "      <th>143511</th>\n",
       "      <td>105.0</td>\n",
       "      <td>5.0</td>\n",
       "      <td>1.526207e+09</td>\n",
       "    </tr>\n",
       "    <tr>\n",
       "      <th>143559</th>\n",
       "      <td>89.0</td>\n",
       "      <td>5.0</td>\n",
       "      <td>1.520410e+09</td>\n",
       "    </tr>\n",
       "    <tr>\n",
       "      <th>6201</th>\n",
       "      <td>474.0</td>\n",
       "      <td>5.0</td>\n",
       "      <td>1.100120e+09</td>\n",
       "    </tr>\n",
       "    <tr>\n",
       "      <th>102217</th>\n",
       "      <td>63.0</td>\n",
       "      <td>5.0</td>\n",
       "      <td>1.443200e+09</td>\n",
       "    </tr>\n",
       "    <tr>\n",
       "      <th>102084</th>\n",
       "      <td>380.0</td>\n",
       "      <td>5.0</td>\n",
       "      <td>1.493422e+09</td>\n",
       "    </tr>\n",
       "    <tr>\n",
       "      <th>6192</th>\n",
       "      <td>182.0</td>\n",
       "      <td>5.0</td>\n",
       "      <td>1.063275e+09</td>\n",
       "    </tr>\n",
       "    <tr>\n",
       "      <th>145994</th>\n",
       "      <td>105.0</td>\n",
       "      <td>5.0</td>\n",
       "      <td>1.526207e+09</td>\n",
       "    </tr>\n",
       "  </tbody>\n",
       "</table>\n",
       "</div>"
      ],
      "text/plain": [
       "         userId  rating     timestamp\n",
       "movieId                              \n",
       "88448     483.0     5.0  1.315438e+09\n",
       "100556    462.0     5.0  1.456151e+09\n",
       "143031     89.0     5.0  1.520409e+09\n",
       "143511    105.0     5.0  1.526207e+09\n",
       "143559     89.0     5.0  1.520410e+09\n",
       "6201      474.0     5.0  1.100120e+09\n",
       "102217     63.0     5.0  1.443200e+09\n",
       "102084    380.0     5.0  1.493422e+09\n",
       "6192      182.0     5.0  1.063275e+09\n",
       "145994    105.0     5.0  1.526207e+09"
      ]
     },
     "execution_count": 20,
     "metadata": {},
     "output_type": "execute_result"
    }
   ],
   "source": [
    "# the 10 movies with the highest ratings\n",
    "ratings_df.groupby('movieId').mean().sort_values('rating', ascending=False).head(10)"
   ]
  },
  {
   "cell_type": "code",
   "execution_count": 21,
   "metadata": {
    "ExecuteTime": {
     "end_time": "2023-01-26T16:19:27.251325Z",
     "start_time": "2023-01-26T16:19:27.229815Z"
    }
   },
   "outputs": [
    {
     "data": {
      "text/html": [
       "<div>\n",
       "<style scoped>\n",
       "    .dataframe tbody tr th:only-of-type {\n",
       "        vertical-align: middle;\n",
       "    }\n",
       "\n",
       "    .dataframe tbody tr th {\n",
       "        vertical-align: top;\n",
       "    }\n",
       "\n",
       "    .dataframe thead th {\n",
       "        text-align: right;\n",
       "    }\n",
       "</style>\n",
       "<table border=\"1\" class=\"dataframe\">\n",
       "  <thead>\n",
       "    <tr style=\"text-align: right;\">\n",
       "      <th></th>\n",
       "      <th>movieId</th>\n",
       "      <th>rating</th>\n",
       "      <th>timestamp</th>\n",
       "    </tr>\n",
       "    <tr>\n",
       "      <th>userId</th>\n",
       "      <th></th>\n",
       "      <th></th>\n",
       "      <th></th>\n",
       "    </tr>\n",
       "  </thead>\n",
       "  <tbody>\n",
       "    <tr>\n",
       "      <th>414</th>\n",
       "      <td>2698</td>\n",
       "      <td>2698</td>\n",
       "      <td>2698</td>\n",
       "    </tr>\n",
       "    <tr>\n",
       "      <th>599</th>\n",
       "      <td>2478</td>\n",
       "      <td>2478</td>\n",
       "      <td>2478</td>\n",
       "    </tr>\n",
       "    <tr>\n",
       "      <th>474</th>\n",
       "      <td>2108</td>\n",
       "      <td>2108</td>\n",
       "      <td>2108</td>\n",
       "    </tr>\n",
       "    <tr>\n",
       "      <th>448</th>\n",
       "      <td>1864</td>\n",
       "      <td>1864</td>\n",
       "      <td>1864</td>\n",
       "    </tr>\n",
       "    <tr>\n",
       "      <th>274</th>\n",
       "      <td>1346</td>\n",
       "      <td>1346</td>\n",
       "      <td>1346</td>\n",
       "    </tr>\n",
       "    <tr>\n",
       "      <th>610</th>\n",
       "      <td>1302</td>\n",
       "      <td>1302</td>\n",
       "      <td>1302</td>\n",
       "    </tr>\n",
       "    <tr>\n",
       "      <th>68</th>\n",
       "      <td>1260</td>\n",
       "      <td>1260</td>\n",
       "      <td>1260</td>\n",
       "    </tr>\n",
       "    <tr>\n",
       "      <th>380</th>\n",
       "      <td>1218</td>\n",
       "      <td>1218</td>\n",
       "      <td>1218</td>\n",
       "    </tr>\n",
       "    <tr>\n",
       "      <th>606</th>\n",
       "      <td>1115</td>\n",
       "      <td>1115</td>\n",
       "      <td>1115</td>\n",
       "    </tr>\n",
       "    <tr>\n",
       "      <th>288</th>\n",
       "      <td>1055</td>\n",
       "      <td>1055</td>\n",
       "      <td>1055</td>\n",
       "    </tr>\n",
       "  </tbody>\n",
       "</table>\n",
       "</div>"
      ],
      "text/plain": [
       "        movieId  rating  timestamp\n",
       "userId                            \n",
       "414        2698    2698       2698\n",
       "599        2478    2478       2478\n",
       "474        2108    2108       2108\n",
       "448        1864    1864       1864\n",
       "274        1346    1346       1346\n",
       "610        1302    1302       1302\n",
       "68         1260    1260       1260\n",
       "380        1218    1218       1218\n",
       "606        1115    1115       1115\n",
       "288        1055    1055       1055"
      ]
     },
     "execution_count": 21,
     "metadata": {},
     "output_type": "execute_result"
    }
   ],
   "source": [
    "# the 10 users with the most reviews\n",
    "ratings_df.groupby('userId').count().sort_values('rating', ascending=False).head(10)"
   ]
  },
  {
   "cell_type": "markdown",
   "metadata": {},
   "source": [
    " We will drop the `timestamp` column as it is not relevant for this analysis."
   ]
  },
  {
   "cell_type": "code",
   "execution_count": 22,
   "metadata": {
    "ExecuteTime": {
     "end_time": "2023-01-26T16:19:27.675254Z",
     "start_time": "2023-01-26T16:19:27.662255Z"
    }
   },
   "outputs": [],
   "source": [
    "ratings_df.drop('timestamp', axis=1, inplace=True)"
   ]
  },
  {
   "cell_type": "markdown",
   "metadata": {},
   "source": [
    "### Exploring `tags_df`"
   ]
  },
  {
   "cell_type": "markdown",
   "metadata": {},
   "source": [
    "The DataFrame, ```tags_df``` will be helpful for analysis as it provides keyword insights to each of the films. "
   ]
  },
  {
   "cell_type": "code",
   "execution_count": 23,
   "metadata": {
    "ExecuteTime": {
     "end_time": "2023-01-26T16:19:28.432646Z",
     "start_time": "2023-01-26T16:19:28.421647Z"
    }
   },
   "outputs": [
    {
     "data": {
      "text/html": [
       "<div>\n",
       "<style scoped>\n",
       "    .dataframe tbody tr th:only-of-type {\n",
       "        vertical-align: middle;\n",
       "    }\n",
       "\n",
       "    .dataframe tbody tr th {\n",
       "        vertical-align: top;\n",
       "    }\n",
       "\n",
       "    .dataframe thead th {\n",
       "        text-align: right;\n",
       "    }\n",
       "</style>\n",
       "<table border=\"1\" class=\"dataframe\">\n",
       "  <thead>\n",
       "    <tr style=\"text-align: right;\">\n",
       "      <th></th>\n",
       "      <th>userId</th>\n",
       "      <th>movieId</th>\n",
       "      <th>tag</th>\n",
       "      <th>timestamp</th>\n",
       "    </tr>\n",
       "  </thead>\n",
       "  <tbody>\n",
       "    <tr>\n",
       "      <th>0</th>\n",
       "      <td>2</td>\n",
       "      <td>60756</td>\n",
       "      <td>funny</td>\n",
       "      <td>1445714994</td>\n",
       "    </tr>\n",
       "    <tr>\n",
       "      <th>1</th>\n",
       "      <td>2</td>\n",
       "      <td>60756</td>\n",
       "      <td>Highly quotable</td>\n",
       "      <td>1445714996</td>\n",
       "    </tr>\n",
       "    <tr>\n",
       "      <th>2</th>\n",
       "      <td>2</td>\n",
       "      <td>60756</td>\n",
       "      <td>will ferrell</td>\n",
       "      <td>1445714992</td>\n",
       "    </tr>\n",
       "    <tr>\n",
       "      <th>3</th>\n",
       "      <td>2</td>\n",
       "      <td>89774</td>\n",
       "      <td>Boxing story</td>\n",
       "      <td>1445715207</td>\n",
       "    </tr>\n",
       "    <tr>\n",
       "      <th>4</th>\n",
       "      <td>2</td>\n",
       "      <td>89774</td>\n",
       "      <td>MMA</td>\n",
       "      <td>1445715200</td>\n",
       "    </tr>\n",
       "  </tbody>\n",
       "</table>\n",
       "</div>"
      ],
      "text/plain": [
       "   userId  movieId              tag   timestamp\n",
       "0       2    60756            funny  1445714994\n",
       "1       2    60756  Highly quotable  1445714996\n",
       "2       2    60756     will ferrell  1445714992\n",
       "3       2    89774     Boxing story  1445715207\n",
       "4       2    89774              MMA  1445715200"
      ]
     },
     "execution_count": 23,
     "metadata": {},
     "output_type": "execute_result"
    }
   ],
   "source": [
    "tags_df.head()"
   ]
  },
  {
   "cell_type": "code",
   "execution_count": 24,
   "metadata": {
    "ExecuteTime": {
     "end_time": "2023-01-26T16:19:28.777717Z",
     "start_time": "2023-01-26T16:19:28.765719Z"
    }
   },
   "outputs": [
    {
     "data": {
      "text/plain": [
       "userId       0\n",
       "movieId      0\n",
       "tag          0\n",
       "timestamp    0\n",
       "dtype: int64"
      ]
     },
     "execution_count": 24,
     "metadata": {},
     "output_type": "execute_result"
    }
   ],
   "source": [
    "tags_df.isna().sum()"
   ]
  },
  {
   "cell_type": "code",
   "execution_count": 25,
   "metadata": {
    "ExecuteTime": {
     "end_time": "2023-01-26T16:19:29.183689Z",
     "start_time": "2023-01-26T16:19:29.173686Z"
    }
   },
   "outputs": [
    {
     "data": {
      "text/html": [
       "<div>\n",
       "<style scoped>\n",
       "    .dataframe tbody tr th:only-of-type {\n",
       "        vertical-align: middle;\n",
       "    }\n",
       "\n",
       "    .dataframe tbody tr th {\n",
       "        vertical-align: top;\n",
       "    }\n",
       "\n",
       "    .dataframe thead th {\n",
       "        text-align: right;\n",
       "    }\n",
       "</style>\n",
       "<table border=\"1\" class=\"dataframe\">\n",
       "  <thead>\n",
       "    <tr style=\"text-align: right;\">\n",
       "      <th></th>\n",
       "      <th>movieId</th>\n",
       "      <th>tag</th>\n",
       "      <th>timestamp</th>\n",
       "    </tr>\n",
       "    <tr>\n",
       "      <th>userId</th>\n",
       "      <th></th>\n",
       "      <th></th>\n",
       "      <th></th>\n",
       "    </tr>\n",
       "  </thead>\n",
       "  <tbody>\n",
       "    <tr>\n",
       "      <th>474</th>\n",
       "      <td>1507</td>\n",
       "      <td>1507</td>\n",
       "      <td>1507</td>\n",
       "    </tr>\n",
       "    <tr>\n",
       "      <th>567</th>\n",
       "      <td>432</td>\n",
       "      <td>432</td>\n",
       "      <td>432</td>\n",
       "    </tr>\n",
       "    <tr>\n",
       "      <th>62</th>\n",
       "      <td>370</td>\n",
       "      <td>370</td>\n",
       "      <td>370</td>\n",
       "    </tr>\n",
       "    <tr>\n",
       "      <th>599</th>\n",
       "      <td>323</td>\n",
       "      <td>323</td>\n",
       "      <td>323</td>\n",
       "    </tr>\n",
       "    <tr>\n",
       "      <th>477</th>\n",
       "      <td>280</td>\n",
       "      <td>280</td>\n",
       "      <td>280</td>\n",
       "    </tr>\n",
       "    <tr>\n",
       "      <th>424</th>\n",
       "      <td>273</td>\n",
       "      <td>273</td>\n",
       "      <td>273</td>\n",
       "    </tr>\n",
       "    <tr>\n",
       "      <th>537</th>\n",
       "      <td>100</td>\n",
       "      <td>100</td>\n",
       "      <td>100</td>\n",
       "    </tr>\n",
       "    <tr>\n",
       "      <th>125</th>\n",
       "      <td>48</td>\n",
       "      <td>48</td>\n",
       "      <td>48</td>\n",
       "    </tr>\n",
       "    <tr>\n",
       "      <th>357</th>\n",
       "      <td>45</td>\n",
       "      <td>45</td>\n",
       "      <td>45</td>\n",
       "    </tr>\n",
       "    <tr>\n",
       "      <th>318</th>\n",
       "      <td>41</td>\n",
       "      <td>41</td>\n",
       "      <td>41</td>\n",
       "    </tr>\n",
       "  </tbody>\n",
       "</table>\n",
       "</div>"
      ],
      "text/plain": [
       "        movieId   tag  timestamp\n",
       "userId                          \n",
       "474        1507  1507       1507\n",
       "567         432   432        432\n",
       "62          370   370        370\n",
       "599         323   323        323\n",
       "477         280   280        280\n",
       "424         273   273        273\n",
       "537         100   100        100\n",
       "125          48    48         48\n",
       "357          45    45         45\n",
       "318          41    41         41"
      ]
     },
     "execution_count": 25,
     "metadata": {},
     "output_type": "execute_result"
    }
   ],
   "source": [
    "# users with the most comments on movies\n",
    "tags_df.groupby('userId').count().sort_values('tag', ascending=False).head(10)"
   ]
  },
  {
   "cell_type": "code",
   "execution_count": 26,
   "metadata": {
    "ExecuteTime": {
     "end_time": "2023-01-26T16:19:29.514409Z",
     "start_time": "2023-01-26T16:19:29.493405Z"
    }
   },
   "outputs": [
    {
     "data": {
      "text/html": [
       "<div>\n",
       "<style scoped>\n",
       "    .dataframe tbody tr th:only-of-type {\n",
       "        vertical-align: middle;\n",
       "    }\n",
       "\n",
       "    .dataframe tbody tr th {\n",
       "        vertical-align: top;\n",
       "    }\n",
       "\n",
       "    .dataframe thead th {\n",
       "        text-align: right;\n",
       "    }\n",
       "</style>\n",
       "<table border=\"1\" class=\"dataframe\">\n",
       "  <thead>\n",
       "    <tr style=\"text-align: right;\">\n",
       "      <th></th>\n",
       "      <th>userId</th>\n",
       "      <th>movieId</th>\n",
       "      <th>tag_clean</th>\n",
       "    </tr>\n",
       "  </thead>\n",
       "  <tbody>\n",
       "    <tr>\n",
       "      <th>0</th>\n",
       "      <td>2</td>\n",
       "      <td>60756</td>\n",
       "      <td>Funny</td>\n",
       "    </tr>\n",
       "    <tr>\n",
       "      <th>1</th>\n",
       "      <td>2</td>\n",
       "      <td>60756</td>\n",
       "      <td>HighlyQuotable</td>\n",
       "    </tr>\n",
       "    <tr>\n",
       "      <th>2</th>\n",
       "      <td>2</td>\n",
       "      <td>60756</td>\n",
       "      <td>WillFerrell</td>\n",
       "    </tr>\n",
       "    <tr>\n",
       "      <th>3</th>\n",
       "      <td>2</td>\n",
       "      <td>89774</td>\n",
       "      <td>BoxingStory</td>\n",
       "    </tr>\n",
       "    <tr>\n",
       "      <th>4</th>\n",
       "      <td>2</td>\n",
       "      <td>89774</td>\n",
       "      <td>Mma</td>\n",
       "    </tr>\n",
       "  </tbody>\n",
       "</table>\n",
       "</div>"
      ],
      "text/plain": [
       "   userId  movieId       tag_clean\n",
       "0       2    60756           Funny\n",
       "1       2    60756  HighlyQuotable\n",
       "2       2    60756     WillFerrell\n",
       "3       2    89774     BoxingStory\n",
       "4       2    89774             Mma"
      ]
     },
     "execution_count": 26,
     "metadata": {},
     "output_type": "execute_result"
    }
   ],
   "source": [
    "#cleaning tags\n",
    "tags_df2 = tags_df\n",
    "tags_df2['tag_clean'] = tags_df2['tag'].iloc[0:].apply(lambda x: x.title().replace(' ', ''))\n",
    "tags_df_clean = tags_df2.drop(['tag', 'timestamp'], axis=1)\n",
    "tags_df_clean.head()"
   ]
  },
  {
   "cell_type": "markdown",
   "metadata": {},
   "source": [
    "Generating a bar chart, **Counts by Movie Tag**"
   ]
  },
  {
   "cell_type": "code",
   "execution_count": 27,
   "metadata": {
    "ExecuteTime": {
     "end_time": "2023-01-26T16:19:30.423355Z",
     "start_time": "2023-01-26T16:19:30.325856Z"
    }
   },
   "outputs": [
    {
     "data": {
      "image/png": "[encoded data removed]",
      "text/plain": [
       "<Figure size 1296x360 with 1 Axes>"
      ]
     },
     "metadata": {
      "needs_background": "light"
     },
     "output_type": "display_data"
    }
   ],
   "source": [
    "tag_counts_names = tags_df_clean['tag_clean'].value_counts().index\n",
    "tag_counts_values = tags_df_clean['tag_clean'].value_counts().values\n",
    "\n",
    "fig, ax = plt.subplots(figsize=(18,5))\n",
    "# ax.bar(tag_counts_names[:11], tag_counts_values[:11])\n",
    "\n",
    "sns.barplot(x=tag_counts_names[:11], y=tag_counts_values[:11], color='#572f99', ax=ax)\n",
    "ax.set_title('Counts of Movie Tags')\n",
    "ax.set_ylabel('Counts')\n",
    "ax.set_xlabel('Tags');"
   ]
  },
  {
   "cell_type": "markdown",
   "metadata": {},
   "source": [
    "### Combined DataFrame"
   ]
  },
  {
   "cell_type": "markdown",
   "metadata": {},
   "source": [
    "To better understand and work with the separate files, they have been merged to one, larger working file. After cleaning the merged DataFrame, we have 100,836 reviews for 9,724 movies."
   ]
  },
  {
   "cell_type": "code",
   "execution_count": 28,
   "metadata": {
    "ExecuteTime": {
     "end_time": "2023-01-26T16:19:31.784458Z",
     "start_time": "2023-01-26T16:19:31.765462Z"
    }
   },
   "outputs": [
    {
     "data": {
      "text/html": [
       "<div>\n",
       "<style scoped>\n",
       "    .dataframe tbody tr th:only-of-type {\n",
       "        vertical-align: middle;\n",
       "    }\n",
       "\n",
       "    .dataframe tbody tr th {\n",
       "        vertical-align: top;\n",
       "    }\n",
       "\n",
       "    .dataframe thead th {\n",
       "        text-align: right;\n",
       "    }\n",
       "</style>\n",
       "<table border=\"1\" class=\"dataframe\">\n",
       "  <thead>\n",
       "    <tr style=\"text-align: right;\">\n",
       "      <th></th>\n",
       "      <th>userId</th>\n",
       "      <th>movieId</th>\n",
       "      <th>rating</th>\n",
       "      <th>title</th>\n",
       "      <th>genres</th>\n",
       "      <th>split_genres</th>\n",
       "    </tr>\n",
       "  </thead>\n",
       "  <tbody>\n",
       "    <tr>\n",
       "      <th>0</th>\n",
       "      <td>1.0</td>\n",
       "      <td>1</td>\n",
       "      <td>4.0</td>\n",
       "      <td>Toy Story (1995)</td>\n",
       "      <td>adventure|animation|children|comedy|fantasy</td>\n",
       "      <td>[Adventure, Animation, Children, Comedy, Fantasy]</td>\n",
       "    </tr>\n",
       "    <tr>\n",
       "      <th>1</th>\n",
       "      <td>5.0</td>\n",
       "      <td>1</td>\n",
       "      <td>4.0</td>\n",
       "      <td>Toy Story (1995)</td>\n",
       "      <td>adventure|animation|children|comedy|fantasy</td>\n",
       "      <td>[Adventure, Animation, Children, Comedy, Fantasy]</td>\n",
       "    </tr>\n",
       "    <tr>\n",
       "      <th>2</th>\n",
       "      <td>7.0</td>\n",
       "      <td>1</td>\n",
       "      <td>4.5</td>\n",
       "      <td>Toy Story (1995)</td>\n",
       "      <td>adventure|animation|children|comedy|fantasy</td>\n",
       "      <td>[Adventure, Animation, Children, Comedy, Fantasy]</td>\n",
       "    </tr>\n",
       "  </tbody>\n",
       "</table>\n",
       "</div>"
      ],
      "text/plain": [
       "   userId  movieId  rating             title  \\\n",
       "0     1.0        1     4.0  Toy Story (1995)   \n",
       "1     5.0        1     4.0  Toy Story (1995)   \n",
       "2     7.0        1     4.5  Toy Story (1995)   \n",
       "\n",
       "                                        genres  \\\n",
       "0  adventure|animation|children|comedy|fantasy   \n",
       "1  adventure|animation|children|comedy|fantasy   \n",
       "2  adventure|animation|children|comedy|fantasy   \n",
       "\n",
       "                                        split_genres  \n",
       "0  [Adventure, Animation, Children, Comedy, Fantasy]  \n",
       "1  [Adventure, Animation, Children, Comedy, Fantasy]  \n",
       "2  [Adventure, Animation, Children, Comedy, Fantasy]  "
      ]
     },
     "execution_count": 28,
     "metadata": {},
     "output_type": "execute_result"
    }
   ],
   "source": [
    "# Merging the ratings data with movie titles and genres\n",
    "merged_df = ratings_df.merge(movies_df, how='outer', on='movieId')\n",
    "merged_df.head(3)"
   ]
  },
  {
   "cell_type": "code",
   "execution_count": 29,
   "metadata": {
    "ExecuteTime": {
     "end_time": "2023-01-26T16:19:32.299469Z",
     "start_time": "2023-01-26T16:19:32.285472Z"
    }
   },
   "outputs": [
    {
     "data": {
      "text/plain": [
       "userId          18\n",
       "movieId          0\n",
       "rating          18\n",
       "title            0\n",
       "genres           0\n",
       "split_genres     0\n",
       "dtype: int64"
      ]
     },
     "execution_count": 29,
     "metadata": {},
     "output_type": "execute_result"
    }
   ],
   "source": [
    "# Checking for nulls after merging\n",
    "merged_df.isna().sum()"
   ]
  },
  {
   "cell_type": "code",
   "execution_count": 30,
   "metadata": {
    "ExecuteTime": {
     "end_time": "2023-01-26T16:19:33.062891Z",
     "start_time": "2023-01-26T16:19:33.045386Z"
    }
   },
   "outputs": [
    {
     "data": {
      "text/html": [
       "<div>\n",
       "<style scoped>\n",
       "    .dataframe tbody tr th:only-of-type {\n",
       "        vertical-align: middle;\n",
       "    }\n",
       "\n",
       "    .dataframe tbody tr th {\n",
       "        vertical-align: top;\n",
       "    }\n",
       "\n",
       "    .dataframe thead th {\n",
       "        text-align: right;\n",
       "    }\n",
       "</style>\n",
       "<table border=\"1\" class=\"dataframe\">\n",
       "  <thead>\n",
       "    <tr style=\"text-align: right;\">\n",
       "      <th></th>\n",
       "      <th>userId</th>\n",
       "      <th>movieId</th>\n",
       "      <th>rating</th>\n",
       "      <th>title</th>\n",
       "      <th>genres</th>\n",
       "      <th>split_genres</th>\n",
       "    </tr>\n",
       "  </thead>\n",
       "  <tbody>\n",
       "    <tr>\n",
       "      <th>100834</th>\n",
       "      <td>610.0</td>\n",
       "      <td>163937</td>\n",
       "      <td>3.5</td>\n",
       "      <td>Blair Witch (2016)</td>\n",
       "      <td>horror|thriller</td>\n",
       "      <td>[Horror, Thriller]</td>\n",
       "    </tr>\n",
       "    <tr>\n",
       "      <th>100835</th>\n",
       "      <td>610.0</td>\n",
       "      <td>163981</td>\n",
       "      <td>3.5</td>\n",
       "      <td>31 (2016)</td>\n",
       "      <td>horror</td>\n",
       "      <td>[Horror]</td>\n",
       "    </tr>\n",
       "    <tr>\n",
       "      <th>100836</th>\n",
       "      <td>NaN</td>\n",
       "      <td>1076</td>\n",
       "      <td>NaN</td>\n",
       "      <td>Innocents, The (1961)</td>\n",
       "      <td>drama|horror|thriller</td>\n",
       "      <td>[Drama, Horror, Thriller]</td>\n",
       "    </tr>\n",
       "    <tr>\n",
       "      <th>100837</th>\n",
       "      <td>NaN</td>\n",
       "      <td>2939</td>\n",
       "      <td>NaN</td>\n",
       "      <td>Niagara (1953)</td>\n",
       "      <td>drama|thriller</td>\n",
       "      <td>[Drama, Thriller]</td>\n",
       "    </tr>\n",
       "    <tr>\n",
       "      <th>100838</th>\n",
       "      <td>NaN</td>\n",
       "      <td>3338</td>\n",
       "      <td>NaN</td>\n",
       "      <td>For All Mankind (1989)</td>\n",
       "      <td>documentary</td>\n",
       "      <td>[Documentary]</td>\n",
       "    </tr>\n",
       "    <tr>\n",
       "      <th>100839</th>\n",
       "      <td>NaN</td>\n",
       "      <td>3456</td>\n",
       "      <td>NaN</td>\n",
       "      <td>Color of Paradise, The (Rang-e khoda) (1999)</td>\n",
       "      <td>drama</td>\n",
       "      <td>[Drama]</td>\n",
       "    </tr>\n",
       "    <tr>\n",
       "      <th>100840</th>\n",
       "      <td>NaN</td>\n",
       "      <td>4194</td>\n",
       "      <td>NaN</td>\n",
       "      <td>I Know Where I'm Going! (1945)</td>\n",
       "      <td>drama|romance|war</td>\n",
       "      <td>[Drama, Romance, War]</td>\n",
       "    </tr>\n",
       "    <tr>\n",
       "      <th>100841</th>\n",
       "      <td>NaN</td>\n",
       "      <td>5721</td>\n",
       "      <td>NaN</td>\n",
       "      <td>Chosen, The (1981)</td>\n",
       "      <td>drama</td>\n",
       "      <td>[Drama]</td>\n",
       "    </tr>\n",
       "    <tr>\n",
       "      <th>100842</th>\n",
       "      <td>NaN</td>\n",
       "      <td>6668</td>\n",
       "      <td>NaN</td>\n",
       "      <td>Road Home, The (Wo de fu qin mu qin) (1999)</td>\n",
       "      <td>drama|romance</td>\n",
       "      <td>[Drama, Romance]</td>\n",
       "    </tr>\n",
       "    <tr>\n",
       "      <th>100843</th>\n",
       "      <td>NaN</td>\n",
       "      <td>6849</td>\n",
       "      <td>NaN</td>\n",
       "      <td>Scrooge (1970)</td>\n",
       "      <td>drama|fantasy|musical</td>\n",
       "      <td>[Drama, Fantasy, Musical]</td>\n",
       "    </tr>\n",
       "    <tr>\n",
       "      <th>100844</th>\n",
       "      <td>NaN</td>\n",
       "      <td>7020</td>\n",
       "      <td>NaN</td>\n",
       "      <td>Proof (1991)</td>\n",
       "      <td>comedy|drama|romance</td>\n",
       "      <td>[Comedy, Drama, Romance]</td>\n",
       "    </tr>\n",
       "    <tr>\n",
       "      <th>100845</th>\n",
       "      <td>NaN</td>\n",
       "      <td>7792</td>\n",
       "      <td>NaN</td>\n",
       "      <td>Parallax View, The (1974)</td>\n",
       "      <td>thriller</td>\n",
       "      <td>[Thriller]</td>\n",
       "    </tr>\n",
       "    <tr>\n",
       "      <th>100846</th>\n",
       "      <td>NaN</td>\n",
       "      <td>8765</td>\n",
       "      <td>NaN</td>\n",
       "      <td>This Gun for Hire (1942)</td>\n",
       "      <td>crime|film-noir|thriller</td>\n",
       "      <td>[Crime, Film-Noir, Thriller]</td>\n",
       "    </tr>\n",
       "    <tr>\n",
       "      <th>100847</th>\n",
       "      <td>NaN</td>\n",
       "      <td>25855</td>\n",
       "      <td>NaN</td>\n",
       "      <td>Roaring Twenties, The (1939)</td>\n",
       "      <td>crime|drama|thriller</td>\n",
       "      <td>[Crime, Drama, Thriller]</td>\n",
       "    </tr>\n",
       "    <tr>\n",
       "      <th>100848</th>\n",
       "      <td>NaN</td>\n",
       "      <td>26085</td>\n",
       "      <td>NaN</td>\n",
       "      <td>Mutiny on the Bounty (1962)</td>\n",
       "      <td>adventure|drama|romance</td>\n",
       "      <td>[Adventure, Drama, Romance]</td>\n",
       "    </tr>\n",
       "    <tr>\n",
       "      <th>100849</th>\n",
       "      <td>NaN</td>\n",
       "      <td>30892</td>\n",
       "      <td>NaN</td>\n",
       "      <td>In the Realms of the Unreal (2004)</td>\n",
       "      <td>animation|documentary</td>\n",
       "      <td>[Animation, Documentary]</td>\n",
       "    </tr>\n",
       "    <tr>\n",
       "      <th>100850</th>\n",
       "      <td>NaN</td>\n",
       "      <td>32160</td>\n",
       "      <td>NaN</td>\n",
       "      <td>Twentieth Century (1934)</td>\n",
       "      <td>comedy</td>\n",
       "      <td>[Comedy]</td>\n",
       "    </tr>\n",
       "    <tr>\n",
       "      <th>100851</th>\n",
       "      <td>NaN</td>\n",
       "      <td>32371</td>\n",
       "      <td>NaN</td>\n",
       "      <td>Call Northside 777 (1948)</td>\n",
       "      <td>crime|drama|film-noir</td>\n",
       "      <td>[Crime, Drama, Film-Noir]</td>\n",
       "    </tr>\n",
       "    <tr>\n",
       "      <th>100852</th>\n",
       "      <td>NaN</td>\n",
       "      <td>34482</td>\n",
       "      <td>NaN</td>\n",
       "      <td>Browning Version, The (1951)</td>\n",
       "      <td>drama</td>\n",
       "      <td>[Drama]</td>\n",
       "    </tr>\n",
       "    <tr>\n",
       "      <th>100853</th>\n",
       "      <td>NaN</td>\n",
       "      <td>85565</td>\n",
       "      <td>NaN</td>\n",
       "      <td>Chalet Girl (2011)</td>\n",
       "      <td>comedy|romance</td>\n",
       "      <td>[Comedy, Romance]</td>\n",
       "    </tr>\n",
       "  </tbody>\n",
       "</table>\n",
       "</div>"
      ],
      "text/plain": [
       "        userId  movieId  rating                                         title  \\\n",
       "100834   610.0   163937     3.5                            Blair Witch (2016)   \n",
       "100835   610.0   163981     3.5                                     31 (2016)   \n",
       "100836     NaN     1076     NaN                         Innocents, The (1961)   \n",
       "100837     NaN     2939     NaN                                Niagara (1953)   \n",
       "100838     NaN     3338     NaN                        For All Mankind (1989)   \n",
       "100839     NaN     3456     NaN  Color of Paradise, The (Rang-e khoda) (1999)   \n",
       "100840     NaN     4194     NaN                I Know Where I'm Going! (1945)   \n",
       "100841     NaN     5721     NaN                            Chosen, The (1981)   \n",
       "100842     NaN     6668     NaN   Road Home, The (Wo de fu qin mu qin) (1999)   \n",
       "100843     NaN     6849     NaN                                Scrooge (1970)   \n",
       "100844     NaN     7020     NaN                                  Proof (1991)   \n",
       "100845     NaN     7792     NaN                     Parallax View, The (1974)   \n",
       "100846     NaN     8765     NaN                      This Gun for Hire (1942)   \n",
       "100847     NaN    25855     NaN                  Roaring Twenties, The (1939)   \n",
       "100848     NaN    26085     NaN                   Mutiny on the Bounty (1962)   \n",
       "100849     NaN    30892     NaN            In the Realms of the Unreal (2004)   \n",
       "100850     NaN    32160     NaN                      Twentieth Century (1934)   \n",
       "100851     NaN    32371     NaN                     Call Northside 777 (1948)   \n",
       "100852     NaN    34482     NaN                  Browning Version, The (1951)   \n",
       "100853     NaN    85565     NaN                            Chalet Girl (2011)   \n",
       "\n",
       "                          genres                  split_genres  \n",
       "100834           horror|thriller            [Horror, Thriller]  \n",
       "100835                    horror                      [Horror]  \n",
       "100836     drama|horror|thriller     [Drama, Horror, Thriller]  \n",
       "100837            drama|thriller             [Drama, Thriller]  \n",
       "100838               documentary                 [Documentary]  \n",
       "100839                     drama                       [Drama]  \n",
       "100840         drama|romance|war         [Drama, Romance, War]  \n",
       "100841                     drama                       [Drama]  \n",
       "100842             drama|romance              [Drama, Romance]  \n",
       "100843     drama|fantasy|musical     [Drama, Fantasy, Musical]  \n",
       "100844      comedy|drama|romance      [Comedy, Drama, Romance]  \n",
       "100845                  thriller                    [Thriller]  \n",
       "100846  crime|film-noir|thriller  [Crime, Film-Noir, Thriller]  \n",
       "100847      crime|drama|thriller      [Crime, Drama, Thriller]  \n",
       "100848   adventure|drama|romance   [Adventure, Drama, Romance]  \n",
       "100849     animation|documentary      [Animation, Documentary]  \n",
       "100850                    comedy                      [Comedy]  \n",
       "100851     crime|drama|film-noir     [Crime, Drama, Film-Noir]  \n",
       "100852                     drama                       [Drama]  \n",
       "100853            comedy|romance             [Comedy, Romance]  "
      ]
     },
     "execution_count": 30,
     "metadata": {},
     "output_type": "execute_result"
    }
   ],
   "source": [
    "# 18 movies do not have any reviews \n",
    "merged_df.tail(20)"
   ]
  },
  {
   "cell_type": "code",
   "execution_count": 31,
   "metadata": {
    "ExecuteTime": {
     "end_time": "2023-01-26T16:19:33.469357Z",
     "start_time": "2023-01-26T16:19:33.429399Z"
    }
   },
   "outputs": [
    {
     "data": {
      "text/plain": [
       "userId          0\n",
       "movieId         0\n",
       "rating          0\n",
       "title           0\n",
       "genres          0\n",
       "split_genres    0\n",
       "dtype: int64"
      ]
     },
     "execution_count": 31,
     "metadata": {},
     "output_type": "execute_result"
    }
   ],
   "source": [
    "# Dropping nulls in data\n",
    "merged_df.dropna(inplace=True)\n",
    "merged_df.isna().sum()"
   ]
  },
  {
   "cell_type": "code",
   "execution_count": 32,
   "metadata": {
    "ExecuteTime": {
     "end_time": "2023-01-26T16:19:34.937308Z",
     "start_time": "2023-01-26T16:19:34.933308Z"
    }
   },
   "outputs": [
    {
     "data": {
      "text/plain": [
       "(100836, 6)"
      ]
     },
     "execution_count": 32,
     "metadata": {},
     "output_type": "execute_result"
    }
   ],
   "source": [
    "merged_df.shape"
   ]
  },
  {
   "cell_type": "code",
   "execution_count": 33,
   "metadata": {
    "ExecuteTime": {
     "end_time": "2023-01-26T16:19:35.310483Z",
     "start_time": "2023-01-26T16:19:35.301484Z"
    }
   },
   "outputs": [
    {
     "data": {
      "text/plain": [
       "9724"
      ]
     },
     "execution_count": 33,
     "metadata": {},
     "output_type": "execute_result"
    }
   ],
   "source": [
    "merged_df['movieId'].nunique()"
   ]
  },
  {
   "cell_type": "markdown",
   "metadata": {},
   "source": [
    "# Modeling"
   ]
  },
  {
   "cell_type": "markdown",
   "metadata": {},
   "source": [
    "We use Surprise library for this analysis that limits data inputs to three columns of information.\n",
    "\n",
    "Here are the columns used:\n",
    "\n",
    "- `user_Id`\n",
    "- `movie_Id`\n",
    "- `rating`"
   ]
  },
  {
   "cell_type": "code",
   "execution_count": 34,
   "metadata": {
    "ExecuteTime": {
     "end_time": "2023-01-26T16:19:59.031310Z",
     "start_time": "2023-01-26T16:19:59.020312Z"
    }
   },
   "outputs": [],
   "source": [
    "# Adjusting the dataframe for modeling purposes\n",
    "model_df = merged_df.drop(['title', 'genres', 'split_genres'], axis=1)"
   ]
  },
  {
   "cell_type": "code",
   "execution_count": 35,
   "metadata": {
    "ExecuteTime": {
     "end_time": "2023-01-26T16:19:59.536580Z",
     "start_time": "2023-01-26T16:19:59.524581Z"
    }
   },
   "outputs": [
    {
     "data": {
      "text/html": [
       "<div>\n",
       "<style scoped>\n",
       "    .dataframe tbody tr th:only-of-type {\n",
       "        vertical-align: middle;\n",
       "    }\n",
       "\n",
       "    .dataframe tbody tr th {\n",
       "        vertical-align: top;\n",
       "    }\n",
       "\n",
       "    .dataframe thead th {\n",
       "        text-align: right;\n",
       "    }\n",
       "</style>\n",
       "<table border=\"1\" class=\"dataframe\">\n",
       "  <thead>\n",
       "    <tr style=\"text-align: right;\">\n",
       "      <th></th>\n",
       "      <th>userId</th>\n",
       "      <th>movieId</th>\n",
       "      <th>rating</th>\n",
       "    </tr>\n",
       "  </thead>\n",
       "  <tbody>\n",
       "    <tr>\n",
       "      <th>0</th>\n",
       "      <td>1.0</td>\n",
       "      <td>1</td>\n",
       "      <td>4.0</td>\n",
       "    </tr>\n",
       "    <tr>\n",
       "      <th>1</th>\n",
       "      <td>5.0</td>\n",
       "      <td>1</td>\n",
       "      <td>4.0</td>\n",
       "    </tr>\n",
       "    <tr>\n",
       "      <th>2</th>\n",
       "      <td>7.0</td>\n",
       "      <td>1</td>\n",
       "      <td>4.5</td>\n",
       "    </tr>\n",
       "    <tr>\n",
       "      <th>3</th>\n",
       "      <td>15.0</td>\n",
       "      <td>1</td>\n",
       "      <td>2.5</td>\n",
       "    </tr>\n",
       "    <tr>\n",
       "      <th>4</th>\n",
       "      <td>17.0</td>\n",
       "      <td>1</td>\n",
       "      <td>4.5</td>\n",
       "    </tr>\n",
       "  </tbody>\n",
       "</table>\n",
       "</div>"
      ],
      "text/plain": [
       "   userId  movieId  rating\n",
       "0     1.0        1     4.0\n",
       "1     5.0        1     4.0\n",
       "2     7.0        1     4.5\n",
       "3    15.0        1     2.5\n",
       "4    17.0        1     4.5"
      ]
     },
     "execution_count": 35,
     "metadata": {},
     "output_type": "execute_result"
    }
   ],
   "source": [
    "# Contains all movie ratings and the unique identifiers for user and movie\n",
    "model_df.head()"
   ]
  },
  {
   "cell_type": "code",
   "execution_count": 36,
   "metadata": {
    "ExecuteTime": {
     "end_time": "2023-01-26T16:20:00.692797Z",
     "start_time": "2023-01-26T16:20:00.596681Z"
    }
   },
   "outputs": [],
   "source": [
    "# Converting model_df to surprise accessible data\n",
    "reader = Reader()\n",
    "data = Dataset.load_from_df(model_df,reader)"
   ]
  },
  {
   "cell_type": "code",
   "execution_count": 37,
   "metadata": {
    "ExecuteTime": {
     "end_time": "2023-01-26T16:20:01.818311Z",
     "start_time": "2023-01-26T16:20:01.747811Z"
    }
   },
   "outputs": [],
   "source": [
    "# Setting Train/Test split\n",
    "trainset, testset = train_test_split(data, test_size=.2, random_state=42)"
   ]
  },
  {
   "cell_type": "code",
   "execution_count": 38,
   "metadata": {
    "ExecuteTime": {
     "end_time": "2023-01-26T16:20:02.886189Z",
     "start_time": "2023-01-26T16:20:02.876193Z"
    }
   },
   "outputs": [
    {
     "name": "stdout",
     "output_type": "stream",
     "text": [
      "Number of users:  610 \n",
      "\n",
      "Number of items:  8982\n"
     ]
    }
   ],
   "source": [
    "print('Number of users: ', trainset.n_users, '\\n')\n",
    "print('Number of items: ', trainset.n_items)"
   ]
  },
  {
   "cell_type": "markdown",
   "metadata": {},
   "source": [
    "## First Baseline Model"
   ]
  },
  {
   "cell_type": "markdown",
   "metadata": {},
   "source": [
    "Baseline model using Surprise's `BaselineOnly` algorithm:"
   ]
  },
  {
   "cell_type": "code",
   "execution_count": 39,
   "metadata": {
    "ExecuteTime": {
     "end_time": "2023-01-26T16:20:23.748467Z",
     "start_time": "2023-01-26T16:20:23.618509Z"
    }
   },
   "outputs": [
    {
     "name": "stdout",
     "output_type": "stream",
     "text": [
      "Estimating biases using als...\n"
     ]
    }
   ],
   "source": [
    "baseline = BaselineOnly()\n",
    "baseline.fit(trainset)\n",
    "base_predictions = baseline.test(testset)"
   ]
  },
  {
   "cell_type": "code",
   "execution_count": 40,
   "metadata": {
    "ExecuteTime": {
     "end_time": "2023-01-26T16:20:26.746721Z",
     "start_time": "2023-01-26T16:20:26.722721Z"
    }
   },
   "outputs": [
    {
     "name": "stdout",
     "output_type": "stream",
     "text": [
      "RMSE: 0.8734\n"
     ]
    },
    {
     "data": {
      "text/plain": [
       "0.8734341181528673"
      ]
     },
     "execution_count": 40,
     "metadata": {},
     "output_type": "execute_result"
    }
   ],
   "source": [
    "accuracy.rmse(base_predictions)"
   ]
  },
  {
   "cell_type": "code",
   "execution_count": 41,
   "metadata": {
    "ExecuteTime": {
     "end_time": "2023-01-26T16:20:27.736251Z",
     "start_time": "2023-01-26T16:20:27.722252Z"
    },
    "scrolled": true
   },
   "outputs": [
    {
     "name": "stdout",
     "output_type": "stream",
     "text": [
      "MAE:  0.6722\n"
     ]
    },
    {
     "data": {
      "text/plain": [
       "0.6722070558104862"
      ]
     },
     "execution_count": 41,
     "metadata": {},
     "output_type": "execute_result"
    }
   ],
   "source": [
    "accuracy.mae(base_predictions)"
   ]
  },
  {
   "cell_type": "markdown",
   "metadata": {},
   "source": [
    "Results from the baseline model are pretty good with an RMSE of .87 and and MAE of .67."
   ]
  },
  {
   "cell_type": "markdown",
   "metadata": {},
   "source": [
    "### Cross-Validate Baseline Model"
   ]
  },
  {
   "cell_type": "markdown",
   "metadata": {},
   "source": [
    "Here, we set up a cross-validation model in order to improve from the results of the baseline model:"
   ]
  },
  {
   "cell_type": "code",
   "execution_count": 42,
   "metadata": {
    "ExecuteTime": {
     "end_time": "2023-01-26T16:20:33.154097Z",
     "start_time": "2023-01-26T16:20:31.953549Z"
    }
   },
   "outputs": [],
   "source": [
    "cv = cross_validate(baseline, data, n_jobs=3)"
   ]
  },
  {
   "cell_type": "code",
   "execution_count": 43,
   "metadata": {
    "ExecuteTime": {
     "end_time": "2023-01-26T16:20:34.327558Z",
     "start_time": "2023-01-26T16:20:34.321557Z"
    }
   },
   "outputs": [
    {
     "name": "stdout",
     "output_type": "stream",
     "text": [
      "test_rmse\n",
      "0.8728203550632336\n",
      "test_mae\n",
      "0.672788252897236\n",
      "fit_time\n",
      "0.10079264640808105\n",
      "test_time\n",
      "0.1635843276977539\n"
     ]
    }
   ],
   "source": [
    "for item in cv.items():\n",
    "    print(item[0])\n",
    "    print(np.mean(item[-1]))"
   ]
  },
  {
   "cell_type": "markdown",
   "metadata": {},
   "source": [
    "## Checking Other Models"
   ]
  },
  {
   "cell_type": "markdown",
   "metadata": {},
   "source": [
    "To ensure we're using the best model for our analysis, we will be running all potential algorithms through three-fold cross-validation. \n",
    "\n",
    "Our baseline model is still one of the top performers, though SVD++ provided the best results with a mean MAE of .668 and a mean RMSE of .87."
   ]
  },
  {
   "cell_type": "code",
   "execution_count": 45,
   "metadata": {
    "ExecuteTime": {
     "end_time": "2023-01-26T16:20:41.596363Z",
     "start_time": "2023-01-26T16:20:41.585365Z"
    }
   },
   "outputs": [],
   "source": [
    "models_list = [NormalPredictor(), BaselineOnly(), KNNBaseline(random_state=42),\n",
    "               KNNBasic(random_state=42), KNNWithMeans(random_state=42), \n",
    "               KNNWithZScore(random_state=42), SVD(random_state=42), \n",
    "               SVDpp(random_state=42), NMF(random_state=42), SlopeOne(), \n",
    "               CoClustering(random_state=42)]"
   ]
  },
  {
   "cell_type": "code",
   "execution_count": 46,
   "metadata": {
    "ExecuteTime": {
     "end_time": "2023-01-26T16:24:07.988010Z",
     "start_time": "2023-01-26T16:20:42.176576Z"
    }
   },
   "outputs": [],
   "source": [
    "results_df = pd.DataFrame()\n",
    "\n",
    "for model in models_list:\n",
    "    model_dict = {}\n",
    "    temp_model = cross_validate(model, data, cv=3, n_jobs=3, verbose=False)\n",
    "    model_dict['model'] = model\n",
    "    for item in temp_model.items():\n",
    "        model_dict[f\"mean_{item[0]}\"] = np.mean(item[-1])\n",
    "    results_df = results_df.append(model_dict, ignore_index=True, sort=False)"
   ]
  },
  {
   "cell_type": "code",
   "execution_count": 47,
   "metadata": {
    "ExecuteTime": {
     "end_time": "2023-01-26T16:24:41.424422Z",
     "start_time": "2023-01-26T16:24:41.411425Z"
    }
   },
   "outputs": [
    {
     "data": {
      "text/html": [
       "<div>\n",
       "<style scoped>\n",
       "    .dataframe tbody tr th:only-of-type {\n",
       "        vertical-align: middle;\n",
       "    }\n",
       "\n",
       "    .dataframe tbody tr th {\n",
       "        vertical-align: top;\n",
       "    }\n",
       "\n",
       "    .dataframe thead th {\n",
       "        text-align: right;\n",
       "    }\n",
       "</style>\n",
       "<table border=\"1\" class=\"dataframe\">\n",
       "  <thead>\n",
       "    <tr style=\"text-align: right;\">\n",
       "      <th></th>\n",
       "      <th>mean_fit_time</th>\n",
       "      <th>mean_test_mae</th>\n",
       "      <th>mean_test_rmse</th>\n",
       "      <th>mean_test_time</th>\n",
       "      <th>model</th>\n",
       "    </tr>\n",
       "  </thead>\n",
       "  <tbody>\n",
       "    <tr>\n",
       "      <th>7</th>\n",
       "      <td>175.933320</td>\n",
       "      <td>0.667960</td>\n",
       "      <td>0.869826</td>\n",
       "      <td>4.435639</td>\n",
       "      <td>&lt;surprise.prediction_algorithms.matrix_factori...</td>\n",
       "    </tr>\n",
       "    <tr>\n",
       "      <th>2</th>\n",
       "      <td>0.071559</td>\n",
       "      <td>0.673936</td>\n",
       "      <td>0.881104</td>\n",
       "      <td>1.266323</td>\n",
       "      <td>&lt;surprise.prediction_algorithms.knns.KNNBaseli...</td>\n",
       "    </tr>\n",
       "    <tr>\n",
       "      <th>1</th>\n",
       "      <td>0.024003</td>\n",
       "      <td>0.676347</td>\n",
       "      <td>0.876512</td>\n",
       "      <td>0.087335</td>\n",
       "      <td>&lt;surprise.prediction_algorithms.baseline_only....</td>\n",
       "    </tr>\n",
       "    <tr>\n",
       "      <th>6</th>\n",
       "      <td>1.792743</td>\n",
       "      <td>0.677833</td>\n",
       "      <td>0.881136</td>\n",
       "      <td>0.123008</td>\n",
       "      <td>&lt;surprise.prediction_algorithms.matrix_factori...</td>\n",
       "    </tr>\n",
       "    <tr>\n",
       "      <th>5</th>\n",
       "      <td>0.068231</td>\n",
       "      <td>0.686056</td>\n",
       "      <td>0.904013</td>\n",
       "      <td>1.095331</td>\n",
       "      <td>&lt;surprise.prediction_algorithms.knns.KNNWithZS...</td>\n",
       "    </tr>\n",
       "    <tr>\n",
       "      <th>4</th>\n",
       "      <td>0.053167</td>\n",
       "      <td>0.691008</td>\n",
       "      <td>0.904604</td>\n",
       "      <td>1.001243</td>\n",
       "      <td>&lt;surprise.prediction_algorithms.knns.KNNWithMe...</td>\n",
       "    </tr>\n",
       "    <tr>\n",
       "      <th>9</th>\n",
       "      <td>3.118558</td>\n",
       "      <td>0.695967</td>\n",
       "      <td>0.909939</td>\n",
       "      <td>3.995824</td>\n",
       "      <td>&lt;surprise.prediction_algorithms.slope_one.Slop...</td>\n",
       "    </tr>\n",
       "    <tr>\n",
       "      <th>8</th>\n",
       "      <td>1.937455</td>\n",
       "      <td>0.717311</td>\n",
       "      <td>0.934618</td>\n",
       "      <td>0.104838</td>\n",
       "      <td>&lt;surprise.prediction_algorithms.matrix_factori...</td>\n",
       "    </tr>\n",
       "    <tr>\n",
       "      <th>3</th>\n",
       "      <td>0.047004</td>\n",
       "      <td>0.734988</td>\n",
       "      <td>0.958258</td>\n",
       "      <td>0.886850</td>\n",
       "      <td>&lt;surprise.prediction_algorithms.knns.KNNBasic ...</td>\n",
       "    </tr>\n",
       "    <tr>\n",
       "      <th>10</th>\n",
       "      <td>0.850802</td>\n",
       "      <td>0.735515</td>\n",
       "      <td>0.949341</td>\n",
       "      <td>0.096003</td>\n",
       "      <td>&lt;surprise.prediction_algorithms.co_clustering....</td>\n",
       "    </tr>\n",
       "    <tr>\n",
       "      <th>0</th>\n",
       "      <td>0.034335</td>\n",
       "      <td>1.141474</td>\n",
       "      <td>1.429921</td>\n",
       "      <td>0.107501</td>\n",
       "      <td>&lt;surprise.prediction_algorithms.random_pred.No...</td>\n",
       "    </tr>\n",
       "  </tbody>\n",
       "</table>\n",
       "</div>"
      ],
      "text/plain": [
       "    mean_fit_time  mean_test_mae  mean_test_rmse  mean_test_time  \\\n",
       "7      175.933320       0.667960        0.869826        4.435639   \n",
       "2        0.071559       0.673936        0.881104        1.266323   \n",
       "1        0.024003       0.676347        0.876512        0.087335   \n",
       "6        1.792743       0.677833        0.881136        0.123008   \n",
       "5        0.068231       0.686056        0.904013        1.095331   \n",
       "4        0.053167       0.691008        0.904604        1.001243   \n",
       "9        3.118558       0.695967        0.909939        3.995824   \n",
       "8        1.937455       0.717311        0.934618        0.104838   \n",
       "3        0.047004       0.734988        0.958258        0.886850   \n",
       "10       0.850802       0.735515        0.949341        0.096003   \n",
       "0        0.034335       1.141474        1.429921        0.107501   \n",
       "\n",
       "                                                model  \n",
       "7   <surprise.prediction_algorithms.matrix_factori...  \n",
       "2   <surprise.prediction_algorithms.knns.KNNBaseli...  \n",
       "1   <surprise.prediction_algorithms.baseline_only....  \n",
       "6   <surprise.prediction_algorithms.matrix_factori...  \n",
       "5   <surprise.prediction_algorithms.knns.KNNWithZS...  \n",
       "4   <surprise.prediction_algorithms.knns.KNNWithMe...  \n",
       "9   <surprise.prediction_algorithms.slope_one.Slop...  \n",
       "8   <surprise.prediction_algorithms.matrix_factori...  \n",
       "3   <surprise.prediction_algorithms.knns.KNNBasic ...  \n",
       "10  <surprise.prediction_algorithms.co_clustering....  \n",
       "0   <surprise.prediction_algorithms.random_pred.No...  "
      ]
     },
     "execution_count": 47,
     "metadata": {},
     "output_type": "execute_result"
    }
   ],
   "source": [
    "results_df.sort_values('mean_test_mae')"
   ]
  },
  {
   "cell_type": "markdown",
   "metadata": {},
   "source": [
    "## GridSearch of Top Model"
   ]
  },
  {
   "cell_type": "markdown",
   "metadata": {},
   "source": [
    "To ensure that our top model is living up to its best potential, we are completing a gridsearch of SVD++ to find the best hyperparameters. Several iterations of GridSearch were completed and the search has been modified to adjust for past iterations (for instance `n_factors` continuously performed best with 20 factors and to speed up the search, other numbers were removed). Random state has been set for reproducibility.\n",
    "\n",
    "For both RMSE and MAE metrics, our model performed best with:\n",
    "- `n_factors` = 20\n",
    "- `reg_all` = .01\n",
    "- `lr_all` = .01\n",
    "- `n_epochs` = 30\n",
    "\n",
    "Utilizing GridSearch, we were able to reduce both error metrics. MAE was reduced to .662 from .668 and RMSE was reduced to .861 from .87. We will be using this model with the tuned parameters for our predictions.\n",
    "\n",
    "**Note:** For the sake of those looking to run the notebook. GridSearch has been commented out due to the length of the run time. It takes over an hour to complete. Instead, an image of the search has been added to the notebook. If you would like to run the GridSearch yourself, please uncomment the code and run the cell."
   ]
  },
  {
   "cell_type": "code",
   "execution_count": null,
   "metadata": {},
   "outputs": [],
   "source": [
    "# DELETE BEFORE FINAL SUBMISSION\n",
    "\n",
    "# Code break cell to prevent accidentally running \"restart and run all cells\"\n",
    "\n",
    "# Skip running the next 3 cells to avoid deleting GridSearch Results\n",
    "stop"
   ]
  },
  {
   "cell_type": "code",
   "execution_count": 51,
   "metadata": {
    "ExecuteTime": {
     "end_time": "2023-01-26T19:16:33.694980Z",
     "start_time": "2023-01-26T16:29:50.123668Z"
    }
   },
   "outputs": [],
   "source": [
    "# Setting up final model\n",
    "# params = {'n_factors': [20],\n",
    "#          'reg_all': np.linspace(.001, .1, 4),\n",
    "#          'lr_all': np.linspace(.001, .01, 4),\n",
    "#          'n_epochs': [20, 30],\n",
    "#          'random_state': [42]}\n",
    "\n",
    "\n",
    "# model = GridSearchCV(SVDpp, params, cv=3, n_jobs=4)\n",
    "# model.fit(data)"
   ]
  },
  {
   "cell_type": "code",
   "execution_count": 52,
   "metadata": {
    "ExecuteTime": {
     "end_time": "2023-01-26T19:16:40.107474Z",
     "start_time": "2023-01-26T19:16:40.104971Z"
    }
   },
   "outputs": [
    {
     "data": {
      "text/plain": [
       "{'rmse': {'n_factors': 20,\n",
       "  'reg_all': 0.1,\n",
       "  'lr_all': 0.01,\n",
       "  'n_epochs': 30,\n",
       "  'random_state': 42},\n",
       " 'mae': {'n_factors': 20,\n",
       "  'reg_all': 0.1,\n",
       "  'lr_all': 0.01,\n",
       "  'n_epochs': 30,\n",
       "  'random_state': 42}}"
      ]
     },
     "execution_count": 52,
     "metadata": {},
     "output_type": "execute_result"
    }
   ],
   "source": [
    "# model.best_params"
   ]
  },
  {
   "cell_type": "code",
   "execution_count": 53,
   "metadata": {
    "ExecuteTime": {
     "end_time": "2023-01-26T19:16:48.242832Z",
     "start_time": "2023-01-26T19:16:48.224832Z"
    }
   },
   "outputs": [
    {
     "data": {
      "text/plain": [
       "{'rmse': 0.8614322566345662, 'mae': 0.661554771143182}"
      ]
     },
     "execution_count": 53,
     "metadata": {},
     "output_type": "execute_result"
    }
   ],
   "source": [
    "# model.best_score"
   ]
  },
  {
   "cell_type": "markdown",
   "metadata": {},
   "source": [
    "![GridSearch](images/grid.png)"
   ]
  },
  {
   "cell_type": "markdown",
   "metadata": {},
   "source": [
    "## Final Model"
   ]
  },
  {
   "cell_type": "markdown",
   "metadata": {},
   "source": [
    "We are creating a final model based on the results of our GridSearch.\n",
    "\n",
    "- `n_factors` = 20\n",
    "- `reg_all` = .01\n",
    "- `lr_all` = .01\n",
    "- `n_epochs` = 30"
   ]
  },
  {
   "cell_type": "code",
   "execution_count": 44,
   "metadata": {
    "ExecuteTime": {
     "end_time": "2023-01-26T19:26:37.803002Z",
     "start_time": "2023-01-26T19:20:34.854137Z"
    }
   },
   "outputs": [],
   "source": [
    "# Creating final model\n",
    "final_model = SVDpp(n_factors=20, reg_all=.01, lr_all=.01, n_epochs=30, random_state=42)\n",
    "final_model.fit(trainset)\n",
    "final_predictions = final_model.test(testset)"
   ]
  },
  {
   "cell_type": "code",
   "execution_count": 45,
   "metadata": {
    "ExecuteTime": {
     "end_time": "2023-01-26T19:27:19.629554Z",
     "start_time": "2023-01-26T19:27:19.616046Z"
    }
   },
   "outputs": [
    {
     "name": "stdout",
     "output_type": "stream",
     "text": [
      "RMSE: 0.9103\n"
     ]
    },
    {
     "data": {
      "text/plain": [
       "0.9102514874968484"
      ]
     },
     "execution_count": 45,
     "metadata": {},
     "output_type": "execute_result"
    }
   ],
   "source": [
    "accuracy.rmse(final_predictions)"
   ]
  },
  {
   "cell_type": "code",
   "execution_count": 46,
   "metadata": {
    "ExecuteTime": {
     "end_time": "2023-01-26T19:27:28.067925Z",
     "start_time": "2023-01-26T19:27:28.047907Z"
    }
   },
   "outputs": [
    {
     "name": "stdout",
     "output_type": "stream",
     "text": [
      "MAE:  0.6952\n"
     ]
    },
    {
     "data": {
      "text/plain": [
       "0.6952301182297183"
      ]
     },
     "execution_count": 46,
     "metadata": {},
     "output_type": "execute_result"
    }
   ],
   "source": [
    "accuracy.mae(final_predictions)"
   ]
  },
  {
   "cell_type": "markdown",
   "metadata": {},
   "source": [
    "### Cross-Validating"
   ]
  },
  {
   "cell_type": "markdown",
   "metadata": {},
   "source": [
    "Final cross-validated results provide us with a mean MAE of .705 and a mean RMSE of .92. Time to predict the test set took an average of 4 seconds."
   ]
  },
  {
   "cell_type": "code",
   "execution_count": 60,
   "metadata": {
    "ExecuteTime": {
     "end_time": "2023-01-26T19:32:11.111652Z",
     "start_time": "2023-01-26T19:27:40.231977Z"
    }
   },
   "outputs": [
    {
     "name": "stdout",
     "output_type": "stream",
     "text": [
      "test_rmse\n",
      "0.920499278492457\n",
      "test_mae\n",
      "0.705048146994154\n",
      "fit_time\n",
      "260.5468626022339\n",
      "test_time\n",
      "4.356997887293498\n"
     ]
    }
   ],
   "source": [
    "# Double checking results of final model through cross validation\n",
    "cv = cross_validate(final_model, data, n_jobs=5, cv=3)\n",
    "\n",
    "for item in cv.items():\n",
    "    print(item[0])\n",
    "    print(np.mean(item[-1]))"
   ]
  },
  {
   "cell_type": "markdown",
   "metadata": {},
   "source": [
    "# New Users and Predictions"
   ]
  },
  {
   "cell_type": "markdown",
   "metadata": {},
   "source": [
    "Using the Python script located in the functions.py file within this repo. We are able to create new users who can provide movie ratings and save them to their profile. Users are able to request a number of recommended movies from 1-50 and can specify if they are interested in a specific genre.\n",
    "\n",
    "When users create a new profile, they will be asked to create a username and password that can be used to access ratings that they have previously submitted. Users are able to make new ratings after logging back in to their profile or skip ahead to just pulling recommendations.\n",
    "\n",
    "**Important Note:** For the sake of being able to run the notebook completely through, the script to create a new user and provide movie ratings has been commented out. If you would like to test creating a new user, please uncomment the code and run the respective cell."
   ]
  },
  {
   "cell_type": "code",
   "execution_count": 47,
   "metadata": {
    "ExecuteTime": {
     "end_time": "2023-01-26T19:35:21.196766Z",
     "start_time": "2023-01-26T19:35:21.185258Z"
    }
   },
   "outputs": [],
   "source": [
    "# creating new user df and adding columns for username and password\n",
    "new_user_df = merged_df.copy()\n",
    "new_user_df['username'] = np.nan\n",
    "new_user_df['password'] = np.nan"
   ]
  },
  {
   "cell_type": "code",
   "execution_count": 48,
   "metadata": {
    "ExecuteTime": {
     "end_time": "2023-01-26T19:35:21.741549Z",
     "start_time": "2023-01-26T19:35:21.721529Z"
    }
   },
   "outputs": [
    {
     "data": {
      "text/html": [
       "<div>\n",
       "<style scoped>\n",
       "    .dataframe tbody tr th:only-of-type {\n",
       "        vertical-align: middle;\n",
       "    }\n",
       "\n",
       "    .dataframe tbody tr th {\n",
       "        vertical-align: top;\n",
       "    }\n",
       "\n",
       "    .dataframe thead th {\n",
       "        text-align: right;\n",
       "    }\n",
       "</style>\n",
       "<table border=\"1\" class=\"dataframe\">\n",
       "  <thead>\n",
       "    <tr style=\"text-align: right;\">\n",
       "      <th></th>\n",
       "      <th>userId</th>\n",
       "      <th>movieId</th>\n",
       "      <th>rating</th>\n",
       "      <th>title</th>\n",
       "      <th>genres</th>\n",
       "      <th>split_genres</th>\n",
       "      <th>username</th>\n",
       "      <th>password</th>\n",
       "    </tr>\n",
       "  </thead>\n",
       "  <tbody>\n",
       "    <tr>\n",
       "      <th>100831</th>\n",
       "      <td>610.0</td>\n",
       "      <td>160341</td>\n",
       "      <td>2.5</td>\n",
       "      <td>Bloodmoon (1997)</td>\n",
       "      <td>action|thriller</td>\n",
       "      <td>[Action, Thriller]</td>\n",
       "      <td>NaN</td>\n",
       "      <td>NaN</td>\n",
       "    </tr>\n",
       "    <tr>\n",
       "      <th>100832</th>\n",
       "      <td>610.0</td>\n",
       "      <td>160527</td>\n",
       "      <td>4.5</td>\n",
       "      <td>Sympathy for the Underdog (1971)</td>\n",
       "      <td>action|crime|drama</td>\n",
       "      <td>[Action, Crime, Drama]</td>\n",
       "      <td>NaN</td>\n",
       "      <td>NaN</td>\n",
       "    </tr>\n",
       "    <tr>\n",
       "      <th>100833</th>\n",
       "      <td>610.0</td>\n",
       "      <td>160836</td>\n",
       "      <td>3.0</td>\n",
       "      <td>Hazard (2005)</td>\n",
       "      <td>action|drama|thriller</td>\n",
       "      <td>[Action, Drama, Thriller]</td>\n",
       "      <td>NaN</td>\n",
       "      <td>NaN</td>\n",
       "    </tr>\n",
       "    <tr>\n",
       "      <th>100834</th>\n",
       "      <td>610.0</td>\n",
       "      <td>163937</td>\n",
       "      <td>3.5</td>\n",
       "      <td>Blair Witch (2016)</td>\n",
       "      <td>horror|thriller</td>\n",
       "      <td>[Horror, Thriller]</td>\n",
       "      <td>NaN</td>\n",
       "      <td>NaN</td>\n",
       "    </tr>\n",
       "    <tr>\n",
       "      <th>100835</th>\n",
       "      <td>610.0</td>\n",
       "      <td>163981</td>\n",
       "      <td>3.5</td>\n",
       "      <td>31 (2016)</td>\n",
       "      <td>horror</td>\n",
       "      <td>[Horror]</td>\n",
       "      <td>NaN</td>\n",
       "      <td>NaN</td>\n",
       "    </tr>\n",
       "  </tbody>\n",
       "</table>\n",
       "</div>"
      ],
      "text/plain": [
       "        userId  movieId  rating                             title  \\\n",
       "100831   610.0   160341     2.5                  Bloodmoon (1997)   \n",
       "100832   610.0   160527     4.5  Sympathy for the Underdog (1971)   \n",
       "100833   610.0   160836     3.0                     Hazard (2005)   \n",
       "100834   610.0   163937     3.5                Blair Witch (2016)   \n",
       "100835   610.0   163981     3.5                         31 (2016)   \n",
       "\n",
       "                       genres               split_genres  username  password  \n",
       "100831        action|thriller         [Action, Thriller]       NaN       NaN  \n",
       "100832     action|crime|drama     [Action, Crime, Drama]       NaN       NaN  \n",
       "100833  action|drama|thriller  [Action, Drama, Thriller]       NaN       NaN  \n",
       "100834        horror|thriller         [Horror, Thriller]       NaN       NaN  \n",
       "100835                 horror                   [Horror]       NaN       NaN  "
      ]
     },
     "execution_count": 48,
     "metadata": {},
     "output_type": "execute_result"
    }
   ],
   "source": [
    "new_user_df.tail()"
   ]
  },
  {
   "cell_type": "code",
   "execution_count": 49,
   "metadata": {
    "ExecuteTime": {
     "end_time": "2023-01-26T19:35:22.723092Z",
     "start_time": "2023-01-26T19:35:22.714383Z"
    }
   },
   "outputs": [],
   "source": [
    "# Test user with test rating\n",
    "test_user = {'userId':611, \n",
    "             'movieId':1, \n",
    "             'rating':5, \n",
    "             'title': 'Toy Story (1995)', \n",
    "             'genres': 'Adventure|Animation|Children|Comedy|Fantasy', \n",
    "             'username': 'test_user', \n",
    "             'password': 'test_user'}"
   ]
  },
  {
   "cell_type": "code",
   "execution_count": 50,
   "metadata": {
    "ExecuteTime": {
     "end_time": "2023-01-26T19:35:24.384895Z",
     "start_time": "2023-01-26T19:35:24.370320Z"
    }
   },
   "outputs": [
    {
     "data": {
      "text/html": [
       "<div>\n",
       "<style scoped>\n",
       "    .dataframe tbody tr th:only-of-type {\n",
       "        vertical-align: middle;\n",
       "    }\n",
       "\n",
       "    .dataframe tbody tr th {\n",
       "        vertical-align: top;\n",
       "    }\n",
       "\n",
       "    .dataframe thead th {\n",
       "        text-align: right;\n",
       "    }\n",
       "</style>\n",
       "<table border=\"1\" class=\"dataframe\">\n",
       "  <thead>\n",
       "    <tr style=\"text-align: right;\">\n",
       "      <th></th>\n",
       "      <th>userId</th>\n",
       "      <th>movieId</th>\n",
       "      <th>rating</th>\n",
       "      <th>title</th>\n",
       "      <th>genres</th>\n",
       "      <th>split_genres</th>\n",
       "      <th>username</th>\n",
       "      <th>password</th>\n",
       "    </tr>\n",
       "  </thead>\n",
       "  <tbody>\n",
       "    <tr>\n",
       "      <th>100832</th>\n",
       "      <td>610.0</td>\n",
       "      <td>160527</td>\n",
       "      <td>4.5</td>\n",
       "      <td>Sympathy for the Underdog (1971)</td>\n",
       "      <td>action|crime|drama</td>\n",
       "      <td>[Action, Crime, Drama]</td>\n",
       "      <td>NaN</td>\n",
       "      <td>NaN</td>\n",
       "    </tr>\n",
       "    <tr>\n",
       "      <th>100833</th>\n",
       "      <td>610.0</td>\n",
       "      <td>160836</td>\n",
       "      <td>3.0</td>\n",
       "      <td>Hazard (2005)</td>\n",
       "      <td>action|drama|thriller</td>\n",
       "      <td>[Action, Drama, Thriller]</td>\n",
       "      <td>NaN</td>\n",
       "      <td>NaN</td>\n",
       "    </tr>\n",
       "    <tr>\n",
       "      <th>100834</th>\n",
       "      <td>610.0</td>\n",
       "      <td>163937</td>\n",
       "      <td>3.5</td>\n",
       "      <td>Blair Witch (2016)</td>\n",
       "      <td>horror|thriller</td>\n",
       "      <td>[Horror, Thriller]</td>\n",
       "      <td>NaN</td>\n",
       "      <td>NaN</td>\n",
       "    </tr>\n",
       "    <tr>\n",
       "      <th>100835</th>\n",
       "      <td>610.0</td>\n",
       "      <td>163981</td>\n",
       "      <td>3.5</td>\n",
       "      <td>31 (2016)</td>\n",
       "      <td>horror</td>\n",
       "      <td>[Horror]</td>\n",
       "      <td>NaN</td>\n",
       "      <td>NaN</td>\n",
       "    </tr>\n",
       "    <tr>\n",
       "      <th>100836</th>\n",
       "      <td>611.0</td>\n",
       "      <td>1</td>\n",
       "      <td>5.0</td>\n",
       "      <td>Toy Story (1995)</td>\n",
       "      <td>Adventure|Animation|Children|Comedy|Fantasy</td>\n",
       "      <td>NaN</td>\n",
       "      <td>test_user</td>\n",
       "      <td>test_user</td>\n",
       "    </tr>\n",
       "  </tbody>\n",
       "</table>\n",
       "</div>"
      ],
      "text/plain": [
       "        userId  movieId  rating                             title  \\\n",
       "100832   610.0   160527     4.5  Sympathy for the Underdog (1971)   \n",
       "100833   610.0   160836     3.0                     Hazard (2005)   \n",
       "100834   610.0   163937     3.5                Blair Witch (2016)   \n",
       "100835   610.0   163981     3.5                         31 (2016)   \n",
       "100836   611.0        1     5.0                  Toy Story (1995)   \n",
       "\n",
       "                                             genres  \\\n",
       "100832                           action|crime|drama   \n",
       "100833                        action|drama|thriller   \n",
       "100834                              horror|thriller   \n",
       "100835                                       horror   \n",
       "100836  Adventure|Animation|Children|Comedy|Fantasy   \n",
       "\n",
       "                     split_genres   username   password  \n",
       "100832     [Action, Crime, Drama]        NaN        NaN  \n",
       "100833  [Action, Drama, Thriller]        NaN        NaN  \n",
       "100834         [Horror, Thriller]        NaN        NaN  \n",
       "100835                   [Horror]        NaN        NaN  \n",
       "100836                        NaN  test_user  test_user  "
      ]
     },
     "execution_count": 50,
     "metadata": {},
     "output_type": "execute_result"
    }
   ],
   "source": [
    "# Adding test user to new_user_df\n",
    "new_user_df = new_user_df.append(test_user, ignore_index=True)\n",
    "new_user_df.tail()"
   ]
  },
  {
   "cell_type": "code",
   "execution_count": 51,
   "metadata": {},
   "outputs": [
    {
     "ename": "NameError",
     "evalue": "name 'stop' is not defined",
     "output_type": "error",
     "traceback": [
      "\u001b[1;31m---------------------------------------------------------------------------\u001b[0m",
      "\u001b[1;31mNameError\u001b[0m                                 Traceback (most recent call last)",
      "\u001b[1;32m<ipython-input-51-e65657a0759d>\u001b[0m in \u001b[0;36m<module>\u001b[1;34m\u001b[0m\n\u001b[0;32m      4\u001b[0m \u001b[1;33m\u001b[0m\u001b[0m\n\u001b[0;32m      5\u001b[0m \u001b[1;31m# Skip running the next 2 cells to avoid accidentally deleting new_user Results\u001b[0m\u001b[1;33m\u001b[0m\u001b[1;33m\u001b[0m\u001b[1;33m\u001b[0m\u001b[0m\n\u001b[1;32m----> 6\u001b[1;33m \u001b[0mstop\u001b[0m\u001b[1;33m\u001b[0m\u001b[1;33m\u001b[0m\u001b[0m\n\u001b[0m",
      "\u001b[1;31mNameError\u001b[0m: name 'stop' is not defined"
     ]
    }
   ],
   "source": [
    "# DELETE BEFORE FINAL SUBMISSION\n",
    "\n",
    "# Code break cell to prevent accidentally running \"restart and run all cells\"\n",
    "\n",
    "# Skip running the next 2 cells to avoid accidentally deleting new_user Results\n",
    "stop"
   ]
  },
  {
   "cell_type": "code",
   "execution_count": 65,
   "metadata": {
    "ExecuteTime": {
     "end_time": "2023-01-26T19:36:42.194060Z",
     "start_time": "2023-01-26T19:35:28.761363Z"
    },
    "scrolled": false
   },
   "outputs": [
    {
     "name": "stdout",
     "output_type": "stream",
     "text": [
      "(Type 'quit' at any time to exit.) \n",
      "\n",
      "Are you a new user? (yes/no): yes\n",
      "Please enter a unique username: test_user2\n",
      "Please enter a password: test_user2\n",
      "\n",
      "Welcome! Your new account is created...\n",
      "\n",
      "You need at least 5 reviews before we can make recommendations.\n",
      "\n",
      "(Type 'quit' to stop rating movies.) \n",
      "\n",
      "Please rate the movie 1-5. If you have not seen the movie, type \"n\" to skip: \n",
      "\n",
      "['Ring, The (2002)']\n",
      "Rating: \n",
      "4\n",
      "Saving rating to temporary memory...\n",
      "\n",
      "\n",
      "You need at least 5 reviews before we can make recommendations.\n",
      "\n",
      "(Type 'quit' to stop rating movies.) \n",
      "\n",
      "Please rate the movie 1-5. If you have not seen the movie, type \"n\" to skip: \n",
      "\n",
      "['Harry Potter and the Goblet of Fire (2005)']\n",
      "Rating: \n",
      "5\n",
      "Saving rating to temporary memory...\n",
      "\n",
      "\n",
      "You need at least 5 reviews before we can make recommendations.\n",
      "\n",
      "(Type 'quit' to stop rating movies.) \n",
      "\n",
      "Please rate the movie 1-5. If you have not seen the movie, type \"n\" to skip: \n",
      "\n",
      "['Clockwork Orange, A (1971)']\n",
      "Rating: \n",
      "5\n",
      "Saving rating to temporary memory...\n",
      "\n",
      "\n",
      "You need at least 5 reviews before we can make recommendations.\n",
      "\n",
      "(Type 'quit' to stop rating movies.) \n",
      "\n",
      "Please rate the movie 1-5. If you have not seen the movie, type \"n\" to skip: \n",
      "\n",
      "['Total Recall (1990)']\n",
      "Rating: \n",
      "2\n",
      "Saving rating to temporary memory...\n",
      "\n",
      "\n",
      "You need at least 5 reviews before we can make recommendations.\n",
      "\n",
      "(Type 'quit' to stop rating movies.) \n",
      "\n",
      "Please rate the movie 1-5. If you have not seen the movie, type \"n\" to skip: \n",
      "\n",
      "['Speed (1994)']\n",
      "Rating: \n",
      "2\n",
      "Saving rating to temporary memory...\n",
      "\n",
      "\n",
      "You need at least 5 reviews before we can make recommendations.\n",
      "\n",
      "(Type 'quit' to stop rating movies.) \n",
      "\n",
      "Please rate the movie 1-5. If you have not seen the movie, type \"n\" to skip: \n",
      "\n",
      "['Ghostbusters (a.k.a. Ghost Busters) (1984)']\n",
      "Rating: \n",
      "4\n",
      "Saving rating to temporary memory...\n",
      "\n",
      "\n",
      "You need at least 5 reviews before we can make recommendations.\n",
      "\n",
      "(Type 'quit' to stop rating movies.) \n",
      "\n",
      "Please rate the movie 1-5. If you have not seen the movie, type \"n\" to skip: \n",
      "\n",
      "['South Park: Bigger, Longer and Uncut (1999)']\n",
      "Rating: \n",
      "2\n",
      "Saving rating to temporary memory...\n",
      "\n",
      "\n",
      "You need at least 5 reviews before we can make recommendations.\n",
      "\n",
      "(Type 'quit' to stop rating movies.) \n",
      "\n",
      "Please rate the movie 1-5. If you have not seen the movie, type \"n\" to skip: \n",
      "\n",
      "['First Knight (1995)']\n",
      "Rating: \n",
      "quit\n",
      "\n",
      "\n",
      "Thank you for ranking movies.\n",
      "Here are the results of your ranking session:\n",
      "                                         title  rating\n",
      "0                             Ring, The (2002)     4.0\n",
      "1   Harry Potter and the Goblet of Fire (2005)     5.0\n",
      "2                   Clockwork Orange, A (1971)     5.0\n",
      "3                          Total Recall (1990)     2.0\n",
      "4                                 Speed (1994)     2.0\n",
      "5   Ghostbusters (a.k.a. Ghost Busters) (1984)     4.0\n",
      "6  South Park: Bigger, Longer and Uncut (1999)     2.0\n",
      "\n",
      "Would you like to save these ratings to your profile? (yes/quit): yes\n",
      "\n",
      "Thank you. Your results have been saved to the main system!\n",
      "(Enter 'quit' at any time to end the program.)\n",
      "Would you like to retrieve your recommendations? (yes/no): yes\n",
      "Would you like recommendations from a specific genre? (yes/no): yes\n",
      "Compiling your recommendations...\n",
      "Please select from the following list:\n",
      "\t- romance \n",
      "\t- fantasy \n",
      "\t- mystery \n",
      "\t- children \n",
      "\t- war \n",
      "\t- comedy \n",
      "\t- documentary \n",
      "\t- film-noir \n",
      "\t- thriller \n",
      "\t- action \n",
      "\t- sci-fi \n",
      "\t- drama \n",
      "\t- horror \n",
      "\t- crime \n",
      "\t- imax \n",
      "\t- animation \n",
      "\t- adventure \n",
      "\t- musical \n",
      "\t- western\n",
      "Selection: comedy\n",
      "Searching through specified genre...\n",
      "How many recommendations would you like? (1-50): 10\n",
      "Processing request...\n",
      "                                                title  predicted rating\n",
      "2   Legend of Drunken Master, The (Jui kuen II) (1...          4.332533\n",
      "4                             Last Detail, The (1973)          4.315122\n",
      "8                                       Snatch (2000)          4.260409\n",
      "14  Swept Away (Travolti da un insolito destino ne...          4.223149\n",
      "20                       It Happened One Night (1934)          4.203173\n",
      "21                                          Go (1999)          4.202060\n",
      "26  Dr. Strangelove or: How I Learned to Stop Worr...          4.189503\n",
      "27                             His Girl Friday (1940)          4.187639\n",
      "30           Lock, Stock & Two Smoking Barrels (1998)          4.183062\n",
      "31                           Fantastic Mr. Fox (2009)          4.179986\n",
      "Would you like to retrieve your recommendations? (yes/no): yes\n",
      "Would you like recommendations from a specific genre? (yes/no): no\n",
      "Compiling your recommendations...\n",
      "How many recommendations would you like? (1-50): 10\n",
      "Processing request...\n",
      "                                                  title  predicted rating\n",
      "9611   Three Billboards Outside Ebbing, Missouri (2017)          4.502164\n",
      "277                    Shawshank Redemption, The (1994)          4.385147\n",
      "2958  Legend of Drunken Master, The (Jui kuen II) (1...          4.332533\n",
      "840                    Streetcar Named Desire, A (1951)          4.317891\n",
      "2405                            Last Detail, The (1973)          4.315122\n",
      "210                                  Hoop Dreams (1994)          4.295749\n",
      "4910                                    Dogville (2003)          4.286718\n",
      "27                                    Persuasion (1995)          4.265554\n",
      "2991                                      Snatch (2000)          4.260409\n",
      "2618                     Outlaw Josey Wales, The (1976)          4.257291\n",
      "Would you like to retrieve your recommendations? (yes/no): no\n",
      "Would you like to close the program? (yes/no): yes\n",
      "Thank you for using the recommendation system.\n",
      "Closing the program...\n"
     ]
    }
   ],
   "source": [
    "# new_user_df = functions.start_program(new_user_df, movies_df, model=final_model)"
   ]
  },
  {
   "cell_type": "code",
   "execution_count": 67,
   "metadata": {
    "ExecuteTime": {
     "end_time": "2023-01-26T19:36:57.639527Z",
     "start_time": "2023-01-26T19:36:57.625022Z"
    }
   },
   "outputs": [
    {
     "data": {
      "text/html": [
       "<div>\n",
       "<style scoped>\n",
       "    .dataframe tbody tr th:only-of-type {\n",
       "        vertical-align: middle;\n",
       "    }\n",
       "\n",
       "    .dataframe tbody tr th {\n",
       "        vertical-align: top;\n",
       "    }\n",
       "\n",
       "    .dataframe thead th {\n",
       "        text-align: right;\n",
       "    }\n",
       "</style>\n",
       "<table border=\"1\" class=\"dataframe\">\n",
       "  <thead>\n",
       "    <tr style=\"text-align: right;\">\n",
       "      <th></th>\n",
       "      <th>userId</th>\n",
       "      <th>movieId</th>\n",
       "      <th>rating</th>\n",
       "      <th>title</th>\n",
       "      <th>genres</th>\n",
       "      <th>split_genres</th>\n",
       "      <th>username</th>\n",
       "      <th>password</th>\n",
       "    </tr>\n",
       "  </thead>\n",
       "  <tbody>\n",
       "    <tr>\n",
       "      <th>100834</th>\n",
       "      <td>610.0</td>\n",
       "      <td>163937.0</td>\n",
       "      <td>3.5</td>\n",
       "      <td>Blair Witch (2016)</td>\n",
       "      <td>horror|thriller</td>\n",
       "      <td>[Horror, Thriller]</td>\n",
       "      <td>NaN</td>\n",
       "      <td>NaN</td>\n",
       "    </tr>\n",
       "    <tr>\n",
       "      <th>100835</th>\n",
       "      <td>610.0</td>\n",
       "      <td>163981.0</td>\n",
       "      <td>3.5</td>\n",
       "      <td>31 (2016)</td>\n",
       "      <td>horror</td>\n",
       "      <td>[Horror]</td>\n",
       "      <td>NaN</td>\n",
       "      <td>NaN</td>\n",
       "    </tr>\n",
       "    <tr>\n",
       "      <th>100836</th>\n",
       "      <td>611.0</td>\n",
       "      <td>1.0</td>\n",
       "      <td>5.0</td>\n",
       "      <td>Toy Story (1995)</td>\n",
       "      <td>Adventure|Animation|Children|Comedy|Fantasy</td>\n",
       "      <td>NaN</td>\n",
       "      <td>test_user</td>\n",
       "      <td>test_user</td>\n",
       "    </tr>\n",
       "    <tr>\n",
       "      <th>100837</th>\n",
       "      <td>612.0</td>\n",
       "      <td>5679.0</td>\n",
       "      <td>4.0</td>\n",
       "      <td>Ring, The (2002)</td>\n",
       "      <td>horror|mystery|thriller</td>\n",
       "      <td>NaN</td>\n",
       "      <td>test_user2</td>\n",
       "      <td>test_user2</td>\n",
       "    </tr>\n",
       "    <tr>\n",
       "      <th>100838</th>\n",
       "      <td>612.0</td>\n",
       "      <td>40815.0</td>\n",
       "      <td>5.0</td>\n",
       "      <td>Harry Potter and the Goblet of Fire (2005)</td>\n",
       "      <td>adventure|fantasy|thriller|imax</td>\n",
       "      <td>NaN</td>\n",
       "      <td>test_user2</td>\n",
       "      <td>test_user2</td>\n",
       "    </tr>\n",
       "    <tr>\n",
       "      <th>100839</th>\n",
       "      <td>612.0</td>\n",
       "      <td>1206.0</td>\n",
       "      <td>5.0</td>\n",
       "      <td>Clockwork Orange, A (1971)</td>\n",
       "      <td>crime|drama|sci-fi|thriller</td>\n",
       "      <td>NaN</td>\n",
       "      <td>test_user2</td>\n",
       "      <td>test_user2</td>\n",
       "    </tr>\n",
       "    <tr>\n",
       "      <th>100840</th>\n",
       "      <td>612.0</td>\n",
       "      <td>2916.0</td>\n",
       "      <td>2.0</td>\n",
       "      <td>Total Recall (1990)</td>\n",
       "      <td>action|adventure|sci-fi|thriller</td>\n",
       "      <td>NaN</td>\n",
       "      <td>test_user2</td>\n",
       "      <td>test_user2</td>\n",
       "    </tr>\n",
       "    <tr>\n",
       "      <th>100841</th>\n",
       "      <td>612.0</td>\n",
       "      <td>377.0</td>\n",
       "      <td>2.0</td>\n",
       "      <td>Speed (1994)</td>\n",
       "      <td>action|romance|thriller</td>\n",
       "      <td>NaN</td>\n",
       "      <td>test_user2</td>\n",
       "      <td>test_user2</td>\n",
       "    </tr>\n",
       "    <tr>\n",
       "      <th>100842</th>\n",
       "      <td>612.0</td>\n",
       "      <td>2716.0</td>\n",
       "      <td>4.0</td>\n",
       "      <td>Ghostbusters (a.k.a. Ghost Busters) (1984)</td>\n",
       "      <td>action|comedy|sci-fi</td>\n",
       "      <td>NaN</td>\n",
       "      <td>test_user2</td>\n",
       "      <td>test_user2</td>\n",
       "    </tr>\n",
       "    <tr>\n",
       "      <th>100843</th>\n",
       "      <td>612.0</td>\n",
       "      <td>2700.0</td>\n",
       "      <td>2.0</td>\n",
       "      <td>South Park: Bigger, Longer and Uncut (1999)</td>\n",
       "      <td>animation|comedy|musical</td>\n",
       "      <td>NaN</td>\n",
       "      <td>test_user2</td>\n",
       "      <td>test_user2</td>\n",
       "    </tr>\n",
       "  </tbody>\n",
       "</table>\n",
       "</div>"
      ],
      "text/plain": [
       "        userId   movieId  rating                                        title  \\\n",
       "100834   610.0  163937.0     3.5                           Blair Witch (2016)   \n",
       "100835   610.0  163981.0     3.5                                    31 (2016)   \n",
       "100836   611.0       1.0     5.0                             Toy Story (1995)   \n",
       "100837   612.0    5679.0     4.0                             Ring, The (2002)   \n",
       "100838   612.0   40815.0     5.0   Harry Potter and the Goblet of Fire (2005)   \n",
       "100839   612.0    1206.0     5.0                   Clockwork Orange, A (1971)   \n",
       "100840   612.0    2916.0     2.0                          Total Recall (1990)   \n",
       "100841   612.0     377.0     2.0                                 Speed (1994)   \n",
       "100842   612.0    2716.0     4.0   Ghostbusters (a.k.a. Ghost Busters) (1984)   \n",
       "100843   612.0    2700.0     2.0  South Park: Bigger, Longer and Uncut (1999)   \n",
       "\n",
       "                                             genres        split_genres  \\\n",
       "100834                              horror|thriller  [Horror, Thriller]   \n",
       "100835                                       horror            [Horror]   \n",
       "100836  Adventure|Animation|Children|Comedy|Fantasy                 NaN   \n",
       "100837                      horror|mystery|thriller                 NaN   \n",
       "100838              adventure|fantasy|thriller|imax                 NaN   \n",
       "100839                  crime|drama|sci-fi|thriller                 NaN   \n",
       "100840             action|adventure|sci-fi|thriller                 NaN   \n",
       "100841                      action|romance|thriller                 NaN   \n",
       "100842                         action|comedy|sci-fi                 NaN   \n",
       "100843                     animation|comedy|musical                 NaN   \n",
       "\n",
       "          username    password  \n",
       "100834         NaN         NaN  \n",
       "100835         NaN         NaN  \n",
       "100836   test_user   test_user  \n",
       "100837  test_user2  test_user2  \n",
       "100838  test_user2  test_user2  \n",
       "100839  test_user2  test_user2  \n",
       "100840  test_user2  test_user2  \n",
       "100841  test_user2  test_user2  \n",
       "100842  test_user2  test_user2  \n",
       "100843  test_user2  test_user2  "
      ]
     },
     "execution_count": 67,
     "metadata": {},
     "output_type": "execute_result"
    }
   ],
   "source": [
    "new_user_df.tail(10)"
   ]
  },
  {
   "cell_type": "markdown",
   "metadata": {},
   "source": [
    "# Deployment Proof of Concept"
   ]
  },
  {
   "cell_type": "markdown",
   "metadata": {},
   "source": [
    "As part of this project, we have began creating a deployable app utilizing Gradio. The app is not finished but has some functionality below as a proof of concept."
   ]
  },
  {
   "cell_type": "code",
   "execution_count": 53,
   "metadata": {
    "ExecuteTime": {
     "end_time": "2023-01-26T20:14:22.197984Z",
     "start_time": "2023-01-26T20:14:21.268954Z"
    }
   },
   "outputs": [],
   "source": [
    "test_predicted = functions.test_predict(user = 2, dataframe = new_user_df, movies_df=movies_df, model=final_model)"
   ]
  },
  {
   "cell_type": "code",
   "execution_count": 54,
   "metadata": {
    "ExecuteTime": {
     "end_time": "2023-01-26T20:15:15.095354Z",
     "start_time": "2023-01-26T20:15:15.076341Z"
    }
   },
   "outputs": [
    {
     "data": {
      "text/html": [
       "<div>\n",
       "<style scoped>\n",
       "    .dataframe tbody tr th:only-of-type {\n",
       "        vertical-align: middle;\n",
       "    }\n",
       "\n",
       "    .dataframe tbody tr th {\n",
       "        vertical-align: top;\n",
       "    }\n",
       "\n",
       "    .dataframe thead th {\n",
       "        text-align: right;\n",
       "    }\n",
       "</style>\n",
       "<table border=\"1\" class=\"dataframe\">\n",
       "  <thead>\n",
       "    <tr style=\"text-align: right;\">\n",
       "      <th></th>\n",
       "      <th>title</th>\n",
       "      <th>prediction</th>\n",
       "      <th>genres</th>\n",
       "      <th>split_genres</th>\n",
       "    </tr>\n",
       "  </thead>\n",
       "  <tbody>\n",
       "    <tr>\n",
       "      <th>8292</th>\n",
       "      <td>Day of the Doctor, The (2013)</td>\n",
       "      <td>4.765310</td>\n",
       "      <td>adventure|drama|sci-fi</td>\n",
       "      <td>[Adventure, Drama, Sci-Fi]</td>\n",
       "    </tr>\n",
       "    <tr>\n",
       "      <th>879</th>\n",
       "      <td>Cinema Paradiso (Nuovo cinema Paradiso) (1989)</td>\n",
       "      <td>4.749518</td>\n",
       "      <td>drama</td>\n",
       "      <td>[Drama]</td>\n",
       "    </tr>\n",
       "    <tr>\n",
       "      <th>2965</th>\n",
       "      <td>Legend of Drunken Master, The (Jui kuen II) (1...</td>\n",
       "      <td>4.745295</td>\n",
       "      <td>action|comedy</td>\n",
       "      <td>[Action, Comedy]</td>\n",
       "    </tr>\n",
       "    <tr>\n",
       "      <th>7077</th>\n",
       "      <td>(500) Days of Summer (2009)</td>\n",
       "      <td>4.735017</td>\n",
       "      <td>comedy|drama|romance</td>\n",
       "      <td>[Comedy, Drama, Romance]</td>\n",
       "    </tr>\n",
       "    <tr>\n",
       "      <th>9599</th>\n",
       "      <td>Three Billboards Outside Ebbing, Missouri (2017)</td>\n",
       "      <td>4.653970</td>\n",
       "      <td>crime|drama</td>\n",
       "      <td>[Crime, Drama]</td>\n",
       "    </tr>\n",
       "    <tr>\n",
       "      <th>...</th>\n",
       "      <td>...</td>\n",
       "      <td>...</td>\n",
       "      <td>...</td>\n",
       "      <td>...</td>\n",
       "    </tr>\n",
       "    <tr>\n",
       "      <th>617</th>\n",
       "      <td>Cable Guy, The (1996)</td>\n",
       "      <td>2.470208</td>\n",
       "      <td>comedy|thriller</td>\n",
       "      <td>[Comedy, Thriller]</td>\n",
       "    </tr>\n",
       "    <tr>\n",
       "      <th>163</th>\n",
       "      <td>Showgirls (1995)</td>\n",
       "      <td>2.435438</td>\n",
       "      <td>drama</td>\n",
       "      <td>[Drama]</td>\n",
       "    </tr>\n",
       "    <tr>\n",
       "      <th>1607</th>\n",
       "      <td>House II: The Second Story (1987)</td>\n",
       "      <td>2.405510</td>\n",
       "      <td>comedy|fantasy|horror</td>\n",
       "      <td>[Comedy, Fantasy, Horror]</td>\n",
       "    </tr>\n",
       "    <tr>\n",
       "      <th>5388</th>\n",
       "      <td>Alexander (2004)</td>\n",
       "      <td>2.401554</td>\n",
       "      <td>action|adventure|drama|war</td>\n",
       "      <td>[Action, Adventure, Drama, War]</td>\n",
       "    </tr>\n",
       "    <tr>\n",
       "      <th>1312</th>\n",
       "      <td>Spice World (1997)</td>\n",
       "      <td>2.299867</td>\n",
       "      <td>comedy</td>\n",
       "      <td>[Comedy]</td>\n",
       "    </tr>\n",
       "  </tbody>\n",
       "</table>\n",
       "<p>9723 rows × 4 columns</p>\n",
       "</div>"
      ],
      "text/plain": [
       "                                                  title  prediction  \\\n",
       "8292                      Day of the Doctor, The (2013)    4.765310   \n",
       "879      Cinema Paradiso (Nuovo cinema Paradiso) (1989)    4.749518   \n",
       "2965  Legend of Drunken Master, The (Jui kuen II) (1...    4.745295   \n",
       "7077                        (500) Days of Summer (2009)    4.735017   \n",
       "9599   Three Billboards Outside Ebbing, Missouri (2017)    4.653970   \n",
       "...                                                 ...         ...   \n",
       "617                               Cable Guy, The (1996)    2.470208   \n",
       "163                                    Showgirls (1995)    2.435438   \n",
       "1607                  House II: The Second Story (1987)    2.405510   \n",
       "5388                                   Alexander (2004)    2.401554   \n",
       "1312                                 Spice World (1997)    2.299867   \n",
       "\n",
       "                          genres                     split_genres  \n",
       "8292      adventure|drama|sci-fi       [Adventure, Drama, Sci-Fi]  \n",
       "879                        drama                          [Drama]  \n",
       "2965               action|comedy                 [Action, Comedy]  \n",
       "7077        comedy|drama|romance         [Comedy, Drama, Romance]  \n",
       "9599                 crime|drama                   [Crime, Drama]  \n",
       "...                          ...                              ...  \n",
       "617              comedy|thriller               [Comedy, Thriller]  \n",
       "163                        drama                          [Drama]  \n",
       "1607       comedy|fantasy|horror        [Comedy, Fantasy, Horror]  \n",
       "5388  action|adventure|drama|war  [Action, Adventure, Drama, War]  \n",
       "1312                      comedy                         [Comedy]  \n",
       "\n",
       "[9723 rows x 4 columns]"
      ]
     },
     "execution_count": 54,
     "metadata": {},
     "output_type": "execute_result"
    }
   ],
   "source": [
    "test_predicted"
   ]
  },
  {
   "cell_type": "code",
   "execution_count": 56,
   "metadata": {
    "ExecuteTime": {
     "end_time": "2023-01-26T20:27:48.807889Z",
     "start_time": "2023-01-26T20:27:48.802890Z"
    }
   },
   "outputs": [],
   "source": [
    "# # this model will work in .py but not with Gradio\n",
    "# def movie_recommendation(rating=None, genre=None, choice=None, final_predictions =None):\n",
    "\n",
    "#     # slicing dataframe to include only movies with a given rating or above\n",
    "#     app_output = final_predictions[final_predictions['prediction'] > rating]\n",
    "#     #filtering dataframe to only include selected genre\n",
    "#     app_output = app_output[app_output['genres'].str.contains(genre.lower())]\n",
    "#     # Selecting only the two relevant columns\n",
    "#     app_output = app_output[['title', 'prediction']]\n",
    "#     #renaming columns for output\n",
    "#     app_output.rename(columns={'prediction':'Predicted Rating', 'title': 'Title'}, inplace=True)\n",
    "    \n",
    "#     # creating slices for number of movies to output\n",
    "#     top_5 = top_slice(0, 5, app_output)\n",
    "#     top_10 = top_slice(0, 10, app_output)\n",
    "#     top_20 = top_slice(0, 20, app_output)\n",
    "#     second_10 = top_slice(10, 20, app_output)\n",
    "#     bottom_5 = top_slice(-5, None, app_output)\n",
    "#     bottom_10 = top_slice(-10, None, app_output)\n",
    "    \n",
    "#     # Storing slices in dictionary\n",
    "#     choice_dict = {'Top 5':top_5, 'Top 10':top_10, 'Top 20':top_20, 'Second 10': second_10, 'Bottom 5': bottom_5, 'Bottom 10':bottom_10}\n",
    "\n",
    "#     return choice_dict[choice]"
   ]
  },
  {
   "cell_type": "code",
   "execution_count": 57,
   "metadata": {
    "ExecuteTime": {
     "end_time": "2023-01-26T20:27:49.546416Z",
     "start_time": "2023-01-26T20:27:49.530891Z"
    }
   },
   "outputs": [
    {
     "data": {
      "text/html": [
       "<div>\n",
       "<style scoped>\n",
       "    .dataframe tbody tr th:only-of-type {\n",
       "        vertical-align: middle;\n",
       "    }\n",
       "\n",
       "    .dataframe tbody tr th {\n",
       "        vertical-align: top;\n",
       "    }\n",
       "\n",
       "    .dataframe thead th {\n",
       "        text-align: right;\n",
       "    }\n",
       "</style>\n",
       "<table border=\"1\" class=\"dataframe\">\n",
       "  <thead>\n",
       "    <tr style=\"text-align: right;\">\n",
       "      <th></th>\n",
       "      <th>Title</th>\n",
       "      <th>Predicted Rating</th>\n",
       "    </tr>\n",
       "  </thead>\n",
       "  <tbody>\n",
       "    <tr>\n",
       "      <th>7077</th>\n",
       "      <td>(500) Days of Summer (2009)</td>\n",
       "      <td>4.735017</td>\n",
       "    </tr>\n",
       "    <tr>\n",
       "      <th>7616</th>\n",
       "      <td>Submarine (2010)</td>\n",
       "      <td>4.562847</td>\n",
       "    </tr>\n",
       "    <tr>\n",
       "      <th>27</th>\n",
       "      <td>Persuasion (1995)</td>\n",
       "      <td>4.559096</td>\n",
       "    </tr>\n",
       "    <tr>\n",
       "      <th>7253</th>\n",
       "      <td>Anne of Green Gables: The Sequel (a.k.a. Anne ...</td>\n",
       "      <td>4.411240</td>\n",
       "    </tr>\n",
       "    <tr>\n",
       "      <th>688</th>\n",
       "      <td>It Happened One Night (1934)</td>\n",
       "      <td>4.410914</td>\n",
       "    </tr>\n",
       "  </tbody>\n",
       "</table>\n",
       "</div>"
      ],
      "text/plain": [
       "                                                  Title  Predicted Rating\n",
       "7077                        (500) Days of Summer (2009)          4.735017\n",
       "7616                                   Submarine (2010)          4.562847\n",
       "27                                    Persuasion (1995)          4.559096\n",
       "7253  Anne of Green Gables: The Sequel (a.k.a. Anne ...          4.411240\n",
       "688                        It Happened One Night (1934)          4.410914"
      ]
     },
     "execution_count": 57,
     "metadata": {},
     "output_type": "execute_result"
    }
   ],
   "source": [
    "movie_recommendation(4, 'romance', 'Top 5', test_predicted)"
   ]
  },
  {
   "cell_type": "code",
   "execution_count": 58,
   "metadata": {},
   "outputs": [],
   "source": [
    "final_predictions = test_predicted.copy()\n",
    "\n",
    "def movie_recommendation(rating, genre, choice):\n",
    "\n",
    "    # slicing dataframe to include only movies with a given rating or above\n",
    "    final_predictions = (test_predicted.copy())\n",
    "    app_output = final_predictions[final_predictions['prediction'] > rating]\n",
    "    #filtering dataframe to only include selected genre\n",
    "    app_output = app_output[app_output['genres'].str.contains(genre.lower())]\n",
    "    # Selecting only the two relevant columns\n",
    "    app_output = app_output[['title', 'prediction']]\n",
    "    #renaming columns for output\n",
    "    app_output.rename(columns={'prediction':'Predicted Rating', 'title': 'Title'}, inplace=True)\n",
    "    \n",
    "    # creating slices for number of movies to output\n",
    "    top_5 = functions.top_slice(0, 5, app_output)\n",
    "    top_10 = functions.top_slice(0, 10, app_output)\n",
    "    top_20 = functions.top_slice(0, 20, app_output)\n",
    "    second_10 = functions.top_slice(10, 20, app_output)\n",
    "    bottom_5 = functions.top_slice(-5, None, app_output)\n",
    "    bottom_10 = functions.top_slice(-10, None, app_output)\n",
    "    \n",
    "    # Storing slices in dictionary\n",
    "    choice_dict = {'Top 5':top_5, 'Top 10':top_10, 'Top 20':top_20, 'Second 10': second_10, 'Bottom 5': bottom_5, 'Bottom 10':bottom_10}\n",
    "\n",
    "    return choice_dict[choice]"
   ]
  },
  {
   "cell_type": "code",
   "execution_count": 64,
   "metadata": {
    "ExecuteTime": {
     "end_time": "2023-01-26T20:27:52.371008Z",
     "start_time": "2023-01-26T20:27:52.353973Z"
    }
   },
   "outputs": [],
   "source": [
    "genre_list = []\n",
    "for i in movies_df['split_genres']:\n",
    "    for x in i:\n",
    "        if x != '(No Genres Listed)':\n",
    "            genre_list.append(x)\n",
    "        \n",
    "        \n",
    "genre_list = list(set(genre_list))"
   ]
  },
  {
   "cell_type": "code",
   "execution_count": 70,
   "metadata": {
    "ExecuteTime": {
     "end_time": "2023-01-26T20:30:08.821385Z",
     "start_time": "2023-01-26T20:30:08.800838Z"
    }
   },
   "outputs": [],
   "source": [
    "# Gradio\n",
    "choice_list = ['Top 5', 'Top 10', 'Top 20', 'Second 10', 'Bottom 5', 'Bottom 10']\n",
    "rating = gr.components.Slider(1, 5, step=1, label='Movies with ratings higher than:')\n",
    "genre = gr.inputs.Dropdown(genre_list, label='Pick a movie genre:')\n",
    "choice = gr.inputs.Radio(choice_list, label='Choose the recommended movies list:')\n",
    "outputs = gr.Dataframe(headers=[\"Title\", \"Predicted Rating\"])\n",
    "\n",
    "\n",
    "demo =gr.Interface(fn= movie_recommendation,\n",
    "             inputs=[rating, genre, choice],\n",
    "             outputs=outputs,\n",
    "             description='What movie recommendations would you like today?',\n",
    "             title= \"Movie Recommendations\")"
   ]
  },
  {
   "cell_type": "code",
   "execution_count": 71,
   "metadata": {},
   "outputs": [
    {
     "name": "stdout",
     "output_type": "stream",
     "text": [
      "Running on local URL:  http://127.0.0.1:7861\n",
      "\n",
      "To create a public link, set `share=True` in `launch()`.\n"
     ]
    },
    {
     "data": {
      "text/html": [
       "<div><iframe src=\"http://127.0.0.1:7861/\" width=\"100%\" height=\"500\" allow=\"autoplay; camera; microphone; clipboard-read; clipboard-write;\" frameborder=\"0\" allowfullscreen></iframe></div>"
      ],
      "text/plain": [
       "<IPython.core.display.HTML object>"
      ]
     },
     "metadata": {},
     "output_type": "display_data"
    },
    {
     "data": {
      "text/plain": []
     },
     "execution_count": 71,
     "metadata": {},
     "output_type": "execute_result"
    }
   ],
   "source": [
    "demo.launch()"
   ]
  },
  {
   "cell_type": "markdown",
   "metadata": {},
   "source": [
    "# Results/Conclusions"
   ]
  },
  {
   "cell_type": "markdown",
   "metadata": {},
   "source": [
    "Our final model operates with a cross-validated mean absolute of error of .705 and a Root Mean Squared Error of .920.\n",
    "\n",
    "\n",
    "This means we have an average difference between the predicted ratings and the actual ratings of .705 of 1 point on a scale of .5 to 5. It makes this prediction in about 4 seconds."
   ]
  },
  {
   "cell_type": "markdown",
   "metadata": {},
   "source": [
    "## Further Exploration/Questions"
   ]
  },
  {
   "cell_type": "markdown",
   "metadata": {},
   "source": [
    "### More Data\n",
    "We would like to get more data in order to update and retrain the recommender system. More data likely means more accurate predictions. \n",
    "\n",
    "In addition, we have data in the form of movies tags that we were not able to incorporate into this model. Given more time, we would like to utilize user feedback in the form of tags."
   ]
  },
  {
   "cell_type": "markdown",
   "metadata": {},
   "source": [
    "### Algorithms\n",
    "Given more time we'd like to utilize GridSearch on different algorithms for this model. We started by picking the best algorithm from untuned results, though further tuning of other prediction algorithms has the potential of outperforming the model we have selected."
   ]
  },
  {
   "cell_type": "markdown",
   "metadata": {},
   "source": [
    "### User Feedback\n",
    "It would be nice to include a way to incorporate user feedback on recommendations as part of the deployed app. This could help to gather more data and to make our model more accurate.\n",
    "\n",
    "Allowing users to rate movies that they watch after our recommendation would be an additional performance check for the validity of the model."
   ]
  },
  {
   "cell_type": "markdown",
   "metadata": {},
   "source": [
    "### Deployment"
   ]
  },
  {
   "cell_type": "markdown",
   "metadata": {},
   "source": [
    "We would like to be able to deploy the app to the public if given more time and resources to host our model in the cloud."
   ]
  },
  {
   "cell_type": "code",
   "execution_count": null,
   "metadata": {},
   "outputs": [],
   "source": []
  }
 ],
 "metadata": {
  "kernelspec": {
   "display_name": "learn-env",
   "language": "python",
   "name": "learn-env"
  },
  "language_info": {
   "codemirror_mode": {
    "name": "ipython",
    "version": 3
   },
   "file_extension": ".py",
   "mimetype": "text/x-python",
   "name": "python",
   "nbconvert_exporter": "python",
   "pygments_lexer": "ipython3",
   "version": "3.8.5"
  },
  "toc": {
   "base_numbering": 1,
   "nav_menu": {},
   "number_sections": true,
   "sideBar": false,
   "skip_h1_title": false,
   "title_cell": "Table of Contents",
   "title_sidebar": "Contents",
   "toc_cell": true,
   "toc_position": {},
   "toc_section_display": true,
   "toc_window_display": false
  },
  "varInspector": {
   "cols": {
    "lenName": 16,
    "lenType": 16,
    "lenVar": 40
   },
   "kernels_config": {
    "python": {
     "delete_cmd_postfix": "",
     "delete_cmd_prefix": "del ",
     "library": "var_list.py",
     "varRefreshCmd": "print(var_dic_list())"
    },
    "r": {
     "delete_cmd_postfix": ") ",
     "delete_cmd_prefix": "rm(",
     "library": "var_list.r",
     "varRefreshCmd": "cat(var_dic_list()) "
    }
   },
   "types_to_exclude": [
    "module",
    "function",
    "builtin_function_or_method",
    "instance",
    "_Feature"
   ],
   "window_display": false
  }
 },
 "nbformat": 4,
 "nbformat_minor": 4
}
