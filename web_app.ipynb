{
  "cells": [
    {
      "cell_type": "markdown",
      "metadata": {
        "id": "view-in-github",
        "colab_type": "text"
      },
      "source": [
        "<a href=\"https://colab.research.google.com/github/fetterollie/rec-systems-project/blob/main/web_app.ipynb\" target=\"_parent\"><img src=\"https://colab.research.google.com/assets/colab-badge.svg\" alt=\"Open In Colab\"/></a>"
      ]
    },
    {
      "cell_type": "markdown",
      "metadata": {
        "id": "wV75OTzSNOeL"
      },
      "source": [
        "# Creat web app on Gradio"
      ]
    },
    {
      "cell_type": "markdown",
      "metadata": {
        "id": "ZjxMW1ESNVZz"
      },
      "source": [
        "## install, import and mount"
      ]
    },
    {
      "cell_type": "code",
      "execution_count": 1,
      "metadata": {
        "id": "_kvlV0GipdEX",
        "colab": {
          "base_uri": "https://localhost:8080/"
        },
        "outputId": "b50d8e51-7f88-4418-96a1-db09acbffc5e"
      },
      "outputs": [
        {
          "output_type": "stream",
          "name": "stdout",
          "text": [
            "Looking in indexes: https://pypi.org/simple, https://us-python.pkg.dev/colab-wheels/public/simple/\n",
            "Requirement already satisfied: gradio in /usr/local/lib/python3.8/dist-packages (3.16.2)\n",
            "Requirement already satisfied: ffmpy in /usr/local/lib/python3.8/dist-packages (from gradio) (0.3.0)\n",
            "Requirement already satisfied: pydub in /usr/local/lib/python3.8/dist-packages (from gradio) (0.25.1)\n",
            "Requirement already satisfied: pydantic in /usr/local/lib/python3.8/dist-packages (from gradio) (1.10.4)\n",
            "Requirement already satisfied: numpy in /usr/local/lib/python3.8/dist-packages (from gradio) (1.21.6)\n",
            "Requirement already satisfied: pyyaml in /usr/local/lib/python3.8/dist-packages (from gradio) (6.0)\n",
            "Requirement already satisfied: fsspec in /usr/local/lib/python3.8/dist-packages (from gradio) (2022.11.0)\n",
            "Requirement already satisfied: orjson in /usr/local/lib/python3.8/dist-packages (from gradio) (3.8.5)\n",
            "Requirement already satisfied: matplotlib in /usr/local/lib/python3.8/dist-packages (from gradio) (3.2.2)\n",
            "Requirement already satisfied: pandas in /usr/local/lib/python3.8/dist-packages (from gradio) (1.3.5)\n",
            "Requirement already satisfied: aiohttp in /usr/local/lib/python3.8/dist-packages (from gradio) (3.8.3)\n",
            "Requirement already satisfied: markdown-it-py[linkify,plugins] in /usr/local/lib/python3.8/dist-packages (from gradio) (2.1.0)\n",
            "Requirement already satisfied: fastapi in /usr/local/lib/python3.8/dist-packages (from gradio) (0.89.1)\n",
            "Requirement already satisfied: markupsafe in /usr/local/lib/python3.8/dist-packages (from gradio) (2.0.1)\n",
            "Requirement already satisfied: pycryptodome in /usr/local/lib/python3.8/dist-packages (from gradio) (3.16.0)\n",
            "Requirement already satisfied: pillow in /usr/local/lib/python3.8/dist-packages (from gradio) (7.1.2)\n",
            "Requirement already satisfied: altair>=4.2.0 in /usr/local/lib/python3.8/dist-packages (from gradio) (4.2.0)\n",
            "Requirement already satisfied: websockets>=10.0 in /usr/local/lib/python3.8/dist-packages (from gradio) (10.4)\n",
            "Requirement already satisfied: uvicorn in /usr/local/lib/python3.8/dist-packages (from gradio) (0.20.0)\n",
            "Requirement already satisfied: httpx in /usr/local/lib/python3.8/dist-packages (from gradio) (0.23.3)\n",
            "Requirement already satisfied: typing-extensions in /usr/local/lib/python3.8/dist-packages (from gradio) (4.4.0)\n",
            "Requirement already satisfied: python-multipart in /usr/local/lib/python3.8/dist-packages (from gradio) (0.0.5)\n",
            "Requirement already satisfied: aiofiles in /usr/local/lib/python3.8/dist-packages (from gradio) (22.1.0)\n",
            "Requirement already satisfied: requests in /usr/local/lib/python3.8/dist-packages (from gradio) (2.25.1)\n",
            "Requirement already satisfied: jinja2 in /usr/local/lib/python3.8/dist-packages (from gradio) (2.11.3)\n",
            "Requirement already satisfied: jsonschema>=3.0 in /usr/local/lib/python3.8/dist-packages (from altair>=4.2.0->gradio) (4.3.3)\n",
            "Requirement already satisfied: toolz in /usr/local/lib/python3.8/dist-packages (from altair>=4.2.0->gradio) (0.12.0)\n",
            "Requirement already satisfied: entrypoints in /usr/local/lib/python3.8/dist-packages (from altair>=4.2.0->gradio) (0.4)\n",
            "Requirement already satisfied: pytz>=2017.3 in /usr/local/lib/python3.8/dist-packages (from pandas->gradio) (2022.7)\n",
            "Requirement already satisfied: python-dateutil>=2.7.3 in /usr/local/lib/python3.8/dist-packages (from pandas->gradio) (2.8.2)\n",
            "Requirement already satisfied: frozenlist>=1.1.1 in /usr/local/lib/python3.8/dist-packages (from aiohttp->gradio) (1.3.3)\n",
            "Requirement already satisfied: charset-normalizer<3.0,>=2.0 in /usr/local/lib/python3.8/dist-packages (from aiohttp->gradio) (2.1.1)\n",
            "Requirement already satisfied: attrs>=17.3.0 in /usr/local/lib/python3.8/dist-packages (from aiohttp->gradio) (22.2.0)\n",
            "Requirement already satisfied: aiosignal>=1.1.2 in /usr/local/lib/python3.8/dist-packages (from aiohttp->gradio) (1.3.1)\n",
            "Requirement already satisfied: yarl<2.0,>=1.0 in /usr/local/lib/python3.8/dist-packages (from aiohttp->gradio) (1.8.2)\n",
            "Requirement already satisfied: async-timeout<5.0,>=4.0.0a3 in /usr/local/lib/python3.8/dist-packages (from aiohttp->gradio) (4.0.2)\n",
            "Requirement already satisfied: multidict<7.0,>=4.5 in /usr/local/lib/python3.8/dist-packages (from aiohttp->gradio) (6.0.4)\n",
            "Requirement already satisfied: starlette==0.22.0 in /usr/local/lib/python3.8/dist-packages (from fastapi->gradio) (0.22.0)\n",
            "Requirement already satisfied: anyio<5,>=3.4.0 in /usr/local/lib/python3.8/dist-packages (from starlette==0.22.0->fastapi->gradio) (3.6.2)\n",
            "Requirement already satisfied: rfc3986[idna2008]<2,>=1.3 in /usr/local/lib/python3.8/dist-packages (from httpx->gradio) (1.5.0)\n",
            "Requirement already satisfied: sniffio in /usr/local/lib/python3.8/dist-packages (from httpx->gradio) (1.3.0)\n",
            "Requirement already satisfied: certifi in /usr/local/lib/python3.8/dist-packages (from httpx->gradio) (2022.12.7)\n",
            "Requirement already satisfied: httpcore<0.17.0,>=0.15.0 in /usr/local/lib/python3.8/dist-packages (from httpx->gradio) (0.16.3)\n",
            "Requirement already satisfied: mdurl~=0.1 in /usr/local/lib/python3.8/dist-packages (from markdown-it-py[linkify,plugins]->gradio) (0.1.2)\n",
            "Requirement already satisfied: linkify-it-py~=1.0 in /usr/local/lib/python3.8/dist-packages (from markdown-it-py[linkify,plugins]->gradio) (1.0.3)\n",
            "Requirement already satisfied: mdit-py-plugins in /usr/local/lib/python3.8/dist-packages (from markdown-it-py[linkify,plugins]->gradio) (0.3.3)\n",
            "Requirement already satisfied: cycler>=0.10 in /usr/local/lib/python3.8/dist-packages (from matplotlib->gradio) (0.11.0)\n",
            "Requirement already satisfied: kiwisolver>=1.0.1 in /usr/local/lib/python3.8/dist-packages (from matplotlib->gradio) (1.4.4)\n",
            "Requirement already satisfied: pyparsing!=2.0.4,!=2.1.2,!=2.1.6,>=2.0.1 in /usr/local/lib/python3.8/dist-packages (from matplotlib->gradio) (3.0.9)\n",
            "Requirement already satisfied: six>=1.4.0 in /usr/local/lib/python3.8/dist-packages (from python-multipart->gradio) (1.15.0)\n",
            "Requirement already satisfied: urllib3<1.27,>=1.21.1 in /usr/local/lib/python3.8/dist-packages (from requests->gradio) (1.24.3)\n",
            "Requirement already satisfied: idna<3,>=2.5 in /usr/local/lib/python3.8/dist-packages (from requests->gradio) (2.10)\n",
            "Requirement already satisfied: chardet<5,>=3.0.2 in /usr/local/lib/python3.8/dist-packages (from requests->gradio) (4.0.0)\n",
            "Requirement already satisfied: click>=7.0 in /usr/local/lib/python3.8/dist-packages (from uvicorn->gradio) (7.1.2)\n",
            "Requirement already satisfied: h11>=0.8 in /usr/local/lib/python3.8/dist-packages (from uvicorn->gradio) (0.14.0)\n",
            "Requirement already satisfied: importlib-resources>=1.4.0 in /usr/local/lib/python3.8/dist-packages (from jsonschema>=3.0->altair>=4.2.0->gradio) (5.10.2)\n",
            "Requirement already satisfied: pyrsistent!=0.17.0,!=0.17.1,!=0.17.2,>=0.14.0 in /usr/local/lib/python3.8/dist-packages (from jsonschema>=3.0->altair>=4.2.0->gradio) (0.19.3)\n",
            "Requirement already satisfied: uc-micro-py in /usr/local/lib/python3.8/dist-packages (from linkify-it-py~=1.0->markdown-it-py[linkify,plugins]->gradio) (1.0.1)\n",
            "Requirement already satisfied: zipp>=3.1.0 in /usr/local/lib/python3.8/dist-packages (from importlib-resources>=1.4.0->jsonschema>=3.0->altair>=4.2.0->gradio) (3.11.0)\n",
            "Drive already mounted at /content/gdrive; to attempt to forcibly remount, call drive.mount(\"/content/gdrive\", force_remount=True).\n"
          ]
        }
      ],
      "source": [
        "!pip install gradio\n",
        "import gradio as gr\n",
        "import pandas as pd\n",
        "from collections import namedtuple\n",
        "\n",
        "# Mount google drive\n",
        "from google.colab import drive\n",
        "drive.mount('/content/gdrive')"
      ]
    },
    {
      "cell_type": "markdown",
      "metadata": {
        "id": "9U_yb6gJN6Uq"
      },
      "source": [
        "# Get the saved dataframe for userid = 2"
      ]
    },
    {
      "cell_type": "code",
      "execution_count": 2,
      "metadata": {
        "id": "OuAWE2Ncm_vy",
        "colab": {
          "base_uri": "https://localhost:8080/",
          "height": 363
        },
        "outputId": "1c6fa165-5a8c-481f-daec-82b67b7688c3"
      },
      "outputs": [
        {
          "output_type": "execute_result",
          "data": {
            "text/plain": [
              "   Unnamed: 0                                              title  prediction  \\\n",
              "0         899  Star Wars: Episode V - The Empire Strikes Back...    4.411833   \n",
              "1        2229                                  Fight Club (1999)    4.386436   \n",
              "2         600  Dr. Strangelove or: How I Learned to Stop Worr...    4.383926   \n",
              "3         907                          Lawrence of Arabia (1962)    4.363100   \n",
              "4         660                              Godfather, The (1972)    4.349665   \n",
              "5         695                                  Casablanca (1942)    4.341353   \n",
              "6         900                         Princess Bride, The (1987)    4.324890   \n",
              "7          46                         Usual Suspects, The (1995)    4.321951   \n",
              "8         910                              Apocalypse Now (1979)    4.315185   \n",
              "9         224          Star Wars: Episode IV - A New Hope (1977)    4.313092   \n",
              "\n",
              "                                    genres  \\\n",
              "0                  action|adventure|sci-fi   \n",
              "1              action|crime|drama|thriller   \n",
              "2                               comedy|war   \n",
              "3                      adventure|drama|war   \n",
              "4                              crime|drama   \n",
              "5                            drama|romance   \n",
              "6  action|adventure|comedy|fantasy|romance   \n",
              "7                   crime|mystery|thriller   \n",
              "8                         action|drama|war   \n",
              "9                  action|adventure|sci-fi   \n",
              "\n",
              "                                        split_genres  \n",
              "0                  ['action', 'adventure', 'sci-fi']  \n",
              "1           ['action', 'crime', 'drama', 'thriller']  \n",
              "2                                  ['comedy', 'war']  \n",
              "3                      ['adventure', 'drama', 'war']  \n",
              "4                                 ['crime', 'drama']  \n",
              "5                               ['drama', 'romance']  \n",
              "6  ['action', 'adventure', 'comedy', 'fantasy', '...  \n",
              "7                   ['crime', 'mystery', 'thriller']  \n",
              "8                         ['action', 'drama', 'war']  \n",
              "9                  ['action', 'adventure', 'sci-fi']  "
            ],
            "text/html": [
              "\n",
              "  <div id=\"df-b5aa58b5-2b6f-45ec-ae47-8cc14312b7a4\">\n",
              "    <div class=\"colab-df-container\">\n",
              "      <div>\n",
              "<style scoped>\n",
              "    .dataframe tbody tr th:only-of-type {\n",
              "        vertical-align: middle;\n",
              "    }\n",
              "\n",
              "    .dataframe tbody tr th {\n",
              "        vertical-align: top;\n",
              "    }\n",
              "\n",
              "    .dataframe thead th {\n",
              "        text-align: right;\n",
              "    }\n",
              "</style>\n",
              "<table border=\"1\" class=\"dataframe\">\n",
              "  <thead>\n",
              "    <tr style=\"text-align: right;\">\n",
              "      <th></th>\n",
              "      <th>Unnamed: 0</th>\n",
              "      <th>title</th>\n",
              "      <th>prediction</th>\n",
              "      <th>genres</th>\n",
              "      <th>split_genres</th>\n",
              "    </tr>\n",
              "  </thead>\n",
              "  <tbody>\n",
              "    <tr>\n",
              "      <th>0</th>\n",
              "      <td>899</td>\n",
              "      <td>Star Wars: Episode V - The Empire Strikes Back...</td>\n",
              "      <td>4.411833</td>\n",
              "      <td>action|adventure|sci-fi</td>\n",
              "      <td>['action', 'adventure', 'sci-fi']</td>\n",
              "    </tr>\n",
              "    <tr>\n",
              "      <th>1</th>\n",
              "      <td>2229</td>\n",
              "      <td>Fight Club (1999)</td>\n",
              "      <td>4.386436</td>\n",
              "      <td>action|crime|drama|thriller</td>\n",
              "      <td>['action', 'crime', 'drama', 'thriller']</td>\n",
              "    </tr>\n",
              "    <tr>\n",
              "      <th>2</th>\n",
              "      <td>600</td>\n",
              "      <td>Dr. Strangelove or: How I Learned to Stop Worr...</td>\n",
              "      <td>4.383926</td>\n",
              "      <td>comedy|war</td>\n",
              "      <td>['comedy', 'war']</td>\n",
              "    </tr>\n",
              "    <tr>\n",
              "      <th>3</th>\n",
              "      <td>907</td>\n",
              "      <td>Lawrence of Arabia (1962)</td>\n",
              "      <td>4.363100</td>\n",
              "      <td>adventure|drama|war</td>\n",
              "      <td>['adventure', 'drama', 'war']</td>\n",
              "    </tr>\n",
              "    <tr>\n",
              "      <th>4</th>\n",
              "      <td>660</td>\n",
              "      <td>Godfather, The (1972)</td>\n",
              "      <td>4.349665</td>\n",
              "      <td>crime|drama</td>\n",
              "      <td>['crime', 'drama']</td>\n",
              "    </tr>\n",
              "    <tr>\n",
              "      <th>5</th>\n",
              "      <td>695</td>\n",
              "      <td>Casablanca (1942)</td>\n",
              "      <td>4.341353</td>\n",
              "      <td>drama|romance</td>\n",
              "      <td>['drama', 'romance']</td>\n",
              "    </tr>\n",
              "    <tr>\n",
              "      <th>6</th>\n",
              "      <td>900</td>\n",
              "      <td>Princess Bride, The (1987)</td>\n",
              "      <td>4.324890</td>\n",
              "      <td>action|adventure|comedy|fantasy|romance</td>\n",
              "      <td>['action', 'adventure', 'comedy', 'fantasy', '...</td>\n",
              "    </tr>\n",
              "    <tr>\n",
              "      <th>7</th>\n",
              "      <td>46</td>\n",
              "      <td>Usual Suspects, The (1995)</td>\n",
              "      <td>4.321951</td>\n",
              "      <td>crime|mystery|thriller</td>\n",
              "      <td>['crime', 'mystery', 'thriller']</td>\n",
              "    </tr>\n",
              "    <tr>\n",
              "      <th>8</th>\n",
              "      <td>910</td>\n",
              "      <td>Apocalypse Now (1979)</td>\n",
              "      <td>4.315185</td>\n",
              "      <td>action|drama|war</td>\n",
              "      <td>['action', 'drama', 'war']</td>\n",
              "    </tr>\n",
              "    <tr>\n",
              "      <th>9</th>\n",
              "      <td>224</td>\n",
              "      <td>Star Wars: Episode IV - A New Hope (1977)</td>\n",
              "      <td>4.313092</td>\n",
              "      <td>action|adventure|sci-fi</td>\n",
              "      <td>['action', 'adventure', 'sci-fi']</td>\n",
              "    </tr>\n",
              "  </tbody>\n",
              "</table>\n",
              "</div>\n",
              "      <button class=\"colab-df-convert\" onclick=\"convertToInteractive('df-b5aa58b5-2b6f-45ec-ae47-8cc14312b7a4')\"\n",
              "              title=\"Convert this dataframe to an interactive table.\"\n",
              "              style=\"display:none;\">\n",
              "        \n",
              "  <svg xmlns=\"http://www.w3.org/2000/svg\" height=\"24px\"viewBox=\"0 0 24 24\"\n",
              "       width=\"24px\">\n",
              "    <path d=\"M0 0h24v24H0V0z\" fill=\"none\"/>\n",
              "    <path d=\"M18.56 5.44l.94 2.06.94-2.06 2.06-.94-2.06-.94-.94-2.06-.94 2.06-2.06.94zm-11 1L8.5 8.5l.94-2.06 2.06-.94-2.06-.94L8.5 2.5l-.94 2.06-2.06.94zm10 10l.94 2.06.94-2.06 2.06-.94-2.06-.94-.94-2.06-.94 2.06-2.06.94z\"/><path d=\"M17.41 7.96l-1.37-1.37c-.4-.4-.92-.59-1.43-.59-.52 0-1.04.2-1.43.59L10.3 9.45l-7.72 7.72c-.78.78-.78 2.05 0 2.83L4 21.41c.39.39.9.59 1.41.59.51 0 1.02-.2 1.41-.59l7.78-7.78 2.81-2.81c.8-.78.8-2.07 0-2.86zM5.41 20L4 18.59l7.72-7.72 1.47 1.35L5.41 20z\"/>\n",
              "  </svg>\n",
              "      </button>\n",
              "      \n",
              "  <style>\n",
              "    .colab-df-container {\n",
              "      display:flex;\n",
              "      flex-wrap:wrap;\n",
              "      gap: 12px;\n",
              "    }\n",
              "\n",
              "    .colab-df-convert {\n",
              "      background-color: #E8F0FE;\n",
              "      border: none;\n",
              "      border-radius: 50%;\n",
              "      cursor: pointer;\n",
              "      display: none;\n",
              "      fill: #1967D2;\n",
              "      height: 32px;\n",
              "      padding: 0 0 0 0;\n",
              "      width: 32px;\n",
              "    }\n",
              "\n",
              "    .colab-df-convert:hover {\n",
              "      background-color: #E2EBFA;\n",
              "      box-shadow: 0px 1px 2px rgba(60, 64, 67, 0.3), 0px 1px 3px 1px rgba(60, 64, 67, 0.15);\n",
              "      fill: #174EA6;\n",
              "    }\n",
              "\n",
              "    [theme=dark] .colab-df-convert {\n",
              "      background-color: #3B4455;\n",
              "      fill: #D2E3FC;\n",
              "    }\n",
              "\n",
              "    [theme=dark] .colab-df-convert:hover {\n",
              "      background-color: #434B5C;\n",
              "      box-shadow: 0px 1px 3px 1px rgba(0, 0, 0, 0.15);\n",
              "      filter: drop-shadow(0px 1px 2px rgba(0, 0, 0, 0.3));\n",
              "      fill: #FFFFFF;\n",
              "    }\n",
              "  </style>\n",
              "\n",
              "      <script>\n",
              "        const buttonEl =\n",
              "          document.querySelector('#df-b5aa58b5-2b6f-45ec-ae47-8cc14312b7a4 button.colab-df-convert');\n",
              "        buttonEl.style.display =\n",
              "          google.colab.kernel.accessAllowed ? 'block' : 'none';\n",
              "\n",
              "        async function convertToInteractive(key) {\n",
              "          const element = document.querySelector('#df-b5aa58b5-2b6f-45ec-ae47-8cc14312b7a4');\n",
              "          const dataTable =\n",
              "            await google.colab.kernel.invokeFunction('convertToInteractive',\n",
              "                                                     [key], {});\n",
              "          if (!dataTable) return;\n",
              "\n",
              "          const docLinkHtml = 'Like what you see? Visit the ' +\n",
              "            '<a target=\"_blank\" href=https://colab.research.google.com/notebooks/data_table.ipynb>data table notebook</a>'\n",
              "            + ' to learn more about interactive tables.';\n",
              "          element.innerHTML = '';\n",
              "          dataTable['output_type'] = 'display_data';\n",
              "          await google.colab.output.renderOutput(dataTable, element);\n",
              "          const docLink = document.createElement('div');\n",
              "          docLink.innerHTML = docLinkHtml;\n",
              "          element.appendChild(docLink);\n",
              "        }\n",
              "      </script>\n",
              "    </div>\n",
              "  </div>\n",
              "  "
            ]
          },
          "metadata": {},
          "execution_count": 2
        }
      ],
      "source": [
        "df = pd.read_csv('/content/gdrive/MyDrive/rec-systems-project/data/user2_prediction_result.csv')\n",
        "df.head(10)"
      ]
    },
    {
      "cell_type": "markdown",
      "metadata": {
        "id": "BljCGKVFUTOx"
      },
      "source": [
        "## Data cleaning: round 'prediction' column"
      ]
    },
    {
      "cell_type": "code",
      "execution_count": 3,
      "metadata": {
        "id": "rw0wtMb4T1J7"
      },
      "outputs": [],
      "source": [
        "df['prediction'] = round(df['prediction'], 2)"
      ]
    },
    {
      "cell_type": "markdown",
      "metadata": {
        "id": "U9NcarH6OuNy"
      },
      "source": [
        "## Data cleaning: clean \"split_genres\" column and collect the genre list\n",
        "\n",
        "Need the genre list as the dropdown options for web app"
      ]
    },
    {
      "cell_type": "code",
      "execution_count": 4,
      "metadata": {
        "id": "aUr2y-I6x7tf",
        "colab": {
          "base_uri": "https://localhost:8080/",
          "height": 206
        },
        "outputId": "b9dc605b-473c-43d0-c7ac-4f3457295ea9"
      },
      "outputs": [
        {
          "output_type": "execute_result",
          "data": {
            "text/plain": [
              "   Unnamed: 0                                              title  prediction  \\\n",
              "0         899  Star Wars: Episode V - The Empire Strikes Back...        4.41   \n",
              "1        2229                                  Fight Club (1999)        4.39   \n",
              "2         600  Dr. Strangelove or: How I Learned to Stop Worr...        4.38   \n",
              "3         907                          Lawrence of Arabia (1962)        4.36   \n",
              "4         660                              Godfather, The (1972)        4.35   \n",
              "\n",
              "                        genres                                 split_genres  \n",
              "0      action|adventure|sci-fi          ['action',  'adventure',  'sci-fi']  \n",
              "1  action|crime|drama|thriller  ['action',  'crime',  'drama',  'thriller']  \n",
              "2                   comedy|war                           ['comedy',  'war']  \n",
              "3          adventure|drama|war              ['adventure',  'drama',  'war']  \n",
              "4                  crime|drama                          ['crime',  'drama']  "
            ],
            "text/html": [
              "\n",
              "  <div id=\"df-8caf7359-1f74-43c3-9512-c5c58c6d6b4f\">\n",
              "    <div class=\"colab-df-container\">\n",
              "      <div>\n",
              "<style scoped>\n",
              "    .dataframe tbody tr th:only-of-type {\n",
              "        vertical-align: middle;\n",
              "    }\n",
              "\n",
              "    .dataframe tbody tr th {\n",
              "        vertical-align: top;\n",
              "    }\n",
              "\n",
              "    .dataframe thead th {\n",
              "        text-align: right;\n",
              "    }\n",
              "</style>\n",
              "<table border=\"1\" class=\"dataframe\">\n",
              "  <thead>\n",
              "    <tr style=\"text-align: right;\">\n",
              "      <th></th>\n",
              "      <th>Unnamed: 0</th>\n",
              "      <th>title</th>\n",
              "      <th>prediction</th>\n",
              "      <th>genres</th>\n",
              "      <th>split_genres</th>\n",
              "    </tr>\n",
              "  </thead>\n",
              "  <tbody>\n",
              "    <tr>\n",
              "      <th>0</th>\n",
              "      <td>899</td>\n",
              "      <td>Star Wars: Episode V - The Empire Strikes Back...</td>\n",
              "      <td>4.41</td>\n",
              "      <td>action|adventure|sci-fi</td>\n",
              "      <td>['action',  'adventure',  'sci-fi']</td>\n",
              "    </tr>\n",
              "    <tr>\n",
              "      <th>1</th>\n",
              "      <td>2229</td>\n",
              "      <td>Fight Club (1999)</td>\n",
              "      <td>4.39</td>\n",
              "      <td>action|crime|drama|thriller</td>\n",
              "      <td>['action',  'crime',  'drama',  'thriller']</td>\n",
              "    </tr>\n",
              "    <tr>\n",
              "      <th>2</th>\n",
              "      <td>600</td>\n",
              "      <td>Dr. Strangelove or: How I Learned to Stop Worr...</td>\n",
              "      <td>4.38</td>\n",
              "      <td>comedy|war</td>\n",
              "      <td>['comedy',  'war']</td>\n",
              "    </tr>\n",
              "    <tr>\n",
              "      <th>3</th>\n",
              "      <td>907</td>\n",
              "      <td>Lawrence of Arabia (1962)</td>\n",
              "      <td>4.36</td>\n",
              "      <td>adventure|drama|war</td>\n",
              "      <td>['adventure',  'drama',  'war']</td>\n",
              "    </tr>\n",
              "    <tr>\n",
              "      <th>4</th>\n",
              "      <td>660</td>\n",
              "      <td>Godfather, The (1972)</td>\n",
              "      <td>4.35</td>\n",
              "      <td>crime|drama</td>\n",
              "      <td>['crime',  'drama']</td>\n",
              "    </tr>\n",
              "  </tbody>\n",
              "</table>\n",
              "</div>\n",
              "      <button class=\"colab-df-convert\" onclick=\"convertToInteractive('df-8caf7359-1f74-43c3-9512-c5c58c6d6b4f')\"\n",
              "              title=\"Convert this dataframe to an interactive table.\"\n",
              "              style=\"display:none;\">\n",
              "        \n",
              "  <svg xmlns=\"http://www.w3.org/2000/svg\" height=\"24px\"viewBox=\"0 0 24 24\"\n",
              "       width=\"24px\">\n",
              "    <path d=\"M0 0h24v24H0V0z\" fill=\"none\"/>\n",
              "    <path d=\"M18.56 5.44l.94 2.06.94-2.06 2.06-.94-2.06-.94-.94-2.06-.94 2.06-2.06.94zm-11 1L8.5 8.5l.94-2.06 2.06-.94-2.06-.94L8.5 2.5l-.94 2.06-2.06.94zm10 10l.94 2.06.94-2.06 2.06-.94-2.06-.94-.94-2.06-.94 2.06-2.06.94z\"/><path d=\"M17.41 7.96l-1.37-1.37c-.4-.4-.92-.59-1.43-.59-.52 0-1.04.2-1.43.59L10.3 9.45l-7.72 7.72c-.78.78-.78 2.05 0 2.83L4 21.41c.39.39.9.59 1.41.59.51 0 1.02-.2 1.41-.59l7.78-7.78 2.81-2.81c.8-.78.8-2.07 0-2.86zM5.41 20L4 18.59l7.72-7.72 1.47 1.35L5.41 20z\"/>\n",
              "  </svg>\n",
              "      </button>\n",
              "      \n",
              "  <style>\n",
              "    .colab-df-container {\n",
              "      display:flex;\n",
              "      flex-wrap:wrap;\n",
              "      gap: 12px;\n",
              "    }\n",
              "\n",
              "    .colab-df-convert {\n",
              "      background-color: #E8F0FE;\n",
              "      border: none;\n",
              "      border-radius: 50%;\n",
              "      cursor: pointer;\n",
              "      display: none;\n",
              "      fill: #1967D2;\n",
              "      height: 32px;\n",
              "      padding: 0 0 0 0;\n",
              "      width: 32px;\n",
              "    }\n",
              "\n",
              "    .colab-df-convert:hover {\n",
              "      background-color: #E2EBFA;\n",
              "      box-shadow: 0px 1px 2px rgba(60, 64, 67, 0.3), 0px 1px 3px 1px rgba(60, 64, 67, 0.15);\n",
              "      fill: #174EA6;\n",
              "    }\n",
              "\n",
              "    [theme=dark] .colab-df-convert {\n",
              "      background-color: #3B4455;\n",
              "      fill: #D2E3FC;\n",
              "    }\n",
              "\n",
              "    [theme=dark] .colab-df-convert:hover {\n",
              "      background-color: #434B5C;\n",
              "      box-shadow: 0px 1px 3px 1px rgba(0, 0, 0, 0.15);\n",
              "      filter: drop-shadow(0px 1px 2px rgba(0, 0, 0, 0.3));\n",
              "      fill: #FFFFFF;\n",
              "    }\n",
              "  </style>\n",
              "\n",
              "      <script>\n",
              "        const buttonEl =\n",
              "          document.querySelector('#df-8caf7359-1f74-43c3-9512-c5c58c6d6b4f button.colab-df-convert');\n",
              "        buttonEl.style.display =\n",
              "          google.colab.kernel.accessAllowed ? 'block' : 'none';\n",
              "\n",
              "        async function convertToInteractive(key) {\n",
              "          const element = document.querySelector('#df-8caf7359-1f74-43c3-9512-c5c58c6d6b4f');\n",
              "          const dataTable =\n",
              "            await google.colab.kernel.invokeFunction('convertToInteractive',\n",
              "                                                     [key], {});\n",
              "          if (!dataTable) return;\n",
              "\n",
              "          const docLinkHtml = 'Like what you see? Visit the ' +\n",
              "            '<a target=\"_blank\" href=https://colab.research.google.com/notebooks/data_table.ipynb>data table notebook</a>'\n",
              "            + ' to learn more about interactive tables.';\n",
              "          element.innerHTML = '';\n",
              "          dataTable['output_type'] = 'display_data';\n",
              "          await google.colab.output.renderOutput(dataTable, element);\n",
              "          const docLink = document.createElement('div');\n",
              "          docLink.innerHTML = docLinkHtml;\n",
              "          element.appendChild(docLink);\n",
              "        }\n",
              "      </script>\n",
              "    </div>\n",
              "  </div>\n",
              "  "
            ]
          },
          "metadata": {},
          "execution_count": 4
        }
      ],
      "source": [
        "# Clean \"split_genres\" column\n",
        "\n",
        "test_df = df.copy()\n",
        "test_df['split_genres']=test_df['split_genres'].str[1:-1].str.split(',').tolist()\n",
        "test_df.head()"
      ]
    },
    {
      "cell_type": "code",
      "execution_count": 5,
      "metadata": {
        "id": "DXHh8q2oxKrP",
        "colab": {
          "base_uri": "https://localhost:8080/"
        },
        "outputId": "92e8f87c-2213-40ea-d352-41b06529df48"
      },
      "outputs": [
        {
          "output_type": "execute_result",
          "data": {
            "text/plain": [
              "0                  ['action',  'adventure',  'sci-fi']\n",
              "1          ['action',  'crime',  'drama',  'thriller']\n",
              "2                                   ['comedy',  'war']\n",
              "3                      ['adventure',  'drama',  'war']\n",
              "4                                  ['crime',  'drama']\n",
              "5                                ['drama',  'romance']\n",
              "6    ['action',  'adventure',  'comedy',  'fantasy'...\n",
              "7                   ['crime',  'mystery',  'thriller']\n",
              "8                         ['action',  'drama',  'war']\n",
              "9                  ['action',  'adventure',  'sci-fi']\n",
              "Name: split_genres, dtype: object"
            ]
          },
          "metadata": {},
          "execution_count": 5
        }
      ],
      "source": [
        "# Check the genre_df\n",
        "\n",
        "genre_df = test_df['split_genres']\n",
        "genre_df.head(10)"
      ]
    },
    {
      "cell_type": "code",
      "execution_count": 6,
      "metadata": {
        "id": "UcriRoSUxTr1"
      },
      "outputs": [],
      "source": [
        "# Collect genre_list and more cleaning\n",
        "\n",
        "genre_list=[]\n",
        "\n",
        "for each in genre_df:\n",
        "  for i in each:\n",
        "    if i not in genre_list:\n",
        "      genre_list.append(i)\n",
        "\n",
        "genre_list = [i.strip(\"'\").replace(\" \", \"\").strip(\"'\") if type(i) == str else str(i) for i in genre_list]"
      ]
    },
    {
      "cell_type": "code",
      "execution_count": 7,
      "metadata": {
        "id": "JoZlP4oFxa6A",
        "colab": {
          "base_uri": "https://localhost:8080/"
        },
        "outputId": "bd865729-cec7-40cd-d80e-73daa8e37cf9"
      },
      "outputs": [
        {
          "output_type": "execute_result",
          "data": {
            "text/plain": [
              "['action',\n",
              " 'adventure',\n",
              " 'sci-fi',\n",
              " 'crime',\n",
              " 'drama',\n",
              " 'thriller',\n",
              " 'comedy',\n",
              " 'war',\n",
              " 'adventure',\n",
              " 'crime',\n",
              " 'drama',\n",
              " 'romance',\n",
              " 'comedy',\n",
              " 'fantasy',\n",
              " 'mystery',\n",
              " 'mystery',\n",
              " 'horror',\n",
              " 'horror',\n",
              " 'western',\n",
              " 'film-noir',\n",
              " 'animation',\n",
              " 'children',\n",
              " 'imax',\n",
              " 'animation',\n",
              " 'musical',\n",
              " 'film-noir',\n",
              " 'documentary',\n",
              " 'fantasy',\n",
              " 'thriller',\n",
              " 'children',\n",
              " 'musical',\n",
              " 'romance',\n",
              " 'western',\n",
              " 'sci-fi',\n",
              " 'documentary',\n",
              " '(nogenreslisted)',\n",
              " 'war']"
            ]
          },
          "metadata": {},
          "execution_count": 7
        }
      ],
      "source": [
        "# Check genre_list\n",
        "\n",
        "genre_list"
      ]
    },
    {
      "cell_type": "code",
      "execution_count": 8,
      "metadata": {
        "id": "OwXq3f-t3kXn"
      },
      "outputs": [],
      "source": [
        "# Remove '(nogenreslisted)'\n",
        "\n",
        "genre_list.remove('(nogenreslisted)')"
      ]
    },
    {
      "cell_type": "code",
      "execution_count": 9,
      "metadata": {
        "id": "iEQtTvFmZYdZ"
      },
      "outputs": [],
      "source": [
        "# Remove duplicate and sort\n",
        "\n",
        "genre_list = sorted(list(set(genre_list)))"
      ]
    },
    {
      "cell_type": "code",
      "execution_count": 10,
      "metadata": {
        "id": "vLhRNHop3nZ_",
        "colab": {
          "base_uri": "https://localhost:8080/"
        },
        "outputId": "cad57939-a189-4bc5-c16b-3d85a5c435fb"
      },
      "outputs": [
        {
          "output_type": "execute_result",
          "data": {
            "text/plain": [
              "['action',\n",
              " 'adventure',\n",
              " 'animation',\n",
              " 'children',\n",
              " 'comedy',\n",
              " 'crime',\n",
              " 'documentary',\n",
              " 'drama',\n",
              " 'fantasy',\n",
              " 'film-noir',\n",
              " 'horror',\n",
              " 'imax',\n",
              " 'musical',\n",
              " 'mystery',\n",
              " 'romance',\n",
              " 'sci-fi',\n",
              " 'thriller',\n",
              " 'war',\n",
              " 'western']"
            ]
          },
          "metadata": {},
          "execution_count": 10
        }
      ],
      "source": [
        "# Check genre_list again\n",
        "\n",
        "genre_list"
      ]
    },
    {
      "cell_type": "markdown",
      "metadata": {
        "id": "QaRKhL-nP8QT"
      },
      "source": [
        "# Deploy web app 1 - output movie list"
      ]
    },
    {
      "cell_type": "code",
      "execution_count": 11,
      "metadata": {
        "id": "-tjU6mEtugw_"
      },
      "outputs": [],
      "source": [
        "\n",
        "\n",
        "# def movie_recommendation(rating, genre, number):\n",
        "#   \"\"\"\n",
        "#   number = how many recommended movies\n",
        "#   rating = select movie rating\n",
        "#   genre = select movie genre\n",
        "#   \"\"\"\n",
        "    \n",
        "#   # number = 5, 10, 15, 20\n",
        "#   # rating = 3.35\n",
        "#   # genre = 'action'\n",
        "  \n",
        "#   filter_rating_df = df[(df['prediction'] <= rating+0.5) &\n",
        "#                      (df['prediction'] >= rating-0.5)]\n",
        "#   filter_df = filter_rating_df[filter_rating_df['split_genres'].str.contains(genre, case=False)]\n",
        "#   rec_movie = filter_df['title'][:int(number)].tolist()\n",
        "#   return rec_movie\n",
        "\n",
        "# rating = gr.inputs.Slider(1, 5, label='Slect movie ratings')\n",
        "# genre = gr.inputs.Dropdown(genre_list, label='Pick a movie genre')\n",
        "\n",
        "# number = gr.Number(label='How many recommended movies?')\n",
        "# # number = gr.inputs.CheckboxGroup([5,10,15,20], type=\"index\", label='How many recommended movies?')\n",
        "\n",
        "# gr.Interface(fn=movie_recommendation,\n",
        "#              inputs=[rating, genre, number],\n",
        "#              outputs=['text'],\n",
        "#              title= \"Movie recommendations for you\").launch(debug=True, share=True)"
      ]
    },
    {
      "cell_type": "markdown",
      "metadata": {
        "id": "LUO-4fySQPeq"
      },
      "source": [
        "# # Deploy web app 2 - output title and predicted rating dataframe"
      ]
    },
    {
      "cell_type": "code",
      "execution_count": 12,
      "metadata": {
        "colab": {
          "base_uri": "https://localhost:8080/",
          "height": 750
        },
        "id": "gEEdiCng-wUV",
        "outputId": "db99d862-81bc-4e0f-e893-290af8d7362a"
      },
      "outputs": [
        {
          "output_type": "stream",
          "name": "stderr",
          "text": [
            "/usr/local/lib/python3.8/dist-packages/gradio/inputs.py:89: UserWarning: Usage of gradio.inputs is deprecated, and will not be supported in the future, please import your component from gradio.components\n",
            "  warnings.warn(\n",
            "/usr/local/lib/python3.8/dist-packages/gradio/deprecation.py:40: UserWarning: `optional` parameter is deprecated, and it has no effect\n",
            "  warnings.warn(value)\n",
            "/usr/local/lib/python3.8/dist-packages/gradio/inputs.py:217: UserWarning: Usage of gradio.inputs is deprecated, and will not be supported in the future, please import your component from gradio.components\n",
            "  warnings.warn(\n"
          ]
        },
        {
          "output_type": "stream",
          "name": "stdout",
          "text": [
            "Colab notebook detected. This cell will run indefinitely so that you can see errors and logs. To turn off, set debug=False in launch().\n",
            "Running on public URL: https://46628741-5351-4ba1.gradio.live\n",
            "\n",
            "This share link expires in 72 hours. For free permanent hosting and GPU upgrades (NEW!), check out Spaces: https://huggingface.co/spaces\n"
          ]
        },
        {
          "output_type": "display_data",
          "data": {
            "text/plain": [
              "<IPython.core.display.HTML object>"
            ],
            "text/html": [
              "<div><iframe src=\"https://46628741-5351-4ba1.gradio.live\" width=\"100%\" height=\"500\" allow=\"autoplay; camera; microphone; clipboard-read; clipboard-write;\" frameborder=\"0\" allowfullscreen></iframe></div>"
            ]
          },
          "metadata": {}
        },
        {
          "output_type": "stream",
          "name": "stdout",
          "text": [
            "Keyboard interruption in main thread... closing server.\n",
            "Killing tunnel 127.0.0.1:7860 <> https://46628741-5351-4ba1.gradio.live\n"
          ]
        },
        {
          "output_type": "execute_result",
          "data": {
            "text/plain": []
          },
          "metadata": {},
          "execution_count": 12
        }
      ],
      "source": [
        "# def movie_recommendation(rating, genre, number):\n",
        "#   \"\"\"\n",
        "#   number = how many recommended movies\n",
        "#   rating = select movie rating higher\n",
        "#   genre = select movie genre\n",
        "#   \"\"\"\n",
        "    \n",
        "#   # number = Int (ex. 5)\n",
        "#   # rating = Float (ex. 3.5)\n",
        "#   # genre = Str (ex. 'action')\n",
        "  \n",
        "#   filter_rating_df = df[df['prediction'] >= rating]\n",
        "#   filter_df = filter_rating_df[filter_rating_df['split_genres'].str.contains(genre, case=False)]\n",
        "#   rec_movie = filter_df[['title', 'prediction']][:int(number)]\n",
        "#   rec_movie.rename(columns={'prediction':'predicted rating'}, inplace=True)\n",
        "#   return rec_movie\n",
        "\n",
        "# # Gradio\n",
        "# rating = gr.inputs.Slider(1, 5, label='Only want movies with ratings higher than:')\n",
        "# genre = gr.inputs.Dropdown(genre_list, label='Pick a movie genre:')\n",
        "# number = gr.Number(label='How many recommended movies?')\n",
        "# output = gr.Dataframe(headers=[\"title\", \"predicted rating\"])\n",
        "\n",
        "\n",
        "# gr.Interface(fn= movie_recommendation,\n",
        "#              inputs=[rating, genre, number],\n",
        "#              outputs=output,\n",
        "#              title= \"Movie recommendations for [UserName]\").launch(debug=True, share=True)\n"
      ]
    },
    {
      "cell_type": "markdown",
      "source": [
        "# Deploy web app 3 - change choice of movie list"
      ],
      "metadata": {
        "id": "JpDwUm3FNDdp"
      }
    },
    {
      "cell_type": "code",
      "source": [
        "def movie_recommendation(rating, genre, choice):\n",
        "\n",
        "  filter_rating_df = df[df['prediction'] >= rating]\n",
        "  filter_df = filter_rating_df[filter_rating_df['split_genres'].str.contains(genre, case=False)]\n",
        "  rec_movie = filter_df[['title', 'prediction']]\n",
        "  rec_movie.rename(columns={'prediction':'predicted rating'}, inplace=True)\n",
        "    \n",
        "  def top_slice(x, y):\n",
        "    slice_df= rec_movie[x:y]\n",
        "    return slice_df\n",
        "   \n",
        "  top_5 = top_slice(0, 5)\n",
        "  top_10 = top_slice(0, 10)\n",
        "  top_20 = top_slice(0, 20)\n",
        "  second_10 = top_slice(10, 20)\n",
        "  bottom_5 = top_slice(-5, None)\n",
        "  bottom_10 = top_slice(-10, None)\n",
        "  \n",
        "  choice_dict = {'top_5':top_5, 'top_10':top_10, 'top_20':top_20, 'second_10': second_10, 'bottom_5': bottom_5, 'bottom_10':bottom_10}\n",
        "  \n",
        "  temp = namedtuple(\"temp\", \"choice_str\")\n",
        "  res = temp(*choice)\n",
        "\n",
        "  return choice_dict[str(res.choice_str)]\n",
        "\n",
        "choice_list = ['top_5', 'top_10', 'top_20', 'second_10', 'bottom_5', 'bottom_10']\n",
        "\n",
        "# Gradio\n",
        "rating = gr.inputs.Slider(1, 5, label='Only want movies with ratings higher than:')\n",
        "genre = gr.inputs.Dropdown(genre_list, label='Pick a movie genre:')\n",
        "choice = gr.inputs.CheckboxGroup(choice_list, label='How many recommended movies?')\n",
        "output = gr.Dataframe(headers=[\"title\", \"predicted rating\"])\n",
        "\n",
        "\n",
        "gr.Interface(fn= movie_recommendation,\n",
        "             inputs=[rating, genre, choice],\n",
        "             outputs=output,\n",
        "             title= \"Movie recommendations for [UserName]\").launch(debug=True, share=True)"
      ],
      "metadata": {
        "colab": {
          "base_uri": "https://localhost:8080/",
          "height": 1000
        },
        "id": "aoCQzzqn2Ssi",
        "outputId": "34810b7e-8c95-40b3-a0b8-3dbeddda2ba5"
      },
      "execution_count": null,
      "outputs": [
        {
          "output_type": "stream",
          "name": "stderr",
          "text": [
            "/usr/local/lib/python3.8/dist-packages/gradio/inputs.py:89: UserWarning: Usage of gradio.inputs is deprecated, and will not be supported in the future, please import your component from gradio.components\n",
            "  warnings.warn(\n",
            "/usr/local/lib/python3.8/dist-packages/gradio/deprecation.py:40: UserWarning: `optional` parameter is deprecated, and it has no effect\n",
            "  warnings.warn(value)\n",
            "/usr/local/lib/python3.8/dist-packages/gradio/inputs.py:217: UserWarning: Usage of gradio.inputs is deprecated, and will not be supported in the future, please import your component from gradio.components\n",
            "  warnings.warn(\n",
            "/usr/local/lib/python3.8/dist-packages/gradio/inputs.py:149: UserWarning: Usage of gradio.inputs is deprecated, and will not be supported in the future, please import your component from gradio.components\n",
            "  warnings.warn(\n"
          ]
        },
        {
          "output_type": "stream",
          "name": "stdout",
          "text": [
            "Colab notebook detected. This cell will run indefinitely so that you can see errors and logs. To turn off, set debug=False in launch().\n",
            "Running on public URL: https://bf6c0406-ea2a-498f.gradio.live\n",
            "\n",
            "This share link expires in 72 hours. For free permanent hosting and GPU upgrades (NEW!), check out Spaces: https://huggingface.co/spaces\n"
          ]
        },
        {
          "output_type": "display_data",
          "data": {
            "text/plain": [
              "<IPython.core.display.HTML object>"
            ],
            "text/html": [
              "<div><iframe src=\"https://bf6c0406-ea2a-498f.gradio.live\" width=\"100%\" height=\"500\" allow=\"autoplay; camera; microphone; clipboard-read; clipboard-write;\" frameborder=\"0\" allowfullscreen></iframe></div>"
            ]
          },
          "metadata": {}
        },
        {
          "output_type": "stream",
          "name": "stderr",
          "text": [
            "/usr/local/lib/python3.8/dist-packages/pandas/core/frame.py:5039: SettingWithCopyWarning: \n",
            "A value is trying to be set on a copy of a slice from a DataFrame\n",
            "\n",
            "See the caveats in the documentation: https://pandas.pydata.org/pandas-docs/stable/user_guide/indexing.html#returning-a-view-versus-a-copy\n",
            "  return super().rename(\n",
            "Traceback (most recent call last):\n",
            "  File \"/usr/local/lib/python3.8/dist-packages/gradio/routes.py\", line 337, in run_predict\n",
            "    output = await app.get_blocks().process_api(\n",
            "  File \"/usr/local/lib/python3.8/dist-packages/gradio/blocks.py\", line 1015, in process_api\n",
            "    result = await self.call_function(\n",
            "  File \"/usr/local/lib/python3.8/dist-packages/gradio/blocks.py\", line 833, in call_function\n",
            "    prediction = await anyio.to_thread.run_sync(\n",
            "  File \"/usr/local/lib/python3.8/dist-packages/anyio/to_thread.py\", line 31, in run_sync\n",
            "    return await get_asynclib().run_sync_in_worker_thread(\n",
            "  File \"/usr/local/lib/python3.8/dist-packages/anyio/_backends/_asyncio.py\", line 937, in run_sync_in_worker_thread\n",
            "    return await future\n",
            "  File \"/usr/local/lib/python3.8/dist-packages/anyio/_backends/_asyncio.py\", line 867, in run\n",
            "    result = context.run(func, *args)\n",
            "  File \"<ipython-input-61-4eb96b6b6a12>\", line 22, in movie_recommendation\n",
            "    res = temp(*choice)\n",
            "TypeError: __new__() takes 2 positional arguments but 3 were given\n",
            "Traceback (most recent call last):\n",
            "  File \"/usr/local/lib/python3.8/dist-packages/gradio/routes.py\", line 337, in run_predict\n",
            "    output = await app.get_blocks().process_api(\n",
            "  File \"/usr/local/lib/python3.8/dist-packages/gradio/blocks.py\", line 1015, in process_api\n",
            "    result = await self.call_function(\n",
            "  File \"/usr/local/lib/python3.8/dist-packages/gradio/blocks.py\", line 833, in call_function\n",
            "    prediction = await anyio.to_thread.run_sync(\n",
            "  File \"/usr/local/lib/python3.8/dist-packages/anyio/to_thread.py\", line 31, in run_sync\n",
            "    return await get_asynclib().run_sync_in_worker_thread(\n",
            "  File \"/usr/local/lib/python3.8/dist-packages/anyio/_backends/_asyncio.py\", line 937, in run_sync_in_worker_thread\n",
            "    return await future\n",
            "  File \"/usr/local/lib/python3.8/dist-packages/anyio/_backends/_asyncio.py\", line 867, in run\n",
            "    result = context.run(func, *args)\n",
            "  File \"<ipython-input-61-4eb96b6b6a12>\", line 22, in movie_recommendation\n",
            "    res = temp(*choice)\n",
            "TypeError: __new__() takes 2 positional arguments but 3 were given\n",
            "Traceback (most recent call last):\n",
            "  File \"/usr/local/lib/python3.8/dist-packages/gradio/routes.py\", line 337, in run_predict\n",
            "    output = await app.get_blocks().process_api(\n",
            "  File \"/usr/local/lib/python3.8/dist-packages/gradio/blocks.py\", line 1015, in process_api\n",
            "    result = await self.call_function(\n",
            "  File \"/usr/local/lib/python3.8/dist-packages/gradio/blocks.py\", line 833, in call_function\n",
            "    prediction = await anyio.to_thread.run_sync(\n",
            "  File \"/usr/local/lib/python3.8/dist-packages/anyio/to_thread.py\", line 31, in run_sync\n",
            "    return await get_asynclib().run_sync_in_worker_thread(\n",
            "  File \"/usr/local/lib/python3.8/dist-packages/anyio/_backends/_asyncio.py\", line 937, in run_sync_in_worker_thread\n",
            "    return await future\n",
            "  File \"/usr/local/lib/python3.8/dist-packages/anyio/_backends/_asyncio.py\", line 867, in run\n",
            "    result = context.run(func, *args)\n",
            "  File \"<ipython-input-61-4eb96b6b6a12>\", line 22, in movie_recommendation\n",
            "    res = temp(*choice)\n",
            "TypeError: __new__() takes 2 positional arguments but 3 were given\n"
          ]
        }
      ]
    },
    {
      "cell_type": "code",
      "source": [],
      "metadata": {
        "id": "BEiyIHMGFZht"
      },
      "execution_count": null,
      "outputs": []
    }
  ],
  "metadata": {
    "colab": {
      "provenance": [],
      "authorship_tag": "ABX9TyPCY+wGY+d9b1fbvv7khZ7C",
      "include_colab_link": true
    },
    "kernelspec": {
      "display_name": "Python 3",
      "name": "python3"
    },
    "language_info": {
      "name": "python"
    }
  },
  "nbformat": 4,
  "nbformat_minor": 0
}